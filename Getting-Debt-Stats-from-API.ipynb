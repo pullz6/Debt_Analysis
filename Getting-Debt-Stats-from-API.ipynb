{
 "cells": [
  {
   "cell_type": "code",
   "execution_count": 1,
   "id": "7bce5492",
   "metadata": {},
   "outputs": [
    {
     "name": "stdout",
     "output_type": "stream",
     "text": [
      "Requirement already satisfied: wbdata in /Users/pulsaragunawardhana/anaconda3/lib/python3.11/site-packages (1.0.0)\n",
      "Requirement already satisfied: appdirs<2.0,>=1.4 in /Users/pulsaragunawardhana/anaconda3/lib/python3.11/site-packages (from wbdata) (1.4.4)\n",
      "Requirement already satisfied: backoff<3.0.0,>=2.2.1 in /Users/pulsaragunawardhana/anaconda3/lib/python3.11/site-packages (from wbdata) (2.2.1)\n",
      "Requirement already satisfied: cachetools<6.0.0,>=5.3.2 in /Users/pulsaragunawardhana/anaconda3/lib/python3.11/site-packages (from wbdata) (5.3.3)\n",
      "Requirement already satisfied: dateparser<2.0.0,>=1.2.0 in /Users/pulsaragunawardhana/anaconda3/lib/python3.11/site-packages (from wbdata) (1.2.0)\n",
      "Requirement already satisfied: decorator<6.0.0,>=5.1.1 in /Users/pulsaragunawardhana/anaconda3/lib/python3.11/site-packages (from wbdata) (5.1.1)\n",
      "Requirement already satisfied: requests<3.0,>=2.0 in /Users/pulsaragunawardhana/anaconda3/lib/python3.11/site-packages (from wbdata) (2.31.0)\n",
      "Requirement already satisfied: shelved-cache<0.4.0,>=0.3.1 in /Users/pulsaragunawardhana/anaconda3/lib/python3.11/site-packages (from wbdata) (0.3.1)\n",
      "Requirement already satisfied: tabulate<0.9.0,>=0.8.5 in /Users/pulsaragunawardhana/anaconda3/lib/python3.11/site-packages (from wbdata) (0.8.10)\n",
      "Requirement already satisfied: python-dateutil in /Users/pulsaragunawardhana/anaconda3/lib/python3.11/site-packages (from dateparser<2.0.0,>=1.2.0->wbdata) (2.8.2)\n",
      "Requirement already satisfied: pytz in /Users/pulsaragunawardhana/anaconda3/lib/python3.11/site-packages (from dateparser<2.0.0,>=1.2.0->wbdata) (2023.3.post1)\n",
      "Requirement already satisfied: regex!=2019.02.19,!=2021.8.27 in /Users/pulsaragunawardhana/anaconda3/lib/python3.11/site-packages (from dateparser<2.0.0,>=1.2.0->wbdata) (2022.7.9)\n",
      "Requirement already satisfied: tzlocal in /Users/pulsaragunawardhana/anaconda3/lib/python3.11/site-packages (from dateparser<2.0.0,>=1.2.0->wbdata) (5.2)\n",
      "Requirement already satisfied: charset-normalizer<4,>=2 in /Users/pulsaragunawardhana/anaconda3/lib/python3.11/site-packages (from requests<3.0,>=2.0->wbdata) (2.0.4)\n",
      "Requirement already satisfied: idna<4,>=2.5 in /Users/pulsaragunawardhana/anaconda3/lib/python3.11/site-packages (from requests<3.0,>=2.0->wbdata) (3.4)\n",
      "Requirement already satisfied: urllib3<3,>=1.21.1 in /Users/pulsaragunawardhana/anaconda3/lib/python3.11/site-packages (from requests<3.0,>=2.0->wbdata) (1.26.16)\n",
      "Requirement already satisfied: certifi>=2017.4.17 in /Users/pulsaragunawardhana/anaconda3/lib/python3.11/site-packages (from requests<3.0,>=2.0->wbdata) (2024.2.2)\n",
      "Requirement already satisfied: six>=1.5 in /Users/pulsaragunawardhana/anaconda3/lib/python3.11/site-packages (from python-dateutil->dateparser<2.0.0,>=1.2.0->wbdata) (1.16.0)\n",
      "Note: you may need to restart the kernel to use updated packages.\n"
     ]
    }
   ],
   "source": [
    "pip install wbdata"
   ]
  },
  {
   "cell_type": "code",
   "execution_count": 2,
   "id": "366b0a24",
   "metadata": {},
   "outputs": [],
   "source": [
    "# Importing packages\n",
    "import pandas as pd\n",
    "import numpy as np\n",
    "import datetime\n",
    "import wbdata\n",
    "import matplotlib.pyplot as plt\n",
    "import plotly.express as px\n",
    "import plotly.io as pio\n",
    "#pio.renderers.default = \"notebook\" # use \"pio.renderers\" to see the default renderer\n",
    "import plotly.graph_objects as go"
   ]
  },
  {
   "cell_type": "code",
   "execution_count": 3,
   "id": "424fbc6f",
   "metadata": {},
   "outputs": [
    {
     "data": {
      "text/plain": [
       "id                         name\n",
       "-------------------------  ---------------------------------------------------------------------------------------------------------------------------------------------\n",
       "AG.AGR.TRAC.NO             Agricultural machinery, tractors\n",
       "AG.CON.FERT.PT.ZS          Fertilizer consumption (% of fertilizer production)\n",
       "AG.CON.FERT.ZS             Fertilizer consumption (kilograms per hectare of arable land)\n",
       "AG.LND.AGRI.K2             Agricultural land (sq. km)\n",
       "AG.LND.AGRI.ZS             Agricultural land (% of land area)\n",
       "AG.LND.ARBL.HA             Arable land (hectares)\n",
       "AG.LND.ARBL.HA.PC          Arable land (hectares per person)\n",
       "AG.LND.ARBL.ZS             Arable land (% of land area)\n",
       "AG.LND.CREL.HA             Land under cereal production (hectares)\n",
       "AG.LND.CROP.ZS             Permanent cropland (% of land area)\n",
       "AG.LND.EL5M.RU.K2          Rural land area where elevation is below 5 meters (sq. km)\n",
       "AG.LND.EL5M.RU.ZS          Rural land area where elevation is below 5 meters (% of total land area)\n",
       "AG.LND.EL5M.UR.K2          Urban land area where elevation is below 5 meters (sq. km)\n",
       "AG.LND.EL5M.UR.ZS          Urban land area where elevation is below 5 meters (% of total land area)\n",
       "AG.LND.EL5M.ZS             Land area where elevation is below 5 meters (% of total land area)\n",
       "AG.LND.FRST.K2             Forest area (sq. km)\n",
       "AG.LND.FRST.ZS             Forest area (% of land area)\n",
       "AG.LND.IRIG.AG.ZS          Agricultural irrigated land (% of total agricultural land)\n",
       "AG.LND.PRCP.MM             Average precipitation in depth (mm per year)\n",
       "AG.LND.TOTL.K2             Land area (sq. km)\n",
       "AG.LND.TOTL.RU.K2          Rural land area (sq. km)\n",
       "AG.LND.TOTL.UR.K2          Urban land area (sq. km)\n",
       "AG.LND.TRAC.ZS             Agricultural machinery, tractors per 100 sq. km of arable land\n",
       "AG.PRD.CREL.MT             Cereal production (metric tons)\n",
       "AG.PRD.CROP.XD             Crop production index (2014-2016 = 100)\n",
       "AG.PRD.FOOD.XD             Food production index (2014-2016 = 100)\n",
       "AG.PRD.LVSK.XD             Livestock production index (2014-2016 = 100)\n",
       "AG.SRF.TOTL.K2             Surface area (sq. km)\n",
       "AG.YLD.CREL.KG             Cereal yield (kg per hectare)\n",
       "BG.GSR.NFSV.GD.ZS          Trade in services (% of GDP)\n",
       "BM.GSR.CMCP.ZS             Communications, computer, etc. (% of service imports, BoP)\n",
       "BM.GSR.FCTY.CD             Primary income payments (BoP, current US$)\n",
       "BM.GSR.GNFS.CD             Imports of goods and services (BoP, current US$)\n",
       "BM.GSR.INSF.ZS             Insurance and financial services (% of service imports, BoP)\n",
       "BM.GSR.MRCH.CD             Goods imports (BoP, current US$)\n",
       "BM.GSR.NFSV.CD             Service imports (BoP, current US$)\n",
       "BM.GSR.ROYL.CD             Charges for the use of intellectual property, payments (BoP, current US$)\n",
       "BM.GSR.TOTL.CD             Imports of goods, services and primary income (BoP, current US$)\n",
       "BM.GSR.TRAN.ZS             Transport services (% of service imports, BoP)\n",
       "BM.GSR.TRVL.ZS             Travel services (% of service imports, BoP)\n",
       "BM.KLT.DINV.CD.WD          Foreign direct investment, net outflows (BoP, current US$)\n",
       "BM.KLT.DINV.WD.GD.ZS       Foreign direct investment, net outflows (% of GDP)\n",
       "BM.TRF.PRVT.CD             Secondary income, other sectors, payments (BoP, current US$)\n",
       "BM.TRF.PWKR.CD.DT          Personal remittances, paid (current US$)\n",
       "BN.CAB.XOKA.CD             Current account balance (BoP, current US$)\n",
       "BN.CAB.XOKA.GD.ZS          Current account balance (% of GDP)\n",
       "BN.FIN.TOTL.CD             Net financial account (BoP, current US$)\n",
       "BN.GSR.FCTY.CD             Net primary income (BoP, current US$)\n",
       "BN.GSR.GNFS.CD             Net trade in goods and services (BoP, current US$)\n",
       "BN.GSR.MRCH.CD             Net trade in goods (BoP, current US$)\n",
       "BN.KAC.EOMS.CD             Net errors and omissions (BoP, current US$)\n",
       "BN.KLT.DINV.CD             Foreign direct investment, net (BoP, current US$)\n",
       "BN.KLT.PTXL.CD             Portfolio Investment, net (BoP, current US$)\n",
       "BN.RES.INCL.CD             Reserves and related items (BoP, current US$)\n",
       "BN.TRF.CURR.CD             Net secondary income (BoP, current US$)\n",
       "BN.TRF.KOGT.CD             Net capital account (BoP, current US$)\n",
       "BX.GRT.EXTA.CD.WD          Grants, excluding technical cooperation (BoP, current US$)\n",
       "BX.GRT.TECH.CD.WD          Technical cooperation grants (BoP, current US$)\n",
       "BX.GSR.CCIS.CD             ICT service exports (BoP, current US$)\n",
       "BX.GSR.CCIS.ZS             ICT service exports (% of service exports, BoP)\n",
       "BX.GSR.CMCP.ZS             Communications, computer, etc. (% of service exports, BoP)\n",
       "BX.GSR.FCTY.CD             Primary income receipts (BoP, current US$)\n",
       "BX.GSR.GNFS.CD             Exports of goods and services (BoP, current US$)\n",
       "BX.GSR.INSF.ZS             Insurance and financial services (% of service exports, BoP)\n",
       "BX.GSR.MRCH.CD             Goods exports (BoP, current US$)\n",
       "BX.GSR.NFSV.CD             Service exports (BoP, current US$)\n",
       "BX.GSR.ROYL.CD             Charges for the use of intellectual property, receipts (BoP, current US$)\n",
       "BX.GSR.TOTL.CD             Exports of goods, services and primary income (BoP, current US$)\n",
       "BX.GSR.TRAN.ZS             Transport services (% of service exports, BoP)\n",
       "BX.GSR.TRVL.ZS             Travel services (% of service exports, BoP)\n",
       "BX.KLT.DINV.CD.WD          Foreign direct investment, net inflows (BoP, current US$)\n",
       "BX.KLT.DINV.WD.GD.ZS       Foreign direct investment, net inflows (% of GDP)\n",
       "BX.PEF.TOTL.CD.WD          Portfolio equity, net inflows (BoP, current US$)\n",
       "BX.TRF.CURR.CD             Secondary income receipts (BoP, current US$)\n",
       "BX.TRF.PWKR.CD             Personal transfers, receipts (BoP, current US$)\n",
       "BX.TRF.PWKR.CD.DT          Personal remittances, received (current US$)\n",
       "BX.TRF.PWKR.DT.GD.ZS       Personal remittances, received (% of GDP)\n",
       "CC.EST                     Control of Corruption: Estimate\n",
       "CC.NO.SRC                  Control of Corruption: Number of Sources\n",
       "CC.PER.RNK                 Control of Corruption: Percentile Rank\n",
       "CC.PER.RNK.LOWER           Control of Corruption: Percentile Rank, Lower Bound of 90% Confidence Interval\n",
       "CC.PER.RNK.UPPER           Control of Corruption: Percentile Rank, Upper Bound of 90% Confidence Interval\n",
       "CC.STD.ERR                 Control of Corruption: Standard Error\n",
       "CM.MKT.INDX.ZG             S&P Global Equity Indices (annual % change)\n",
       "CM.MKT.LCAP.CD             Market capitalization of listed domestic companies (current US$)\n",
       "CM.MKT.LCAP.GD.ZS          Market capitalization of listed domestic companies (% of GDP)\n",
       "CM.MKT.LDOM.NO             Listed domestic companies, total\n",
       "CM.MKT.TRAD.CD             Stocks traded, total value (current US$)\n",
       "CM.MKT.TRAD.GD.ZS          Stocks traded, total value (% of GDP)\n",
       "CM.MKT.TRNR                Stocks traded, turnover ratio of domestic shares (%)\n",
       "DC.DAC.AUSL.CD             Net bilateral aid flows from DAC donors, Australia (current US$)\n",
       "DC.DAC.AUTL.CD             Net bilateral aid flows from DAC donors, Austria (current US$)\n",
       "DC.DAC.BELL.CD             Net bilateral aid flows from DAC donors, Belgium (current US$)\n",
       "DC.DAC.CANL.CD             Net bilateral aid flows from DAC donors, Canada (current US$)\n",
       "DC.DAC.CECL.CD             Net bilateral aid flows from DAC donors, European Union institutions (current US$)\n",
       "DC.DAC.CHEL.CD             Net bilateral aid flows from DAC donors, Switzerland (current US$)\n",
       "DC.DAC.CZEL.CD             Net bilateral aid flows from DAC donors, Czechia (current US$)\n",
       "DC.DAC.DEUL.CD             Net bilateral aid flows from DAC donors, Germany (current US$)\n",
       "DC.DAC.DNKL.CD             Net bilateral aid flows from DAC donors, Denmark (current US$)\n",
       "DC.DAC.ESPL.CD             Net bilateral aid flows from DAC donors, Spain (current US$)\n",
       "DC.DAC.ESTL.CD             Net bilateral aid flows from DAC donors, Estonia (current US$)\n",
       "DC.DAC.FINL.CD             Net bilateral aid flows from DAC donors, Finland (current US$)\n",
       "DC.DAC.FRAL.CD             Net bilateral aid flows from DAC donors, France (current US$)\n",
       "DC.DAC.GBRL.CD             Net bilateral aid flows from DAC donors, United Kingdom (current US$)\n",
       "DC.DAC.GRCL.CD             Net bilateral aid flows from DAC donors, Greece (current US$)\n",
       "DC.DAC.HUNL.CD             Net bilateral aid flows from DAC donors, Hungary (current US$)\n",
       "DC.DAC.IRLL.CD             Net bilateral aid flows from DAC donors, Ireland (current US$)\n",
       "DC.DAC.ISLL.CD             Net bilateral aid flows from DAC donors, Iceland (current US$)\n",
       "DC.DAC.ITAL.CD             Net bilateral aid flows from DAC donors, Italy (current US$)\n",
       "DC.DAC.JPNL.CD             Net bilateral aid flows from DAC donors, Japan (current US$)\n",
       "DC.DAC.KORL.CD             Net bilateral aid flows from DAC donors, Korea, Rep. (current US$)\n",
       "DC.DAC.LTUL.CD             Net bilateral aid flows from DAC donors, Lithuania (current US$)\n",
       "DC.DAC.LUXL.CD             Net bilateral aid flows from DAC donors, Luxembourg (current US$)\n",
       "DC.DAC.NLDL.CD             Net bilateral aid flows from DAC donors, Netherlands (current US$)\n",
       "DC.DAC.NORL.CD             Net bilateral aid flows from DAC donors, Norway (current US$)\n",
       "DC.DAC.NZLL.CD             Net bilateral aid flows from DAC donors, New Zealand (current US$)\n",
       "DC.DAC.POLL.CD             Net bilateral aid flows from DAC donors, Poland (current US$)\n",
       "DC.DAC.PRTL.CD             Net bilateral aid flows from DAC donors, Portugal (current US$)\n",
       "DC.DAC.SVKL.CD             Net bilateral aid flows from DAC donors, Slovak Republic (current US$)\n",
       "DC.DAC.SVNL.CD             Net bilateral aid flows from DAC donors, Slovenia (current US$)\n",
       "DC.DAC.SWEL.CD             Net bilateral aid flows from DAC donors, Sweden (current US$)\n",
       "DC.DAC.TOTL.CD             Net bilateral aid flows from DAC donors, Total (current US$)\n",
       "DC.DAC.USAL.CD             Net bilateral aid flows from DAC donors, United States (current US$)\n",
       "DC.ODA.TLDC.CD             Net ODA provided, to the least developed countries (current US$)\n",
       "DC.ODA.TLDC.GN.ZS          Net ODA provided to the least developed countries (% of GNI)\n",
       "DC.ODA.TOTL.CD             Net ODA provided, total (current US$)\n",
       "DC.ODA.TOTL.GN.ZS          Net ODA provided, total (% of GNI)\n",
       "DC.ODA.TOTL.KD             Net ODA provided, total (constant 2021 US$)\n",
       "DT.DOD.DECT.CD             External debt stocks, total (DOD, current US$)\n",
       "DT.DOD.DECT.GN.ZS          External debt stocks (% of GNI)\n",
       "DT.DOD.DIMF.CD             Use of IMF credit (DOD, current US$)\n",
       "DT.DOD.DLXF.CD             External debt stocks, long-term (DOD, current US$)\n",
       "DT.DOD.DPNG.CD             External debt stocks, private nonguaranteed (PNG) (DOD, current US$)\n",
       "DT.DOD.DPPG.CD             External debt stocks, public and publicly guaranteed (PPG) (DOD, current US$)\n",
       "DT.DOD.DSTC.CD             External debt stocks, short-term (DOD, current US$)\n",
       "DT.DOD.DSTC.IR.ZS          Short-term debt (% of total reserves)\n",
       "DT.DOD.DSTC.XP.ZS          Short-term debt (% of exports of goods, services and primary income)\n",
       "DT.DOD.DSTC.ZS             Short-term debt (% of total external debt)\n",
       "DT.DOD.MIBR.CD             PPG, IBRD (DOD, current US$)\n",
       "DT.DOD.MIDA.CD             PPG, IDA (DOD, current US$)\n",
       "DT.DOD.MWBG.CD             IBRD loans and IDA credits (DOD, current US$)\n",
       "DT.DOD.PVLX.CD             Present value of external debt (current US$)\n",
       "DT.DOD.PVLX.EX.ZS          Present value of external debt (% of exports of goods, services and primary income)\n",
       "DT.DOD.PVLX.GN.ZS          Present value of external debt (% of GNI)\n",
       "DT.NFL.BLAT.CD             Net financial flows, bilateral (NFL, current US$)\n",
       "DT.NFL.BOND.CD             Portfolio investment, bonds (PPG + PNG) (NFL, current US$)\n",
       "DT.NFL.CERF.CD             Net official flows from UN agencies, CERF (current US$)\n",
       "DT.NFL.DPNG.CD             Net flows on external debt, private nonguaranteed (PNG) (NFL, current US$)\n",
       "DT.NFL.FAOG.CD             Net official flows from UN agencies, FAO (current US$)\n",
       "DT.NFL.IAEA.CD             Net official flows from UN agencies, IAEA (current US$)\n",
       "DT.NFL.IFAD.CD             Net official flows from UN agencies, IFAD (current US$)\n",
       "DT.NFL.ILOG.CD             Net official flows from UN agencies, ILO (current US$)\n",
       "DT.NFL.IMFC.CD             Net financial flows, IMF concessional (NFL, current US$)\n",
       "DT.NFL.IMFN.CD             Net financial flows, IMF nonconcessional (NFL, current US$)\n",
       "DT.NFL.MIBR.CD             Net financial flows, IBRD (NFL, current US$)\n",
       "DT.NFL.MIDA.CD             Net financial flows, IDA (NFL, current US$)\n",
       "DT.NFL.MLAT.CD             Net financial flows, multilateral (NFL, current US$)\n",
       "DT.NFL.MOTH.CD             Net financial flows, others (NFL, current US$)\n",
       "DT.NFL.NIFC.CD             IFC, private nonguaranteed (NFL, US$)\n",
       "DT.NFL.OFFT.CD             PPG, official creditors (NFL, US$)\n",
       "DT.NFL.PBND.CD             PPG, bonds (NFL, current US$)\n",
       "DT.NFL.PCBK.CD             PPG, commercial banks (NFL, current US$)\n",
       "DT.NFL.PCBO.CD             Commercial banks and other lending (PPG + PNG) (NFL, current US$)\n",
       "DT.NFL.PNGB.CD             PNG, bonds (NFL, current US$)\n",
       "DT.NFL.PNGC.CD             PNG, commercial banks and other creditors (NFL, current US$)\n",
       "DT.NFL.PROP.CD             PPG, other private creditors (NFL, current US$)\n",
       "DT.NFL.PRVT.CD             PPG, private creditors (NFL, US$)\n",
       "DT.NFL.RDBC.CD             Net financial flows, RDB concessional (NFL, current US$)\n",
       "DT.NFL.RDBN.CD             Net financial flows, RDB nonconcessional (NFL, current US$)\n",
       "DT.NFL.SDGF.CD             Net official flows from UN agencies, SDGFUND (current US$)\n",
       "DT.NFL.SPRP.CD             Net official flows from UN agencies, SPRP (current US$)\n",
       "DT.NFL.UNAI.CD             Net official flows from UN agencies, UNAIDS (current US$)\n",
       "DT.NFL.UNCD.CD             Net official flows from UN agencies, UNCDF (current US$)\n",
       "DT.NFL.UNCF.CD             Net official flows from UN agencies, UNICEF (current US$)\n",
       "DT.NFL.UNCR.CD             Net official flows from UN agencies, UNHCR (current US$)\n",
       "DT.NFL.UNCTAD.CD           Net official flows from UN agencies, UNCTAD (current US$)\n",
       "DT.NFL.UNCV.CD             Net official flows from UN agencies, UNCOVID (current US$)\n",
       "DT.NFL.UNDP.CD             Net official flows from UN agencies, UNDP (current US$)\n",
       "DT.NFL.UNEC.CD             Net official flows from UN agencies, UNECE (current US$)\n",
       "DT.NFL.UNEP.CD             Net official flows from UN agencies, UNEP (current US$)\n",
       "DT.NFL.UNFP.CD             Net official flows from UN agencies, UNFPA (current US$)\n",
       "DT.NFL.UNID.CD             Net official flows from UN agencies, UNIDIR (current US$)\n",
       "DT.NFL.UNIDO.CD            Net official flows from UN agencies, UNIDO (current US$)\n",
       "DT.NFL.UNPB.CD             Net official flows from UN agencies, UNPBF (current US$)\n",
       "DT.NFL.UNRW.CD             Net official flows from UN agencies, UNRWA (current US$)\n",
       "DT.NFL.UNTA.CD             Net official flows from UN agencies, UNTA (current US$)\n",
       "DT.NFL.UNWN.CD             Net official flows from UN agencies, UNWOMEN (current US$)\n",
       "DT.NFL.UNWT.CD             Net official flows from UN agencies, UNWTO (current US$)\n",
       "DT.NFL.WFPG.CD             Net official flows from UN agencies, WFP (current US$)\n",
       "DT.NFL.WHOL.CD             Net official flows from UN agencies, WHO (current US$)\n",
       "DT.NFL.WITC.CD             Net official flows from UN agencies, WTO-ITC (current US$)\n",
       "DT.ODA.ALLD.CD             Net official development assistance and official aid received (current US$)\n",
       "DT.ODA.ALLD.KD             Net official development assistance and official aid received (constant 2021 US$)\n",
       "DT.ODA.OATL.CD             Net official aid received (current US$)\n",
       "DT.ODA.OATL.KD             Net official aid received (constant 2021 US$)\n",
       "DT.ODA.ODAT.CD             Net official development assistance received (current US$)\n",
       "DT.ODA.ODAT.GI.ZS          Net ODA received (% of gross capital formation)\n",
       "DT.ODA.ODAT.GN.ZS          Net ODA received (% of GNI)\n",
       "DT.ODA.ODAT.KD             Net official development assistance received (constant 2021 US$)\n",
       "DT.ODA.ODAT.MP.ZS          Net ODA received (% of imports of goods, services and primary income)\n",
       "DT.ODA.ODAT.PC.ZS          Net ODA received per capita (current US$)\n",
       "DT.ODA.ODAT.XP.ZS          Net ODA received (% of central government expense)\n",
       "DT.TDS.DECT.CD             Debt service on external debt, total (TDS, current US$)\n",
       "DT.TDS.DECT.EX.ZS          Total debt service (% of exports of goods, services and primary income)\n",
       "DT.TDS.DECT.GN.ZS          Total debt service (% of GNI)\n",
       "DT.TDS.DIMF.CD             IMF repurchases and charges (TDS, current US$)\n",
       "DT.TDS.DPPF.XP.ZS          Debt service (PPG and IMF only, % of exports of goods, services and primary income)\n",
       "DT.TDS.DPPG.CD             Debt service on external debt, public and publicly guaranteed (PPG) (TDS, current US$)\n",
       "DT.TDS.DPPG.GN.ZS          Public and publicly guaranteed debt service (% of GNI)\n",
       "DT.TDS.DPPG.XP.ZS          Public and publicly guaranteed debt service (% of exports of goods, services and primary income)\n",
       "DT.TDS.MLAT.CD             Multilateral debt service (TDS, current US$)\n",
       "DT.TDS.MLAT.PG.ZS          Multilateral debt service (% of public and publicly guaranteed debt service)\n",
       "EG.CFT.ACCS.RU.ZS          Access to clean fuels and technologies for cooking, rural (% of rural population)\n",
       "EG.CFT.ACCS.UR.ZS          Access to clean fuels and technologies for cooking, urban (% of urban population)\n",
       "EG.CFT.ACCS.ZS             Access to clean fuels and technologies for cooking (% of population)\n",
       "EG.EGY.PRIM.PP.KD          Energy intensity level of primary energy (MJ/$2017 PPP GDP)\n",
       "EG.ELC.ACCS.RU.ZS          Access to electricity, rural (% of rural population)\n",
       "EG.ELC.ACCS.UR.ZS          Access to electricity, urban (% of urban population)\n",
       "EG.ELC.ACCS.ZS             Access to electricity (% of population)\n",
       "EG.ELC.COAL.ZS             Electricity production from coal sources (% of total)\n",
       "EG.ELC.FOSL.ZS             Electricity production from oil, gas and coal sources (% of total)\n",
       "EG.ELC.HYRO.ZS             Electricity production from hydroelectric sources (% of total)\n",
       "EG.ELC.LOSS.ZS             Electric power transmission and distribution losses (% of output)\n",
       "EG.ELC.NGAS.ZS             Electricity production from natural gas sources (% of total)\n",
       "EG.ELC.NUCL.ZS             Electricity production from nuclear sources (% of total)\n",
       "EG.ELC.PETR.ZS             Electricity production from oil sources (% of total)\n",
       "EG.ELC.RNEW.ZS             Renewable electricity output (% of total electricity output)\n",
       "EG.ELC.RNWX.KH             Electricity production from renewable sources, excluding hydroelectric (kWh)\n",
       "EG.ELC.RNWX.ZS             Electricity production from renewable sources, excluding hydroelectric (% of total)\n",
       "EG.FEC.RNEW.ZS             Renewable energy consumption (% of total final energy consumption)\n",
       "EG.GDP.PUSE.KO.PP          GDP per unit of energy use (PPP $ per kg of oil equivalent)\n",
       "EG.GDP.PUSE.KO.PP.KD       GDP per unit of energy use (constant 2021 PPP $ per kg of oil equivalent)\n",
       "EG.IMP.CONS.ZS             Energy imports, net (% of energy use)\n",
       "EG.USE.COMM.CL.ZS          Alternative and nuclear energy (% of total energy use)\n",
       "EG.USE.COMM.FO.ZS          Fossil fuel energy consumption (% of total)\n",
       "EG.USE.COMM.GD.PP.KD       Energy use (kg of oil equivalent) per $1,000 GDP (constant 2021 PPP)\n",
       "EG.USE.CRNW.ZS             Combustible renewables and waste (% of total energy)\n",
       "EG.USE.ELEC.KH.PC          Electric power consumption (kWh per capita)\n",
       "EG.USE.PCAP.KG.OE          Energy use (kg of oil equivalent per capita)\n",
       "EN.ATM.CO2E.EG.ZS          CO2 intensity (kg per kg of oil equivalent energy use)\n",
       "EN.ATM.CO2E.GF.KT          CO2 emissions from gaseous fuel consumption (kt)\n",
       "EN.ATM.CO2E.GF.ZS          CO2 emissions from gaseous fuel consumption (% of total)\n",
       "EN.ATM.CO2E.KD.GD          CO2 emissions (kg per 2015 US$ of GDP)\n",
       "EN.ATM.CO2E.KT             CO2 emissions (kt)\n",
       "EN.ATM.CO2E.LF.KT          CO2 emissions from liquid fuel consumption (kt)\n",
       "EN.ATM.CO2E.LF.ZS          CO2 emissions from liquid fuel consumption (% of total)\n",
       "EN.ATM.CO2E.PC             CO2 emissions (metric tons per capita)\n",
       "EN.ATM.CO2E.PP.GD          CO2 emissions (kg per PPP $ of GDP)\n",
       "EN.ATM.CO2E.PP.GD.KD       CO2 emissions (kg per 2021 PPP $ of GDP)\n",
       "EN.ATM.CO2E.SF.KT          CO2 emissions from solid fuel consumption (kt)\n",
       "EN.ATM.CO2E.SF.ZS          CO2 emissions from solid fuel consumption (% of total)\n",
       "EN.ATM.GHGO.KT.CE          Other greenhouse gas emissions, HFC, PFC and SF6 (thousand metric tons of CO2 equivalent)\n",
       "EN.ATM.GHGO.ZG             Other greenhouse gas emissions (% change from 1990)\n",
       "EN.ATM.GHGT.KT.CE          Total greenhouse gas emissions (kt of CO2 equivalent)\n",
       "EN.ATM.GHGT.ZG             Total greenhouse gas emissions (% change from 1990)\n",
       "EN.ATM.HFCG.KT.CE          HFC gas emissions (thousand metric tons of CO2 equivalent)\n",
       "EN.ATM.METH.AG.KT.CE       Agricultural methane emissions (thousand metric tons of CO2 equivalent)\n",
       "EN.ATM.METH.AG.ZS          Agricultural methane emissions (% of total)\n",
       "EN.ATM.METH.EG.KT.CE       Methane emissions in energy sector (thousand metric tons of CO2 equivalent)\n",
       "EN.ATM.METH.EG.ZS          Energy related methane emissions (% of total)\n",
       "EN.ATM.METH.KT.CE          Methane emissions (kt of CO2 equivalent)\n",
       "EN.ATM.METH.ZG             Methane emissions (% change from 1990)\n",
       "EN.ATM.NOXE.AG.KT.CE       Agricultural nitrous oxide emissions (thousand metric tons of CO2 equivalent)\n",
       "EN.ATM.NOXE.AG.ZS          Agricultural nitrous oxide emissions (% of total)\n",
       "EN.ATM.NOXE.EG.KT.CE       Nitrous oxide emissions in energy sector (thousand metric tons of CO2 equivalent)\n",
       "EN.ATM.NOXE.EG.ZS          Nitrous oxide emissions in energy sector (% of total)\n",
       "EN.ATM.NOXE.KT.CE          Nitrous oxide emissions (thousand metric tons of CO2 equivalent)\n",
       "EN.ATM.NOXE.ZG             Nitrous oxide emissions (% change from 1990)\n",
       "EN.ATM.PFCG.KT.CE          PFC gas emissions (thousand metric tons of CO2 equivalent)\n",
       "EN.ATM.PM25.MC.M3          PM2.5 air pollution, mean annual exposure (micrograms per cubic meter)\n",
       "EN.ATM.PM25.MC.T1.ZS       PM2.5 pollution, population exposed to levels exceeding WHO Interim Target-1 value (% of total)\n",
       "EN.ATM.PM25.MC.T2.ZS       PM2.5 pollution, population exposed to levels exceeding WHO Interim Target-2 value (% of total)\n",
       "EN.ATM.PM25.MC.T3.ZS       PM2.5 pollution, population exposed to levels exceeding WHO Interim Target-3 value (% of total)\n",
       "EN.ATM.PM25.MC.ZS          PM2.5 air pollution, population exposed to levels exceeding WHO guideline value (% of total)\n",
       "EN.ATM.SF6G.KT.CE          SF6 gas emissions (thousand metric tons of CO2 equivalent)\n",
       "EN.BIR.THRD.NO             Bird species, threatened\n",
       "EN.CLC.DRSK.XQ             Disaster risk reduction progress score (1-5 scale; 5=best)\n",
       "EN.CLC.GHGR.MT.CE          GHG net emissions/removals by LUCF (Mt of CO2 equivalent)\n",
       "EN.CLC.MDAT.ZS             Droughts, floods, extreme temperatures (% of population, average 1990-2009)\n",
       "EN.CO2.BLDG.ZS             CO2 emissions from residential buildings and commercial and public services (% of total fuel combustion)\n",
       "EN.CO2.ETOT.ZS             CO2 emissions from electricity and heat production, total (% of total fuel combustion)\n",
       "EN.CO2.MANF.ZS             CO2 emissions from manufacturing industries and construction (% of total fuel combustion)\n",
       "EN.CO2.OTHX.ZS             CO2 emissions from other sectors, excluding residential buildings and commercial and public services (% of total fuel combustion)\n",
       "EN.CO2.TRAN.ZS             CO2 emissions from transport (% of total fuel combustion)\n",
       "EN.FSH.THRD.NO             Fish species, threatened\n",
       "EN.HPT.THRD.NO             Plant species (higher), threatened\n",
       "EN.MAM.THRD.NO             Mammal species, threatened\n",
       "EN.POP.DNST                Population density (people per sq. km of land area)\n",
       "EN.POP.EL5M.RU.ZS          Rural population living in areas where elevation is below 5 meters (% of total population)\n",
       "EN.POP.EL5M.UR.ZS          Urban population living in areas where elevation is below 5 meters (% of total population)\n",
       "EN.POP.EL5M.ZS             Population living in areas where elevation is below 5 meters (% of total population)\n",
       "EN.POP.SLUM.UR.ZS          Population living in slums (% of urban population)\n",
       "EN.URB.LCTY                Population in largest city\n",
       "EN.URB.LCTY.UR.ZS          Population in the largest city (% of urban population)\n",
       "EN.URB.MCTY                Population in urban agglomerations of more than 1 million\n",
       "EN.URB.MCTY.TL.ZS          Population in urban agglomerations of more than 1 million (% of total population)\n",
       "EP.PMP.DESL.CD             Pump price for diesel fuel (US$ per liter)\n",
       "EP.PMP.SGAS.CD             Pump price for gasoline (US$ per liter)\n",
       "ER.FSH.AQUA.MT             Aquaculture production (metric tons)\n",
       "ER.FSH.CAPT.MT             Capture fisheries production (metric tons)\n",
       "ER.FSH.PROD.MT             Total fisheries production (metric tons)\n",
       "ER.GDP.FWTL.M3.KD          Water productivity, total (constant 2015 US$ GDP per cubic meter of total freshwater withdrawal)\n",
       "ER.H2O.FWAG.ZS             Annual freshwater withdrawals, agriculture (% of total freshwater withdrawal)\n",
       "ER.H2O.FWDM.ZS             Annual freshwater withdrawals, domestic (% of total freshwater withdrawal)\n",
       "ER.H2O.FWIN.ZS             Annual freshwater withdrawals, industry (% of total freshwater withdrawal)\n",
       "ER.H2O.FWST.ZS             Level of water stress: freshwater withdrawal as a proportion of available freshwater resources\n",
       "ER.H2O.FWTL.K3             Annual freshwater withdrawals, total (billion cubic meters)\n",
       "ER.H2O.FWTL.ZS             Annual freshwater withdrawals, total (% of internal resources)\n",
       "ER.H2O.INTR.K3             Renewable internal freshwater resources, total (billion cubic meters)\n",
       "ER.H2O.INTR.PC             Renewable internal freshwater resources per capita (cubic meters)\n",
       "ER.LND.PTLD.ZS             Terrestrial protected areas (% of total land area)\n",
       "ER.MRN.PTMR.ZS             Marine protected areas (% of territorial waters)\n",
       "ER.PTD.TOTL.ZS             Terrestrial and marine protected areas (% of total territorial area)\n",
       "FB.AST.NPER.ZS             Bank nonperforming loans to total gross loans (%)\n",
       "FB.ATM.TOTL.P5             Automated teller machines (ATMs) (per 100,000 adults)\n",
       "FB.BNK.CAPA.ZS             Bank capital to assets ratio (%)\n",
       "FB.CBK.BRCH.P5             Commercial bank branches (per 100,000 adults)\n",
       "FB.CBK.BRWR.P3             Borrowers from commercial banks (per 1,000 adults)\n",
       "FB.CBK.DPTR.P3             Depositors with commercial banks (per 1,000 adults)\n",
       "FD.AST.PRVT.GD.ZS          Domestic credit to private sector by banks (% of GDP)\n",
       "FD.RES.LIQU.AS.ZS          Bank liquid reserves to bank assets ratio (%)\n",
       "FI.RES.TOTL.CD             Total reserves (includes gold, current US$)\n",
       "FI.RES.TOTL.DT.ZS          Total reserves (% of total external debt)\n",
       "FI.RES.TOTL.MO             Total reserves in months of imports\n",
       "FI.RES.XGLD.CD             Total reserves minus gold (current US$)\n",
       "FM.AST.CGOV.ZG.M3          Claims on central government (annual growth as % of broad money)\n",
       "FM.AST.DOMO.ZG.M3          Claims on other sectors of the domestic economy (annual growth as % of broad money)\n",
       "FM.AST.DOMS.CN             Net domestic credit (current LCU)\n",
       "FM.AST.NFRG.CN             Net foreign assets (current LCU)\n",
       "FM.AST.PRVT.GD.ZS          Monetary Sector credit to private sector (% GDP)\n",
       "FM.AST.PRVT.ZG.M3          Claims on private sector (annual growth as % of broad money)\n",
       "FM.LBL.BMNY.CN             Broad money (current LCU)\n",
       "FM.LBL.BMNY.GD.ZS          Broad money (% of GDP)\n",
       "FM.LBL.BMNY.IR.ZS          Broad money to total reserves ratio\n",
       "FM.LBL.BMNY.ZG             Broad money growth (annual %)\n",
       "FP.CPI.TOTL                Consumer price index (2010 = 100)\n",
       "FP.CPI.TOTL.ZG             Inflation, consumer prices (annual %)\n",
       "FP.WPI.TOTL                Wholesale price index (2010 = 100)\n",
       "FR.INR.DPST                Deposit interest rate (%)\n",
       "FR.INR.LEND                Lending interest rate (%)\n",
       "FR.INR.LNDP                Interest rate spread (lending rate minus deposit rate, %)\n",
       "FR.INR.RINR                Real interest rate (%)\n",
       "FR.INR.RISK                Risk premium on lending (lending rate minus treasury bill rate, %)\n",
       "FS.AST.CGOV.GD.ZS          Claims on central government, etc. (% GDP)\n",
       "FS.AST.DOMO.GD.ZS          Claims on other sectors of the domestic economy (% of GDP)\n",
       "FS.AST.DOMS.GD.ZS          Domestic credit provided by financial sector (% of GDP)\n",
       "FS.AST.PRVT.GD.ZS          Domestic credit to private sector (% of GDP)\n",
       "FX.OWN.TOTL.40.ZS          Account ownership at a financial institution or with a mobile-money-service provider, poorest 40% (% of population ages 15+)\n",
       "FX.OWN.TOTL.60.ZS          Account ownership at a financial institution or with a mobile-money-service provider, richest 60% (% of population ages 15+)\n",
       "FX.OWN.TOTL.FE.ZS          Account ownership at a financial institution or with a mobile-money-service provider, female (% of population ages 15+)\n",
       "FX.OWN.TOTL.MA.ZS          Account ownership at a financial institution or with a mobile-money-service provider, male (% of population ages 15+)\n",
       "FX.OWN.TOTL.OL.ZS          Account ownership at a financial institution or with a mobile-money-service provider, older adults (% of population ages 25+)\n",
       "FX.OWN.TOTL.PL.ZS          Account ownership at a financial institution or with a mobile-money-service provider, primary education or less (% of population ages 15+)\n",
       "FX.OWN.TOTL.SO.ZS          Account ownership at a financial institution or with a mobile-money-service provider, secondary education or more (% of population ages 15+)\n",
       "FX.OWN.TOTL.YG.ZS          Account ownership at a financial institution or with a mobile-money-service provider, young adults (% of population ages 15-24)\n",
       "FX.OWN.TOTL.ZS             Account ownership at a financial institution or with a mobile-money-service provider (% of population ages 15+)\n",
       "GB.XPD.RSDV.GD.ZS          Research and development expenditure (% of GDP)\n",
       "GC.AST.TOTL.CN             Net acquisition of financial assets (current LCU)\n",
       "GC.AST.TOTL.GD.ZS          Net acquisition of financial assets (% of GDP)\n",
       "GC.DOD.TOTL.CN             Central government debt, total (current LCU)\n",
       "GC.DOD.TOTL.GD.ZS          Central government debt, total (% of GDP)\n",
       "GC.LBL.TOTL.CN             Net incurrence of liabilities, total (current LCU)\n",
       "GC.LBL.TOTL.GD.ZS          Net incurrence of liabilities, total (% of GDP)\n",
       "GC.NFN.TOTL.CN             Net investment in nonfinancial assets (current LCU)\n",
       "GC.NFN.TOTL.GD.ZS          Net investment in nonfinancial assets (% of GDP)\n",
       "GC.NLD.TOTL.CN             Net lending (+) / net borrowing (-) (current LCU)\n",
       "GC.NLD.TOTL.GD.ZS          Net lending (+) / net borrowing (-) (% of GDP)\n",
       "GC.REV.GOTR.CN             Grants and other revenue (current LCU)\n",
       "GC.REV.GOTR.ZS             Grants and other revenue (% of revenue)\n",
       "GC.REV.SOCL.CN             Social contributions (current LCU)\n",
       "GC.REV.SOCL.ZS             Social contributions (% of revenue)\n",
       "GC.REV.XGRT.CN             Revenue, excluding grants (current LCU)\n",
       "GC.REV.XGRT.GD.ZS          Revenue, excluding grants (% of GDP)\n",
       "GC.TAX.EXPT.CN             Taxes on exports (current LCU)\n",
       "GC.TAX.EXPT.ZS             Taxes on exports (% of tax revenue)\n",
       "GC.TAX.GSRV.CN             Taxes on goods and services (current LCU)\n",
       "GC.TAX.GSRV.RV.ZS          Taxes on goods and services (% of revenue)\n",
       "GC.TAX.GSRV.VA.ZS          Taxes on goods and services (% value added of industry and services)\n",
       "GC.TAX.IMPT.CN             Customs and other import duties (current LCU)\n",
       "GC.TAX.IMPT.ZS             Customs and other import duties (% of tax revenue)\n",
       "GC.TAX.INTT.CN             Taxes on international trade (current LCU)\n",
       "GC.TAX.INTT.RV.ZS          Taxes on international trade (% of revenue)\n",
       "GC.TAX.OTHR.CN             Other taxes (current LCU)\n",
       "GC.TAX.OTHR.RV.ZS          Other taxes (% of revenue)\n",
       "GC.TAX.TOTL.CN             Tax revenue (current LCU)\n",
       "GC.TAX.TOTL.GD.ZS          Tax revenue (% of GDP)\n",
       "GC.TAX.YPKG.CN             Taxes on income, profits and capital gains (current LCU)\n",
       "GC.TAX.YPKG.RV.ZS          Taxes on income, profits and capital gains (% of revenue)\n",
       "GC.TAX.YPKG.ZS             Taxes on income, profits and capital gains (% of total taxes)\n",
       "GC.XPN.COMP.CN             Compensation of employees (current LCU)\n",
       "GC.XPN.COMP.ZS             Compensation of employees (% of expense)\n",
       "GC.XPN.GSRV.CN             Goods and services expense (current LCU)\n",
       "GC.XPN.GSRV.ZS             Goods and services expense (% of expense)\n",
       "GC.XPN.INTP.CN             Interest payments (current LCU)\n",
       "GC.XPN.INTP.RV.ZS          Interest payments (% of revenue)\n",
       "GC.XPN.INTP.ZS             Interest payments (% of expense)\n",
       "GC.XPN.OTHR.CN             Other expense (current LCU)\n",
       "GC.XPN.OTHR.ZS             Other expense (% of expense)\n",
       "GC.XPN.TOTL.CN             Expense (current LCU)\n",
       "GC.XPN.TOTL.GD.ZS          Expense (% of GDP)\n",
       "GC.XPN.TRFT.CN             Subsidies and other transfers (current LCU)\n",
       "GC.XPN.TRFT.ZS             Subsidies and other transfers (% of expense)\n",
       "GE.EST                     Government Effectiveness: Estimate\n",
       "GE.NO.SRC                  Government Effectiveness: Number of Sources\n",
       "GE.PER.RNK                 Government Effectiveness: Percentile Rank\n",
       "GE.PER.RNK.LOWER           Government Effectiveness: Percentile Rank, Lower Bound of 90% Confidence Interval\n",
       "GE.PER.RNK.UPPER           Government Effectiveness: Percentile Rank, Upper Bound of 90% Confidence Interval\n",
       "GE.STD.ERR                 Government Effectiveness: Standard Error\n",
       "GF.XPD.BUDG.ZS             Primary government expenditures as a proportion of original approved budget (%)\n",
       "HD.HCI.OVRL                Human Capital Index (HCI) (scale 0-1)\n",
       "HD.HCI.OVRL.FE             Human Capital Index (HCI), Female (scale 0-1)\n",
       "HD.HCI.OVRL.LB             Human Capital Index (HCI), Lower Bound (scale 0-1)\n",
       "HD.HCI.OVRL.LB.FE          Human Capital Index (HCI), Female, Lower Bound (scale 0-1)\n",
       "HD.HCI.OVRL.LB.MA          Human Capital Index (HCI), Male, Lower Bound (scale 0-1)\n",
       "HD.HCI.OVRL.MA             Human Capital Index (HCI), Male (scale 0-1)\n",
       "HD.HCI.OVRL.UB             Human Capital Index (HCI), Upper Bound (scale 0-1)\n",
       "HD.HCI.OVRL.UB.FE          Human Capital Index (HCI), Female, Upper Bound (scale 0-1)\n",
       "HD.HCI.OVRL.UB.MA          Human Capital Index (HCI), Male, Upper Bound (scale 0-1)\n",
       "IC.BUS.DFRN.XQ             Ease of doing business score (0 = lowest performance to 100 = best performance)\n",
       "IC.BUS.DISC.XQ             Business extent of disclosure index (0=less disclosure to 10=more disclosure)\n",
       "IC.BUS.EASE.XQ             Ease of doing business rank (1=most business-friendly regulations)\n",
       "IC.BUS.NDNS.ZS             New business density (new registrations per 1,000 people ages 15-64)\n",
       "IC.BUS.NREG                New businesses registered (number)\n",
       "IC.CRD.INFO.XQ             Depth of credit information index (0=low to 8=high)\n",
       "IC.CRD.PRVT.ZS             Private credit bureau coverage (% of adults)\n",
       "IC.CRD.PUBL.ZS             Public credit registry coverage (% of adults)\n",
       "IC.CUS.DURS.EX             Average time to clear exports through customs (days)\n",
       "IC.ELC.DURS                Time to obtain an electrical connection (days)\n",
       "IC.ELC.OUTG                Power outages in firms in a typical month (number)\n",
       "IC.ELC.OUTG.ZS             Firms experiencing electrical outages (% of firms)\n",
       "IC.ELC.TIME                Time required to get electricity (days)\n",
       "IC.EXP.CSBC.CD             Cost to export, border compliance (US$)\n",
       "IC.EXP.CSDC.CD             Cost to export, documentary compliance (US$)\n",
       "IC.EXP.TMBC                Time to export, border compliance (hours)\n",
       "IC.EXP.TMDC                Time to export, documentary compliance (hours)\n",
       "IC.FRM.BKWC.ZS             Firms using banks to finance working capital (% of firms)\n",
       "IC.FRM.BNKS.ZS             Firms using banks to finance investment (% of firms)\n",
       "IC.FRM.BRIB.ZS             Bribery incidence (% of firms experiencing at least one bribe payment request)\n",
       "IC.FRM.CMPU.ZS             Firms competing against unregistered firms (% of firms)\n",
       "IC.FRM.CORR.ZS             Informal payments to public officials (% of firms)\n",
       "IC.FRM.CRIM.ZS             Losses due to theft and vandalism (% of annual sales for affected firms)\n",
       "IC.FRM.DURS                Time required to obtain an operating license (days)\n",
       "IC.FRM.FEMM.ZS             Firms with female top manager (% of firms)\n",
       "IC.FRM.FEMO.ZS             Firms with female participation in ownership (% of firms)\n",
       "IC.FRM.FREG.ZS             Firms formally registered when operations started (% of firms)\n",
       "IC.FRM.INFM.ZS             Firms that do not report all sales for tax purposes (% of firms)\n",
       "IC.FRM.METG.ZS             Firms visited or required meetings with tax officials (% of firms)\n",
       "IC.FRM.OUTG.ZS             Value lost due to electrical outages (% of sales for affected firms)\n",
       "IC.FRM.RSDV.ZS             Firms that spend on R&D (% of firms)\n",
       "IC.FRM.THEV.ZS             Firms experiencing losses due to theft and vandalism (% of firms)\n",
       "IC.FRM.TRNG.ZS             Firms offering formal training (% of firms)\n",
       "IC.GOV.DURS.ZS             Time spent dealing with the requirements of government regulations (% of senior management time)\n",
       "IC.IMP.CSBC.CD             Cost to import, border compliance (US$)\n",
       "IC.IMP.CSDC.CD             Cost to import, documentary compliance (US$)\n",
       "IC.IMP.TMBC                Time to import, border compliance (hours)\n",
       "IC.IMP.TMDC                Time to import, documentary compliance (hours)\n",
       "IC.ISV.DURS                Time to resolve insolvency (years)\n",
       "IC.LGL.CRED.XQ             Strength of legal rights index (0=weak to 12=strong)\n",
       "IC.LGL.DURS                Time required to enforce a contract (days)\n",
       "IC.PRP.DURS                Time required to register property (days)\n",
       "IC.PRP.PROC                Procedures to register property (number)\n",
       "IC.REG.COST.PC.FE.ZS       Cost of business start-up procedures, female (% of GNI per capita)\n",
       "IC.REG.COST.PC.MA.ZS       Cost of business start-up procedures, male (% of GNI per capita)\n",
       "IC.REG.COST.PC.ZS          Cost of business start-up procedures (% of GNI per capita)\n",
       "IC.REG.DURS                Time required to start a business (days)\n",
       "IC.REG.DURS.FE             Time required to start a business, female (days)\n",
       "IC.REG.DURS.MA             Time required to start a business, male (days)\n",
       "IC.REG.PROC                Start-up procedures to register a business (number)\n",
       "IC.REG.PROC.FE             Start-up procedures to register a business, female (number)\n",
       "IC.REG.PROC.MA             Start-up procedures to register a business, male (number)\n",
       "IC.TAX.DURS                Time to prepare and pay taxes (hours)\n",
       "IC.TAX.GIFT.ZS             Firms expected to give gifts in meetings with tax officials (% of firms)\n",
       "IC.TAX.LABR.CP.ZS          Labor tax and contributions (% of commercial profits)\n",
       "IC.TAX.METG                Number of visits or required meetings with tax officials (average for affected firms)\n",
       "IC.TAX.OTHR.CP.ZS          Other taxes payable by businesses (% of commercial profits)\n",
       "IC.TAX.PAYM                Tax payments (number)\n",
       "IC.TAX.PRFT.CP.ZS          Profit tax (% of commercial profits)\n",
       "IC.TAX.TOTL.CP.ZS          Total tax and contribution rate (% of profit)\n",
       "IC.WRH.DURS                Time required to build a warehouse (days)\n",
       "IC.WRH.PROC                Procedures to build a warehouse (number)\n",
       "IE.PPI.ENGY.CD             Investment in energy with private participation (current US$)\n",
       "IE.PPI.ICTI.CD             Investment in ICT with private participation (current US$)\n",
       "IE.PPI.TRAN.CD             Investment in transport with private participation (current US$)\n",
       "IE.PPI.WATR.CD             Investment in water and sanitation with private participation (current US$)\n",
       "IE.PPN.ENGY.CD             Public private partnerships investment in energy (current US$)\n",
       "IE.PPN.ICTI.CD             Public private partnerships investment in ICT (current US$)\n",
       "IE.PPN.TRAN.CD             Public private partnerships investment in transport (current US$)\n",
       "IE.PPN.WATR.CD             Public private partnerships investment in water and sanitation (current US$)\n",
       "IP.IDS.NRCT                Industrial design applications, nonresident, by count\n",
       "IP.IDS.RSCT                Industrial design applications, resident, by count\n",
       "IP.JRN.ARTC.SC             Scientific and technical journal articles\n",
       "IP.PAT.NRES                Patent applications, nonresidents\n",
       "IP.PAT.RESD                Patent applications, residents\n",
       "IP.TMK.NRCT                Trademark applications, nonresident, by count\n",
       "IP.TMK.RSCT                Trademark applications, resident, by count\n",
       "IQ.CPA.BREG.XQ             CPIA business regulatory environment rating (1=low to 6=high)\n",
       "IQ.CPA.DEBT.XQ             CPIA debt policy rating (1=low to 6=high)\n",
       "IQ.CPA.ECON.XQ             CPIA economic management cluster average (1=low to 6=high)\n",
       "IQ.CPA.ENVR.XQ             CPIA policy and institutions for environmental sustainability rating (1=low to 6=high)\n",
       "IQ.CPA.FINQ.XQ             CPIA quality of budgetary and financial management rating (1=low to 6=high)\n",
       "IQ.CPA.FINS.XQ             CPIA financial sector rating (1=low to 6=high)\n",
       "IQ.CPA.FISP.XQ             CPIA fiscal policy rating (1=low to 6=high)\n",
       "IQ.CPA.GNDR.XQ             CPIA gender equality rating (1=low to 6=high)\n",
       "IQ.CPA.HRES.XQ             CPIA building human resources rating (1=low to 6=high)\n",
       "IQ.CPA.IRAI.XQ             IDA resource allocation index (1=low to 6=high)\n",
       "IQ.CPA.MACR.XQ             CPIA macroeconomic management rating (1=low to 6=high)\n",
       "IQ.CPA.PADM.XQ             CPIA quality of public administration rating (1=low to 6=high)\n",
       "IQ.CPA.PRES.XQ             CPIA equity of public resource use rating (1=low to 6=high)\n",
       "IQ.CPA.PROP.XQ             CPIA property rights and rule-based governance rating (1=low to 6=high)\n",
       "IQ.CPA.PROT.XQ             CPIA social protection rating (1=low to 6=high)\n",
       "IQ.CPA.PUBS.XQ             CPIA public sector management and institutions cluster average (1=low to 6=high)\n",
       "IQ.CPA.REVN.XQ             CPIA efficiency of revenue mobilization rating (1=low to 6=high)\n",
       "IQ.CPA.SOCI.XQ             CPIA policies for social inclusion/equity cluster average (1=low to 6=high)\n",
       "IQ.CPA.STRC.XQ             CPIA structural policies cluster average (1=low to 6=high)\n",
       "IQ.CPA.TRAD.XQ             CPIA trade rating (1=low to 6=high)\n",
       "IQ.CPA.TRAN.XQ             CPIA transparency, accountability, and corruption in the public sector rating (1=low to 6=high)\n",
       "IQ.SCI.MTHD                Methodology assessment of statistical capacity (scale 0 - 100)\n",
       "IQ.SCI.OVRL                Statistical Capacity Score (Overall Average) (scale 0 - 100)\n",
       "IQ.SCI.PRDC                Periodicity and timeliness assessment of statistical capacity (scale 0 - 100)\n",
       "IQ.SCI.SRCE                Source data assessment of statistical capacity (scale 0 - 100)\n",
       "IQ.SPI.OVRL                Statistical performance indicators (SPI): Overall score (scale 0-100)\n",
       "IQ.SPI.PIL1                Statistical performance indicators (SPI): Pillar 1 data use score (scale 0-100)\n",
       "IQ.SPI.PIL2                Statistical performance indicators (SPI): Pillar 2 data services score (scale 0-100)\n",
       "IQ.SPI.PIL3                Statistical performance indicators (SPI): Pillar 3 data products score  (scale 0-100)\n",
       "IQ.SPI.PIL4                Statistical performance indicators (SPI): Pillar 4 data sources score (scale 0-100)\n",
       "IQ.SPI.PIL5                Statistical performance indicators (SPI): Pillar 5 data infrastructure score (scale 0-100)\n",
       "IS.AIR.DPRT                Air transport, registered carrier departures worldwide\n",
       "IS.AIR.GOOD.MT.K1          Air transport, freight (million ton-km)\n",
       "IS.AIR.PSGR                Air transport, passengers carried\n",
       "IS.RRS.GOOD.MT.K6          Railways, goods transported (million ton-km)\n",
       "IS.RRS.PASG.KM             Railways, passengers carried (million passenger-km)\n",
       "IS.RRS.TOTL.KM             Rail lines (total route-km)\n",
       "IS.SHP.GCNW.XQ             Liner shipping connectivity index (maximum value in 2004 = 100)\n",
       "IS.SHP.GOOD.TU             Container port traffic (TEU: 20 foot equivalent units)\n",
       "IT.CEL.SETS                Mobile cellular subscriptions\n",
       "IT.CEL.SETS.P2             Mobile cellular subscriptions (per 100 people)\n",
       "IT.MLT.MAIN                Fixed telephone subscriptions\n",
       "IT.MLT.MAIN.P2             Fixed telephone subscriptions (per 100 people)\n",
       "IT.NET.BBND                Fixed broadband subscriptions\n",
       "IT.NET.BBND.P2             Fixed broadband subscriptions (per 100 people)\n",
       "IT.NET.SECR                Secure Internet servers\n",
       "IT.NET.SECR.P6             Secure Internet servers (per 1 million people)\n",
       "IT.NET.USER.ZS             Individuals using the Internet (% of population)\n",
       "LP.EXP.DURS.MD             Lead time to export, median case (days)\n",
       "LP.IMP.DURS.MD             Lead time to import, median case (days)\n",
       "LP.LPI.CUST.XQ             Logistics performance index: Efficiency of customs clearance process (1=low to 5=high)\n",
       "LP.LPI.INFR.XQ             Logistics performance index: Quality of trade and transport-related infrastructure (1=low to 5=high)\n",
       "LP.LPI.ITRN.XQ             Logistics performance index: Ease of arranging competitively priced shipments (1=low to 5=high)\n",
       "LP.LPI.LOGS.XQ             Logistics performance index: Competence and quality of logistics services (1=low to 5=high)\n",
       "LP.LPI.OVRL.XQ             Logistics performance index: Overall (1=low to 5=high)\n",
       "LP.LPI.TIME.XQ             Logistics performance index: Frequency with which shipments reach consignee within scheduled or expected time (1=low to 5=high)\n",
       "LP.LPI.TRAC.XQ             Logistics performance index: Ability to track and trace consignments (1=low to 5=high)\n",
       "MS.MIL.MPRT.KD             Arms imports (SIPRI trend indicator values)\n",
       "MS.MIL.TOTL.P1             Armed forces personnel, total\n",
       "MS.MIL.TOTL.TF.ZS          Armed forces personnel (% of total labor force)\n",
       "MS.MIL.XPND.CD             Military expenditure (current USD)\n",
       "MS.MIL.XPND.CN             Military expenditure (current LCU)\n",
       "MS.MIL.XPND.GD.ZS          Military expenditure (% of GDP)\n",
       "MS.MIL.XPND.ZS             Military expenditure (% of general government expenditure)\n",
       "MS.MIL.XPRT.KD             Arms exports (SIPRI trend indicator values)\n",
       "NE.CON.GOVT.CD             General government final consumption expenditure (current US$)\n",
       "NE.CON.GOVT.CN             General government final consumption expenditure (current LCU)\n",
       "NE.CON.GOVT.KD             General government final consumption expenditure (constant 2015 US$)\n",
       "NE.CON.GOVT.KD.ZG          General government final consumption expenditure (annual % growth)\n",
       "NE.CON.GOVT.KN             General government final consumption expenditure (constant LCU)\n",
       "NE.CON.GOVT.ZS             General government final consumption expenditure (% of GDP)\n",
       "NE.CON.PRVT.CD             Households and NPISHs Final consumption expenditure (current US$)\n",
       "NE.CON.PRVT.CN             Households and NPISHs Final consumption expenditure (current LCU)\n",
       "NE.CON.PRVT.CN.AD          Households and NPISHs final consumption expenditure: linked series (current LCU)\n",
       "NE.CON.PRVT.KD             Households and NPISHs Final consumption expenditure (constant 2015 US$)\n",
       "NE.CON.PRVT.KD.ZG          Households and NPISHs Final consumption expenditure (annual % growth)\n",
       "NE.CON.PRVT.KN             Households and NPISHs Final consumption expenditure (constant LCU)\n",
       "NE.CON.PRVT.PC.KD          Households and NPISHs Final consumption expenditure per capita (constant 2015 US$)\n",
       "NE.CON.PRVT.PC.KD.ZG       Households and NPISHs Final consumption expenditure per capita growth (annual %)\n",
       "NE.CON.PRVT.PP.CD          Households and NPISHs Final consumption expenditure, PPP (current international $)\n",
       "NE.CON.PRVT.PP.KD          Households and NPISHs Final consumption expenditure, PPP (constant 2021 international $)\n",
       "NE.CON.PRVT.ZS             Households and NPISHs final consumption expenditure (% of GDP)\n",
       "NE.CON.TOTL.CD             Final consumption expenditure (current US$)\n",
       "NE.CON.TOTL.CN             Final consumption expenditure (current LCU)\n",
       "NE.CON.TOTL.KD             Final consumption expenditure (constant 2015 US$)\n",
       "NE.CON.TOTL.KD.ZG          Final consumption expenditure (annual % growth)\n",
       "NE.CON.TOTL.KN             Final consumption expenditure (constant LCU)\n",
       "NE.CON.TOTL.ZS             Final consumption expenditure (% of GDP)\n",
       "NE.DAB.DEFL.ZS             Gross national expenditure deflator (base year varies by country)\n",
       "NE.DAB.TOTL.CD             Gross national expenditure (current US$)\n",
       "NE.DAB.TOTL.CN             Gross national expenditure (current LCU)\n",
       "NE.DAB.TOTL.KD             Gross national expenditure (constant 2015 US$)\n",
       "NE.DAB.TOTL.KN             Gross national expenditure (constant LCU)\n",
       "NE.DAB.TOTL.ZS             Gross national expenditure (% of GDP)\n",
       "NE.EXP.GNFS.CD             Exports of goods and services (current US$)\n",
       "NE.EXP.GNFS.CN             Exports of goods and services (current LCU)\n",
       "NE.EXP.GNFS.KD             Exports of goods and services (constant 2015 US$)\n",
       "NE.EXP.GNFS.KD.ZG          Exports of goods and services (annual % growth)\n",
       "NE.EXP.GNFS.KN             Exports of goods and services (constant LCU)\n",
       "NE.EXP.GNFS.ZS             Exports of goods and services (% of GDP)\n",
       "NE.GDI.FPRV.CN             Gross fixed capital formation, private sector (current LCU)\n",
       "NE.GDI.FPRV.ZS             Gross fixed capital formation, private sector (% of GDP)\n",
       "NE.GDI.FTOT.CD             Gross fixed capital formation (current US$)\n",
       "NE.GDI.FTOT.CN             Gross fixed capital formation (current LCU)\n",
       "NE.GDI.FTOT.KD             Gross fixed capital formation (constant 2015 US$)\n",
       "NE.GDI.FTOT.KD.ZG          Gross fixed capital formation (annual % growth)\n",
       "NE.GDI.FTOT.KN             Gross fixed capital formation (constant LCU)\n",
       "NE.GDI.FTOT.ZS             Gross fixed capital formation (% of GDP)\n",
       "NE.GDI.STKB.CD             Changes in inventories (current US$)\n",
       "NE.GDI.STKB.CN             Changes in inventories (current LCU)\n",
       "NE.GDI.STKB.KN             Changes in inventories (constant LCU)\n",
       "NE.GDI.TOTL.CD             Gross capital formation (current US$)\n",
       "NE.GDI.TOTL.CN             Gross capital formation (current LCU)\n",
       "NE.GDI.TOTL.KD             Gross capital formation (constant 2015 US$)\n",
       "NE.GDI.TOTL.KD.ZG          Gross capital formation (annual % growth)\n",
       "NE.GDI.TOTL.KN             Gross capital formation (constant LCU)\n",
       "NE.GDI.TOTL.ZS             Gross capital formation (% of GDP)\n",
       "NE.IMP.GNFS.CD             Imports of goods and services (current US$)\n",
       "NE.IMP.GNFS.CN             Imports of goods and services (current LCU)\n",
       "NE.IMP.GNFS.KD             Imports of goods and services (constant 2015 US$)\n",
       "NE.IMP.GNFS.KD.ZG          Imports of goods and services (annual % growth)\n",
       "NE.IMP.GNFS.KN             Imports of goods and services (constant LCU)\n",
       "NE.IMP.GNFS.ZS             Imports of goods and services (% of GDP)\n",
       "NE.RSB.GNFS.CD             External balance on goods and services (current US$)\n",
       "NE.RSB.GNFS.CN             External balance on goods and services (current LCU)\n",
       "NE.RSB.GNFS.KN             External balance on goods and services (constant LCU)\n",
       "NE.RSB.GNFS.ZS             External balance on goods and services (% of GDP)\n",
       "NE.TRD.GNFS.ZS             Trade (% of GDP)\n",
       "NV.AGR.EMPL.KD             Agriculture, forestry, and fishing, value added per worker (constant 2015 US$)\n",
       "NV.AGR.TOTL.CD             Agriculture, forestry, and fishing, value added (current US$)\n",
       "NV.AGR.TOTL.CN             Agriculture, forestry, and fishing, value added (current LCU)\n",
       "NV.AGR.TOTL.KD             Agriculture, forestry, and fishing, value added (constant 2015 US$)\n",
       "NV.AGR.TOTL.KD.ZG          Agriculture, forestry, and fishing, value added (annual % growth)\n",
       "NV.AGR.TOTL.KN             Agriculture, forestry, and fishing, value added (constant LCU)\n",
       "NV.AGR.TOTL.ZS             Agriculture, forestry, and fishing, value added (% of GDP)\n",
       "NV.FSM.TOTL.CN             Financial intermediary services indirectly Measured (FISIM) (current LCU)\n",
       "NV.FSM.TOTL.KN             Financial intermediary services indirectly Measured (FISIM) (constant LCU)\n",
       "NV.IND.EMPL.KD             Industry (including construction), value added per worker (constant 2015 US$)\n",
       "NV.IND.MANF.CD             Manufacturing, value added (current US$)\n",
       "NV.IND.MANF.CN             Manufacturing, value added (current LCU)\n",
       "NV.IND.MANF.KD             Manufacturing, value added (constant 2015 US$)\n",
       "NV.IND.MANF.KD.ZG          Manufacturing, value added (annual % growth)\n",
       "NV.IND.MANF.KN             Manufacturing, value added (constant LCU)\n",
       "NV.IND.MANF.ZS             Manufacturing, value added (% of GDP)\n",
       "NV.IND.TOTL.CD             Industry (including construction), value added (current US$)\n",
       "NV.IND.TOTL.CN             Industry (including construction), value added (current LCU)\n",
       "NV.IND.TOTL.KD             Industry (including construction), value added (constant 2015 US$)\n",
       "NV.IND.TOTL.KD.ZG          Industry (including construction), value added (annual % growth)\n",
       "NV.IND.TOTL.KN             Industry (including construction), value added (constant LCU)\n",
       "NV.IND.TOTL.ZS             Industry (including construction), value added (% of GDP)\n",
       "NV.MNF.CHEM.ZS.UN          Chemicals (% of value added in manufacturing)\n",
       "NV.MNF.FBTO.ZS.UN          Food, beverages and tobacco (% of value added in manufacturing)\n",
       "NV.MNF.MTRN.ZS.UN          Machinery and transport equipment (% of value added in manufacturing)\n",
       "NV.MNF.OTHR.ZS.UN          Other manufacturing (% of value added in manufacturing)\n",
       "NV.MNF.TECH.ZS.UN          Medium and high-tech manufacturing value added (% manufacturing value added)\n",
       "NV.MNF.TXTL.ZS.UN          Textiles and clothing (% of value added in manufacturing)\n",
       "NV.SRV.EMPL.KD             Services, value added per worker (constant 2015 US$)\n",
       "NV.SRV.TOTL.CD             Services, value added (current US$)\n",
       "NV.SRV.TOTL.CN             Services, value added (current LCU)\n",
       "NV.SRV.TOTL.KD             Services, value added (constant 2015 US$)\n",
       "NV.SRV.TOTL.KD.ZG          Services, value added (annual % growth)\n",
       "NV.SRV.TOTL.KN             Services, value added (constant LCU)\n",
       "NV.SRV.TOTL.ZS             Services, value added (% of GDP)\n",
       "NY.ADJ.AEDU.CD             Adjusted savings: education expenditure (current US$)\n",
       "NY.ADJ.AEDU.GN.ZS          Adjusted savings: education expenditure (% of GNI)\n",
       "NY.ADJ.DCO2.CD             Adjusted savings: carbon dioxide damage (current US$)\n",
       "NY.ADJ.DCO2.GN.ZS          Adjusted savings: carbon dioxide damage (% of GNI)\n",
       "NY.ADJ.DFOR.CD             Adjusted savings: net forest depletion (current US$)\n",
       "NY.ADJ.DFOR.GN.ZS          Adjusted savings: net forest depletion (% of GNI)\n",
       "NY.ADJ.DKAP.CD             Adjusted savings: consumption of fixed capital (current US$)\n",
       "NY.ADJ.DKAP.GN.ZS          Adjusted savings: consumption of fixed capital (% of GNI)\n",
       "NY.ADJ.DMIN.CD             Adjusted savings: mineral depletion (current US$)\n",
       "NY.ADJ.DMIN.GN.ZS          Adjusted savings: mineral depletion (% of GNI)\n",
       "NY.ADJ.DNGY.CD             Adjusted savings: energy depletion (current US$)\n",
       "NY.ADJ.DNGY.GN.ZS          Adjusted savings: energy depletion (% of GNI)\n",
       "NY.ADJ.DPEM.CD             Adjusted savings: particulate emission damage (current US$)\n",
       "NY.ADJ.DPEM.GN.ZS          Adjusted savings: particulate emission damage (% of GNI)\n",
       "NY.ADJ.DRES.GN.ZS          Adjusted savings: natural resources depletion (% of GNI)\n",
       "NY.ADJ.ICTR.GN.ZS          Adjusted savings: gross savings (% of GNI)\n",
       "NY.ADJ.NNAT.CD             Adjusted savings: net national savings (current US$)\n",
       "NY.ADJ.NNAT.GN.ZS          Adjusted savings: net national savings (% of GNI)\n",
       "NY.ADJ.NNTY.CD             Adjusted net national income (current US$)\n",
       "NY.ADJ.NNTY.KD             Adjusted net national income (constant 2015 US$)\n",
       "NY.ADJ.NNTY.KD.ZG          Adjusted net national income (annual % growth)\n",
       "NY.ADJ.NNTY.PC.CD          Adjusted net national income per capita (current US$)\n",
       "NY.ADJ.NNTY.PC.KD          Adjusted net national income per capita (constant 2015 US$)\n",
       "NY.ADJ.NNTY.PC.KD.ZG       Adjusted net national income per capita (annual % growth)\n",
       "NY.ADJ.SVNG.CD             Adjusted net savings, including particulate emission damage (current US$)\n",
       "NY.ADJ.SVNG.GN.ZS          Adjusted net savings, including particulate emission damage (% of GNI)\n",
       "NY.ADJ.SVNX.CD             Adjusted net savings, excluding particulate emission damage (current US$)\n",
       "NY.ADJ.SVNX.GN.ZS          Adjusted net savings, excluding particulate emission damage (% of GNI)\n",
       "NY.EXP.CAPM.KN             Exports as a capacity to import (constant LCU)\n",
       "NY.GDP.COAL.RT.ZS          Coal rents (% of GDP)\n",
       "NY.GDP.DEFL.KD.ZG          Inflation, GDP deflator (annual %)\n",
       "NY.GDP.DEFL.KD.ZG.AD       Inflation, GDP deflator: linked series (annual %)\n",
       "NY.GDP.DEFL.ZS             GDP deflator (base year varies by country)\n",
       "NY.GDP.DEFL.ZS.AD          GDP deflator: linked series (base year varies by country)\n",
       "NY.GDP.DISC.CN             Discrepancy in expenditure estimate of GDP (current LCU)\n",
       "NY.GDP.DISC.KN             Discrepancy in expenditure estimate of GDP (constant LCU)\n",
       "NY.GDP.FCST.CD             Gross value added at basic prices (GVA) (current US$)\n",
       "NY.GDP.FCST.CN             Gross value added at basic prices (GVA) (current LCU)\n",
       "NY.GDP.FCST.KD             Gross value added at basic prices (GVA) (constant 2015 US$)\n",
       "NY.GDP.FCST.KN             Gross value added at basic prices (GVA) (constant LCU)\n",
       "NY.GDP.FRST.RT.ZS          Forest rents (% of GDP)\n",
       "NY.GDP.MINR.RT.ZS          Mineral rents (% of GDP)\n",
       "NY.GDP.MKTP.CD             GDP (current US$)\n",
       "NY.GDP.MKTP.CN             GDP (current LCU)\n",
       "NY.GDP.MKTP.CN.AD          GDP: linked series (current LCU)\n",
       "NY.GDP.MKTP.KD             GDP (constant 2015 US$)\n",
       "NY.GDP.MKTP.KD.ZG          GDP growth (annual %)\n",
       "NY.GDP.MKTP.KN             GDP (constant LCU)\n",
       "NY.GDP.MKTP.PP.CD          GDP, PPP (current international $)\n",
       "NY.GDP.MKTP.PP.KD          GDP, PPP (constant 2021 international $)\n",
       "NY.GDP.NGAS.RT.ZS          Natural gas rents (% of GDP)\n",
       "NY.GDP.PCAP.CD             GDP per capita (current US$)\n",
       "NY.GDP.PCAP.CN             GDP per capita (current LCU)\n",
       "NY.GDP.PCAP.KD             GDP per capita (constant 2015 US$)\n",
       "NY.GDP.PCAP.KD.ZG          GDP per capita growth (annual %)\n",
       "NY.GDP.PCAP.KN             GDP per capita (constant LCU)\n",
       "NY.GDP.PCAP.PP.CD          GDP per capita, PPP (current international $)\n",
       "NY.GDP.PCAP.PP.KD          GDP per capita, PPP (constant 2021 international $)\n",
       "NY.GDP.PETR.RT.ZS          Oil rents (% of GDP)\n",
       "NY.GDP.TOTL.RT.ZS          Total natural resources rents (% of GDP)\n",
       "NY.GDS.TOTL.CD             Gross domestic savings (current US$)\n",
       "NY.GDS.TOTL.CN             Gross domestic savings (current LCU)\n",
       "NY.GDS.TOTL.ZS             Gross domestic savings (% of GDP)\n",
       "NY.GDY.TOTL.KN             Gross domestic income (constant LCU)\n",
       "NY.GNP.ATLS.CD             GNI, Atlas method (current US$)\n",
       "NY.GNP.MKTP.CD             GNI (current US$)\n",
       "NY.GNP.MKTP.CN             GNI (current LCU)\n",
       "NY.GNP.MKTP.CN.AD          GNI: linked series (current LCU)\n",
       "NY.GNP.MKTP.KD             GNI (constant 2015 US$)\n",
       "NY.GNP.MKTP.KD.ZG          GNI growth (annual %)\n",
       "NY.GNP.MKTP.KN             GNI (constant LCU)\n",
       "NY.GNP.MKTP.PP.CD          GNI, PPP (current international $)\n",
       "NY.GNP.MKTP.PP.KD          GNI, PPP (constant 2021 international $)\n",
       "NY.GNP.PCAP.CD             GNI per capita, Atlas method (current US$)\n",
       "NY.GNP.PCAP.CN             GNI per capita (current LCU)\n",
       "NY.GNP.PCAP.KD             GNI per capita (constant 2015 US$)\n",
       "NY.GNP.PCAP.KD.ZG          GNI per capita growth (annual %)\n",
       "NY.GNP.PCAP.KN             GNI per capita (constant LCU)\n",
       "NY.GNP.PCAP.PP.CD          GNI per capita, PPP (current international $)\n",
       "NY.GNP.PCAP.PP.KD          GNI per capita, PPP (constant 2021 international $)\n",
       "NY.GNS.ICTR.CD             Gross savings (current US$)\n",
       "NY.GNS.ICTR.CN             Gross savings (current LCU)\n",
       "NY.GNS.ICTR.GN.ZS          Gross savings (% of GNI)\n",
       "NY.GNS.ICTR.ZS             Gross savings (% of GDP)\n",
       "NY.GSR.NFCY.CD             Net primary income (Net income from abroad) (current US$)\n",
       "NY.GSR.NFCY.CN             Net primary income (Net income from abroad) (current LCU)\n",
       "NY.GSR.NFCY.KN             Net primary income (Net income from abroad) (constant LCU)\n",
       "NY.TAX.NIND.CD             Taxes less subsidies on products (current US$)\n",
       "NY.TAX.NIND.CN             Taxes less subsidies on products (current LCU)\n",
       "NY.TAX.NIND.KN             Taxes less subsidies on products (constant LCU)\n",
       "NY.TRF.NCTR.CD             Net secondary income (Net current transfers from abroad) (current US$)\n",
       "NY.TRF.NCTR.CN             Net secondary income (Net current transfers from abroad) (current LCU)\n",
       "NY.TRF.NCTR.KN             Net secondary income (Net current transfers from abroad) (constant LCU)\n",
       "NY.TTF.GNFS.KN             Terms of trade adjustment (constant LCU)\n",
       "PA.NUS.ATLS                DEC alternative conversion factor (LCU per US$)\n",
       "PA.NUS.FCRF                Official exchange rate (LCU per US$, period average)\n",
       "PA.NUS.PPP                 PPP conversion factor, GDP (LCU per international $)\n",
       "PA.NUS.PPPC.RF             Price level ratio of PPP conversion factor (GDP) to market exchange rate\n",
       "PA.NUS.PRVT.PP             PPP conversion factor, private consumption (LCU per international $)\n",
       "per_allsp.adq_pop_tot      Adequacy of social protection and labor programs (% of total welfare of beneficiary households)\n",
       "per_allsp.ben_q1_tot       Benefit incidence of social protection and labor programs to poorest quintile (% of total SPL benefits)\n",
       "per_allsp.cov_pop_tot      Coverage of social protection and labor programs (% of population)\n",
       "per_lm_alllm.adq_pop_tot   Adequacy of unemployment benefits and ALMP (% of total welfare of beneficiary households)\n",
       "per_lm_alllm.ben_q1_tot    Benefit incidence of unemployment benefits and ALMP to poorest quintile (% of total U/ALMP benefits)\n",
       "per_lm_alllm.cov_pop_tot   Coverage of unemployment benefits and ALMP (% of population)\n",
       "per_lm_alllm.cov_q1_tot    Coverage of unemployment benefits and ALMP in poorest quintile (% of population)\n",
       "per_lm_alllm.cov_q2_tot    Coverage of unemployment benefits and ALMP in 2nd quintile (% of population)\n",
       "per_lm_alllm.cov_q3_tot    Coverage of unemployment benefits and ALMP in 3rd quintile (% of population)\n",
       "per_lm_alllm.cov_q4_tot    Coverage of unemployment benefits and ALMP in 4th quintile (% of population)\n",
       "per_lm_alllm.cov_q5_tot    Coverage of unemployment benefits and ALMP in richest quintile (% of population)\n",
       "per_sa_allsa.adq_pop_tot   Adequacy of social safety net programs (% of total welfare of beneficiary households)\n",
       "per_sa_allsa.ben_q1_tot    Benefit incidence of social safety net programs to poorest quintile (% of total safety net benefits)\n",
       "per_sa_allsa.cov_pop_tot   Coverage of social safety net programs (% of population)\n",
       "per_sa_allsa.cov_q1_tot    Coverage of social safety net programs in poorest quintile (% of population)\n",
       "per_sa_allsa.cov_q2_tot    Coverage of social safety net programs in 2nd quintile (% of population)\n",
       "per_sa_allsa.cov_q3_tot    Coverage of social safety net programs in 3rd quintile (% of population)\n",
       "per_sa_allsa.cov_q4_tot    Coverage of social safety net programs in 4th quintile (% of population)\n",
       "per_sa_allsa.cov_q5_tot    Coverage of social safety net programs in richest quintile (% of population)\n",
       "per_si_allsi.adq_pop_tot   Adequacy of social insurance programs (% of total welfare of beneficiary households)\n",
       "per_si_allsi.ben_q1_tot    Benefit incidence of social insurance programs to poorest quintile (% of total social insurance benefits)\n",
       "per_si_allsi.cov_pop_tot   Coverage of social insurance programs (% of population)\n",
       "per_si_allsi.cov_q1_tot    Coverage of social insurance programs in poorest quintile (% of population)\n",
       "per_si_allsi.cov_q2_tot    Coverage of social insurance programs in 2nd quintile (% of population)\n",
       "per_si_allsi.cov_q3_tot    Coverage of social insurance programs in 3rd quintile (% of population)\n",
       "per_si_allsi.cov_q4_tot    Coverage of social insurance programs in 4th quintile (% of population)\n",
       "per_si_allsi.cov_q5_tot    Coverage of social insurance programs in richest quintile (% of population)\n",
       "PV.EST                     Political Stability and Absence of Violence/Terrorism: Estimate\n",
       "PV.NO.SRC                  Political Stability and Absence of Violence/Terrorism: Number of Sources\n",
       "PV.PER.RNK                 Political Stability and Absence of Violence/Terrorism: Percentile Rank\n",
       "PV.PER.RNK.LOWER           Political Stability and Absence of Violence/Terrorism: Percentile Rank, Lower Bound of 90% Confidence Interval\n",
       "PV.PER.RNK.UPPER           Political Stability and Absence of Violence/Terrorism: Percentile Rank, Upper Bound of 90% Confidence Interval\n",
       "PV.STD.ERR                 Political Stability and Absence of Violence/Terrorism: Standard Error\n",
       "PX.REX.REER                Real effective exchange rate index (2010 = 100)\n",
       "RL.EST                     Rule of Law: Estimate\n",
       "RL.NO.SRC                  Rule of Law: Number of Sources\n",
       "RL.PER.RNK                 Rule of Law: Percentile Rank\n",
       "RL.PER.RNK.LOWER           Rule of Law: Percentile Rank, Lower Bound of 90% Confidence Interval\n",
       "RL.PER.RNK.UPPER           Rule of Law: Percentile Rank, Upper Bound of 90% Confidence Interval\n",
       "RL.STD.ERR                 Rule of Law: Standard Error\n",
       "RQ.EST                     Regulatory Quality: Estimate\n",
       "RQ.NO.SRC                  Regulatory Quality: Number of Sources\n",
       "RQ.PER.RNK                 Regulatory Quality: Percentile Rank\n",
       "RQ.PER.RNK.LOWER           Regulatory Quality: Percentile Rank, Lower Bound of 90% Confidence Interval\n",
       "RQ.PER.RNK.UPPER           Regulatory Quality: Percentile Rank, Upper Bound of 90% Confidence Interval\n",
       "RQ.STD.ERR                 Regulatory Quality: Standard Error\n",
       "SE.ADT.1524.LT.FE.ZS       Literacy rate, youth female (% of females ages 15-24)\n",
       "SE.ADT.1524.LT.FM.ZS       Literacy rate, youth (ages 15-24), gender parity index (GPI)\n",
       "SE.ADT.1524.LT.MA.ZS       Literacy rate, youth male (% of males ages 15-24)\n",
       "SE.ADT.1524.LT.ZS          Literacy rate, youth total (% of people ages 15-24)\n",
       "SE.ADT.LITR.FE.ZS          Literacy rate, adult female (% of females ages 15 and above)\n",
       "SE.ADT.LITR.MA.ZS          Literacy rate, adult male (% of males ages 15 and above)\n",
       "SE.ADT.LITR.ZS             Literacy rate, adult total (% of people ages 15 and above)\n",
       "SE.COM.DURS                Compulsory education, duration (years)\n",
       "SE.ENR.PRIM.FM.ZS          School enrollment, primary (gross), gender parity index (GPI)\n",
       "SE.ENR.PRSC.FM.ZS          School enrollment, primary and secondary (gross), gender parity index (GPI)\n",
       "SE.ENR.SECO.FM.ZS          School enrollment, secondary (gross), gender parity index (GPI)\n",
       "SE.ENR.TERT.FM.ZS          School enrollment, tertiary (gross), gender parity index (GPI)\n",
       "SE.LPV.PRIM                Learning poverty: Share of Children at the End-of-Primary age below minimum reading proficiency adjusted by Out-of-School Children (%)\n",
       "SE.LPV.PRIM.FE             Learning poverty: Share of Female Children at the End-of-Primary age below minimum reading proficiency adjusted by Out-of-School Children (%)\n",
       "SE.LPV.PRIM.LD             Pupils below minimum reading proficiency at end of primary (%). Low GAML threshold\n",
       "SE.LPV.PRIM.LD.FE          Female pupils below minimum reading proficiency at end of primary (%). Low GAML threshold\n",
       "SE.LPV.PRIM.LD.MA          Male pupils below minimum reading proficiency at end of primary (%). Low GAML threshold\n",
       "SE.LPV.PRIM.MA             Learning poverty: Share of Male Children at the End-of-Primary age below minimum reading proficiency adjusted by Out-of-School Children (%)\n",
       "SE.LPV.PRIM.SD             Primary school age children out-of-school (%)\n",
       "SE.LPV.PRIM.SD.FE          Female primary school age children out-of-school (%)\n",
       "SE.LPV.PRIM.SD.MA          Male primary school age children out-of-school (%)\n",
       "SE.PRE.DURS                Preprimary education, duration (years)\n",
       "SE.PRE.ENRL.TC.ZS          Pupil-teacher ratio, preprimary\n",
       "SE.PRE.ENRR                School enrollment, preprimary (% gross)\n",
       "SE.PRE.ENRR.FE             School enrollment, preprimary, female (% gross)\n",
       "SE.PRE.ENRR.MA             School enrollment, preprimary, male (% gross)\n",
       "SE.PRE.TCAQ.FE.ZS          Trained teachers in preprimary education, female (% of female teachers)\n",
       "SE.PRE.TCAQ.MA.ZS          Trained teachers in preprimary education, male (% of male teachers)\n",
       "SE.PRE.TCAQ.ZS             Trained teachers in preprimary education (% of total teachers)\n",
       "SE.PRM.AGES                Primary school starting age (years)\n",
       "SE.PRM.CMPT.FE.ZS          Primary completion rate, female (% of relevant age group)\n",
       "SE.PRM.CMPT.MA.ZS          Primary completion rate, male (% of relevant age group)\n",
       "SE.PRM.CMPT.ZS             Primary completion rate, total (% of relevant age group)\n",
       "SE.PRM.CUAT.FE.ZS          Educational attainment, at least completed primary, population 25+ years, female (%) (cumulative)\n",
       "SE.PRM.CUAT.MA.ZS          Educational attainment, at least completed primary, population 25+ years, male (%) (cumulative)\n",
       "SE.PRM.CUAT.ZS             Educational attainment, at least completed primary, population 25+ years, total (%) (cumulative)\n",
       "SE.PRM.DURS                Primary education, duration (years)\n",
       "SE.PRM.ENRL                Primary education, pupils\n",
       "SE.PRM.ENRL.FE.ZS          Primary education, pupils (% female)\n",
       "SE.PRM.ENRL.TC.ZS          Pupil-teacher ratio, primary\n",
       "SE.PRM.ENRR                School enrollment, primary (% gross)\n",
       "SE.PRM.ENRR.FE             School enrollment, primary, female (% gross)\n",
       "SE.PRM.ENRR.MA             School enrollment, primary, male (% gross)\n",
       "SE.PRM.GINT.FE.ZS          Gross intake ratio in first grade of primary education, female (% of relevant age group)\n",
       "SE.PRM.GINT.MA.ZS          Gross intake ratio in first grade of primary education, male (% of relevant age group)\n",
       "SE.PRM.GINT.ZS             Gross intake ratio in first grade of primary education, total (% of relevant age group)\n",
       "SE.PRM.NENR                School enrollment, primary (% net)\n",
       "SE.PRM.NENR.FE             School enrollment, primary, female (% net)\n",
       "SE.PRM.NENR.MA             School enrollment, primary, male (% net)\n",
       "SE.PRM.NINT.FE.ZS          Net intake rate in grade 1, female (% of official school-age population)\n",
       "SE.PRM.NINT.MA.ZS          Net intake rate in grade 1, male (% of official school-age population)\n",
       "SE.PRM.NINT.ZS             Net intake rate in grade 1 (% of official school-age population)\n",
       "SE.PRM.OENR.FE.ZS          Over-age students, primary, female (% of female enrollment)\n",
       "SE.PRM.OENR.MA.ZS          Over-age students, primary, male (% of male enrollment)\n",
       "SE.PRM.OENR.ZS             Over-age students, primary (% of enrollment)\n",
       "SE.PRM.PRIV.ZS             School enrollment, primary, private (% of total primary)\n",
       "SE.PRM.PRS5.FE.ZS          Persistence to grade 5, female (% of cohort)\n",
       "SE.PRM.PRS5.MA.ZS          Persistence to grade 5, male (% of cohort)\n",
       "SE.PRM.PRS5.ZS             Persistence to grade 5, total (% of cohort)\n",
       "SE.PRM.PRSL.FE.ZS          Persistence to last grade of primary, female (% of cohort)\n",
       "SE.PRM.PRSL.MA.ZS          Persistence to last grade of primary, male (% of cohort)\n",
       "SE.PRM.PRSL.ZS             Persistence to last grade of primary, total (% of cohort)\n",
       "SE.PRM.REPT.FE.ZS          Repeaters, primary, female (% of female enrollment)\n",
       "SE.PRM.REPT.MA.ZS          Repeaters, primary, male (% of male enrollment)\n",
       "SE.PRM.REPT.ZS             Repeaters, primary, total (% of total enrollment)\n",
       "SE.PRM.TCAQ.FE.ZS          Trained teachers in primary education, female (% of female teachers)\n",
       "SE.PRM.TCAQ.MA.ZS          Trained teachers in primary education, male (% of male teachers)\n",
       "SE.PRM.TCAQ.ZS             Trained teachers in primary education (% of total teachers)\n",
       "SE.PRM.TCHR                Primary education, teachers\n",
       "SE.PRM.TCHR.FE.ZS          Primary education, teachers (% female)\n",
       "SE.PRM.TENR                Adjusted net enrollment rate, primary (% of primary school age children)\n",
       "SE.PRM.TENR.FE             Adjusted net enrollment rate, primary, female (% of primary school age children)\n",
       "SE.PRM.TENR.MA             Adjusted net enrollment rate, primary, male (% of primary school age children)\n",
       "SE.PRM.UNER                Children out of school, primary\n",
       "SE.PRM.UNER.FE             Children out of school, primary, female\n",
       "SE.PRM.UNER.FE.ZS          Children out of school, female (% of female primary school age)\n",
       "SE.PRM.UNER.MA             Children out of school, primary, male\n",
       "SE.PRM.UNER.MA.ZS          Children out of school, male (% of male primary school age)\n",
       "SE.PRM.UNER.ZS             Children out of school (% of primary school age)\n",
       "SE.SEC.AGES                Lower secondary school starting age (years)\n",
       "SE.SEC.CMPT.LO.FE.ZS       Lower secondary completion rate, female (% of relevant age group)\n",
       "SE.SEC.CMPT.LO.MA.ZS       Lower secondary completion rate, male (% of relevant age group)\n",
       "SE.SEC.CMPT.LO.ZS          Lower secondary completion rate, total (% of relevant age group)\n",
       "SE.SEC.CUAT.LO.FE.ZS       Educational attainment, at least completed lower secondary, population 25+, female (%) (cumulative)\n",
       "SE.SEC.CUAT.LO.MA.ZS       Educational attainment, at least completed lower secondary, population 25+, male (%) (cumulative)\n",
       "SE.SEC.CUAT.LO.ZS          Educational attainment, at least completed lower secondary, population 25+, total (%) (cumulative)\n",
       "SE.SEC.CUAT.PO.FE.ZS       Educational attainment, at least completed post-secondary, population 25+, female (%) (cumulative)\n",
       "SE.SEC.CUAT.PO.MA.ZS       Educational attainment, at least completed post-secondary, population 25+, male (%) (cumulative)\n",
       "SE.SEC.CUAT.PO.ZS          Educational attainment, at least completed post-secondary, population 25+, total (%) (cumulative)\n",
       "SE.SEC.CUAT.UP.FE.ZS       Educational attainment, at least completed upper secondary, population 25+, female (%) (cumulative)\n",
       "SE.SEC.CUAT.UP.MA.ZS       Educational attainment, at least completed upper secondary, population 25+, male (%) (cumulative)\n",
       "SE.SEC.CUAT.UP.ZS          Educational attainment, at least completed upper secondary, population 25+, total (%) (cumulative)\n",
       "SE.SEC.DURS                Secondary education, duration (years)\n",
       "SE.SEC.ENRL                Secondary education, pupils\n",
       "SE.SEC.ENRL.FE.ZS          Secondary education, pupils (% female)\n",
       "SE.SEC.ENRL.GC             Secondary education, general pupils\n",
       "SE.SEC.ENRL.GC.FE.ZS       Secondary education, general pupils (% female)\n",
       "SE.SEC.ENRL.LO.TC.ZS       Pupil-teacher ratio, lower secondary\n",
       "SE.SEC.ENRL.TC.ZS          Pupil-teacher ratio, secondary\n",
       "SE.SEC.ENRL.UP.TC.ZS       Pupil-teacher ratio, upper secondary\n",
       "SE.SEC.ENRL.VO             Secondary education, vocational pupils\n",
       "SE.SEC.ENRL.VO.FE.ZS       Secondary education, vocational pupils (% female)\n",
       "SE.SEC.ENRR                School enrollment, secondary (% gross)\n",
       "SE.SEC.ENRR.FE             School enrollment, secondary, female (% gross)\n",
       "SE.SEC.ENRR.MA             School enrollment, secondary, male (% gross)\n",
       "SE.SEC.NENR                School enrollment, secondary (% net)\n",
       "SE.SEC.NENR.FE             School enrollment, secondary, female (% net)\n",
       "SE.SEC.NENR.MA             School enrollment, secondary, male (% net)\n",
       "SE.SEC.PRIV.ZS             School enrollment, secondary, private (% of total secondary)\n",
       "SE.SEC.PROG.FE.ZS          Progression to secondary school, female (%)\n",
       "SE.SEC.PROG.MA.ZS          Progression to secondary school, male (%)\n",
       "SE.SEC.PROG.ZS             Progression to secondary school (%)\n",
       "SE.SEC.TCAQ.FE.ZS          Trained teachers in secondary education, female (% of female teachers)\n",
       "SE.SEC.TCAQ.LO.FE.ZS       Trained teachers in lower secondary education, female (% of female teachers)\n",
       "SE.SEC.TCAQ.LO.MA.ZS       Trained teachers in lower secondary education, male (% of male teachers)\n",
       "SE.SEC.TCAQ.LO.ZS          Trained teachers in lower secondary education (% of total teachers)\n",
       "SE.SEC.TCAQ.MA.ZS          Trained teachers in secondary education, male (% of male teachers)\n",
       "SE.SEC.TCAQ.UP.FE.ZS       Trained teachers in upper secondary education, female (% of female teachers)\n",
       "SE.SEC.TCAQ.UP.MA.ZS       Trained teachers in upper secondary education, male (% of male teachers)\n",
       "SE.SEC.TCAQ.UP.ZS          Trained teachers in upper secondary education (% of total teachers)\n",
       "SE.SEC.TCAQ.ZS             Trained teachers in secondary education (% of total teachers)\n",
       "SE.SEC.TCHR                Secondary education, teachers\n",
       "SE.SEC.TCHR.FE             Secondary education, teachers, female\n",
       "SE.SEC.TCHR.FE.ZS          Secondary education, teachers (% female)\n",
       "SE.SEC.UNER.LO.FE.ZS       Adolescents out of school, female (% of female lower secondary school age)\n",
       "SE.SEC.UNER.LO.MA.ZS       Adolescents out of school, male (% of male lower secondary school age)\n",
       "SE.SEC.UNER.LO.ZS          Adolescents out of school (% of lower secondary school age)\n",
       "SE.TER.CUAT.BA.FE.ZS       Educational attainment, at least Bachelor's or equivalent, population 25+, female (%) (cumulative)\n",
       "SE.TER.CUAT.BA.MA.ZS       Educational attainment, at least Bachelor's or equivalent, population 25+, male (%) (cumulative)\n",
       "SE.TER.CUAT.BA.ZS          Educational attainment, at least Bachelor's or equivalent, population 25+, total (%) (cumulative)\n",
       "SE.TER.CUAT.DO.FE.ZS       Educational attainment, Doctoral or equivalent, population 25+, female (%) (cumulative)\n",
       "SE.TER.CUAT.DO.MA.ZS       Educational attainment, Doctoral or equivalent, population 25+, male (%) (cumulative)\n",
       "SE.TER.CUAT.DO.ZS          Educational attainment, Doctoral or equivalent, population 25+, total (%) (cumulative)\n",
       "SE.TER.CUAT.MS.FE.ZS       Educational attainment, at least Master's or equivalent, population 25+, female (%) (cumulative)\n",
       "SE.TER.CUAT.MS.MA.ZS       Educational attainment, at least Master's or equivalent, population 25+, male (%) (cumulative)\n",
       "SE.TER.CUAT.MS.ZS          Educational attainment, at least Master's or equivalent, population 25+, total (%) (cumulative)\n",
       "SE.TER.CUAT.ST.FE.ZS       Educational attainment, at least completed short-cycle tertiary, population 25+, female (%) (cumulative)\n",
       "SE.TER.CUAT.ST.MA.ZS       Educational attainment, at least completed short-cycle tertiary, population 25+, male (%) (cumulative)\n",
       "SE.TER.CUAT.ST.ZS          Educational attainment, at least completed short-cycle tertiary, population 25+, total (%) (cumulative)\n",
       "SE.TER.ENRL.TC.ZS          Pupil-teacher ratio, tertiary\n",
       "SE.TER.ENRR                School enrollment, tertiary (% gross)\n",
       "SE.TER.ENRR.FE             School enrollment, tertiary, female (% gross)\n",
       "SE.TER.ENRR.MA             School enrollment, tertiary, male (% gross)\n",
       "SE.TER.TCHR.FE.ZS          Tertiary education, academic staff (% female)\n",
       "SE.XPD.CPRM.ZS             Current education expenditure, primary (% of total expenditure in primary public institutions)\n",
       "SE.XPD.CSEC.ZS             Current education expenditure, secondary (% of total expenditure in secondary public institutions)\n",
       "SE.XPD.CTER.ZS             Current education expenditure, tertiary (% of total expenditure in tertiary public institutions)\n",
       "SE.XPD.CTOT.ZS             Current education expenditure, total (% of total expenditure in public institutions)\n",
       "SE.XPD.PRIM.PC.ZS          Government expenditure per student, primary (% of GDP per capita)\n",
       "SE.XPD.PRIM.ZS             Expenditure on primary education (% of government expenditure on education)\n",
       "SE.XPD.SECO.PC.ZS          Government expenditure per student, secondary (% of GDP per capita)\n",
       "SE.XPD.SECO.ZS             Expenditure on secondary education (% of government expenditure on education)\n",
       "SE.XPD.TERT.PC.ZS          Government expenditure per student, tertiary (% of GDP per capita)\n",
       "SE.XPD.TERT.ZS             Expenditure on tertiary education (% of government expenditure on education)\n",
       "SE.XPD.TOTL.GB.ZS          Government expenditure on education, total (% of government expenditure)\n",
       "SE.XPD.TOTL.GD.ZS          Government expenditure on education, total (% of GDP)\n",
       "SG.DMK.ALLD.FN.ZS          Women participating in the three decisions (own health care, major household purchases, and visiting family) (% of women age 15-49)\n",
       "SG.DMK.SRCR.FN.ZS          Women making their own informed decisions regarding sexual relations, contraceptive use and reproductive health care (% of women age 15-49)\n",
       "SG.GEN.PARL.ZS             Proportion of seats held by women in national parliaments (%)\n",
       "SG.LAW.INDX                Women Business and the Law Index Score (scale 1-100)\n",
       "SG.TIM.UWRK.FE             Proportion of time spent on unpaid domestic and care work, female (% of 24 hour day)\n",
       "SG.TIM.UWRK.MA             Proportion of time spent on unpaid domestic and care work, male (% of 24 hour day)\n",
       "SG.VAW.1549.ZS             Proportion of women subjected to physical and/or sexual violence in the last 12 months (% of ever-partnered women ages 15-49)\n",
       "SG.VAW.ARGU.ZS             Women who believe a husband is justified in beating his wife when she argues with him (%)\n",
       "SG.VAW.BURN.ZS             Women who believe a husband is justified in beating his wife when she burns the food (%)\n",
       "SG.VAW.GOES.ZS             Women who believe a husband is justified in beating his wife when she goes out without telling him (%)\n",
       "SG.VAW.NEGL.ZS             Women who believe a husband is justified in beating his wife when she neglects the children (%)\n",
       "SG.VAW.REAS.ZS             Women who believe a husband is justified in beating his wife (any of five reasons) (%)\n",
       "SG.VAW.REFU.ZS             Women who believe a husband is justified in beating his wife when she refuses sex with him (%)\n",
       "SH.ALC.PCAP.FE.LI          Total alcohol consumption per capita, female (liters of pure alcohol, projected estimates, female 15+ years of age)\n",
       "SH.ALC.PCAP.LI             Total alcohol consumption per capita (liters of pure alcohol, projected estimates, 15+ years of age)\n",
       "SH.ALC.PCAP.MA.LI          Total alcohol consumption per capita, male (liters of pure alcohol, projected estimates, male 15+ years of age)\n",
       "SH.ANM.ALLW.ZS             Prevalence of anemia among women of reproductive age (% of women ages 15-49)\n",
       "SH.ANM.CHLD.ZS             Prevalence of anemia among children (% of children ages 6-59 months)\n",
       "SH.ANM.NPRG.ZS             Prevalence of anemia among non-pregnant women (% of women ages 15-49)\n",
       "SH.CON.1524.FE.ZS          Condom use, population ages 15-24, female (% of females ages 15-24)\n",
       "SH.CON.1524.MA.ZS          Condom use, population ages 15-24, male (% of males ages 15-24)\n",
       "SH.DTH.0509                Number of deaths ages 5-9 years\n",
       "SH.DTH.1014                Number of deaths ages 10-14 years\n",
       "SH.DTH.1519                Number of deaths ages 15-19 years\n",
       "SH.DTH.2024                Number of deaths ages 20-24 years\n",
       "SH.DTH.COMM.ZS             Cause of death, by communicable diseases and maternal, prenatal and nutrition conditions (% of total)\n",
       "SH.DTH.IMRT                Number of infant deaths\n",
       "SH.DTH.INJR.ZS             Cause of death, by injury (% of total)\n",
       "SH.DTH.MORT                Number of under-five deaths\n",
       "SH.DTH.NCOM.ZS             Cause of death, by non-communicable diseases (% of total)\n",
       "SH.DTH.NMRT                Number of neonatal deaths\n",
       "SH.DYN.0509                Probability of dying among children ages 5-9 years (per 1,000)\n",
       "SH.DYN.1014                Probability of dying among adolescents ages 10-14 years (per 1,000)\n",
       "SH.DYN.1519                Probability of dying among adolescents ages 15-19 years (per 1,000)\n",
       "SH.DYN.2024                Probability of dying among youth ages 20-24 years (per 1,000)\n",
       "SH.DYN.AIDS.FE.ZS          Women's share of population ages 15+ living with HIV (%)\n",
       "SH.DYN.AIDS.ZS             Prevalence of HIV, total (% of population ages 15-49)\n",
       "SH.DYN.MORT                Mortality rate, under-5 (per 1,000 live births)\n",
       "SH.DYN.MORT.FE             Mortality rate, under-5, female (per 1,000 live births)\n",
       "SH.DYN.MORT.MA             Mortality rate, under-5, male (per 1,000 live births)\n",
       "SH.DYN.NCOM.FE.ZS          Mortality from CVD, cancer, diabetes or CRD between exact ages 30 and 70, female (%)\n",
       "SH.DYN.NCOM.MA.ZS          Mortality from CVD, cancer, diabetes or CRD between exact ages 30 and 70, male (%)\n",
       "SH.DYN.NCOM.ZS             Mortality from CVD, cancer, diabetes or CRD between exact ages 30 and 70 (%)\n",
       "SH.DYN.NMRT                Mortality rate, neonatal (per 1,000 live births)\n",
       "SH.FPL.SATM.ZS             Demand for family planning satisfied by modern methods (% of married women with demand for family planning)\n",
       "SH.H2O.BASW.RU.ZS          People using at least basic drinking water services, rural (% of rural population)\n",
       "SH.H2O.BASW.UR.ZS          People using at least basic drinking water services, urban (% of urban population)\n",
       "SH.H2O.BASW.ZS             People using at least basic drinking water services (% of population)\n",
       "SH.H2O.SMDW.RU.ZS          People using safely managed drinking water services, rural (% of rural population)\n",
       "SH.H2O.SMDW.UR.ZS          People using safely managed drinking water services, urban (% of urban population)\n",
       "SH.H2O.SMDW.ZS             People using safely managed drinking water services (% of population)\n",
       "SH.HIV.0014                Children (0-14) living with HIV\n",
       "SH.HIV.1524.FE.ZS          Prevalence of HIV, female (% ages 15-24)\n",
       "SH.HIV.1524.MA.ZS          Prevalence of HIV, male (% ages 15-24)\n",
       "SH.HIV.ARTC.ZS             Antiretroviral therapy coverage (% of people living with HIV)\n",
       "SH.HIV.INCD                Adults (ages 15-49) newly infected with HIV\n",
       "SH.HIV.INCD.14             Children (ages 0-14) newly infected with HIV\n",
       "SH.HIV.INCD.TL             Adults (ages 15+) and children (ages 0-14) newly infected with HIV\n",
       "SH.HIV.INCD.TL.P3          Incidence of HIV, all (per 1,000 uninfected population)\n",
       "SH.HIV.INCD.YG             Young people (ages 15-24) newly infected with HIV\n",
       "SH.HIV.INCD.YG.P3          Incidence of HIV, ages 15-24 (per 1,000 uninfected population ages 15-24)\n",
       "SH.HIV.INCD.ZS             Incidence of HIV, ages 15-49 (per 1,000 uninfected population ages 15-49)\n",
       "SH.HIV.PMTC.ZS             Antiretroviral therapy coverage for PMTCT (% of pregnant women living with HIV)\n",
       "SH.IMM.HEPB                Immunization, HepB3 (% of one-year-old children)\n",
       "SH.IMM.IDPT                Immunization, DPT (% of children ages 12-23 months)\n",
       "SH.IMM.MEAS                Immunization, measles (% of children ages 12-23 months)\n",
       "SH.MED.BEDS.ZS             Hospital beds (per 1,000 people)\n",
       "SH.MED.CMHW.P3             Community health workers (per 1,000 people)\n",
       "SH.MED.NUMW.P3             Nurses and midwives (per 1,000 people)\n",
       "SH.MED.PHYS.ZS             Physicians (per 1,000 people)\n",
       "SH.MED.SAOP.P5             Specialist surgical workforce (per 100,000 population)\n",
       "SH.MLR.INCD.P3             Incidence of malaria (per 1,000 population at risk)\n",
       "SH.MLR.NETS.ZS             Use of insecticide-treated bed nets (% of under-5 population)\n",
       "SH.MLR.TRET.ZS             Children with fever receiving antimalarial drugs (% of children under age 5 with fever)\n",
       "SH.MMR.DTHS                Number of maternal deaths\n",
       "SH.MMR.RISK                Lifetime risk of maternal death (1 in: rate varies by country)\n",
       "SH.MMR.RISK.ZS             Lifetime risk of maternal death (%)\n",
       "SH.PRG.ANEM                Prevalence of anemia among pregnant women (%)\n",
       "SH.PRV.SMOK                Prevalence of current tobacco use (% of adults)\n",
       "SH.PRV.SMOK.FE             Prevalence of current tobacco use, females (% of female adults)\n",
       "SH.PRV.SMOK.MA             Prevalence of current tobacco use, males (% of male adults)\n",
       "SH.SGR.CRSK.ZS             Risk of catastrophic expenditure for surgical care (% of people at risk)\n",
       "SH.SGR.IRSK.ZS             Risk of impoverishing expenditure for surgical care (% of people at risk)\n",
       "SH.SGR.PROC.P5             Number of surgical procedures (per 100,000 population)\n",
       "SH.STA.AIRP.FE.P5          Mortality rate attributed to household and ambient air pollution, age-standardized, female (per 100,000 female population)\n",
       "SH.STA.AIRP.MA.P5          Mortality rate attributed to household and ambient air pollution, age-standardized, male (per 100,000 male population)\n",
       "SH.STA.AIRP.P5             Mortality rate attributed to household and ambient air pollution, age-standardized (per 100,000 population)\n",
       "SH.STA.ANVC.ZS             Pregnant women receiving prenatal care (%)\n",
       "SH.STA.ARIC.ZS             ARI treatment (% of children under 5 taken to a health provider)\n",
       "SH.STA.BASS.RU.ZS          People using at least basic sanitation services, rural (% of rural population)\n",
       "SH.STA.BASS.UR.ZS          People using at least basic sanitation services, urban (% of urban population)\n",
       "SH.STA.BASS.ZS             People using at least basic sanitation services (% of population)\n",
       "SH.STA.BFED.ZS             Exclusive breastfeeding (% of children under 6 months)\n",
       "SH.STA.BRTC.ZS             Births attended by skilled health staff (% of total)\n",
       "SH.STA.BRTW.ZS             Low-birthweight babies (% of births)\n",
       "SH.STA.DIAB.ZS             Diabetes prevalence (% of population ages 20 to 79)\n",
       "SH.STA.FGMS.ZS             Female genital mutilation prevalence (%)\n",
       "SH.STA.HYGN.RU.ZS          People with basic handwashing facilities including soap and water, rural (% of rural population)\n",
       "SH.STA.HYGN.UR.ZS          People with basic handwashing facilities including soap and water, urban (% of urban population)\n",
       "SH.STA.HYGN.ZS             People with basic handwashing facilities including soap and water (% of population)\n",
       "SH.STA.MALN.FE.ZS          Prevalence of underweight, weight for age, female (% of children under 5)\n",
       "SH.STA.MALN.MA.ZS          Prevalence of underweight, weight for age, male (% of children under 5)\n",
       "SH.STA.MALN.ZS             Prevalence of underweight, weight for age (% of children under 5)\n",
       "SH.STA.MMRT                Maternal mortality ratio (modeled estimate, per 100,000 live births)\n",
       "SH.STA.MMRT.NE             Maternal mortality ratio (national estimate, per 100,000 live births)\n",
       "SH.STA.ODFC.RU.ZS          People practicing open defecation, rural (% of rural population)\n",
       "SH.STA.ODFC.UR.ZS          People practicing open defecation, urban (% of urban population)\n",
       "SH.STA.ODFC.ZS             People practicing open defecation (% of population)\n",
       "SH.STA.ORCF.ZS             Diarrhea treatment (% of children under 5 receiving oral rehydration and continued feeding)\n",
       "SH.STA.ORTH                Diarrhea treatment (% of children under 5 who received ORS packet)\n",
       "SH.STA.OWGH.FE.ZS          Prevalence of overweight, weight for height, female (% of children under 5)\n",
       "SH.STA.OWGH.MA.ZS          Prevalence of overweight, weight for height, male (% of children under 5)\n",
       "SH.STA.OWGH.ME.ZS          Prevalence of overweight (modeled estimate, % of children under 5)\n",
       "SH.STA.OWGH.ZS             Prevalence of overweight, weight for height (% of children under 5)\n",
       "SH.STA.POIS.P5             Mortality rate attributed to unintentional poisoning (per 100,000 population)\n",
       "SH.STA.POIS.P5.FE          Mortality rate attributed to unintentional poisoning, female (per 100,000 female population)\n",
       "SH.STA.POIS.P5.MA          Mortality rate attributed to unintentional poisoning, male (per 100,000 male population)\n",
       "SH.STA.SMSS.RU.ZS          People using safely managed sanitation services, rural (% of rural population)\n",
       "SH.STA.SMSS.UR.ZS          People using safely managed sanitation services, urban (% of urban population)\n",
       "SH.STA.SMSS.ZS             People using safely managed sanitation services (% of population)\n",
       "SH.STA.STNT.FE.ZS          Prevalence of stunting, height for age, female (% of children under 5)\n",
       "SH.STA.STNT.MA.ZS          Prevalence of stunting, height for age, male (% of children under 5)\n",
       "SH.STA.STNT.ME.ZS          Prevalence of stunting, height for age (modeled estimate, % of children under 5)\n",
       "SH.STA.STNT.ZS             Prevalence of stunting, height for age (% of children under 5)\n",
       "SH.STA.SUIC.FE.P5          Suicide mortality rate, female (per 100,000 female population)\n",
       "SH.STA.SUIC.MA.P5          Suicide mortality rate, male (per 100,000 male population)\n",
       "SH.STA.SUIC.P5             Suicide mortality rate (per 100,000 population)\n",
       "SH.STA.TRAF.P5             Mortality caused by road traffic injury (per 100,000 population)\n",
       "SH.STA.WASH.P5             Mortality rate attributed to unsafe water, unsafe sanitation and lack of hygiene (per 100,000 population)\n",
       "SH.STA.WAST.FE.ZS          Prevalence of wasting, weight for height, female (% of children under 5)\n",
       "SH.STA.WAST.MA.ZS          Prevalence of wasting, weight for height, male (% of children under 5)\n",
       "SH.STA.WAST.ZS             Prevalence of wasting, weight for height (% of children under 5)\n",
       "SH.SVR.WAST.FE.ZS          Prevalence of severe wasting, weight for height, female (% of children under 5)\n",
       "SH.SVR.WAST.MA.ZS          Prevalence of severe wasting, weight for height, male (% of children under 5)\n",
       "SH.SVR.WAST.ZS             Prevalence of severe wasting, weight for height (% of children under 5)\n",
       "SH.TBS.CURE.ZS             Tuberculosis treatment success rate (% of new cases)\n",
       "SH.TBS.DTEC.ZS             Tuberculosis case detection rate (%, all forms)\n",
       "SH.TBS.INCD                Incidence of tuberculosis (per 100,000 people)\n",
       "SH.UHC.FBP1.ZS             Proportion of population pushed further below the $2.15 ($ 2017 PPP) poverty line by out-of-pocket health care expenditure (%)\n",
       "SH.UHC.FBP2.ZS             Proportion of population pushed further below the $3.65 ($ 2017 PPP) poverty line by out-of-pocket health care expenditure (%)\n",
       "SH.UHC.FBPR.ZS             Proportion of population pushed further below the 60% median consumption poverty line by out-of-pocket health care expenditure (%)\n",
       "SH.UHC.NOP1.ZS             Proportion of population pushed below the $2.15 ($ 2017 PPP) poverty line by out-of-pocket health care expenditure (%)\n",
       "SH.UHC.NOP2.ZS             Proportion of population pushed below the $3.65 ($ 2017 PPP) poverty line by out-of-pocket health care expenditure (%)\n",
       "SH.UHC.NOPR.ZS             Proportion of population pushed below the 60% median consumption poverty line by out-of-pocket health expenditure (%)\n",
       "SH.UHC.OOPC.10.ZS          Proportion of population spending more than 10% of household consumption or income on out-of-pocket health care expenditure (%)\n",
       "SH.UHC.OOPC.25.ZS          Proportion of population spending more than 25% of household consumption or income on out-of-pocket health care expenditure (%)\n",
       "SH.UHC.SRVS.CV.XD          UHC service coverage index\n",
       "SH.UHC.TOT1.ZS             Proportion of population pushed or further pushed below the $2.15 ($ 2017 PPP) poverty line by out-of-pocket health care expenditure (%)\n",
       "SH.UHC.TOT2.ZS             Proportion of population pushed or further pushed below the $3.65 ($ 2017 PPP) poverty line by out-of-pocket health care expenditure (%)\n",
       "SH.UHC.TOTR.ZS             Proportion of population pushed or further pushed below the 60% median consumption poverty line by out-of-pocket health expenditure (%)\n",
       "SH.VAC.TTNS.ZS             Newborns protected against tetanus (%)\n",
       "SH.XPD.CHEX.GD.ZS          Current health expenditure (% of GDP)\n",
       "SH.XPD.CHEX.PC.CD          Current health expenditure per capita (current US$)\n",
       "SH.XPD.CHEX.PP.CD          Current health expenditure per capita, PPP (current international $)\n",
       "SH.XPD.EHEX.CH.ZS          External health expenditure (% of current health expenditure)\n",
       "SH.XPD.EHEX.PC.CD          External health expenditure per capita (current US$)\n",
       "SH.XPD.EHEX.PP.CD          External health expenditure per capita, PPP (current international $)\n",
       "SH.XPD.GHED.CH.ZS          Domestic general government health expenditure (% of current health expenditure)\n",
       "SH.XPD.GHED.GD.ZS          Domestic general government health expenditure (% of GDP)\n",
       "SH.XPD.GHED.GE.ZS          Domestic general government health expenditure (% of general government expenditure)\n",
       "SH.XPD.GHED.PC.CD          Domestic general government health expenditure per capita (current US$)\n",
       "SH.XPD.GHED.PP.CD          Domestic general government health expenditure per capita, PPP (current international $)\n",
       "SH.XPD.OOPC.CH.ZS          Out-of-pocket expenditure (% of current health expenditure)\n",
       "SH.XPD.OOPC.PC.CD          Out-of-pocket expenditure per capita (current US$)\n",
       "SH.XPD.OOPC.PP.CD          Out-of-pocket expenditure per capita, PPP (current international $)\n",
       "SH.XPD.PVTD.CH.ZS          Domestic private health expenditure (% of current health expenditure)\n",
       "SH.XPD.PVTD.PC.CD          Domestic private health expenditure per capita (current US$)\n",
       "SH.XPD.PVTD.PP.CD          Domestic private health expenditure per capita, PPP (current international $)\n",
       "SI.DST.02ND.20             Income share held by second 20%\n",
       "SI.DST.03RD.20             Income share held by third 20%\n",
       "SI.DST.04TH.20             Income share held by fourth 20%\n",
       "SI.DST.05TH.20             Income share held by highest 20%\n",
       "SI.DST.10TH.10             Income share held by highest 10%\n",
       "SI.DST.50MD                Proportion of people living below 50 percent of median income (%)\n",
       "SI.DST.FRST.10             Income share held by lowest 10%\n",
       "SI.DST.FRST.20             Income share held by lowest 20%\n",
       "SI.POV.DDAY                Poverty headcount ratio at $2.15 a day (2017 PPP) (% of population)\n",
       "SI.POV.GAPS                Poverty gap at $2.15 a day (2017 PPP) (%)\n",
       "SI.POV.GINI                Gini index\n",
       "SI.POV.LMIC                Poverty headcount ratio at $3.65 a day (2017 PPP) (% of population)\n",
       "SI.POV.LMIC.GP             Poverty gap at $3.65 a day (2017 PPP) (%)\n",
       "SI.POV.MPUN                Multidimensional poverty headcount ratio (UNDP) (% of population)\n",
       "SI.POV.MPWB                Multidimensional poverty headcount ratio (World Bank) (% of population)\n",
       "SI.POV.NAHC                Poverty headcount ratio at national poverty lines (% of population)\n",
       "SI.POV.SOPO                Poverty headcount ratio at societal poverty line (% of population)\n",
       "SI.POV.UMIC                Poverty headcount ratio at $6.85 a day (2017 PPP) (% of population)\n",
       "SI.POV.UMIC.GP             Poverty gap at $6.85 a day (2017 PPP) (%)\n",
       "SI.RMT.COST.IB.ZS          Average transaction cost of sending remittances to a specific country (%)\n",
       "SI.RMT.COST.OB.ZS          Average transaction cost of sending remittances from a specific country (%)\n",
       "SI.SPR.PC40                Survey mean consumption or income per capita, bottom 40% of population (2017 PPP $ per day)\n",
       "SI.SPR.PC40.ZG             Annualized average growth rate in per capita real survey mean consumption or income, bottom 40% of population (%)\n",
       "SI.SPR.PCAP                Survey mean consumption or income per capita, total population (2017 PPP $ per day)\n",
       "SI.SPR.PCAP.ZG             Annualized average growth rate in per capita real survey mean consumption or income, total population (%)\n",
       "SL.AGR.0714.FE.ZS          Child employment in agriculture, female (% of female economically active children ages 7-14)\n",
       "SL.AGR.0714.MA.ZS          Child employment in agriculture, male (% of male economically active children ages 7-14)\n",
       "SL.AGR.0714.ZS             Child employment in agriculture (% of economically active children ages 7-14)\n",
       "SL.AGR.EMPL.FE.ZS          Employment in agriculture, female (% of female employment) (modeled ILO estimate)\n",
       "SL.AGR.EMPL.MA.ZS          Employment in agriculture, male (% of male employment) (modeled ILO estimate)\n",
       "SL.AGR.EMPL.ZS             Employment in agriculture (% of total employment) (modeled ILO estimate)\n",
       "SL.EMP.1524.SP.FE.NE.ZS    Employment to population ratio, ages 15-24, female (%) (national estimate)\n",
       "SL.EMP.1524.SP.FE.ZS       Employment to population ratio, ages 15-24, female (%) (modeled ILO estimate)\n",
       "SL.EMP.1524.SP.MA.NE.ZS    Employment to population ratio, ages 15-24, male (%) (national estimate)\n",
       "SL.EMP.1524.SP.MA.ZS       Employment to population ratio, ages 15-24, male (%) (modeled ILO estimate)\n",
       "SL.EMP.1524.SP.NE.ZS       Employment to population ratio, ages 15-24, total (%) (national estimate)\n",
       "SL.EMP.1524.SP.ZS          Employment to population ratio, ages 15-24, total (%) (modeled ILO estimate)\n",
       "SL.EMP.MPYR.FE.ZS          Employers, female (% of female employment) (modeled ILO estimate)\n",
       "SL.EMP.MPYR.MA.ZS          Employers, male (% of male employment) (modeled ILO estimate)\n",
       "SL.EMP.MPYR.ZS             Employers, total (% of total employment) (modeled ILO estimate)\n",
       "SL.EMP.SELF.FE.ZS          Self-employed, female (% of female employment) (modeled ILO estimate)\n",
       "SL.EMP.SELF.MA.ZS          Self-employed, male (% of male employment) (modeled ILO estimate)\n",
       "SL.EMP.SELF.ZS             Self-employed, total (% of total employment) (modeled ILO estimate)\n",
       "SL.EMP.SMGT.FE.ZS          Female share of employment in senior and middle management (%)\n",
       "SL.EMP.TOTL.SP.FE.NE.ZS    Employment to population ratio, 15+, female (%) (national estimate)\n",
       "SL.EMP.TOTL.SP.FE.ZS       Employment to population ratio, 15+, female (%) (modeled ILO estimate)\n",
       "SL.EMP.TOTL.SP.MA.NE.ZS    Employment to population ratio, 15+, male (%) (national estimate)\n",
       "SL.EMP.TOTL.SP.MA.ZS       Employment to population ratio, 15+, male (%) (modeled ILO estimate)\n",
       "SL.EMP.TOTL.SP.NE.ZS       Employment to population ratio, 15+, total (%) (national estimate)\n",
       "SL.EMP.TOTL.SP.ZS          Employment to population ratio, 15+, total (%) (modeled ILO estimate)\n",
       "SL.EMP.VULN.FE.ZS          Vulnerable employment, female (% of female employment) (modeled ILO estimate)\n",
       "SL.EMP.VULN.MA.ZS          Vulnerable employment, male (% of male employment) (modeled ILO estimate)\n",
       "SL.EMP.VULN.ZS             Vulnerable employment, total (% of total employment) (modeled ILO estimate)\n",
       "SL.EMP.WORK.FE.ZS          Wage and salaried workers, female (% of female employment) (modeled ILO estimate)\n",
       "SL.EMP.WORK.MA.ZS          Wage and salaried workers, male (% of male employment) (modeled ILO estimate)\n",
       "SL.EMP.WORK.ZS             Wage and salaried workers, total (% of total employment) (modeled ILO estimate)\n",
       "SL.FAM.0714.FE.ZS          Children in employment, unpaid family workers, female (% of female children in employment, ages 7-14)\n",
       "SL.FAM.0714.MA.ZS          Children in employment, unpaid family workers, male (% of male children in employment, ages 7-14)\n",
       "SL.FAM.0714.ZS             Children in employment, unpaid family workers (% of children in employment, ages 7-14)\n",
       "SL.FAM.WORK.FE.ZS          Contributing family workers, female (% of female employment) (modeled ILO estimate)\n",
       "SL.FAM.WORK.MA.ZS          Contributing family workers, male (% of male employment) (modeled ILO estimate)\n",
       "SL.FAM.WORK.ZS             Contributing family workers, total (% of total employment) (modeled ILO estimate)\n",
       "SL.GDP.PCAP.EM.KD          GDP per person employed (constant 2021 PPP $)\n",
       "SL.IND.EMPL.FE.ZS          Employment in industry, female (% of female employment) (modeled ILO estimate)\n",
       "SL.IND.EMPL.MA.ZS          Employment in industry, male (% of male employment) (modeled ILO estimate)\n",
       "SL.IND.EMPL.ZS             Employment in industry (% of total employment) (modeled ILO estimate)\n",
       "SL.MNF.0714.FE.ZS          Child employment in manufacturing, female (% of female economically active children ages 7-14)\n",
       "SL.MNF.0714.MA.ZS          Child employment in manufacturing, male (% of male economically active children ages 7-14)\n",
       "SL.MNF.0714.ZS             Child employment in manufacturing (% of economically active children ages 7-14)\n",
       "SL.SLF.0714.FE.ZS          Children in employment, self-employed, female (% of female children in employment, ages 7-14)\n",
       "SL.SLF.0714.MA.ZS          Children in employment, self-employed, male (% of male children in employment, ages 7-14)\n",
       "SL.SLF.0714.ZS             Children in employment, self-employed (% of children in employment, ages 7-14)\n",
       "SL.SRV.0714.FE.ZS          Child employment in services, female (% of female economically active children ages 7-14)\n",
       "SL.SRV.0714.MA.ZS          Child employment in services, male (% of male economically active children ages 7-14)\n",
       "SL.SRV.0714.ZS             Child employment in services (% of economically active children ages 7-14)\n",
       "SL.SRV.EMPL.FE.ZS          Employment in services, female (% of female employment) (modeled ILO estimate)\n",
       "SL.SRV.EMPL.MA.ZS          Employment in services, male (% of male employment) (modeled ILO estimate)\n",
       "SL.SRV.EMPL.ZS             Employment in services (% of total employment) (modeled ILO estimate)\n",
       "SL.TLF.0714.FE.ZS          Children in employment, female (% of female children ages 7-14)\n",
       "SL.TLF.0714.MA.ZS          Children in employment, male (% of male children ages 7-14)\n",
       "SL.TLF.0714.SW.FE.TM       Average working hours of children, study and work, female, ages 7-14 (hours per week)\n",
       "SL.TLF.0714.SW.FE.ZS       Children in employment, study and work, female (% of female children in employment, ages 7-14)\n",
       "SL.TLF.0714.SW.MA.TM       Average working hours of children, study and work, male, ages 7-14 (hours per week)\n",
       "SL.TLF.0714.SW.MA.ZS       Children in employment, study and work, male (% of male children in employment, ages 7-14)\n",
       "SL.TLF.0714.SW.TM          Average working hours of children, study and work, ages 7-14 (hours per week)\n",
       "SL.TLF.0714.SW.ZS          Children in employment, study and work (% of children in employment, ages 7-14)\n",
       "SL.TLF.0714.WK.FE.TM       Average working hours of children, working only, female, ages 7-14 (hours per week)\n",
       "SL.TLF.0714.WK.FE.ZS       Children in employment, work only, female (% of female children in employment, ages 7-14)\n",
       "SL.TLF.0714.WK.MA.TM       Average working hours of children, working only, male, ages 7-14 (hours per week)\n",
       "SL.TLF.0714.WK.MA.ZS       Children in employment, work only, male (% of male children in employment, ages 7-14)\n",
       "SL.TLF.0714.WK.TM          Average working hours of children, working only, ages 7-14 (hours per week)\n",
       "SL.TLF.0714.WK.ZS          Children in employment, work only (% of children in employment, ages 7-14)\n",
       "SL.TLF.0714.ZS             Children in employment, total (% of children ages 7-14)\n",
       "SL.TLF.ACTI.1524.FE.NE.ZS  Labor force participation rate for ages 15-24, female (%) (national estimate)\n",
       "SL.TLF.ACTI.1524.FE.ZS     Labor force participation rate for ages 15-24, female (%) (modeled ILO estimate)\n",
       "SL.TLF.ACTI.1524.MA.NE.ZS  Labor force participation rate for ages 15-24, male (%) (national estimate)\n",
       "SL.TLF.ACTI.1524.MA.ZS     Labor force participation rate for ages 15-24, male (%) (modeled ILO estimate)\n",
       "SL.TLF.ACTI.1524.NE.ZS     Labor force participation rate for ages 15-24, total (%) (national estimate)\n",
       "SL.TLF.ACTI.1524.ZS        Labor force participation rate for ages 15-24, total (%) (modeled ILO estimate)\n",
       "SL.TLF.ACTI.FE.ZS          Labor force participation rate, female (% of female population ages 15-64) (modeled ILO estimate)\n",
       "SL.TLF.ACTI.MA.ZS          Labor force participation rate, male (% of male population ages 15-64) (modeled ILO estimate)\n",
       "SL.TLF.ACTI.ZS             Labor force participation rate, total (% of total population ages 15-64) (modeled ILO estimate)\n",
       "SL.TLF.ADVN.FE.ZS          Labor force with advanced education, female (% of female working-age population with advanced education)\n",
       "SL.TLF.ADVN.MA.ZS          Labor force with advanced education, male (% of male working-age population with advanced education)\n",
       "SL.TLF.ADVN.ZS             Labor force with advanced education (% of total working-age population with advanced education)\n",
       "SL.TLF.BASC.FE.ZS          Labor force with basic education, female (% of female working-age population with basic education)\n",
       "SL.TLF.BASC.MA.ZS          Labor force with basic education, male (% of male working-age population with basic education)\n",
       "SL.TLF.BASC.ZS             Labor force with basic education (% of total working-age population with basic education)\n",
       "SL.TLF.CACT.FE.NE.ZS       Labor force participation rate, female (% of female population ages 15+) (national estimate)\n",
       "SL.TLF.CACT.FE.ZS          Labor force participation rate, female (% of female population ages 15+) (modeled ILO estimate)\n",
       "SL.TLF.CACT.FM.NE.ZS       Ratio of female to male labor force participation rate (%) (national estimate)\n",
       "SL.TLF.CACT.FM.ZS          Ratio of female to male labor force participation rate (%) (modeled ILO estimate)\n",
       "SL.TLF.CACT.MA.NE.ZS       Labor force participation rate, male (% of male population ages 15+) (national estimate)\n",
       "SL.TLF.CACT.MA.ZS          Labor force participation rate, male (% of male population ages 15+) (modeled ILO estimate)\n",
       "SL.TLF.CACT.NE.ZS          Labor force participation rate, total (% of total population ages 15+) (national estimate)\n",
       "SL.TLF.CACT.ZS             Labor force participation rate, total (% of total population ages 15+) (modeled ILO estimate)\n",
       "SL.TLF.INTM.FE.ZS          Labor force with intermediate education, female (% of female working-age population with intermediate education)\n",
       "SL.TLF.INTM.MA.ZS          Labor force with intermediate education, male (% of male working-age population with intermediate education)\n",
       "SL.TLF.INTM.ZS             Labor force with intermediate education (% of total working-age population with intermediate education)\n",
       "SL.TLF.PART.FE.ZS          Part time employment, female (% of total female employment)\n",
       "SL.TLF.PART.MA.ZS          Part time employment, male (% of total male employment)\n",
       "SL.TLF.PART.ZS             Part time employment, total (% of total employment)\n",
       "SL.TLF.TOTL.FE.ZS          Labor force, female (% of total labor force)\n",
       "SL.TLF.TOTL.IN             Labor force, total\n",
       "SL.UEM.1524.FE.NE.ZS       Unemployment, youth female (% of female labor force ages 15-24) (national estimate)\n",
       "SL.UEM.1524.FE.ZS          Unemployment, youth female (% of female labor force ages 15-24) (modeled ILO estimate)\n",
       "SL.UEM.1524.MA.NE.ZS       Unemployment, youth male (% of male labor force ages 15-24) (national estimate)\n",
       "SL.UEM.1524.MA.ZS          Unemployment, youth male (% of male labor force ages 15-24) (modeled ILO estimate)\n",
       "SL.UEM.1524.NE.ZS          Unemployment, youth total (% of total labor force ages 15-24) (national estimate)\n",
       "SL.UEM.1524.ZS             Unemployment, youth total (% of total labor force ages 15-24) (modeled ILO estimate)\n",
       "SL.UEM.ADVN.FE.ZS          Unemployment with advanced education, female (% of female labor force with advanced education)\n",
       "SL.UEM.ADVN.MA.ZS          Unemployment with advanced education, male (% of male labor force with advanced education)\n",
       "SL.UEM.ADVN.ZS             Unemployment with advanced education (% of total labor force with advanced education)\n",
       "SL.UEM.BASC.FE.ZS          Unemployment with basic education, female (% of female labor force with basic education)\n",
       "SL.UEM.BASC.MA.ZS          Unemployment with basic education, male (% of male labor force with basic education)\n",
       "SL.UEM.BASC.ZS             Unemployment with basic education (% of total labor force with basic education)\n",
       "SL.UEM.INTM.FE.ZS          Unemployment with intermediate education, female (% of female labor force with intermediate education)\n",
       "SL.UEM.INTM.MA.ZS          Unemployment with intermediate education, male (% of male labor force with intermediate education)\n",
       "SL.UEM.INTM.ZS             Unemployment with intermediate education (% of total labor force with intermediate education)\n",
       "SL.UEM.NEET.FE.ZS          Share of youth not in education, employment or training, female (% of female youth population)\n",
       "SL.UEM.NEET.MA.ZS          Share of youth not in education, employment or training, male (% of male youth population)\n",
       "SL.UEM.NEET.ZS             Share of youth not in education, employment or training, total (% of youth population)\n",
       "SL.UEM.TOTL.FE.NE.ZS       Unemployment, female (% of female labor force) (national estimate)\n",
       "SL.UEM.TOTL.FE.ZS          Unemployment, female (% of female labor force) (modeled ILO estimate)\n",
       "SL.UEM.TOTL.MA.NE.ZS       Unemployment, male (% of male labor force) (national estimate)\n",
       "SL.UEM.TOTL.MA.ZS          Unemployment, male (% of male labor force) (modeled ILO estimate)\n",
       "SL.UEM.TOTL.NE.ZS          Unemployment, total (% of total labor force) (national estimate)\n",
       "SL.UEM.TOTL.ZS             Unemployment, total (% of total labor force) (modeled ILO estimate)\n",
       "SL.WAG.0714.FE.ZS          Children in employment, wage workers, female (% of female children in employment, ages 7-14)\n",
       "SL.WAG.0714.MA.ZS          Children in employment, wage workers, male (% of male children in employment, ages 7-14)\n",
       "SL.WAG.0714.ZS             Children in employment, wage workers (% of children in employment, ages 7-14)\n",
       "SM.POP.NETM                Net migration\n",
       "SM.POP.REFG                Refugee population by country or territory of asylum\n",
       "SM.POP.REFG.OR             Refugee population by country or territory of origin\n",
       "SM.POP.TOTL                International migrant stock, total\n",
       "SM.POP.TOTL.ZS             International migrant stock (% of population)\n",
       "SN.ITK.DEFC.ZS             Prevalence of undernourishment (% of population)\n",
       "SN.ITK.MSFI.ZS             Prevalence of moderate or severe food insecurity in the population (%)\n",
       "SN.ITK.SALT.ZS             Consumption of iodized salt (% of households)\n",
       "SN.ITK.SVFI.ZS             Prevalence of severe food insecurity in the population (%)\n",
       "SN.ITK.VITA.ZS             Vitamin A supplementation coverage rate (% of children ages 6-59 months)\n",
       "SP.ADO.TFRT                Adolescent fertility rate (births per 1,000 women ages 15-19)\n",
       "SP.DYN.AMRT.FE             Mortality rate, adult, female (per 1,000 female adults)\n",
       "SP.DYN.AMRT.MA             Mortality rate, adult, male (per 1,000 male adults)\n",
       "SP.DYN.CBRT.IN             Birth rate, crude (per 1,000 people)\n",
       "SP.DYN.CDRT.IN             Death rate, crude (per 1,000 people)\n",
       "SP.DYN.CONM.ZS             Contraceptive prevalence, any modern method (% of married women ages 15-49)\n",
       "SP.DYN.CONU.ZS             Contraceptive prevalence, any method (% of married women ages 15-49)\n",
       "SP.DYN.IMRT.FE.IN          Mortality rate, infant, female (per 1,000 live births)\n",
       "SP.DYN.IMRT.IN             Mortality rate, infant (per 1,000 live births)\n",
       "SP.DYN.IMRT.MA.IN          Mortality rate, infant, male (per 1,000 live births)\n",
       "SP.DYN.LE00.FE.IN          Life expectancy at birth, female (years)\n",
       "SP.DYN.LE00.IN             Life expectancy at birth, total (years)\n",
       "SP.DYN.LE00.MA.IN          Life expectancy at birth, male (years)\n",
       "SP.DYN.TFRT.IN             Fertility rate, total (births per woman)\n",
       "SP.DYN.TO65.FE.ZS          Survival to age 65, female (% of cohort)\n",
       "SP.DYN.TO65.MA.ZS          Survival to age 65, male (% of cohort)\n",
       "SP.DYN.WFRT                Wanted fertility rate (births per woman)\n",
       "SP.HOU.FEMA.ZS             Female headed households (% of households with a female head)\n",
       "SP.M15.2024.FE.ZS          Women who were first married by age 15 (% of women ages 20-24)\n",
       "SP.M18.2024.FE.ZS          Women who were first married by age 18 (% of women ages 20-24)\n",
       "SP.MTR.1519.ZS             Teenage mothers (% of women ages 15-19 who have had children or are currently pregnant)\n",
       "SP.POP.0004.FE.5Y          Population ages 00-04, female (% of female population)\n",
       "SP.POP.0004.MA.5Y          Population ages 00-04, male (% of male population)\n",
       "SP.POP.0014.FE.IN          Population ages 0-14, female\n",
       "SP.POP.0014.FE.ZS          Population ages 0-14, female (% of female population)\n",
       "SP.POP.0014.MA.IN          Population ages 0-14, male\n",
       "SP.POP.0014.MA.ZS          Population ages 0-14, male (% of male population)\n",
       "SP.POP.0014.TO             Population ages 0-14, total\n",
       "SP.POP.0014.TO.ZS          Population ages 0-14 (% of total population)\n",
       "SP.POP.0509.FE.5Y          Population ages 05-09, female (% of female population)\n",
       "SP.POP.0509.MA.5Y          Population ages 05-09, male (% of male population)\n",
       "SP.POP.1014.FE.5Y          Population ages 10-14, female (% of female population)\n",
       "SP.POP.1014.MA.5Y          Population ages 10-14, male (% of male population)\n",
       "SP.POP.1519.FE.5Y          Population ages 15-19, female (% of female population)\n",
       "SP.POP.1519.MA.5Y          Population ages 15-19, male (% of male population)\n",
       "SP.POP.1564.FE.IN          Population ages 15-64, female\n",
       "SP.POP.1564.FE.ZS          Population ages 15-64, female (% of female population)\n",
       "SP.POP.1564.MA.IN          Population ages 15-64, male\n",
       "SP.POP.1564.MA.ZS          Population ages 15-64, male (% of male population)\n",
       "SP.POP.1564.TO             Population ages 15-64, total\n",
       "SP.POP.1564.TO.ZS          Population ages 15-64 (% of total population)\n",
       "SP.POP.2024.FE.5Y          Population ages 20-24, female (% of female population)\n",
       "SP.POP.2024.MA.5Y          Population ages 20-24, male (% of male population)\n",
       "SP.POP.2529.FE.5Y          Population ages 25-29, female (% of female population)\n",
       "SP.POP.2529.MA.5Y          Population ages 25-29, male (% of male population)\n",
       "SP.POP.3034.FE.5Y          Population ages 30-34, female (% of female population)\n",
       "SP.POP.3034.MA.5Y          Population ages 30-34, male (% of male population)\n",
       "SP.POP.3539.FE.5Y          Population ages 35-39, female (% of female population)\n",
       "SP.POP.3539.MA.5Y          Population ages 35-39, male (% of male population)\n",
       "SP.POP.4044.FE.5Y          Population ages 40-44, female (% of female population)\n",
       "SP.POP.4044.MA.5Y          Population ages 40-44, male (% of male population)\n",
       "SP.POP.4549.FE.5Y          Population ages 45-49, female (% of female population)\n",
       "SP.POP.4549.MA.5Y          Population ages 45-49, male (% of male population)\n",
       "SP.POP.5054.FE.5Y          Population ages 50-54, female (% of female population)\n",
       "SP.POP.5054.MA.5Y          Population ages 50-54, male (% of male population)\n",
       "SP.POP.5559.FE.5Y          Population ages 55-59, female (% of female population)\n",
       "SP.POP.5559.MA.5Y          Population ages 55-59, male (% of male population)\n",
       "SP.POP.6064.FE.5Y          Population ages 60-64, female (% of female population)\n",
       "SP.POP.6064.MA.5Y          Population ages 60-64, male (% of male population)\n",
       "SP.POP.6569.FE.5Y          Population ages 65-69, female (% of female population)\n",
       "SP.POP.6569.MA.5Y          Population ages 65-69, male (% of male population)\n",
       "SP.POP.65UP.FE.IN          Population ages 65 and above, female\n",
       "SP.POP.65UP.FE.ZS          Population ages 65 and above, female (% of female population)\n",
       "SP.POP.65UP.MA.IN          Population ages 65 and above, male\n",
       "SP.POP.65UP.MA.ZS          Population ages 65 and above, male (% of male population)\n",
       "SP.POP.65UP.TO             Population ages 65 and above, total\n",
       "SP.POP.65UP.TO.ZS          Population ages 65 and above (% of total population)\n",
       "SP.POP.7074.FE.5Y          Population ages 70-74, female (% of female population)\n",
       "SP.POP.7074.MA.5Y          Population ages 70-74, male (% of male population)\n",
       "SP.POP.7579.FE.5Y          Population ages 75-79, female (% of female population)\n",
       "SP.POP.7579.MA.5Y          Population ages 75-79, male (% of male population)\n",
       "SP.POP.80UP.FE.5Y          Population ages 80 and above, female (% of female population)\n",
       "SP.POP.80UP.MA.5Y          Population ages 80 and above, male (% of male population)\n",
       "SP.POP.BRTH.MF             Sex ratio at birth (male births per female births)\n",
       "SP.POP.DPND                Age dependency ratio (% of working-age population)\n",
       "SP.POP.DPND.OL             Age dependency ratio, old (% of working-age population)\n",
       "SP.POP.DPND.YG             Age dependency ratio, young (% of working-age population)\n",
       "SP.POP.GROW                Population growth (annual %)\n",
       "SP.POP.SCIE.RD.P6          Researchers in R&D (per million people)\n",
       "SP.POP.TECH.RD.P6          Technicians in R&D (per million people)\n",
       "SP.POP.TOTL                Population, total\n",
       "SP.POP.TOTL.FE.IN          Population, female\n",
       "SP.POP.TOTL.FE.ZS          Population, female (% of total population)\n",
       "SP.POP.TOTL.MA.IN          Population, male\n",
       "SP.POP.TOTL.MA.ZS          Population, male (% of total population)\n",
       "SP.REG.BRTH.FE.ZS          Completeness of birth registration, female (%)\n",
       "SP.REG.BRTH.MA.ZS          Completeness of birth registration, male (%)\n",
       "SP.REG.BRTH.RU.ZS          Completeness of birth registration, rural (%)\n",
       "SP.REG.BRTH.UR.ZS          Completeness of birth registration, urban (%)\n",
       "SP.REG.BRTH.ZS             Completeness of birth registration (%)\n",
       "SP.REG.DTHS.ZS             Completeness of death registration with cause-of-death information (%)\n",
       "SP.RUR.TOTL                Rural population\n",
       "SP.RUR.TOTL.ZG             Rural population growth (annual %)\n",
       "SP.RUR.TOTL.ZS             Rural population (% of total population)\n",
       "SP.URB.GROW                Urban population growth (annual %)\n",
       "SP.URB.TOTL                Urban population\n",
       "SP.URB.TOTL.IN.ZS          Urban population (% of total population)\n",
       "SP.UWT.TFRT                Unmet need for contraception (% of married women ages 15-49)\n",
       "ST.INT.ARVL                International tourism, number of arrivals\n",
       "ST.INT.DPRT                International tourism, number of departures\n",
       "ST.INT.RCPT.CD             International tourism, receipts (current US$)\n",
       "ST.INT.RCPT.XP.ZS          International tourism, receipts (% of total exports)\n",
       "ST.INT.TRNR.CD             International tourism, receipts for passenger transport items (current US$)\n",
       "ST.INT.TRNX.CD             International tourism, expenditures for passenger transport items (current US$)\n",
       "ST.INT.TVLR.CD             International tourism, receipts for travel items (current US$)\n",
       "ST.INT.TVLX.CD             International tourism, expenditures for travel items (current US$)\n",
       "ST.INT.XPND.CD             International tourism, expenditures (current US$)\n",
       "ST.INT.XPND.MP.ZS          International tourism, expenditures (% of total imports)\n",
       "TG.VAL.TOTL.GD.ZS          Merchandise trade (% of GDP)\n",
       "TM.QTY.MRCH.XD.WD          Import volume index (2015 = 100)\n",
       "TM.TAX.MANF.BC.ZS          Binding coverage, manufactured products (%)\n",
       "TM.TAX.MANF.BR.ZS          Bound rate, simple mean, manufactured products (%)\n",
       "TM.TAX.MANF.IP.ZS          Share of tariff lines with international peaks, manufactured products (%)\n",
       "TM.TAX.MANF.SM.AR.ZS       Tariff rate, applied, simple mean, manufactured products (%)\n",
       "TM.TAX.MANF.SM.FN.ZS       Tariff rate, most favored nation, simple mean, manufactured products (%)\n",
       "TM.TAX.MANF.SR.ZS          Share of tariff lines with specific rates, manufactured products (%)\n",
       "TM.TAX.MANF.WM.AR.ZS       Tariff rate, applied, weighted mean, manufactured products (%)\n",
       "TM.TAX.MANF.WM.FN.ZS       Tariff rate, most favored nation, weighted mean, manufactured products (%)\n",
       "TM.TAX.MRCH.BC.ZS          Binding coverage, all products (%)\n",
       "TM.TAX.MRCH.BR.ZS          Bound rate, simple mean, all products (%)\n",
       "TM.TAX.MRCH.IP.ZS          Share of tariff lines with international peaks, all products (%)\n",
       "TM.TAX.MRCH.SM.AR.ZS       Tariff rate, applied, simple mean, all products (%)\n",
       "TM.TAX.MRCH.SM.FN.ZS       Tariff rate, most favored nation, simple mean, all products (%)\n",
       "TM.TAX.MRCH.SR.ZS          Share of tariff lines with specific rates, all products (%)\n",
       "TM.TAX.MRCH.WM.AR.ZS       Tariff rate, applied, weighted mean, all products (%)\n",
       "TM.TAX.MRCH.WM.FN.ZS       Tariff rate, most favored nation, weighted mean, all products (%)\n",
       "TM.TAX.TCOM.BC.ZS          Binding coverage, primary products (%)\n",
       "TM.TAX.TCOM.BR.ZS          Bound rate, simple mean, primary products (%)\n",
       "TM.TAX.TCOM.IP.ZS          Share of tariff lines with international peaks, primary products (%)\n",
       "TM.TAX.TCOM.SM.AR.ZS       Tariff rate, applied, simple mean, primary products (%)\n",
       "TM.TAX.TCOM.SM.FN.ZS       Tariff rate, most favored nation, simple mean, primary products (%)\n",
       "TM.TAX.TCOM.SR.ZS          Share of tariff lines with specific rates, primary products (%)\n",
       "TM.TAX.TCOM.WM.AR.ZS       Tariff rate, applied, weighted mean, primary products (%)\n",
       "TM.TAX.TCOM.WM.FN.ZS       Tariff rate, most favored nation, weighted mean, primary products (%)\n",
       "TM.UVI.MRCH.XD.WD          Import unit value index (2015 = 100)\n",
       "TM.VAL.AGRI.ZS.UN          Agricultural raw materials imports (% of merchandise imports)\n",
       "TM.VAL.FOOD.ZS.UN          Food imports (% of merchandise imports)\n",
       "TM.VAL.FUEL.ZS.UN          Fuel imports (% of merchandise imports)\n",
       "TM.VAL.ICTG.ZS.UN          ICT goods imports (% total goods imports)\n",
       "TM.VAL.INSF.ZS.WT          Insurance and financial services (% of commercial service imports)\n",
       "TM.VAL.MANF.ZS.UN          Manufactures imports (% of merchandise imports)\n",
       "TM.VAL.MMTL.ZS.UN          Ores and metals imports (% of merchandise imports)\n",
       "TM.VAL.MRCH.AL.ZS          Merchandise imports from economies in the Arab World (% of total merchandise imports)\n",
       "TM.VAL.MRCH.CD.WT          Merchandise imports (current US$)\n",
       "TM.VAL.MRCH.HI.ZS          Merchandise imports from high-income economies (% of total merchandise imports)\n",
       "TM.VAL.MRCH.OR.ZS          Merchandise imports from low- and middle-income economies outside region (% of total merchandise imports)\n",
       "TM.VAL.MRCH.R1.ZS          Merchandise imports from low- and middle-income economies in East Asia & Pacific (% of total merchandise imports)\n",
       "TM.VAL.MRCH.R2.ZS          Merchandise imports from low- and middle-income economies in Europe & Central Asia (% of total merchandise imports)\n",
       "TM.VAL.MRCH.R3.ZS          Merchandise imports from low- and middle-income economies in Latin America & the Caribbean (% of total merchandise imports)\n",
       "TM.VAL.MRCH.R4.ZS          Merchandise imports from low- and middle-income economies in Middle East & North Africa (% of total merchandise imports)\n",
       "TM.VAL.MRCH.R5.ZS          Merchandise imports from low- and middle-income economies in South Asia (% of total merchandise imports)\n",
       "TM.VAL.MRCH.R6.ZS          Merchandise imports from low- and middle-income economies in Sub-Saharan Africa (% of total merchandise imports)\n",
       "TM.VAL.MRCH.RS.ZS          Merchandise imports by the reporting economy, residual (% of total merchandise imports)\n",
       "TM.VAL.MRCH.WL.CD          Merchandise imports by the reporting economy (current US$)\n",
       "TM.VAL.MRCH.WR.ZS          Merchandise imports from low- and middle-income economies within region (% of total merchandise imports)\n",
       "TM.VAL.MRCH.XD.WD          Import value index (2015 = 100)\n",
       "TM.VAL.OTHR.ZS.WT          Computer, communications and other services (% of commercial service imports)\n",
       "TM.VAL.SERV.CD.WT          Commercial service imports (current US$)\n",
       "TM.VAL.TRAN.ZS.WT          Transport services (% of commercial service imports)\n",
       "TM.VAL.TRVL.ZS.WT          Travel services (% of commercial service imports)\n",
       "TT.PRI.MRCH.XD.WD          Net barter terms of trade index (2015 = 100)\n",
       "TX.MNF.TECH.ZS.UN          Medium and high-tech exports (% manufactured exports)\n",
       "TX.QTY.MRCH.XD.WD          Export volume index (2015 = 100)\n",
       "TX.UVI.MRCH.XD.WD          Export unit value index (2015 = 100)\n",
       "TX.VAL.AGRI.ZS.UN          Agricultural raw materials exports (% of merchandise exports)\n",
       "TX.VAL.FOOD.ZS.UN          Food exports (% of merchandise exports)\n",
       "TX.VAL.FUEL.ZS.UN          Fuel exports (% of merchandise exports)\n",
       "TX.VAL.ICTG.ZS.UN          ICT goods exports (% of total goods exports)\n",
       "TX.VAL.INSF.ZS.WT          Insurance and financial services (% of commercial service exports)\n",
       "TX.VAL.MANF.ZS.UN          Manufactures exports (% of merchandise exports)\n",
       "TX.VAL.MMTL.ZS.UN          Ores and metals exports (% of merchandise exports)\n",
       "TX.VAL.MRCH.AL.ZS          Merchandise exports to economies in the Arab World (% of total merchandise exports)\n",
       "TX.VAL.MRCH.CD.WT          Merchandise exports (current US$)\n",
       "TX.VAL.MRCH.HI.ZS          Merchandise exports to high-income economies (% of total merchandise exports)\n",
       "TX.VAL.MRCH.OR.ZS          Merchandise exports to low- and middle-income economies outside region (% of total merchandise exports)\n",
       "TX.VAL.MRCH.R1.ZS          Merchandise exports to low- and middle-income economies in East Asia & Pacific (% of total merchandise exports)\n",
       "TX.VAL.MRCH.R2.ZS          Merchandise exports to low- and middle-income economies in Europe & Central Asia (% of total merchandise exports)\n",
       "TX.VAL.MRCH.R3.ZS          Merchandise exports to low- and middle-income economies in Latin America & the Caribbean (% of total merchandise exports)\n",
       "TX.VAL.MRCH.R4.ZS          Merchandise exports to low- and middle-income economies in Middle East & North Africa (% of total merchandise exports)\n",
       "TX.VAL.MRCH.R5.ZS          Merchandise exports to low- and middle-income economies in South Asia (% of total merchandise exports)\n",
       "TX.VAL.MRCH.R6.ZS          Merchandise exports to low- and middle-income economies in Sub-Saharan Africa (% of total merchandise exports)\n",
       "TX.VAL.MRCH.RS.ZS          Merchandise exports by the reporting economy, residual (% of total merchandise exports)\n",
       "TX.VAL.MRCH.WL.CD          Merchandise exports by the reporting economy (current US$)\n",
       "TX.VAL.MRCH.WR.ZS          Merchandise exports to low- and middle-income economies within region (% of total merchandise exports)\n",
       "TX.VAL.MRCH.XD.WD          Export value index (2015 = 100)\n",
       "TX.VAL.OTHR.ZS.WT          Computer, communications and other services (% of commercial service exports)\n",
       "TX.VAL.SERV.CD.WT          Commercial service exports (current US$)\n",
       "TX.VAL.TECH.CD             High-technology exports (current US$)\n",
       "TX.VAL.TECH.MF.ZS          High-technology exports (% of manufactured exports)\n",
       "TX.VAL.TRAN.ZS.WT          Transport services (% of commercial service exports)\n",
       "TX.VAL.TRVL.ZS.WT          Travel services (% of commercial service exports)\n",
       "VA.EST                     Voice and Accountability: Estimate\n",
       "VA.NO.SRC                  Voice and Accountability: Number of Sources\n",
       "VA.PER.RNK                 Voice and Accountability: Percentile Rank\n",
       "VA.PER.RNK.LOWER           Voice and Accountability: Percentile Rank, Lower Bound of 90% Confidence Interval\n",
       "VA.PER.RNK.UPPER           Voice and Accountability: Percentile Rank, Upper Bound of 90% Confidence Interval\n",
       "VA.STD.ERR                 Voice and Accountability: Standard Error\n",
       "VC.BTL.DETH                Battle-related deaths (number of people)\n",
       "VC.IDP.NWCV                Internally displaced persons, new displacement associated with conflict and violence (number of cases)\n",
       "VC.IDP.NWDS                Internally displaced persons, new displacement associated with disasters (number of cases)\n",
       "VC.IDP.TOCV                Internally displaced persons, total displaced by conflict and violence (number of people)\n",
       "VC.IHR.PSRC.FE.P5          Intentional homicides, female (per 100,000 female)\n",
       "VC.IHR.PSRC.MA.P5          Intentional homicides, male (per 100,000 male)\n",
       "VC.IHR.PSRC.P5             Intentional homicides (per 100,000 people)"
      ]
     },
     "execution_count": 3,
     "metadata": {},
     "output_type": "execute_result"
    }
   ],
   "source": [
    "wbdata.get_indicators(source=2)"
   ]
  },
  {
   "cell_type": "code",
   "execution_count": null,
   "id": "b7ccfd9b",
   "metadata": {},
   "outputs": [],
   "source": [
    "BM.GSR.MRCH.CD             Goods imports (BoP, current US$)\n",
    "BM.GSR.NFSV.CD             Service imports (BoP, current US$)\n",
    "BX.GSR.MRCH.CD             Goods exports (BoP, current US$)\n",
    "BX.GSR.NFSV.CD             Service exports (BoP, current US$)\n",
    "\n",
    "TM.VAL.AGRI.ZS.UN          Agricultural raw materials imports (% of merchandise imports)\n",
    "TM.VAL.FOOD.ZS.UN          Food imports (% of merchandise imports)\n",
    "TM.VAL.FUEL.ZS.UN          Fuel imports (% of merchandise imports)\n",
    "TM.VAL.ICTG.ZS.UN          ICT goods imports (% total goods imports)\n",
    "TM.VAL.INSF.ZS.WT          Insurance and financial services (% of commercial service imports)\n",
    "TM.VAL.MANF.ZS.UN          Manufactures imports (% of merchandise imports)\n",
    "TM.VAL.MMTL.ZS.UN          Ores and metals imports (% of merchandise imports)\n",
    "\n",
    "\n",
    "TX.VAL.AGRI.ZS.UN          Agricultural raw materials exports (% of merchandise exports)\n",
    "TX.VAL.FOOD.ZS.UN          Food exports (% of merchandise exports)\n",
    "TX.VAL.FUEL.ZS.UN          Fuel exports (% of merchandise exports)\n",
    "TX.VAL.ICTG.ZS.UN          ICT goods exports (% of total goods exports)\n",
    "TX.VAL.INSF.ZS.WT          Insurance and financial services (% of commercial service exports)\n",
    "TX.VAL.MANF.ZS.UN          Manufactures exports (% of merchandise exports)\n",
    "TX.VAL.MMTL.ZS.UN          Ores and metals exports (% of merchandise exports)\n",
    "\n",
    "ER.FSH.AQUA.MT             Aquaculture production (metric tons)\n",
    "ER.FSH.CAPT.MT             Capture fisheries production (metric tons)\n",
    "ER.FSH.PROD.MT             Total fisheries production (metric tons)\n",
    "\n",
    "GB.XPD.RSDV.GD.ZS          Research and development expenditure (% of GDP)\n",
    "MS.MIL.XPND.CD             Military expenditure (current USD)\n",
    "NE.CON.TOTL.CD             Final consumption expenditure (current US$)\n",
    "NE.DAB.TOTL.CD             Gross national expenditure (current US$)\n",
    "NY.ADJ.AEDU.CD             Adjusted savings: education expenditure (current US$)\n",
    "    ST.INT.XPND.CD             International tourism, expenditures (current US$)\n",
    "    SH.XPD.CHEX.PC.CD          Current health expenditure per capita (current US$)\n",
    "    SH.XPD.OOPC.PC.CD          Out-of-pocket expenditure per capita (current US$)\n",
    "    SH.XPD.PVTD.PC.CD          Domestic private health expenditure per capita (current US$)\n",
    "    NE.CON.PRVT.CD             Households and NPISHs Final consumption expenditure (current US$)\n",
    "\n",
    "NV.MNF.CHEM.ZS.UN          Chemicals (% of value added in manufacturing)\n",
    "NV.MNF.FBTO.ZS.UN          Food, beverages and tobacco (% of value added in manufacturing)\n",
    "NV.MNF.MTRN.ZS.UN          Machinery and transport equipment (% of value added in manufacturing)\n",
    "NV.MNF.OTHR.ZS.UN          Other manufacturing (% of value added in manufacturing)\n",
    "NV.MNF.TECH.ZS.UN          Medium and high-tech manufacturing value added (% manufacturing value added)\n",
    "NV.MNF.TXTL.ZS.UN          Textiles and clothing (% of value added in manufacturing)\n",
    "\n",
    "GC.TAX.EXPT.CN             Taxes on exports (current LCU)\n",
    "GC.TAX.EXPT.ZS             Taxes on exports (% of tax revenue)\n",
    "GC.TAX.GSRV.CN             Taxes on goods and services (current LCU)\n",
    "GC.TAX.GSRV.RV.ZS          Taxes on goods and services (% of revenue)\n",
    "GC.TAX.GSRV.VA.ZS          Taxes on goods and services (% value added of industry and services)\n",
    "GC.TAX.INTT.CN             Taxes on international trade (current LCU)\n",
    "GC.TAX.INTT.RV.ZS          Taxes on international trade (% of revenue)\n",
    "GC.TAX.YPKG.CN             Taxes on income, profits and capital gains (current LCU)\n",
    "GC.TAX.YPKG.RV.ZS          Taxes on income, profits and capital gains (% of revenue)\n",
    "GC.TAX.YPKG.ZS             Taxes on income, profits and capital gains (% of total taxes)\n",
    "\n",
    "IC.FRM.FEMM.ZS             Firms with female top manager (% of firms)\n",
    "IC.FRM.FEMO.ZS             Firms with female participation in ownership (% of firms)\n",
    "IC.FRM.FREG.ZS             Firms formally registered when operations started (% of firms)\n",
    "IC.FRM.INFM.ZS             Firms that do not report all sales for tax purposes (% of firms)\n",
    "IC.FRM.METG.ZS             Firms visited or required meetings with tax officials (% of firms)\n",
    "IC.FRM.RSDV.ZS             Firms that spend on R&D (% of firms)\n",
    "IC.FRM.THEV.ZS             Firms experiencing losses due to theft and vandalism (% of firms)\n",
    "IC.FRM.TRNG.ZS             Firms offering formal training (% of firms)\n",
    "\n",
    "NV.AGR.TOTL.CD             Agriculture, forestry, and fishing, value added (current US$)\n",
    "NV.IND.MANF.CD             Manufacturing, value added (current US$)\n",
    "NV.IND.TOTL.CD             Industry (including construction), value added (current US$)"
   ]
  },
  {
   "cell_type": "code",
   "execution_count": 4,
   "id": "eee6c635",
   "metadata": {},
   "outputs": [],
   "source": [
    "countries = ['TUN']"
   ]
  },
  {
   "cell_type": "code",
   "execution_count": 55,
   "id": "f78fe0a1",
   "metadata": {},
   "outputs": [],
   "source": [
    "indicators = {\"DT.DOD.DLXF.CD\": \"External_Debts\",\n",
    "              \"DT.DOD.DIMF.CD\":\"IMF_Credit\",\n",
    "              \"DT.DOD.DSTC.CD\":\"Short_term_debt\",\n",
    "              \"BM.GSR.TOTL.CD\": \"Income\",\n",
    "              \"FI.RES.TOTL.CD\":\"Total_Reserves\",\n",
    "              \"NY.GNP.MKTP.CD\":\"Gross_income\",\n",
    "              \"BX.GSR.TOTL.CD\":\"Exports\",\n",
    "              \"NE.IMP.GNFS.CD\":\"Imports\",\n",
    "              \"NE.DAB.TOTL.CN\":\"National_Expenditure\",\n",
    "              \"BN.GSR.FCTY.CD\":\"Primary_Income\",\n",
    "              \"BN.KLT.DINV.CD\":\"Foreign_Investment\",\n",
    "              \"BX.GRT.EXTA.CD.WD\":\"Grants\",\n",
    "              \"BX.GSR.GNFS.CD\":\"Exports\",\n",
    "              \"DT.NFL.SDGF.CD\":\"SDGFUND\",\n",
    "              \"DT.NFL.SPRP.CD\":\"SPRP\",\n",
    "              \"DT.NFL.UNAI.CD\":\"UNAIDS\",\n",
    "              \"DT.NFL.UNCD.CD\":\"UNCDF\",\n",
    "              \"DT.NFL.UNCF.CD\":\"UNICEF\",\n",
    "              \"DT.NFL.UNCR.CD\":\"UNHCR\",\n",
    "              \"DT.NFL.UNCTAD.CD\":\"UNCTAD\",\n",
    "              \"DT.NFL.UNCV.CD\":\"UNCOVID\",\n",
    "              \"DT.NFL.UNDP.CD\":\"UNDP\",\n",
    "              \"DT.NFL.UNEC.CD\":\"UNECE\",\n",
    "              \"DT.NFL.UNEP.CD\":\"UNEP\",\n",
    "              \"DT.NFL.UNFP.CD\":\"UNFPA\",\n",
    "              \"DT.NFL.UNID.CD\":\"UNIDIR\",\n",
    "              \"DT.NFL.UNIDO.CD\":\"UNIDO\",\n",
    "              \"DT.NFL.UNPB.CD\":\"UNPBF\",\n",
    "              \"DT.NFL.UNRW.CD\":\"UNRWA\",\n",
    "              \"DT.NFL.UNTA.CD\":\"UNTA\",\n",
    "              \"DT.NFL.UNWN.CD\":\"UNWOMEN\",\n",
    "              \"DT.NFL.UNWT.CD\":\"UNWTO\",\n",
    "              \"DT.NFL.WFPG.CD\":\"WFP\",\n",
    "              \"DT.NFL.WHOL.CD\":\"WHO\",\n",
    "              \"DT.NFL.WITC.CD\":\"WTO-ITC\",\n",
    "              \"BM.GSR.MRCH.CD\":\"Goods_imports\",\n",
    "              \"BM.GSR.NFSV.CD\":\"Service_imports\",\n",
    "              \"BX.GSR.MRCH.CD\":\"Goods_exports\",\n",
    "              \"BX.GSR.NFSV.CD\":\"Service_exports\",\n",
    "              \"TM.VAL.AGRI.ZS.UN\":\"Agri_raw_materials_imports\",\n",
    "              \"TM.VAL.FOOD.ZS.UN\":\"Food_imports\",\n",
    "              \"TM.VAL.FUEL.ZS.UN\":\"Fuel_imports\",\n",
    "              \"TM.VAL.MANF.ZS.UN\":\"Manufacturing_imports\",\n",
    "              \"TM.VAL.MMTL.ZS.UN\":\"Ores_metal_imports\",\n",
    "              \"TX.VAL.AGRI.ZS.UN\":\"Agri_raw_materials_exports\",\n",
    "              \"TX.VAL.FOOD.ZS.UN\":\"Food_exports\",\n",
    "              \"TX.VAL.FUEL.ZS.UN\":\"Fuel_exports\",\n",
    "              \"TX.VAL.MANF.ZS.UN\":\"Manufacturing_exports\",\n",
    "              \"TX.VAL.MMTL.ZS.UN\":\"Ores_metal_exports\",\n",
    "              \"MS.MIL.XPND.CD\":\"Military_expenditure\",\n",
    "              \"NY.ADJ.AEDU.CD\":\"Education_expenditure\",\n",
    "              \"ST.INT.XPND.CD\":\"Tourism_expenditure\",\n",
    "              \"SH.XPD.CHEX.PC.CD\":\"Health_expenditure\",\n",
    "              \"SH.XPD.OOPC.PC.CD\":\"Out_of_pocket_expenditure\",\n",
    "              \"SH.XPD.PVTD.PC.CD\":\"Private_expenditure_health\",\n",
    "              \"NE.CON.PRVT.CD\":\"Household_expenditure\"\n",
    "             }"
   ]
  },
  {
   "cell_type": "code",
   "execution_count": 56,
   "id": "d83316d8",
   "metadata": {},
   "outputs": [],
   "source": [
    "df = wbdata.get_dataframe(indicators, country=countries, parse_dates=True, keep_levels =True)"
   ]
  },
  {
   "cell_type": "code",
   "execution_count": 45,
   "id": "fa263a95",
   "metadata": {},
   "outputs": [
    {
     "data": {
      "text/html": [
       "<div>\n",
       "<style scoped>\n",
       "    .dataframe tbody tr th:only-of-type {\n",
       "        vertical-align: middle;\n",
       "    }\n",
       "\n",
       "    .dataframe tbody tr th {\n",
       "        vertical-align: top;\n",
       "    }\n",
       "\n",
       "    .dataframe thead th {\n",
       "        text-align: right;\n",
       "    }\n",
       "</style>\n",
       "<table border=\"1\" class=\"dataframe\">\n",
       "  <thead>\n",
       "    <tr style=\"text-align: right;\">\n",
       "      <th></th>\n",
       "      <th></th>\n",
       "      <th>External_Debts</th>\n",
       "      <th>IMF_Credit</th>\n",
       "      <th>Short_term_debt</th>\n",
       "      <th>Income</th>\n",
       "      <th>Total_Reserves</th>\n",
       "      <th>Gross_income</th>\n",
       "      <th>Exports</th>\n",
       "      <th>Imports</th>\n",
       "      <th>National_Expenditure</th>\n",
       "      <th>Primary_Income</th>\n",
       "      <th>...</th>\n",
       "      <th>Agri_raw_materials_exports</th>\n",
       "      <th>Food_exports</th>\n",
       "      <th>Fuel_exports</th>\n",
       "      <th>Manufacturing_exports</th>\n",
       "      <th>Ores_metal_exports</th>\n",
       "      <th>Military_expenditure</th>\n",
       "      <th>Education_expenditure</th>\n",
       "      <th>Tourism_expenditure</th>\n",
       "      <th>Health_expenditure</th>\n",
       "      <th>Household_expenditure</th>\n",
       "    </tr>\n",
       "    <tr>\n",
       "      <th>country</th>\n",
       "      <th>date</th>\n",
       "      <th></th>\n",
       "      <th></th>\n",
       "      <th></th>\n",
       "      <th></th>\n",
       "      <th></th>\n",
       "      <th></th>\n",
       "      <th></th>\n",
       "      <th></th>\n",
       "      <th></th>\n",
       "      <th></th>\n",
       "      <th></th>\n",
       "      <th></th>\n",
       "      <th></th>\n",
       "      <th></th>\n",
       "      <th></th>\n",
       "      <th></th>\n",
       "      <th></th>\n",
       "      <th></th>\n",
       "      <th></th>\n",
       "      <th></th>\n",
       "      <th></th>\n",
       "    </tr>\n",
       "  </thead>\n",
       "  <tbody>\n",
       "    <tr>\n",
       "      <th rowspan=\"11\" valign=\"top\">Tunisia</th>\n",
       "      <th>2023-01-01</th>\n",
       "      <td>NaN</td>\n",
       "      <td>NaN</td>\n",
       "      <td>NaN</td>\n",
       "      <td>NaN</td>\n",
       "      <td>NaN</td>\n",
       "      <td>NaN</td>\n",
       "      <td>NaN</td>\n",
       "      <td>NaN</td>\n",
       "      <td>NaN</td>\n",
       "      <td>NaN</td>\n",
       "      <td>...</td>\n",
       "      <td>NaN</td>\n",
       "      <td>NaN</td>\n",
       "      <td>NaN</td>\n",
       "      <td>NaN</td>\n",
       "      <td>NaN</td>\n",
       "      <td>NaN</td>\n",
       "      <td>NaN</td>\n",
       "      <td>NaN</td>\n",
       "      <td>NaN</td>\n",
       "      <td>NaN</td>\n",
       "    </tr>\n",
       "    <tr>\n",
       "      <th>2022-01-01</th>\n",
       "      <td>2.285989e+10</td>\n",
       "      <td>3.108823e+09</td>\n",
       "      <td>1.368332e+10</td>\n",
       "      <td>2.438297e+10</td>\n",
       "      <td>8.094327e+09</td>\n",
       "      <td>4.508355e+10</td>\n",
       "      <td>1.728815e+10</td>\n",
       "      <td>2.841976e+10</td>\n",
       "      <td>1.610402e+11</td>\n",
       "      <td>-1.358261e+09</td>\n",
       "      <td>...</td>\n",
       "      <td>0.286805</td>\n",
       "      <td>11.785143</td>\n",
       "      <td>8.026770</td>\n",
       "      <td>78.104339</td>\n",
       "      <td>1.776286</td>\n",
       "      <td>1.156187e+09</td>\n",
       "      <td>NaN</td>\n",
       "      <td>NaN</td>\n",
       "      <td>NaN</td>\n",
       "      <td>3.414860e+10</td>\n",
       "    </tr>\n",
       "    <tr>\n",
       "      <th>2021-01-01</th>\n",
       "      <td>2.478324e+10</td>\n",
       "      <td>3.396078e+09</td>\n",
       "      <td>1.348900e+10</td>\n",
       "      <td>2.003173e+10</td>\n",
       "      <td>8.845557e+09</td>\n",
       "      <td>4.545718e+10</td>\n",
       "      <td>1.406734e+10</td>\n",
       "      <td>2.384419e+10</td>\n",
       "      <td>1.424808e+11</td>\n",
       "      <td>-1.415476e+09</td>\n",
       "      <td>...</td>\n",
       "      <td>0.390872</td>\n",
       "      <td>10.817449</td>\n",
       "      <td>6.554095</td>\n",
       "      <td>80.189507</td>\n",
       "      <td>2.027201</td>\n",
       "      <td>1.250454e+09</td>\n",
       "      <td>2.663697e+09</td>\n",
       "      <td>NaN</td>\n",
       "      <td>265.464844</td>\n",
       "      <td>3.448253e+10</td>\n",
       "    </tr>\n",
       "    <tr>\n",
       "      <th>2020-01-01</th>\n",
       "      <td>2.766077e+10</td>\n",
       "      <td>2.824004e+09</td>\n",
       "      <td>1.063190e+10</td>\n",
       "      <td>1.623431e+10</td>\n",
       "      <td>9.810631e+09</td>\n",
       "      <td>4.114177e+10</td>\n",
       "      <td>1.121272e+10</td>\n",
       "      <td>1.934832e+10</td>\n",
       "      <td>1.293848e+11</td>\n",
       "      <td>-1.125532e+09</td>\n",
       "      <td>...</td>\n",
       "      <td>0.364149</td>\n",
       "      <td>13.579004</td>\n",
       "      <td>5.669923</td>\n",
       "      <td>78.538862</td>\n",
       "      <td>1.831670</td>\n",
       "      <td>1.157372e+09</td>\n",
       "      <td>2.427326e+09</td>\n",
       "      <td>407000000.0</td>\n",
       "      <td>246.598084</td>\n",
       "      <td>3.147775e+10</td>\n",
       "    </tr>\n",
       "    <tr>\n",
       "      <th>2019-01-01</th>\n",
       "      <td>2.588197e+10</td>\n",
       "      <td>2.132216e+09</td>\n",
       "      <td>1.143064e+10</td>\n",
       "      <td>1.911497e+10</td>\n",
       "      <td>7.919981e+09</td>\n",
       "      <td>4.081334e+10</td>\n",
       "      <td>1.372394e+10</td>\n",
       "      <td>2.325321e+10</td>\n",
       "      <td>1.353194e+11</td>\n",
       "      <td>-9.182011e+08</td>\n",
       "      <td>...</td>\n",
       "      <td>0.379957</td>\n",
       "      <td>10.654568</td>\n",
       "      <td>5.521959</td>\n",
       "      <td>81.679572</td>\n",
       "      <td>1.750456</td>\n",
       "      <td>1.000922e+09</td>\n",
       "      <td>2.408016e+09</td>\n",
       "      <td>889000000.0</td>\n",
       "      <td>209.526123</td>\n",
       "      <td>3.009321e+10</td>\n",
       "    </tr>\n",
       "    <tr>\n",
       "      <th>...</th>\n",
       "      <td>...</td>\n",
       "      <td>...</td>\n",
       "      <td>...</td>\n",
       "      <td>...</td>\n",
       "      <td>...</td>\n",
       "      <td>...</td>\n",
       "      <td>...</td>\n",
       "      <td>...</td>\n",
       "      <td>...</td>\n",
       "      <td>...</td>\n",
       "      <td>...</td>\n",
       "      <td>...</td>\n",
       "      <td>...</td>\n",
       "      <td>...</td>\n",
       "      <td>...</td>\n",
       "      <td>...</td>\n",
       "      <td>...</td>\n",
       "      <td>...</td>\n",
       "      <td>...</td>\n",
       "      <td>...</td>\n",
       "      <td>...</td>\n",
       "    </tr>\n",
       "    <tr>\n",
       "      <th>1964-01-01</th>\n",
       "      <td>NaN</td>\n",
       "      <td>NaN</td>\n",
       "      <td>NaN</td>\n",
       "      <td>NaN</td>\n",
       "      <td>3.211234e+07</td>\n",
       "      <td>NaN</td>\n",
       "      <td>NaN</td>\n",
       "      <td>NaN</td>\n",
       "      <td>NaN</td>\n",
       "      <td>NaN</td>\n",
       "      <td>...</td>\n",
       "      <td>4.829869</td>\n",
       "      <td>61.659653</td>\n",
       "      <td>0.144358</td>\n",
       "      <td>9.329002</td>\n",
       "      <td>24.037114</td>\n",
       "      <td>1.747899e+07</td>\n",
       "      <td>NaN</td>\n",
       "      <td>NaN</td>\n",
       "      <td>NaN</td>\n",
       "      <td>NaN</td>\n",
       "    </tr>\n",
       "    <tr>\n",
       "      <th>1963-01-01</th>\n",
       "      <td>NaN</td>\n",
       "      <td>NaN</td>\n",
       "      <td>NaN</td>\n",
       "      <td>NaN</td>\n",
       "      <td>6.170800e+07</td>\n",
       "      <td>NaN</td>\n",
       "      <td>NaN</td>\n",
       "      <td>NaN</td>\n",
       "      <td>NaN</td>\n",
       "      <td>NaN</td>\n",
       "      <td>...</td>\n",
       "      <td>4.975382</td>\n",
       "      <td>63.704017</td>\n",
       "      <td>0.027885</td>\n",
       "      <td>9.216913</td>\n",
       "      <td>22.075731</td>\n",
       "      <td>1.523810e+07</td>\n",
       "      <td>NaN</td>\n",
       "      <td>NaN</td>\n",
       "      <td>NaN</td>\n",
       "      <td>NaN</td>\n",
       "    </tr>\n",
       "    <tr>\n",
       "      <th>1962-01-01</th>\n",
       "      <td>NaN</td>\n",
       "      <td>NaN</td>\n",
       "      <td>NaN</td>\n",
       "      <td>NaN</td>\n",
       "      <td>5.850681e+07</td>\n",
       "      <td>NaN</td>\n",
       "      <td>NaN</td>\n",
       "      <td>NaN</td>\n",
       "      <td>NaN</td>\n",
       "      <td>NaN</td>\n",
       "      <td>...</td>\n",
       "      <td>5.090761</td>\n",
       "      <td>63.508190</td>\n",
       "      <td>0.019512</td>\n",
       "      <td>8.549708</td>\n",
       "      <td>22.831813</td>\n",
       "      <td>1.428571e+07</td>\n",
       "      <td>NaN</td>\n",
       "      <td>NaN</td>\n",
       "      <td>NaN</td>\n",
       "      <td>NaN</td>\n",
       "    </tr>\n",
       "    <tr>\n",
       "      <th>1961-01-01</th>\n",
       "      <td>NaN</td>\n",
       "      <td>NaN</td>\n",
       "      <td>NaN</td>\n",
       "      <td>NaN</td>\n",
       "      <td>7.331458e+07</td>\n",
       "      <td>NaN</td>\n",
       "      <td>NaN</td>\n",
       "      <td>NaN</td>\n",
       "      <td>NaN</td>\n",
       "      <td>NaN</td>\n",
       "      <td>...</td>\n",
       "      <td>NaN</td>\n",
       "      <td>NaN</td>\n",
       "      <td>NaN</td>\n",
       "      <td>NaN</td>\n",
       "      <td>NaN</td>\n",
       "      <td>1.857143e+07</td>\n",
       "      <td>NaN</td>\n",
       "      <td>NaN</td>\n",
       "      <td>NaN</td>\n",
       "      <td>NaN</td>\n",
       "    </tr>\n",
       "    <tr>\n",
       "      <th>1960-01-01</th>\n",
       "      <td>NaN</td>\n",
       "      <td>NaN</td>\n",
       "      <td>NaN</td>\n",
       "      <td>NaN</td>\n",
       "      <td>8.445142e+07</td>\n",
       "      <td>NaN</td>\n",
       "      <td>NaN</td>\n",
       "      <td>NaN</td>\n",
       "      <td>NaN</td>\n",
       "      <td>NaN</td>\n",
       "      <td>...</td>\n",
       "      <td>NaN</td>\n",
       "      <td>NaN</td>\n",
       "      <td>NaN</td>\n",
       "      <td>NaN</td>\n",
       "      <td>NaN</td>\n",
       "      <td>1.595238e+07</td>\n",
       "      <td>NaN</td>\n",
       "      <td>NaN</td>\n",
       "      <td>NaN</td>\n",
       "      <td>NaN</td>\n",
       "    </tr>\n",
       "  </tbody>\n",
       "</table>\n",
       "<p>64 rows × 53 columns</p>\n",
       "</div>"
      ],
      "text/plain": [
       "                    External_Debts    IMF_Credit  Short_term_debt  \\\n",
       "country date                                                        \n",
       "Tunisia 2023-01-01             NaN           NaN              NaN   \n",
       "        2022-01-01    2.285989e+10  3.108823e+09     1.368332e+10   \n",
       "        2021-01-01    2.478324e+10  3.396078e+09     1.348900e+10   \n",
       "        2020-01-01    2.766077e+10  2.824004e+09     1.063190e+10   \n",
       "        2019-01-01    2.588197e+10  2.132216e+09     1.143064e+10   \n",
       "...                            ...           ...              ...   \n",
       "        1964-01-01             NaN           NaN              NaN   \n",
       "        1963-01-01             NaN           NaN              NaN   \n",
       "        1962-01-01             NaN           NaN              NaN   \n",
       "        1961-01-01             NaN           NaN              NaN   \n",
       "        1960-01-01             NaN           NaN              NaN   \n",
       "\n",
       "                          Income  Total_Reserves  Gross_income       Exports  \\\n",
       "country date                                                                   \n",
       "Tunisia 2023-01-01           NaN             NaN           NaN           NaN   \n",
       "        2022-01-01  2.438297e+10    8.094327e+09  4.508355e+10  1.728815e+10   \n",
       "        2021-01-01  2.003173e+10    8.845557e+09  4.545718e+10  1.406734e+10   \n",
       "        2020-01-01  1.623431e+10    9.810631e+09  4.114177e+10  1.121272e+10   \n",
       "        2019-01-01  1.911497e+10    7.919981e+09  4.081334e+10  1.372394e+10   \n",
       "...                          ...             ...           ...           ...   \n",
       "        1964-01-01           NaN    3.211234e+07           NaN           NaN   \n",
       "        1963-01-01           NaN    6.170800e+07           NaN           NaN   \n",
       "        1962-01-01           NaN    5.850681e+07           NaN           NaN   \n",
       "        1961-01-01           NaN    7.331458e+07           NaN           NaN   \n",
       "        1960-01-01           NaN    8.445142e+07           NaN           NaN   \n",
       "\n",
       "                         Imports  National_Expenditure  Primary_Income  ...  \\\n",
       "country date                                                            ...   \n",
       "Tunisia 2023-01-01           NaN                   NaN             NaN  ...   \n",
       "        2022-01-01  2.841976e+10          1.610402e+11   -1.358261e+09  ...   \n",
       "        2021-01-01  2.384419e+10          1.424808e+11   -1.415476e+09  ...   \n",
       "        2020-01-01  1.934832e+10          1.293848e+11   -1.125532e+09  ...   \n",
       "        2019-01-01  2.325321e+10          1.353194e+11   -9.182011e+08  ...   \n",
       "...                          ...                   ...             ...  ...   \n",
       "        1964-01-01           NaN                   NaN             NaN  ...   \n",
       "        1963-01-01           NaN                   NaN             NaN  ...   \n",
       "        1962-01-01           NaN                   NaN             NaN  ...   \n",
       "        1961-01-01           NaN                   NaN             NaN  ...   \n",
       "        1960-01-01           NaN                   NaN             NaN  ...   \n",
       "\n",
       "                    Agri_raw_materials_exports  Food_exports  Fuel_exports  \\\n",
       "country date                                                                 \n",
       "Tunisia 2023-01-01                         NaN           NaN           NaN   \n",
       "        2022-01-01                    0.286805     11.785143      8.026770   \n",
       "        2021-01-01                    0.390872     10.817449      6.554095   \n",
       "        2020-01-01                    0.364149     13.579004      5.669923   \n",
       "        2019-01-01                    0.379957     10.654568      5.521959   \n",
       "...                                        ...           ...           ...   \n",
       "        1964-01-01                    4.829869     61.659653      0.144358   \n",
       "        1963-01-01                    4.975382     63.704017      0.027885   \n",
       "        1962-01-01                    5.090761     63.508190      0.019512   \n",
       "        1961-01-01                         NaN           NaN           NaN   \n",
       "        1960-01-01                         NaN           NaN           NaN   \n",
       "\n",
       "                    Manufacturing_exports  Ores_metal_exports  \\\n",
       "country date                                                    \n",
       "Tunisia 2023-01-01                    NaN                 NaN   \n",
       "        2022-01-01              78.104339            1.776286   \n",
       "        2021-01-01              80.189507            2.027201   \n",
       "        2020-01-01              78.538862            1.831670   \n",
       "        2019-01-01              81.679572            1.750456   \n",
       "...                                   ...                 ...   \n",
       "        1964-01-01               9.329002           24.037114   \n",
       "        1963-01-01               9.216913           22.075731   \n",
       "        1962-01-01               8.549708           22.831813   \n",
       "        1961-01-01                    NaN                 NaN   \n",
       "        1960-01-01                    NaN                 NaN   \n",
       "\n",
       "                   Military_expenditure  Education_expenditure  \\\n",
       "country date                                                     \n",
       "Tunisia 2023-01-01                  NaN                    NaN   \n",
       "        2022-01-01         1.156187e+09                    NaN   \n",
       "        2021-01-01         1.250454e+09           2.663697e+09   \n",
       "        2020-01-01         1.157372e+09           2.427326e+09   \n",
       "        2019-01-01         1.000922e+09           2.408016e+09   \n",
       "...                                 ...                    ...   \n",
       "        1964-01-01         1.747899e+07                    NaN   \n",
       "        1963-01-01         1.523810e+07                    NaN   \n",
       "        1962-01-01         1.428571e+07                    NaN   \n",
       "        1961-01-01         1.857143e+07                    NaN   \n",
       "        1960-01-01         1.595238e+07                    NaN   \n",
       "\n",
       "                    Tourism_expenditure Health_expenditure  \\\n",
       "country date                                                 \n",
       "Tunisia 2023-01-01                  NaN                NaN   \n",
       "        2022-01-01                  NaN                NaN   \n",
       "        2021-01-01                  NaN         265.464844   \n",
       "        2020-01-01          407000000.0         246.598084   \n",
       "        2019-01-01          889000000.0         209.526123   \n",
       "...                                 ...                ...   \n",
       "        1964-01-01                  NaN                NaN   \n",
       "        1963-01-01                  NaN                NaN   \n",
       "        1962-01-01                  NaN                NaN   \n",
       "        1961-01-01                  NaN                NaN   \n",
       "        1960-01-01                  NaN                NaN   \n",
       "\n",
       "                    Household_expenditure  \n",
       "country date                               \n",
       "Tunisia 2023-01-01                    NaN  \n",
       "        2022-01-01           3.414860e+10  \n",
       "        2021-01-01           3.448253e+10  \n",
       "        2020-01-01           3.147775e+10  \n",
       "        2019-01-01           3.009321e+10  \n",
       "...                                   ...  \n",
       "        1964-01-01                    NaN  \n",
       "        1963-01-01                    NaN  \n",
       "        1962-01-01                    NaN  \n",
       "        1961-01-01                    NaN  \n",
       "        1960-01-01                    NaN  \n",
       "\n",
       "[64 rows x 53 columns]"
      ]
     },
     "execution_count": 45,
     "metadata": {},
     "output_type": "execute_result"
    }
   ],
   "source": [
    "df"
   ]
  },
  {
   "cell_type": "code",
   "execution_count": 57,
   "id": "79c08d41",
   "metadata": {},
   "outputs": [],
   "source": [
    "df = pd.DataFrame(df.to_records())\n",
    "\n",
    "def formatNum(x):\n",
    "    \"\"\"Creating a function that will change units to billions and round to 0 decimal places\"\"\"\n",
    "    y = x/1000000000\n",
    "    z = round(y)\n",
    "    return(z)\n",
    "\n",
    "df = df.replace(np.nan, 0)\n",
    "df['Income'] = df['Income'].apply(formatNum)\n",
    "df['External_Debts'] = df['External_Debts'].apply(formatNum)\n",
    "df['Total_Reserves'] = df['Total_Reserves'].apply(formatNum)\n",
    "df['IMF_Credit'] = df['IMF_Credit'].apply(formatNum)\n",
    "df['Short_term_debt'] = df['Short_term_debt'].apply(formatNum)\n",
    "df['Gross_income'] = df['Gross_income'].apply(formatNum)\n",
    "df['Exports'] = df['Exports'].apply(formatNum)\n",
    "df['Imports'] = df['Imports'].apply(formatNum)\n",
    "df['National_Expenditure'] = df['National_Expenditure'].apply(formatNum)\n",
    "df['Primary_Income'] = df['Primary_Income'].apply(formatNum)\n",
    "df['Foreign_Investment'] = df['Foreign_Investment'].apply(formatNum)\n",
    "df['Grants'] = df['Grants'].apply(formatNum)\n",
    "\n",
    "#Funds \n",
    "df['SDGFUND'] = df['SDGFUND'].apply(formatNum)\n",
    "df['SPRP'] = df['SPRP'].apply(formatNum)\n",
    "df['UNAIDS'] = df['UNAIDS'].apply(formatNum)\n",
    "df['UNCDF'] = df['UNCDF'].apply(formatNum)\n",
    "df['UNICEF'] = df['UNICEF'].apply(formatNum)\n",
    "df['UNHCR'] = df['UNHCR'].apply(formatNum)\n",
    "df['UNCTAD'] = df['UNCTAD'].apply(formatNum)\n",
    "df['UNCOVID'] = df['UNCOVID'].apply(formatNum)\n",
    "df['UNDP'] = df['UNDP'].apply(formatNum)\n",
    "df['UNECE'] = df['UNECE'].apply(formatNum)\n",
    "df['UNEP'] = df['UNEP'].apply(formatNum)\n",
    "df['UNFPA'] = df['UNFPA'].apply(formatNum)\n",
    "df['UNIDIR'] = df['UNIDIR'].apply(formatNum)\n",
    "df['UNRWA'] = df['UNRWA'].apply(formatNum)\n",
    "df['UNTA'] = df['UNTA'].apply(formatNum)\n",
    "df['UNWOMEN'] = df['UNWOMEN'].apply(formatNum)\n",
    "df['UNWTO'] = df['UNWTO'].apply(formatNum)\n",
    "df['WFP'] = df['WFP'].apply(formatNum)\n",
    "df['WHO'] = df['WHO'].apply(formatNum)\n",
    "df['WTO-ITC'] = df['WTO-ITC'].apply(formatNum)\n",
    "df['Military_expenditure'] = df['Military_expenditure'].apply(formatNum)\n",
    "df['Education_expenditure'] = df['Education_expenditure'].apply(formatNum)\n",
    "df['Tourism_expenditure'] = df['Tourism_expenditure'].apply(formatNum)\n",
    "df['Health_expenditure'] = df['Health_expenditure'].apply(formatNum)\n",
    "df['Private_expenditure_health'] = df['Private_expenditure_health'].apply(formatNum)\n",
    "df['Household_expenditure'] = df['Household_expenditure'].apply(formatNum)\n",
    "df['Out_of_pocket_expenditure'] = df['Out_of_pocket_expenditure'].apply(formatNum)\n",
    "\n",
    "df['UN_FUNDS'] = df['SDGFUND']+df['SPRP']+df['UNAIDS']+df['UNCDF']+df['UNICEF']+df['UNHCR']+df['UNCTAD']+df['UNCOVID']+df['UNDP']+df['UNECE']+df['UNEP']+df['UNFPA']+df['UNIDIR']+df['UNRWA']+df['UNTA']+df['UNWOMEN']+df['UNWTO']+df['WFP']+df['WHO']+df['WTO-ITC']"
   ]
  },
  {
   "cell_type": "code",
   "execution_count": 58,
   "id": "66177516",
   "metadata": {},
   "outputs": [
    {
     "data": {
      "text/html": [
       "<div>\n",
       "<style scoped>\n",
       "    .dataframe tbody tr th:only-of-type {\n",
       "        vertical-align: middle;\n",
       "    }\n",
       "\n",
       "    .dataframe tbody tr th {\n",
       "        vertical-align: top;\n",
       "    }\n",
       "\n",
       "    .dataframe thead th {\n",
       "        text-align: right;\n",
       "    }\n",
       "</style>\n",
       "<table border=\"1\" class=\"dataframe\">\n",
       "  <thead>\n",
       "    <tr style=\"text-align: right;\">\n",
       "      <th></th>\n",
       "      <th>country</th>\n",
       "      <th>date</th>\n",
       "      <th>External_Debts</th>\n",
       "      <th>IMF_Credit</th>\n",
       "      <th>Short_term_debt</th>\n",
       "      <th>Income</th>\n",
       "      <th>Total_Reserves</th>\n",
       "      <th>Gross_income</th>\n",
       "      <th>Exports</th>\n",
       "      <th>Imports</th>\n",
       "      <th>...</th>\n",
       "      <th>Manufacturing_exports</th>\n",
       "      <th>Ores_metal_exports</th>\n",
       "      <th>Military_expenditure</th>\n",
       "      <th>Education_expenditure</th>\n",
       "      <th>Tourism_expenditure</th>\n",
       "      <th>Health_expenditure</th>\n",
       "      <th>Out_of_pocket_expenditure</th>\n",
       "      <th>Private_expenditure_health</th>\n",
       "      <th>Household_expenditure</th>\n",
       "      <th>UN_FUNDS</th>\n",
       "    </tr>\n",
       "  </thead>\n",
       "  <tbody>\n",
       "    <tr>\n",
       "      <th>0</th>\n",
       "      <td>Tunisia</td>\n",
       "      <td>2023-01-01</td>\n",
       "      <td>0</td>\n",
       "      <td>0</td>\n",
       "      <td>0</td>\n",
       "      <td>0</td>\n",
       "      <td>0</td>\n",
       "      <td>0</td>\n",
       "      <td>0</td>\n",
       "      <td>0</td>\n",
       "      <td>...</td>\n",
       "      <td>0.000000</td>\n",
       "      <td>0.000000</td>\n",
       "      <td>0</td>\n",
       "      <td>0</td>\n",
       "      <td>0</td>\n",
       "      <td>0</td>\n",
       "      <td>0</td>\n",
       "      <td>0</td>\n",
       "      <td>0</td>\n",
       "      <td>0</td>\n",
       "    </tr>\n",
       "    <tr>\n",
       "      <th>1</th>\n",
       "      <td>Tunisia</td>\n",
       "      <td>2022-01-01</td>\n",
       "      <td>23</td>\n",
       "      <td>3</td>\n",
       "      <td>14</td>\n",
       "      <td>24</td>\n",
       "      <td>8</td>\n",
       "      <td>45</td>\n",
       "      <td>17</td>\n",
       "      <td>28</td>\n",
       "      <td>...</td>\n",
       "      <td>78.104339</td>\n",
       "      <td>1.776286</td>\n",
       "      <td>1</td>\n",
       "      <td>0</td>\n",
       "      <td>0</td>\n",
       "      <td>0</td>\n",
       "      <td>0</td>\n",
       "      <td>0</td>\n",
       "      <td>34</td>\n",
       "      <td>0</td>\n",
       "    </tr>\n",
       "    <tr>\n",
       "      <th>2</th>\n",
       "      <td>Tunisia</td>\n",
       "      <td>2021-01-01</td>\n",
       "      <td>25</td>\n",
       "      <td>3</td>\n",
       "      <td>13</td>\n",
       "      <td>20</td>\n",
       "      <td>9</td>\n",
       "      <td>45</td>\n",
       "      <td>14</td>\n",
       "      <td>24</td>\n",
       "      <td>...</td>\n",
       "      <td>80.189507</td>\n",
       "      <td>2.027201</td>\n",
       "      <td>1</td>\n",
       "      <td>3</td>\n",
       "      <td>0</td>\n",
       "      <td>0</td>\n",
       "      <td>0</td>\n",
       "      <td>0</td>\n",
       "      <td>34</td>\n",
       "      <td>0</td>\n",
       "    </tr>\n",
       "    <tr>\n",
       "      <th>3</th>\n",
       "      <td>Tunisia</td>\n",
       "      <td>2020-01-01</td>\n",
       "      <td>28</td>\n",
       "      <td>3</td>\n",
       "      <td>11</td>\n",
       "      <td>16</td>\n",
       "      <td>10</td>\n",
       "      <td>41</td>\n",
       "      <td>11</td>\n",
       "      <td>19</td>\n",
       "      <td>...</td>\n",
       "      <td>78.538862</td>\n",
       "      <td>1.831670</td>\n",
       "      <td>1</td>\n",
       "      <td>2</td>\n",
       "      <td>0</td>\n",
       "      <td>0</td>\n",
       "      <td>0</td>\n",
       "      <td>0</td>\n",
       "      <td>31</td>\n",
       "      <td>0</td>\n",
       "    </tr>\n",
       "    <tr>\n",
       "      <th>4</th>\n",
       "      <td>Tunisia</td>\n",
       "      <td>2019-01-01</td>\n",
       "      <td>26</td>\n",
       "      <td>2</td>\n",
       "      <td>11</td>\n",
       "      <td>19</td>\n",
       "      <td>8</td>\n",
       "      <td>41</td>\n",
       "      <td>14</td>\n",
       "      <td>23</td>\n",
       "      <td>...</td>\n",
       "      <td>81.679572</td>\n",
       "      <td>1.750456</td>\n",
       "      <td>1</td>\n",
       "      <td>2</td>\n",
       "      <td>1</td>\n",
       "      <td>0</td>\n",
       "      <td>0</td>\n",
       "      <td>0</td>\n",
       "      <td>30</td>\n",
       "      <td>0</td>\n",
       "    </tr>\n",
       "    <tr>\n",
       "      <th>...</th>\n",
       "      <td>...</td>\n",
       "      <td>...</td>\n",
       "      <td>...</td>\n",
       "      <td>...</td>\n",
       "      <td>...</td>\n",
       "      <td>...</td>\n",
       "      <td>...</td>\n",
       "      <td>...</td>\n",
       "      <td>...</td>\n",
       "      <td>...</td>\n",
       "      <td>...</td>\n",
       "      <td>...</td>\n",
       "      <td>...</td>\n",
       "      <td>...</td>\n",
       "      <td>...</td>\n",
       "      <td>...</td>\n",
       "      <td>...</td>\n",
       "      <td>...</td>\n",
       "      <td>...</td>\n",
       "      <td>...</td>\n",
       "      <td>...</td>\n",
       "    </tr>\n",
       "    <tr>\n",
       "      <th>59</th>\n",
       "      <td>Tunisia</td>\n",
       "      <td>1964-01-01</td>\n",
       "      <td>0</td>\n",
       "      <td>0</td>\n",
       "      <td>0</td>\n",
       "      <td>0</td>\n",
       "      <td>0</td>\n",
       "      <td>0</td>\n",
       "      <td>0</td>\n",
       "      <td>0</td>\n",
       "      <td>...</td>\n",
       "      <td>9.329002</td>\n",
       "      <td>24.037114</td>\n",
       "      <td>0</td>\n",
       "      <td>0</td>\n",
       "      <td>0</td>\n",
       "      <td>0</td>\n",
       "      <td>0</td>\n",
       "      <td>0</td>\n",
       "      <td>0</td>\n",
       "      <td>0</td>\n",
       "    </tr>\n",
       "    <tr>\n",
       "      <th>60</th>\n",
       "      <td>Tunisia</td>\n",
       "      <td>1963-01-01</td>\n",
       "      <td>0</td>\n",
       "      <td>0</td>\n",
       "      <td>0</td>\n",
       "      <td>0</td>\n",
       "      <td>0</td>\n",
       "      <td>0</td>\n",
       "      <td>0</td>\n",
       "      <td>0</td>\n",
       "      <td>...</td>\n",
       "      <td>9.216913</td>\n",
       "      <td>22.075731</td>\n",
       "      <td>0</td>\n",
       "      <td>0</td>\n",
       "      <td>0</td>\n",
       "      <td>0</td>\n",
       "      <td>0</td>\n",
       "      <td>0</td>\n",
       "      <td>0</td>\n",
       "      <td>0</td>\n",
       "    </tr>\n",
       "    <tr>\n",
       "      <th>61</th>\n",
       "      <td>Tunisia</td>\n",
       "      <td>1962-01-01</td>\n",
       "      <td>0</td>\n",
       "      <td>0</td>\n",
       "      <td>0</td>\n",
       "      <td>0</td>\n",
       "      <td>0</td>\n",
       "      <td>0</td>\n",
       "      <td>0</td>\n",
       "      <td>0</td>\n",
       "      <td>...</td>\n",
       "      <td>8.549708</td>\n",
       "      <td>22.831813</td>\n",
       "      <td>0</td>\n",
       "      <td>0</td>\n",
       "      <td>0</td>\n",
       "      <td>0</td>\n",
       "      <td>0</td>\n",
       "      <td>0</td>\n",
       "      <td>0</td>\n",
       "      <td>0</td>\n",
       "    </tr>\n",
       "    <tr>\n",
       "      <th>62</th>\n",
       "      <td>Tunisia</td>\n",
       "      <td>1961-01-01</td>\n",
       "      <td>0</td>\n",
       "      <td>0</td>\n",
       "      <td>0</td>\n",
       "      <td>0</td>\n",
       "      <td>0</td>\n",
       "      <td>0</td>\n",
       "      <td>0</td>\n",
       "      <td>0</td>\n",
       "      <td>...</td>\n",
       "      <td>0.000000</td>\n",
       "      <td>0.000000</td>\n",
       "      <td>0</td>\n",
       "      <td>0</td>\n",
       "      <td>0</td>\n",
       "      <td>0</td>\n",
       "      <td>0</td>\n",
       "      <td>0</td>\n",
       "      <td>0</td>\n",
       "      <td>0</td>\n",
       "    </tr>\n",
       "    <tr>\n",
       "      <th>63</th>\n",
       "      <td>Tunisia</td>\n",
       "      <td>1960-01-01</td>\n",
       "      <td>0</td>\n",
       "      <td>0</td>\n",
       "      <td>0</td>\n",
       "      <td>0</td>\n",
       "      <td>0</td>\n",
       "      <td>0</td>\n",
       "      <td>0</td>\n",
       "      <td>0</td>\n",
       "      <td>...</td>\n",
       "      <td>0.000000</td>\n",
       "      <td>0.000000</td>\n",
       "      <td>0</td>\n",
       "      <td>0</td>\n",
       "      <td>0</td>\n",
       "      <td>0</td>\n",
       "      <td>0</td>\n",
       "      <td>0</td>\n",
       "      <td>0</td>\n",
       "      <td>0</td>\n",
       "    </tr>\n",
       "  </tbody>\n",
       "</table>\n",
       "<p>64 rows × 58 columns</p>\n",
       "</div>"
      ],
      "text/plain": [
       "    country       date  External_Debts  IMF_Credit  Short_term_debt  Income  \\\n",
       "0   Tunisia 2023-01-01               0           0                0       0   \n",
       "1   Tunisia 2022-01-01              23           3               14      24   \n",
       "2   Tunisia 2021-01-01              25           3               13      20   \n",
       "3   Tunisia 2020-01-01              28           3               11      16   \n",
       "4   Tunisia 2019-01-01              26           2               11      19   \n",
       "..      ...        ...             ...         ...              ...     ...   \n",
       "59  Tunisia 1964-01-01               0           0                0       0   \n",
       "60  Tunisia 1963-01-01               0           0                0       0   \n",
       "61  Tunisia 1962-01-01               0           0                0       0   \n",
       "62  Tunisia 1961-01-01               0           0                0       0   \n",
       "63  Tunisia 1960-01-01               0           0                0       0   \n",
       "\n",
       "    Total_Reserves  Gross_income  Exports  Imports  ...  \\\n",
       "0                0             0        0        0  ...   \n",
       "1                8            45       17       28  ...   \n",
       "2                9            45       14       24  ...   \n",
       "3               10            41       11       19  ...   \n",
       "4                8            41       14       23  ...   \n",
       "..             ...           ...      ...      ...  ...   \n",
       "59               0             0        0        0  ...   \n",
       "60               0             0        0        0  ...   \n",
       "61               0             0        0        0  ...   \n",
       "62               0             0        0        0  ...   \n",
       "63               0             0        0        0  ...   \n",
       "\n",
       "    Manufacturing_exports  Ores_metal_exports  Military_expenditure  \\\n",
       "0                0.000000            0.000000                     0   \n",
       "1               78.104339            1.776286                     1   \n",
       "2               80.189507            2.027201                     1   \n",
       "3               78.538862            1.831670                     1   \n",
       "4               81.679572            1.750456                     1   \n",
       "..                    ...                 ...                   ...   \n",
       "59               9.329002           24.037114                     0   \n",
       "60               9.216913           22.075731                     0   \n",
       "61               8.549708           22.831813                     0   \n",
       "62               0.000000            0.000000                     0   \n",
       "63               0.000000            0.000000                     0   \n",
       "\n",
       "    Education_expenditure  Tourism_expenditure  Health_expenditure  \\\n",
       "0                       0                    0                   0   \n",
       "1                       0                    0                   0   \n",
       "2                       3                    0                   0   \n",
       "3                       2                    0                   0   \n",
       "4                       2                    1                   0   \n",
       "..                    ...                  ...                 ...   \n",
       "59                      0                    0                   0   \n",
       "60                      0                    0                   0   \n",
       "61                      0                    0                   0   \n",
       "62                      0                    0                   0   \n",
       "63                      0                    0                   0   \n",
       "\n",
       "    Out_of_pocket_expenditure  Private_expenditure_health  \\\n",
       "0                           0                           0   \n",
       "1                           0                           0   \n",
       "2                           0                           0   \n",
       "3                           0                           0   \n",
       "4                           0                           0   \n",
       "..                        ...                         ...   \n",
       "59                          0                           0   \n",
       "60                          0                           0   \n",
       "61                          0                           0   \n",
       "62                          0                           0   \n",
       "63                          0                           0   \n",
       "\n",
       "    Household_expenditure  UN_FUNDS  \n",
       "0                       0         0  \n",
       "1                      34         0  \n",
       "2                      34         0  \n",
       "3                      31         0  \n",
       "4                      30         0  \n",
       "..                    ...       ...  \n",
       "59                      0         0  \n",
       "60                      0         0  \n",
       "61                      0         0  \n",
       "62                      0         0  \n",
       "63                      0         0  \n",
       "\n",
       "[64 rows x 58 columns]"
      ]
     },
     "execution_count": 58,
     "metadata": {},
     "output_type": "execute_result"
    }
   ],
   "source": [
    "df"
   ]
  },
  {
   "cell_type": "code",
   "execution_count": 59,
   "id": "665f614e",
   "metadata": {},
   "outputs": [
    {
     "data": {
      "image/png": "[encoded data removed]",
      "text/plain": [
       "<Figure size 640x480 with 1 Axes>"
      ]
     },
     "metadata": {},
     "output_type": "display_data"
    }
   ],
   "source": [
    "plt.figure()\n",
    "plt.plot(df['date'],df['External_Debts'],label='External Debts')\n",
    "plt.plot(df['date'],df['IMF_Credit'],label='IMF Credit')\n",
    "plt.plot(df['date'],df['Short_term_debt'],label='Short Term Debt')\n",
    "plt.plot(df['date'],df['Gross_income'],label='Gross Income')\n",
    "plt.plot(df['date'],df['Exports'],label='Exports')\n",
    "plt.plot(df['date'],df['Imports'],label='Imports')\n",
    "plt.plot(df['date'],df['National_Expenditure'],label='National Expenditure')\n",
    "plt.plot(df['date'],df['UN_FUNDS'],label='UN_FUNDS')\n",
    "plt.legend() \n",
    "plt.show()"
   ]
  },
  {
   "cell_type": "code",
   "execution_count": 60,
   "id": "95dc2d6f",
   "metadata": {},
   "outputs": [
    {
     "data": {
      "application/vnd.plotly.v1+json": {
       "config": {
        "plotlyServerURL": "https://plot.ly"
       },
       "data": [
        {
         "mode": "lines+markers",
         "name": "External Debts",
         "type": "scatter",
         "x": [
          "2023-01-01T00:00:00",
          "2022-01-01T00:00:00",
          "2021-01-01T00:00:00",
          "2020-01-01T00:00:00",
          "2019-01-01T00:00:00",
          "2018-01-01T00:00:00",
          "2017-01-01T00:00:00",
          "2016-01-01T00:00:00",
          "2015-01-01T00:00:00",
          "2014-01-01T00:00:00",
          "2013-01-01T00:00:00",
          "2012-01-01T00:00:00",
          "2011-01-01T00:00:00",
          "2010-01-01T00:00:00",
          "2009-01-01T00:00:00",
          "2008-01-01T00:00:00",
          "2007-01-01T00:00:00",
          "2006-01-01T00:00:00",
          "2005-01-01T00:00:00",
          "2004-01-01T00:00:00",
          "2003-01-01T00:00:00",
          "2002-01-01T00:00:00",
          "2001-01-01T00:00:00",
          "2000-01-01T00:00:00",
          "1999-01-01T00:00:00",
          "1998-01-01T00:00:00",
          "1997-01-01T00:00:00",
          "1996-01-01T00:00:00",
          "1995-01-01T00:00:00",
          "1994-01-01T00:00:00",
          "1993-01-01T00:00:00",
          "1992-01-01T00:00:00",
          "1991-01-01T00:00:00",
          "1990-01-01T00:00:00",
          "1989-01-01T00:00:00",
          "1988-01-01T00:00:00",
          "1987-01-01T00:00:00",
          "1986-01-01T00:00:00",
          "1985-01-01T00:00:00",
          "1984-01-01T00:00:00",
          "1983-01-01T00:00:00",
          "1982-01-01T00:00:00",
          "1981-01-01T00:00:00",
          "1980-01-01T00:00:00",
          "1979-01-01T00:00:00",
          "1978-01-01T00:00:00",
          "1977-01-01T00:00:00",
          "1976-01-01T00:00:00",
          "1975-01-01T00:00:00",
          "1974-01-01T00:00:00",
          "1973-01-01T00:00:00",
          "1972-01-01T00:00:00",
          "1971-01-01T00:00:00",
          "1970-01-01T00:00:00",
          "1969-01-01T00:00:00",
          "1968-01-01T00:00:00",
          "1967-01-01T00:00:00",
          "1966-01-01T00:00:00",
          "1965-01-01T00:00:00",
          "1964-01-01T00:00:00",
          "1963-01-01T00:00:00",
          "1962-01-01T00:00:00",
          "1961-01-01T00:00:00",
          "1960-01-01T00:00:00"
         ],
         "y": [
          0,
          23,
          25,
          28,
          26,
          25,
          24,
          20,
          19,
          19,
          19,
          19,
          17,
          17,
          18,
          17,
          17,
          15,
          15,
          16,
          15,
          12,
          10,
          10,
          10,
          10,
          10,
          10,
          9,
          8,
          8,
          7,
          7,
          7,
          6,
          6,
          6,
          6,
          5,
          4,
          4,
          4,
          3,
          3,
          3,
          3,
          2,
          1,
          1,
          1,
          1,
          1,
          1,
          1,
          0,
          0,
          0,
          0,
          0,
          0,
          0,
          0,
          0,
          0
         ]
        },
        {
         "mode": "lines+markers",
         "name": "IMF Credit",
         "type": "scatter",
         "x": [
          "2023-01-01T00:00:00",
          "2022-01-01T00:00:00",
          "2021-01-01T00:00:00",
          "2020-01-01T00:00:00",
          "2019-01-01T00:00:00",
          "2018-01-01T00:00:00",
          "2017-01-01T00:00:00",
          "2016-01-01T00:00:00",
          "2015-01-01T00:00:00",
          "2014-01-01T00:00:00",
          "2013-01-01T00:00:00",
          "2012-01-01T00:00:00",
          "2011-01-01T00:00:00",
          "2010-01-01T00:00:00",
          "2009-01-01T00:00:00",
          "2008-01-01T00:00:00",
          "2007-01-01T00:00:00",
          "2006-01-01T00:00:00",
          "2005-01-01T00:00:00",
          "2004-01-01T00:00:00",
          "2003-01-01T00:00:00",
          "2002-01-01T00:00:00",
          "2001-01-01T00:00:00",
          "2000-01-01T00:00:00",
          "1999-01-01T00:00:00",
          "1998-01-01T00:00:00",
          "1997-01-01T00:00:00",
          "1996-01-01T00:00:00",
          "1995-01-01T00:00:00",
          "1994-01-01T00:00:00",
          "1993-01-01T00:00:00",
          "1992-01-01T00:00:00",
          "1991-01-01T00:00:00",
          "1990-01-01T00:00:00",
          "1989-01-01T00:00:00",
          "1988-01-01T00:00:00",
          "1987-01-01T00:00:00",
          "1986-01-01T00:00:00",
          "1985-01-01T00:00:00",
          "1984-01-01T00:00:00",
          "1983-01-01T00:00:00",
          "1982-01-01T00:00:00",
          "1981-01-01T00:00:00",
          "1980-01-01T00:00:00",
          "1979-01-01T00:00:00",
          "1978-01-01T00:00:00",
          "1977-01-01T00:00:00",
          "1976-01-01T00:00:00",
          "1975-01-01T00:00:00",
          "1974-01-01T00:00:00",
          "1973-01-01T00:00:00",
          "1972-01-01T00:00:00",
          "1971-01-01T00:00:00",
          "1970-01-01T00:00:00",
          "1969-01-01T00:00:00",
          "1968-01-01T00:00:00",
          "1967-01-01T00:00:00",
          "1966-01-01T00:00:00",
          "1965-01-01T00:00:00",
          "1964-01-01T00:00:00",
          "1963-01-01T00:00:00",
          "1962-01-01T00:00:00",
          "1961-01-01T00:00:00",
          "1960-01-01T00:00:00"
         ],
         "y": [
          0,
          3,
          3,
          3,
          2,
          2,
          2,
          2,
          2,
          2,
          1,
          0,
          0,
          0,
          0,
          0,
          0,
          0,
          0,
          0,
          0,
          0,
          0,
          0,
          0,
          0,
          0,
          0,
          0,
          0,
          0,
          0,
          0,
          0,
          0,
          0,
          0,
          0,
          0,
          0,
          0,
          0,
          0,
          0,
          0,
          0,
          0,
          0,
          0,
          0,
          0,
          0,
          0,
          0,
          0,
          0,
          0,
          0,
          0,
          0,
          0,
          0,
          0,
          0
         ]
        },
        {
         "mode": "lines+markers",
         "name": "Short Term Debt",
         "type": "scatter",
         "x": [
          "2023-01-01T00:00:00",
          "2022-01-01T00:00:00",
          "2021-01-01T00:00:00",
          "2020-01-01T00:00:00",
          "2019-01-01T00:00:00",
          "2018-01-01T00:00:00",
          "2017-01-01T00:00:00",
          "2016-01-01T00:00:00",
          "2015-01-01T00:00:00",
          "2014-01-01T00:00:00",
          "2013-01-01T00:00:00",
          "2012-01-01T00:00:00",
          "2011-01-01T00:00:00",
          "2010-01-01T00:00:00",
          "2009-01-01T00:00:00",
          "2008-01-01T00:00:00",
          "2007-01-01T00:00:00",
          "2006-01-01T00:00:00",
          "2005-01-01T00:00:00",
          "2004-01-01T00:00:00",
          "2003-01-01T00:00:00",
          "2002-01-01T00:00:00",
          "2001-01-01T00:00:00",
          "2000-01-01T00:00:00",
          "1999-01-01T00:00:00",
          "1998-01-01T00:00:00",
          "1997-01-01T00:00:00",
          "1996-01-01T00:00:00",
          "1995-01-01T00:00:00",
          "1994-01-01T00:00:00",
          "1993-01-01T00:00:00",
          "1992-01-01T00:00:00",
          "1991-01-01T00:00:00",
          "1990-01-01T00:00:00",
          "1989-01-01T00:00:00",
          "1988-01-01T00:00:00",
          "1987-01-01T00:00:00",
          "1986-01-01T00:00:00",
          "1985-01-01T00:00:00",
          "1984-01-01T00:00:00",
          "1983-01-01T00:00:00",
          "1982-01-01T00:00:00",
          "1981-01-01T00:00:00",
          "1980-01-01T00:00:00",
          "1979-01-01T00:00:00",
          "1978-01-01T00:00:00",
          "1977-01-01T00:00:00",
          "1976-01-01T00:00:00",
          "1975-01-01T00:00:00",
          "1974-01-01T00:00:00",
          "1973-01-01T00:00:00",
          "1972-01-01T00:00:00",
          "1971-01-01T00:00:00",
          "1970-01-01T00:00:00",
          "1969-01-01T00:00:00",
          "1968-01-01T00:00:00",
          "1967-01-01T00:00:00",
          "1966-01-01T00:00:00",
          "1965-01-01T00:00:00",
          "1964-01-01T00:00:00",
          "1963-01-01T00:00:00",
          "1962-01-01T00:00:00",
          "1961-01-01T00:00:00",
          "1960-01-01T00:00:00"
         ],
         "y": [
          0,
          14,
          13,
          11,
          11,
          8,
          7,
          7,
          7,
          7,
          7,
          6,
          5,
          5,
          5,
          4,
          4,
          3,
          3,
          3,
          3,
          3,
          3,
          2,
          2,
          1,
          2,
          2,
          1,
          1,
          1,
          1,
          1,
          1,
          0,
          0,
          0,
          0,
          0,
          0,
          0,
          0,
          0,
          0,
          0,
          0,
          0,
          0,
          0,
          0,
          0,
          0,
          0,
          0,
          0,
          0,
          0,
          0,
          0,
          0,
          0,
          0,
          0,
          0
         ]
        },
        {
         "mode": "lines+markers",
         "name": "Income",
         "type": "scatter",
         "x": [
          "2023-01-01T00:00:00",
          "2022-01-01T00:00:00",
          "2021-01-01T00:00:00",
          "2020-01-01T00:00:00",
          "2019-01-01T00:00:00",
          "2018-01-01T00:00:00",
          "2017-01-01T00:00:00",
          "2016-01-01T00:00:00",
          "2015-01-01T00:00:00",
          "2014-01-01T00:00:00",
          "2013-01-01T00:00:00",
          "2012-01-01T00:00:00",
          "2011-01-01T00:00:00",
          "2010-01-01T00:00:00",
          "2009-01-01T00:00:00",
          "2008-01-01T00:00:00",
          "2007-01-01T00:00:00",
          "2006-01-01T00:00:00",
          "2005-01-01T00:00:00",
          "2004-01-01T00:00:00",
          "2003-01-01T00:00:00",
          "2002-01-01T00:00:00",
          "2001-01-01T00:00:00",
          "2000-01-01T00:00:00",
          "1999-01-01T00:00:00",
          "1998-01-01T00:00:00",
          "1997-01-01T00:00:00",
          "1996-01-01T00:00:00",
          "1995-01-01T00:00:00",
          "1994-01-01T00:00:00",
          "1993-01-01T00:00:00",
          "1992-01-01T00:00:00",
          "1991-01-01T00:00:00",
          "1990-01-01T00:00:00",
          "1989-01-01T00:00:00",
          "1988-01-01T00:00:00",
          "1987-01-01T00:00:00",
          "1986-01-01T00:00:00",
          "1985-01-01T00:00:00",
          "1984-01-01T00:00:00",
          "1983-01-01T00:00:00",
          "1982-01-01T00:00:00",
          "1981-01-01T00:00:00",
          "1980-01-01T00:00:00",
          "1979-01-01T00:00:00",
          "1978-01-01T00:00:00",
          "1977-01-01T00:00:00",
          "1976-01-01T00:00:00",
          "1975-01-01T00:00:00",
          "1974-01-01T00:00:00",
          "1973-01-01T00:00:00",
          "1972-01-01T00:00:00",
          "1971-01-01T00:00:00",
          "1970-01-01T00:00:00",
          "1969-01-01T00:00:00",
          "1968-01-01T00:00:00",
          "1967-01-01T00:00:00",
          "1966-01-01T00:00:00",
          "1965-01-01T00:00:00",
          "1964-01-01T00:00:00",
          "1963-01-01T00:00:00",
          "1962-01-01T00:00:00",
          "1961-01-01T00:00:00",
          "1960-01-01T00:00:00"
         ],
         "y": [
          0,
          45,
          45,
          41,
          41,
          42,
          41,
          43,
          45,
          49,
          47,
          45,
          46,
          44,
          41,
          42,
          37,
          33,
          31,
          30,
          26,
          22,
          21,
          21,
          22,
          21,
          20,
          19,
          17,
          15,
          14,
          15,
          13,
          12,
          10,
          10,
          9,
          9,
          8,
          8,
          8,
          8,
          8,
          8,
          7,
          6,
          5,
          4,
          4,
          3,
          3,
          2,
          2,
          1,
          1,
          1,
          1,
          1,
          1,
          0,
          0,
          0,
          0,
          0
         ]
        },
        {
         "mode": "lines+markers",
         "name": "Exports",
         "type": "scatter",
         "x": [
          "2023-01-01T00:00:00",
          "2022-01-01T00:00:00",
          "2021-01-01T00:00:00",
          "2020-01-01T00:00:00",
          "2019-01-01T00:00:00",
          "2018-01-01T00:00:00",
          "2017-01-01T00:00:00",
          "2016-01-01T00:00:00",
          "2015-01-01T00:00:00",
          "2014-01-01T00:00:00",
          "2013-01-01T00:00:00",
          "2012-01-01T00:00:00",
          "2011-01-01T00:00:00",
          "2010-01-01T00:00:00",
          "2009-01-01T00:00:00",
          "2008-01-01T00:00:00",
          "2007-01-01T00:00:00",
          "2006-01-01T00:00:00",
          "2005-01-01T00:00:00",
          "2004-01-01T00:00:00",
          "2003-01-01T00:00:00",
          "2002-01-01T00:00:00",
          "2001-01-01T00:00:00",
          "2000-01-01T00:00:00",
          "1999-01-01T00:00:00",
          "1998-01-01T00:00:00",
          "1997-01-01T00:00:00",
          "1996-01-01T00:00:00",
          "1995-01-01T00:00:00",
          "1994-01-01T00:00:00",
          "1993-01-01T00:00:00",
          "1992-01-01T00:00:00",
          "1991-01-01T00:00:00",
          "1990-01-01T00:00:00",
          "1989-01-01T00:00:00",
          "1988-01-01T00:00:00",
          "1987-01-01T00:00:00",
          "1986-01-01T00:00:00",
          "1985-01-01T00:00:00",
          "1984-01-01T00:00:00",
          "1983-01-01T00:00:00",
          "1982-01-01T00:00:00",
          "1981-01-01T00:00:00",
          "1980-01-01T00:00:00",
          "1979-01-01T00:00:00",
          "1978-01-01T00:00:00",
          "1977-01-01T00:00:00",
          "1976-01-01T00:00:00",
          "1975-01-01T00:00:00",
          "1974-01-01T00:00:00",
          "1973-01-01T00:00:00",
          "1972-01-01T00:00:00",
          "1971-01-01T00:00:00",
          "1970-01-01T00:00:00",
          "1969-01-01T00:00:00",
          "1968-01-01T00:00:00",
          "1967-01-01T00:00:00",
          "1966-01-01T00:00:00",
          "1965-01-01T00:00:00",
          "1964-01-01T00:00:00",
          "1963-01-01T00:00:00",
          "1962-01-01T00:00:00",
          "1961-01-01T00:00:00",
          "1960-01-01T00:00:00"
         ],
         "y": [
          0,
          17,
          14,
          11,
          14,
          14,
          18,
          17,
          17,
          22,
          22,
          22,
          22,
          22,
          20,
          25,
          20,
          16,
          15,
          14,
          11,
          9,
          9,
          9,
          9,
          8,
          8,
          8,
          8,
          7,
          6,
          6,
          5,
          5,
          4,
          4,
          3,
          3,
          3,
          3,
          3,
          3,
          3,
          3,
          3,
          2,
          1,
          1,
          0,
          0,
          0,
          0,
          0,
          0,
          0,
          0,
          0,
          0,
          0,
          0,
          0,
          0,
          0,
          0
         ]
        },
        {
         "mode": "lines+markers",
         "name": "Imports",
         "type": "scatter",
         "x": [
          "2023-01-01T00:00:00",
          "2022-01-01T00:00:00",
          "2021-01-01T00:00:00",
          "2020-01-01T00:00:00",
          "2019-01-01T00:00:00",
          "2018-01-01T00:00:00",
          "2017-01-01T00:00:00",
          "2016-01-01T00:00:00",
          "2015-01-01T00:00:00",
          "2014-01-01T00:00:00",
          "2013-01-01T00:00:00",
          "2012-01-01T00:00:00",
          "2011-01-01T00:00:00",
          "2010-01-01T00:00:00",
          "2009-01-01T00:00:00",
          "2008-01-01T00:00:00",
          "2007-01-01T00:00:00",
          "2006-01-01T00:00:00",
          "2005-01-01T00:00:00",
          "2004-01-01T00:00:00",
          "2003-01-01T00:00:00",
          "2002-01-01T00:00:00",
          "2001-01-01T00:00:00",
          "2000-01-01T00:00:00",
          "1999-01-01T00:00:00",
          "1998-01-01T00:00:00",
          "1997-01-01T00:00:00",
          "1996-01-01T00:00:00",
          "1995-01-01T00:00:00",
          "1994-01-01T00:00:00",
          "1993-01-01T00:00:00",
          "1992-01-01T00:00:00",
          "1991-01-01T00:00:00",
          "1990-01-01T00:00:00",
          "1989-01-01T00:00:00",
          "1988-01-01T00:00:00",
          "1987-01-01T00:00:00",
          "1986-01-01T00:00:00",
          "1985-01-01T00:00:00",
          "1984-01-01T00:00:00",
          "1983-01-01T00:00:00",
          "1982-01-01T00:00:00",
          "1981-01-01T00:00:00",
          "1980-01-01T00:00:00",
          "1979-01-01T00:00:00",
          "1978-01-01T00:00:00",
          "1977-01-01T00:00:00",
          "1976-01-01T00:00:00",
          "1975-01-01T00:00:00",
          "1974-01-01T00:00:00",
          "1973-01-01T00:00:00",
          "1972-01-01T00:00:00",
          "1971-01-01T00:00:00",
          "1970-01-01T00:00:00",
          "1969-01-01T00:00:00",
          "1968-01-01T00:00:00",
          "1967-01-01T00:00:00",
          "1966-01-01T00:00:00",
          "1965-01-01T00:00:00",
          "1964-01-01T00:00:00",
          "1963-01-01T00:00:00",
          "1962-01-01T00:00:00",
          "1961-01-01T00:00:00",
          "1960-01-01T00:00:00"
         ],
         "y": [
          0,
          28,
          24,
          19,
          23,
          25,
          23,
          22,
          22,
          27,
          26,
          26,
          26,
          24,
          21,
          26,
          21,
          16,
          15,
          14,
          12,
          10,
          10,
          9,
          9,
          9,
          9,
          9,
          9,
          7,
          7,
          7,
          6,
          6,
          5,
          4,
          3,
          3,
          3,
          4,
          4,
          4,
          4,
          4,
          3,
          2,
          2,
          2,
          1,
          1,
          1,
          1,
          0,
          0,
          0,
          0,
          0,
          0,
          0,
          0,
          0,
          0,
          0,
          0
         ]
        },
        {
         "mode": "lines+markers",
         "name": "National_Expenditure",
         "type": "scatter",
         "x": [
          "2023-01-01T00:00:00",
          "2022-01-01T00:00:00",
          "2021-01-01T00:00:00",
          "2020-01-01T00:00:00",
          "2019-01-01T00:00:00",
          "2018-01-01T00:00:00",
          "2017-01-01T00:00:00",
          "2016-01-01T00:00:00",
          "2015-01-01T00:00:00",
          "2014-01-01T00:00:00",
          "2013-01-01T00:00:00",
          "2012-01-01T00:00:00",
          "2011-01-01T00:00:00",
          "2010-01-01T00:00:00",
          "2009-01-01T00:00:00",
          "2008-01-01T00:00:00",
          "2007-01-01T00:00:00",
          "2006-01-01T00:00:00",
          "2005-01-01T00:00:00",
          "2004-01-01T00:00:00",
          "2003-01-01T00:00:00",
          "2002-01-01T00:00:00",
          "2001-01-01T00:00:00",
          "2000-01-01T00:00:00",
          "1999-01-01T00:00:00",
          "1998-01-01T00:00:00",
          "1997-01-01T00:00:00",
          "1996-01-01T00:00:00",
          "1995-01-01T00:00:00",
          "1994-01-01T00:00:00",
          "1993-01-01T00:00:00",
          "1992-01-01T00:00:00",
          "1991-01-01T00:00:00",
          "1990-01-01T00:00:00",
          "1989-01-01T00:00:00",
          "1988-01-01T00:00:00",
          "1987-01-01T00:00:00",
          "1986-01-01T00:00:00",
          "1985-01-01T00:00:00",
          "1984-01-01T00:00:00",
          "1983-01-01T00:00:00",
          "1982-01-01T00:00:00",
          "1981-01-01T00:00:00",
          "1980-01-01T00:00:00",
          "1979-01-01T00:00:00",
          "1978-01-01T00:00:00",
          "1977-01-01T00:00:00",
          "1976-01-01T00:00:00",
          "1975-01-01T00:00:00",
          "1974-01-01T00:00:00",
          "1973-01-01T00:00:00",
          "1972-01-01T00:00:00",
          "1971-01-01T00:00:00",
          "1970-01-01T00:00:00",
          "1969-01-01T00:00:00",
          "1968-01-01T00:00:00",
          "1967-01-01T00:00:00",
          "1966-01-01T00:00:00",
          "1965-01-01T00:00:00",
          "1964-01-01T00:00:00",
          "1963-01-01T00:00:00",
          "1962-01-01T00:00:00",
          "1961-01-01T00:00:00",
          "1960-01-01T00:00:00"
         ],
         "y": [
          0,
          161,
          142,
          129,
          135,
          128,
          115,
          105,
          99,
          94,
          87,
          81,
          73,
          69,
          60,
          57,
          51,
          47,
          42,
          40,
          37,
          34,
          33,
          30,
          28,
          26,
          23,
          19,
          18,
          16,
          16,
          15,
          13,
          12,
          10,
          9,
          8,
          8,
          7,
          7,
          6,
          5,
          5,
          4,
          3,
          3,
          2,
          2,
          2,
          1,
          1,
          1,
          1,
          1,
          1,
          1,
          1,
          1,
          0,
          0,
          0,
          0,
          0,
          0
         ]
        }
       ],
       "layout": {
        "template": {
         "data": {
          "bar": [
           {
            "error_x": {
             "color": "#2a3f5f"
            },
            "error_y": {
             "color": "#2a3f5f"
            },
            "marker": {
             "line": {
              "color": "#E5ECF6",
              "width": 0.5
             },
             "pattern": {
              "fillmode": "overlay",
              "size": 10,
              "solidity": 0.2
             }
            },
            "type": "bar"
           }
          ],
          "barpolar": [
           {
            "marker": {
             "line": {
              "color": "#E5ECF6",
              "width": 0.5
             },
             "pattern": {
              "fillmode": "overlay",
              "size": 10,
              "solidity": 0.2
             }
            },
            "type": "barpolar"
           }
          ],
          "carpet": [
           {
            "aaxis": {
             "endlinecolor": "#2a3f5f",
             "gridcolor": "white",
             "linecolor": "white",
             "minorgridcolor": "white",
             "startlinecolor": "#2a3f5f"
            },
            "baxis": {
             "endlinecolor": "#2a3f5f",
             "gridcolor": "white",
             "linecolor": "white",
             "minorgridcolor": "white",
             "startlinecolor": "#2a3f5f"
            },
            "type": "carpet"
           }
          ],
          "choropleth": [
           {
            "colorbar": {
             "outlinewidth": 0,
             "ticks": ""
            },
            "type": "choropleth"
           }
          ],
          "contour": [
           {
            "colorbar": {
             "outlinewidth": 0,
             "ticks": ""
            },
            "colorscale": [
             [
              0,
              "#0d0887"
             ],
             [
              0.1111111111111111,
              "#46039f"
             ],
             [
              0.2222222222222222,
              "#7201a8"
             ],
             [
              0.3333333333333333,
              "#9c179e"
             ],
             [
              0.4444444444444444,
              "#bd3786"
             ],
             [
              0.5555555555555556,
              "#d8576b"
             ],
             [
              0.6666666666666666,
              "#ed7953"
             ],
             [
              0.7777777777777778,
              "#fb9f3a"
             ],
             [
              0.8888888888888888,
              "#fdca26"
             ],
             [
              1,
              "#f0f921"
             ]
            ],
            "type": "contour"
           }
          ],
          "contourcarpet": [
           {
            "colorbar": {
             "outlinewidth": 0,
             "ticks": ""
            },
            "type": "contourcarpet"
           }
          ],
          "heatmap": [
           {
            "colorbar": {
             "outlinewidth": 0,
             "ticks": ""
            },
            "colorscale": [
             [
              0,
              "#0d0887"
             ],
             [
              0.1111111111111111,
              "#46039f"
             ],
             [
              0.2222222222222222,
              "#7201a8"
             ],
             [
              0.3333333333333333,
              "#9c179e"
             ],
             [
              0.4444444444444444,
              "#bd3786"
             ],
             [
              0.5555555555555556,
              "#d8576b"
             ],
             [
              0.6666666666666666,
              "#ed7953"
             ],
             [
              0.7777777777777778,
              "#fb9f3a"
             ],
             [
              0.8888888888888888,
              "#fdca26"
             ],
             [
              1,
              "#f0f921"
             ]
            ],
            "type": "heatmap"
           }
          ],
          "heatmapgl": [
           {
            "colorbar": {
             "outlinewidth": 0,
             "ticks": ""
            },
            "colorscale": [
             [
              0,
              "#0d0887"
             ],
             [
              0.1111111111111111,
              "#46039f"
             ],
             [
              0.2222222222222222,
              "#7201a8"
             ],
             [
              0.3333333333333333,
              "#9c179e"
             ],
             [
              0.4444444444444444,
              "#bd3786"
             ],
             [
              0.5555555555555556,
              "#d8576b"
             ],
             [
              0.6666666666666666,
              "#ed7953"
             ],
             [
              0.7777777777777778,
              "#fb9f3a"
             ],
             [
              0.8888888888888888,
              "#fdca26"
             ],
             [
              1,
              "#f0f921"
             ]
            ],
            "type": "heatmapgl"
           }
          ],
          "histogram": [
           {
            "marker": {
             "pattern": {
              "fillmode": "overlay",
              "size": 10,
              "solidity": 0.2
             }
            },
            "type": "histogram"
           }
          ],
          "histogram2d": [
           {
            "colorbar": {
             "outlinewidth": 0,
             "ticks": ""
            },
            "colorscale": [
             [
              0,
              "#0d0887"
             ],
             [
              0.1111111111111111,
              "#46039f"
             ],
             [
              0.2222222222222222,
              "#7201a8"
             ],
             [
              0.3333333333333333,
              "#9c179e"
             ],
             [
              0.4444444444444444,
              "#bd3786"
             ],
             [
              0.5555555555555556,
              "#d8576b"
             ],
             [
              0.6666666666666666,
              "#ed7953"
             ],
             [
              0.7777777777777778,
              "#fb9f3a"
             ],
             [
              0.8888888888888888,
              "#fdca26"
             ],
             [
              1,
              "#f0f921"
             ]
            ],
            "type": "histogram2d"
           }
          ],
          "histogram2dcontour": [
           {
            "colorbar": {
             "outlinewidth": 0,
             "ticks": ""
            },
            "colorscale": [
             [
              0,
              "#0d0887"
             ],
             [
              0.1111111111111111,
              "#46039f"
             ],
             [
              0.2222222222222222,
              "#7201a8"
             ],
             [
              0.3333333333333333,
              "#9c179e"
             ],
             [
              0.4444444444444444,
              "#bd3786"
             ],
             [
              0.5555555555555556,
              "#d8576b"
             ],
             [
              0.6666666666666666,
              "#ed7953"
             ],
             [
              0.7777777777777778,
              "#fb9f3a"
             ],
             [
              0.8888888888888888,
              "#fdca26"
             ],
             [
              1,
              "#f0f921"
             ]
            ],
            "type": "histogram2dcontour"
           }
          ],
          "mesh3d": [
           {
            "colorbar": {
             "outlinewidth": 0,
             "ticks": ""
            },
            "type": "mesh3d"
           }
          ],
          "parcoords": [
           {
            "line": {
             "colorbar": {
              "outlinewidth": 0,
              "ticks": ""
             }
            },
            "type": "parcoords"
           }
          ],
          "pie": [
           {
            "automargin": true,
            "type": "pie"
           }
          ],
          "scatter": [
           {
            "fillpattern": {
             "fillmode": "overlay",
             "size": 10,
             "solidity": 0.2
            },
            "type": "scatter"
           }
          ],
          "scatter3d": [
           {
            "line": {
             "colorbar": {
              "outlinewidth": 0,
              "ticks": ""
             }
            },
            "marker": {
             "colorbar": {
              "outlinewidth": 0,
              "ticks": ""
             }
            },
            "type": "scatter3d"
           }
          ],
          "scattercarpet": [
           {
            "marker": {
             "colorbar": {
              "outlinewidth": 0,
              "ticks": ""
             }
            },
            "type": "scattercarpet"
           }
          ],
          "scattergeo": [
           {
            "marker": {
             "colorbar": {
              "outlinewidth": 0,
              "ticks": ""
             }
            },
            "type": "scattergeo"
           }
          ],
          "scattergl": [
           {
            "marker": {
             "colorbar": {
              "outlinewidth": 0,
              "ticks": ""
             }
            },
            "type": "scattergl"
           }
          ],
          "scattermapbox": [
           {
            "marker": {
             "colorbar": {
              "outlinewidth": 0,
              "ticks": ""
             }
            },
            "type": "scattermapbox"
           }
          ],
          "scatterpolar": [
           {
            "marker": {
             "colorbar": {
              "outlinewidth": 0,
              "ticks": ""
             }
            },
            "type": "scatterpolar"
           }
          ],
          "scatterpolargl": [
           {
            "marker": {
             "colorbar": {
              "outlinewidth": 0,
              "ticks": ""
             }
            },
            "type": "scatterpolargl"
           }
          ],
          "scatterternary": [
           {
            "marker": {
             "colorbar": {
              "outlinewidth": 0,
              "ticks": ""
             }
            },
            "type": "scatterternary"
           }
          ],
          "surface": [
           {
            "colorbar": {
             "outlinewidth": 0,
             "ticks": ""
            },
            "colorscale": [
             [
              0,
              "#0d0887"
             ],
             [
              0.1111111111111111,
              "#46039f"
             ],
             [
              0.2222222222222222,
              "#7201a8"
             ],
             [
              0.3333333333333333,
              "#9c179e"
             ],
             [
              0.4444444444444444,
              "#bd3786"
             ],
             [
              0.5555555555555556,
              "#d8576b"
             ],
             [
              0.6666666666666666,
              "#ed7953"
             ],
             [
              0.7777777777777778,
              "#fb9f3a"
             ],
             [
              0.8888888888888888,
              "#fdca26"
             ],
             [
              1,
              "#f0f921"
             ]
            ],
            "type": "surface"
           }
          ],
          "table": [
           {
            "cells": {
             "fill": {
              "color": "#EBF0F8"
             },
             "line": {
              "color": "white"
             }
            },
            "header": {
             "fill": {
              "color": "#C8D4E3"
             },
             "line": {
              "color": "white"
             }
            },
            "type": "table"
           }
          ]
         },
         "layout": {
          "annotationdefaults": {
           "arrowcolor": "#2a3f5f",
           "arrowhead": 0,
           "arrowwidth": 1
          },
          "autotypenumbers": "strict",
          "coloraxis": {
           "colorbar": {
            "outlinewidth": 0,
            "ticks": ""
           }
          },
          "colorscale": {
           "diverging": [
            [
             0,
             "#8e0152"
            ],
            [
             0.1,
             "#c51b7d"
            ],
            [
             0.2,
             "#de77ae"
            ],
            [
             0.3,
             "#f1b6da"
            ],
            [
             0.4,
             "#fde0ef"
            ],
            [
             0.5,
             "#f7f7f7"
            ],
            [
             0.6,
             "#e6f5d0"
            ],
            [
             0.7,
             "#b8e186"
            ],
            [
             0.8,
             "#7fbc41"
            ],
            [
             0.9,
             "#4d9221"
            ],
            [
             1,
             "#276419"
            ]
           ],
           "sequential": [
            [
             0,
             "#0d0887"
            ],
            [
             0.1111111111111111,
             "#46039f"
            ],
            [
             0.2222222222222222,
             "#7201a8"
            ],
            [
             0.3333333333333333,
             "#9c179e"
            ],
            [
             0.4444444444444444,
             "#bd3786"
            ],
            [
             0.5555555555555556,
             "#d8576b"
            ],
            [
             0.6666666666666666,
             "#ed7953"
            ],
            [
             0.7777777777777778,
             "#fb9f3a"
            ],
            [
             0.8888888888888888,
             "#fdca26"
            ],
            [
             1,
             "#f0f921"
            ]
           ],
           "sequentialminus": [
            [
             0,
             "#0d0887"
            ],
            [
             0.1111111111111111,
             "#46039f"
            ],
            [
             0.2222222222222222,
             "#7201a8"
            ],
            [
             0.3333333333333333,
             "#9c179e"
            ],
            [
             0.4444444444444444,
             "#bd3786"
            ],
            [
             0.5555555555555556,
             "#d8576b"
            ],
            [
             0.6666666666666666,
             "#ed7953"
            ],
            [
             0.7777777777777778,
             "#fb9f3a"
            ],
            [
             0.8888888888888888,
             "#fdca26"
            ],
            [
             1,
             "#f0f921"
            ]
           ]
          },
          "colorway": [
           "#636efa",
           "#EF553B",
           "#00cc96",
           "#ab63fa",
           "#FFA15A",
           "#19d3f3",
           "#FF6692",
           "#B6E880",
           "#FF97FF",
           "#FECB52"
          ],
          "font": {
           "color": "#2a3f5f"
          },
          "geo": {
           "bgcolor": "white",
           "lakecolor": "white",
           "landcolor": "#E5ECF6",
           "showlakes": true,
           "showland": true,
           "subunitcolor": "white"
          },
          "hoverlabel": {
           "align": "left"
          },
          "hovermode": "closest",
          "mapbox": {
           "style": "light"
          },
          "paper_bgcolor": "white",
          "plot_bgcolor": "#E5ECF6",
          "polar": {
           "angularaxis": {
            "gridcolor": "white",
            "linecolor": "white",
            "ticks": ""
           },
           "bgcolor": "#E5ECF6",
           "radialaxis": {
            "gridcolor": "white",
            "linecolor": "white",
            "ticks": ""
           }
          },
          "scene": {
           "xaxis": {
            "backgroundcolor": "#E5ECF6",
            "gridcolor": "white",
            "gridwidth": 2,
            "linecolor": "white",
            "showbackground": true,
            "ticks": "",
            "zerolinecolor": "white"
           },
           "yaxis": {
            "backgroundcolor": "#E5ECF6",
            "gridcolor": "white",
            "gridwidth": 2,
            "linecolor": "white",
            "showbackground": true,
            "ticks": "",
            "zerolinecolor": "white"
           },
           "zaxis": {
            "backgroundcolor": "#E5ECF6",
            "gridcolor": "white",
            "gridwidth": 2,
            "linecolor": "white",
            "showbackground": true,
            "ticks": "",
            "zerolinecolor": "white"
           }
          },
          "shapedefaults": {
           "line": {
            "color": "#2a3f5f"
           }
          },
          "ternary": {
           "aaxis": {
            "gridcolor": "white",
            "linecolor": "white",
            "ticks": ""
           },
           "baxis": {
            "gridcolor": "white",
            "linecolor": "white",
            "ticks": ""
           },
           "bgcolor": "#E5ECF6",
           "caxis": {
            "gridcolor": "white",
            "linecolor": "white",
            "ticks": ""
           }
          },
          "title": {
           "x": 0.05
          },
          "xaxis": {
           "automargin": true,
           "gridcolor": "white",
           "linecolor": "white",
           "ticks": "",
           "title": {
            "standoff": 15
           },
           "zerolinecolor": "white",
           "zerolinewidth": 2
          },
          "yaxis": {
           "automargin": true,
           "gridcolor": "white",
           "linecolor": "white",
           "ticks": "",
           "title": {
            "standoff": 15
           },
           "zerolinecolor": "white",
           "zerolinewidth": 2
          }
         }
        }
       }
      },
      "text/html": [
       "<div>                            <div id=\"9c456c66-6163-4486-9383-d000ab875add\" class=\"plotly-graph-div\" style=\"height:525px; width:100%;\"></div>            <script type=\"text/javascript\">                require([\"plotly\"], function(Plotly) {                    window.PLOTLYENV=window.PLOTLYENV || {};                                    if (document.getElementById(\"9c456c66-6163-4486-9383-d000ab875add\")) {                    Plotly.newPlot(                        \"9c456c66-6163-4486-9383-d000ab875add\",                        [{\"mode\":\"lines+markers\",\"name\":\"External Debts\",\"x\":[\"2023-01-01T00:00:00\",\"2022-01-01T00:00:00\",\"2021-01-01T00:00:00\",\"2020-01-01T00:00:00\",\"2019-01-01T00:00:00\",\"2018-01-01T00:00:00\",\"2017-01-01T00:00:00\",\"2016-01-01T00:00:00\",\"2015-01-01T00:00:00\",\"2014-01-01T00:00:00\",\"2013-01-01T00:00:00\",\"2012-01-01T00:00:00\",\"2011-01-01T00:00:00\",\"2010-01-01T00:00:00\",\"2009-01-01T00:00:00\",\"2008-01-01T00:00:00\",\"2007-01-01T00:00:00\",\"2006-01-01T00:00:00\",\"2005-01-01T00:00:00\",\"2004-01-01T00:00:00\",\"2003-01-01T00:00:00\",\"2002-01-01T00:00:00\",\"2001-01-01T00:00:00\",\"2000-01-01T00:00:00\",\"1999-01-01T00:00:00\",\"1998-01-01T00:00:00\",\"1997-01-01T00:00:00\",\"1996-01-01T00:00:00\",\"1995-01-01T00:00:00\",\"1994-01-01T00:00:00\",\"1993-01-01T00:00:00\",\"1992-01-01T00:00:00\",\"1991-01-01T00:00:00\",\"1990-01-01T00:00:00\",\"1989-01-01T00:00:00\",\"1988-01-01T00:00:00\",\"1987-01-01T00:00:00\",\"1986-01-01T00:00:00\",\"1985-01-01T00:00:00\",\"1984-01-01T00:00:00\",\"1983-01-01T00:00:00\",\"1982-01-01T00:00:00\",\"1981-01-01T00:00:00\",\"1980-01-01T00:00:00\",\"1979-01-01T00:00:00\",\"1978-01-01T00:00:00\",\"1977-01-01T00:00:00\",\"1976-01-01T00:00:00\",\"1975-01-01T00:00:00\",\"1974-01-01T00:00:00\",\"1973-01-01T00:00:00\",\"1972-01-01T00:00:00\",\"1971-01-01T00:00:00\",\"1970-01-01T00:00:00\",\"1969-01-01T00:00:00\",\"1968-01-01T00:00:00\",\"1967-01-01T00:00:00\",\"1966-01-01T00:00:00\",\"1965-01-01T00:00:00\",\"1964-01-01T00:00:00\",\"1963-01-01T00:00:00\",\"1962-01-01T00:00:00\",\"1961-01-01T00:00:00\",\"1960-01-01T00:00:00\"],\"y\":[0,23,25,28,26,25,24,20,19,19,19,19,17,17,18,17,17,15,15,16,15,12,10,10,10,10,10,10,9,8,8,7,7,7,6,6,6,6,5,4,4,4,3,3,3,3,2,1,1,1,1,1,1,1,0,0,0,0,0,0,0,0,0,0],\"type\":\"scatter\"},{\"mode\":\"lines+markers\",\"name\":\"IMF Credit\",\"x\":[\"2023-01-01T00:00:00\",\"2022-01-01T00:00:00\",\"2021-01-01T00:00:00\",\"2020-01-01T00:00:00\",\"2019-01-01T00:00:00\",\"2018-01-01T00:00:00\",\"2017-01-01T00:00:00\",\"2016-01-01T00:00:00\",\"2015-01-01T00:00:00\",\"2014-01-01T00:00:00\",\"2013-01-01T00:00:00\",\"2012-01-01T00:00:00\",\"2011-01-01T00:00:00\",\"2010-01-01T00:00:00\",\"2009-01-01T00:00:00\",\"2008-01-01T00:00:00\",\"2007-01-01T00:00:00\",\"2006-01-01T00:00:00\",\"2005-01-01T00:00:00\",\"2004-01-01T00:00:00\",\"2003-01-01T00:00:00\",\"2002-01-01T00:00:00\",\"2001-01-01T00:00:00\",\"2000-01-01T00:00:00\",\"1999-01-01T00:00:00\",\"1998-01-01T00:00:00\",\"1997-01-01T00:00:00\",\"1996-01-01T00:00:00\",\"1995-01-01T00:00:00\",\"1994-01-01T00:00:00\",\"1993-01-01T00:00:00\",\"1992-01-01T00:00:00\",\"1991-01-01T00:00:00\",\"1990-01-01T00:00:00\",\"1989-01-01T00:00:00\",\"1988-01-01T00:00:00\",\"1987-01-01T00:00:00\",\"1986-01-01T00:00:00\",\"1985-01-01T00:00:00\",\"1984-01-01T00:00:00\",\"1983-01-01T00:00:00\",\"1982-01-01T00:00:00\",\"1981-01-01T00:00:00\",\"1980-01-01T00:00:00\",\"1979-01-01T00:00:00\",\"1978-01-01T00:00:00\",\"1977-01-01T00:00:00\",\"1976-01-01T00:00:00\",\"1975-01-01T00:00:00\",\"1974-01-01T00:00:00\",\"1973-01-01T00:00:00\",\"1972-01-01T00:00:00\",\"1971-01-01T00:00:00\",\"1970-01-01T00:00:00\",\"1969-01-01T00:00:00\",\"1968-01-01T00:00:00\",\"1967-01-01T00:00:00\",\"1966-01-01T00:00:00\",\"1965-01-01T00:00:00\",\"1964-01-01T00:00:00\",\"1963-01-01T00:00:00\",\"1962-01-01T00:00:00\",\"1961-01-01T00:00:00\",\"1960-01-01T00:00:00\"],\"y\":[0,3,3,3,2,2,2,2,2,2,1,0,0,0,0,0,0,0,0,0,0,0,0,0,0,0,0,0,0,0,0,0,0,0,0,0,0,0,0,0,0,0,0,0,0,0,0,0,0,0,0,0,0,0,0,0,0,0,0,0,0,0,0,0],\"type\":\"scatter\"},{\"mode\":\"lines+markers\",\"name\":\"Short Term Debt\",\"x\":[\"2023-01-01T00:00:00\",\"2022-01-01T00:00:00\",\"2021-01-01T00:00:00\",\"2020-01-01T00:00:00\",\"2019-01-01T00:00:00\",\"2018-01-01T00:00:00\",\"2017-01-01T00:00:00\",\"2016-01-01T00:00:00\",\"2015-01-01T00:00:00\",\"2014-01-01T00:00:00\",\"2013-01-01T00:00:00\",\"2012-01-01T00:00:00\",\"2011-01-01T00:00:00\",\"2010-01-01T00:00:00\",\"2009-01-01T00:00:00\",\"2008-01-01T00:00:00\",\"2007-01-01T00:00:00\",\"2006-01-01T00:00:00\",\"2005-01-01T00:00:00\",\"2004-01-01T00:00:00\",\"2003-01-01T00:00:00\",\"2002-01-01T00:00:00\",\"2001-01-01T00:00:00\",\"2000-01-01T00:00:00\",\"1999-01-01T00:00:00\",\"1998-01-01T00:00:00\",\"1997-01-01T00:00:00\",\"1996-01-01T00:00:00\",\"1995-01-01T00:00:00\",\"1994-01-01T00:00:00\",\"1993-01-01T00:00:00\",\"1992-01-01T00:00:00\",\"1991-01-01T00:00:00\",\"1990-01-01T00:00:00\",\"1989-01-01T00:00:00\",\"1988-01-01T00:00:00\",\"1987-01-01T00:00:00\",\"1986-01-01T00:00:00\",\"1985-01-01T00:00:00\",\"1984-01-01T00:00:00\",\"1983-01-01T00:00:00\",\"1982-01-01T00:00:00\",\"1981-01-01T00:00:00\",\"1980-01-01T00:00:00\",\"1979-01-01T00:00:00\",\"1978-01-01T00:00:00\",\"1977-01-01T00:00:00\",\"1976-01-01T00:00:00\",\"1975-01-01T00:00:00\",\"1974-01-01T00:00:00\",\"1973-01-01T00:00:00\",\"1972-01-01T00:00:00\",\"1971-01-01T00:00:00\",\"1970-01-01T00:00:00\",\"1969-01-01T00:00:00\",\"1968-01-01T00:00:00\",\"1967-01-01T00:00:00\",\"1966-01-01T00:00:00\",\"1965-01-01T00:00:00\",\"1964-01-01T00:00:00\",\"1963-01-01T00:00:00\",\"1962-01-01T00:00:00\",\"1961-01-01T00:00:00\",\"1960-01-01T00:00:00\"],\"y\":[0,14,13,11,11,8,7,7,7,7,7,6,5,5,5,4,4,3,3,3,3,3,3,2,2,1,2,2,1,1,1,1,1,1,0,0,0,0,0,0,0,0,0,0,0,0,0,0,0,0,0,0,0,0,0,0,0,0,0,0,0,0,0,0],\"type\":\"scatter\"},{\"mode\":\"lines+markers\",\"name\":\"Income\",\"x\":[\"2023-01-01T00:00:00\",\"2022-01-01T00:00:00\",\"2021-01-01T00:00:00\",\"2020-01-01T00:00:00\",\"2019-01-01T00:00:00\",\"2018-01-01T00:00:00\",\"2017-01-01T00:00:00\",\"2016-01-01T00:00:00\",\"2015-01-01T00:00:00\",\"2014-01-01T00:00:00\",\"2013-01-01T00:00:00\",\"2012-01-01T00:00:00\",\"2011-01-01T00:00:00\",\"2010-01-01T00:00:00\",\"2009-01-01T00:00:00\",\"2008-01-01T00:00:00\",\"2007-01-01T00:00:00\",\"2006-01-01T00:00:00\",\"2005-01-01T00:00:00\",\"2004-01-01T00:00:00\",\"2003-01-01T00:00:00\",\"2002-01-01T00:00:00\",\"2001-01-01T00:00:00\",\"2000-01-01T00:00:00\",\"1999-01-01T00:00:00\",\"1998-01-01T00:00:00\",\"1997-01-01T00:00:00\",\"1996-01-01T00:00:00\",\"1995-01-01T00:00:00\",\"1994-01-01T00:00:00\",\"1993-01-01T00:00:00\",\"1992-01-01T00:00:00\",\"1991-01-01T00:00:00\",\"1990-01-01T00:00:00\",\"1989-01-01T00:00:00\",\"1988-01-01T00:00:00\",\"1987-01-01T00:00:00\",\"1986-01-01T00:00:00\",\"1985-01-01T00:00:00\",\"1984-01-01T00:00:00\",\"1983-01-01T00:00:00\",\"1982-01-01T00:00:00\",\"1981-01-01T00:00:00\",\"1980-01-01T00:00:00\",\"1979-01-01T00:00:00\",\"1978-01-01T00:00:00\",\"1977-01-01T00:00:00\",\"1976-01-01T00:00:00\",\"1975-01-01T00:00:00\",\"1974-01-01T00:00:00\",\"1973-01-01T00:00:00\",\"1972-01-01T00:00:00\",\"1971-01-01T00:00:00\",\"1970-01-01T00:00:00\",\"1969-01-01T00:00:00\",\"1968-01-01T00:00:00\",\"1967-01-01T00:00:00\",\"1966-01-01T00:00:00\",\"1965-01-01T00:00:00\",\"1964-01-01T00:00:00\",\"1963-01-01T00:00:00\",\"1962-01-01T00:00:00\",\"1961-01-01T00:00:00\",\"1960-01-01T00:00:00\"],\"y\":[0,45,45,41,41,42,41,43,45,49,47,45,46,44,41,42,37,33,31,30,26,22,21,21,22,21,20,19,17,15,14,15,13,12,10,10,9,9,8,8,8,8,8,8,7,6,5,4,4,3,3,2,2,1,1,1,1,1,1,0,0,0,0,0],\"type\":\"scatter\"},{\"mode\":\"lines+markers\",\"name\":\"Exports\",\"x\":[\"2023-01-01T00:00:00\",\"2022-01-01T00:00:00\",\"2021-01-01T00:00:00\",\"2020-01-01T00:00:00\",\"2019-01-01T00:00:00\",\"2018-01-01T00:00:00\",\"2017-01-01T00:00:00\",\"2016-01-01T00:00:00\",\"2015-01-01T00:00:00\",\"2014-01-01T00:00:00\",\"2013-01-01T00:00:00\",\"2012-01-01T00:00:00\",\"2011-01-01T00:00:00\",\"2010-01-01T00:00:00\",\"2009-01-01T00:00:00\",\"2008-01-01T00:00:00\",\"2007-01-01T00:00:00\",\"2006-01-01T00:00:00\",\"2005-01-01T00:00:00\",\"2004-01-01T00:00:00\",\"2003-01-01T00:00:00\",\"2002-01-01T00:00:00\",\"2001-01-01T00:00:00\",\"2000-01-01T00:00:00\",\"1999-01-01T00:00:00\",\"1998-01-01T00:00:00\",\"1997-01-01T00:00:00\",\"1996-01-01T00:00:00\",\"1995-01-01T00:00:00\",\"1994-01-01T00:00:00\",\"1993-01-01T00:00:00\",\"1992-01-01T00:00:00\",\"1991-01-01T00:00:00\",\"1990-01-01T00:00:00\",\"1989-01-01T00:00:00\",\"1988-01-01T00:00:00\",\"1987-01-01T00:00:00\",\"1986-01-01T00:00:00\",\"1985-01-01T00:00:00\",\"1984-01-01T00:00:00\",\"1983-01-01T00:00:00\",\"1982-01-01T00:00:00\",\"1981-01-01T00:00:00\",\"1980-01-01T00:00:00\",\"1979-01-01T00:00:00\",\"1978-01-01T00:00:00\",\"1977-01-01T00:00:00\",\"1976-01-01T00:00:00\",\"1975-01-01T00:00:00\",\"1974-01-01T00:00:00\",\"1973-01-01T00:00:00\",\"1972-01-01T00:00:00\",\"1971-01-01T00:00:00\",\"1970-01-01T00:00:00\",\"1969-01-01T00:00:00\",\"1968-01-01T00:00:00\",\"1967-01-01T00:00:00\",\"1966-01-01T00:00:00\",\"1965-01-01T00:00:00\",\"1964-01-01T00:00:00\",\"1963-01-01T00:00:00\",\"1962-01-01T00:00:00\",\"1961-01-01T00:00:00\",\"1960-01-01T00:00:00\"],\"y\":[0,17,14,11,14,14,18,17,17,22,22,22,22,22,20,25,20,16,15,14,11,9,9,9,9,8,8,8,8,7,6,6,5,5,4,4,3,3,3,3,3,3,3,3,3,2,1,1,0,0,0,0,0,0,0,0,0,0,0,0,0,0,0,0],\"type\":\"scatter\"},{\"mode\":\"lines+markers\",\"name\":\"Imports\",\"x\":[\"2023-01-01T00:00:00\",\"2022-01-01T00:00:00\",\"2021-01-01T00:00:00\",\"2020-01-01T00:00:00\",\"2019-01-01T00:00:00\",\"2018-01-01T00:00:00\",\"2017-01-01T00:00:00\",\"2016-01-01T00:00:00\",\"2015-01-01T00:00:00\",\"2014-01-01T00:00:00\",\"2013-01-01T00:00:00\",\"2012-01-01T00:00:00\",\"2011-01-01T00:00:00\",\"2010-01-01T00:00:00\",\"2009-01-01T00:00:00\",\"2008-01-01T00:00:00\",\"2007-01-01T00:00:00\",\"2006-01-01T00:00:00\",\"2005-01-01T00:00:00\",\"2004-01-01T00:00:00\",\"2003-01-01T00:00:00\",\"2002-01-01T00:00:00\",\"2001-01-01T00:00:00\",\"2000-01-01T00:00:00\",\"1999-01-01T00:00:00\",\"1998-01-01T00:00:00\",\"1997-01-01T00:00:00\",\"1996-01-01T00:00:00\",\"1995-01-01T00:00:00\",\"1994-01-01T00:00:00\",\"1993-01-01T00:00:00\",\"1992-01-01T00:00:00\",\"1991-01-01T00:00:00\",\"1990-01-01T00:00:00\",\"1989-01-01T00:00:00\",\"1988-01-01T00:00:00\",\"1987-01-01T00:00:00\",\"1986-01-01T00:00:00\",\"1985-01-01T00:00:00\",\"1984-01-01T00:00:00\",\"1983-01-01T00:00:00\",\"1982-01-01T00:00:00\",\"1981-01-01T00:00:00\",\"1980-01-01T00:00:00\",\"1979-01-01T00:00:00\",\"1978-01-01T00:00:00\",\"1977-01-01T00:00:00\",\"1976-01-01T00:00:00\",\"1975-01-01T00:00:00\",\"1974-01-01T00:00:00\",\"1973-01-01T00:00:00\",\"1972-01-01T00:00:00\",\"1971-01-01T00:00:00\",\"1970-01-01T00:00:00\",\"1969-01-01T00:00:00\",\"1968-01-01T00:00:00\",\"1967-01-01T00:00:00\",\"1966-01-01T00:00:00\",\"1965-01-01T00:00:00\",\"1964-01-01T00:00:00\",\"1963-01-01T00:00:00\",\"1962-01-01T00:00:00\",\"1961-01-01T00:00:00\",\"1960-01-01T00:00:00\"],\"y\":[0,28,24,19,23,25,23,22,22,27,26,26,26,24,21,26,21,16,15,14,12,10,10,9,9,9,9,9,9,7,7,7,6,6,5,4,3,3,3,4,4,4,4,4,3,2,2,2,1,1,1,1,0,0,0,0,0,0,0,0,0,0,0,0],\"type\":\"scatter\"},{\"mode\":\"lines+markers\",\"name\":\"National_Expenditure\",\"x\":[\"2023-01-01T00:00:00\",\"2022-01-01T00:00:00\",\"2021-01-01T00:00:00\",\"2020-01-01T00:00:00\",\"2019-01-01T00:00:00\",\"2018-01-01T00:00:00\",\"2017-01-01T00:00:00\",\"2016-01-01T00:00:00\",\"2015-01-01T00:00:00\",\"2014-01-01T00:00:00\",\"2013-01-01T00:00:00\",\"2012-01-01T00:00:00\",\"2011-01-01T00:00:00\",\"2010-01-01T00:00:00\",\"2009-01-01T00:00:00\",\"2008-01-01T00:00:00\",\"2007-01-01T00:00:00\",\"2006-01-01T00:00:00\",\"2005-01-01T00:00:00\",\"2004-01-01T00:00:00\",\"2003-01-01T00:00:00\",\"2002-01-01T00:00:00\",\"2001-01-01T00:00:00\",\"2000-01-01T00:00:00\",\"1999-01-01T00:00:00\",\"1998-01-01T00:00:00\",\"1997-01-01T00:00:00\",\"1996-01-01T00:00:00\",\"1995-01-01T00:00:00\",\"1994-01-01T00:00:00\",\"1993-01-01T00:00:00\",\"1992-01-01T00:00:00\",\"1991-01-01T00:00:00\",\"1990-01-01T00:00:00\",\"1989-01-01T00:00:00\",\"1988-01-01T00:00:00\",\"1987-01-01T00:00:00\",\"1986-01-01T00:00:00\",\"1985-01-01T00:00:00\",\"1984-01-01T00:00:00\",\"1983-01-01T00:00:00\",\"1982-01-01T00:00:00\",\"1981-01-01T00:00:00\",\"1980-01-01T00:00:00\",\"1979-01-01T00:00:00\",\"1978-01-01T00:00:00\",\"1977-01-01T00:00:00\",\"1976-01-01T00:00:00\",\"1975-01-01T00:00:00\",\"1974-01-01T00:00:00\",\"1973-01-01T00:00:00\",\"1972-01-01T00:00:00\",\"1971-01-01T00:00:00\",\"1970-01-01T00:00:00\",\"1969-01-01T00:00:00\",\"1968-01-01T00:00:00\",\"1967-01-01T00:00:00\",\"1966-01-01T00:00:00\",\"1965-01-01T00:00:00\",\"1964-01-01T00:00:00\",\"1963-01-01T00:00:00\",\"1962-01-01T00:00:00\",\"1961-01-01T00:00:00\",\"1960-01-01T00:00:00\"],\"y\":[0,161,142,129,135,128,115,105,99,94,87,81,73,69,60,57,51,47,42,40,37,34,33,30,28,26,23,19,18,16,16,15,13,12,10,9,8,8,7,7,6,5,5,4,3,3,2,2,2,1,1,1,1,1,1,1,1,1,0,0,0,0,0,0],\"type\":\"scatter\"}],                        {\"template\":{\"data\":{\"histogram2dcontour\":[{\"type\":\"histogram2dcontour\",\"colorbar\":{\"outlinewidth\":0,\"ticks\":\"\"},\"colorscale\":[[0.0,\"#0d0887\"],[0.1111111111111111,\"#46039f\"],[0.2222222222222222,\"#7201a8\"],[0.3333333333333333,\"#9c179e\"],[0.4444444444444444,\"#bd3786\"],[0.5555555555555556,\"#d8576b\"],[0.6666666666666666,\"#ed7953\"],[0.7777777777777778,\"#fb9f3a\"],[0.8888888888888888,\"#fdca26\"],[1.0,\"#f0f921\"]]}],\"choropleth\":[{\"type\":\"choropleth\",\"colorbar\":{\"outlinewidth\":0,\"ticks\":\"\"}}],\"histogram2d\":[{\"type\":\"histogram2d\",\"colorbar\":{\"outlinewidth\":0,\"ticks\":\"\"},\"colorscale\":[[0.0,\"#0d0887\"],[0.1111111111111111,\"#46039f\"],[0.2222222222222222,\"#7201a8\"],[0.3333333333333333,\"#9c179e\"],[0.4444444444444444,\"#bd3786\"],[0.5555555555555556,\"#d8576b\"],[0.6666666666666666,\"#ed7953\"],[0.7777777777777778,\"#fb9f3a\"],[0.8888888888888888,\"#fdca26\"],[1.0,\"#f0f921\"]]}],\"heatmap\":[{\"type\":\"heatmap\",\"colorbar\":{\"outlinewidth\":0,\"ticks\":\"\"},\"colorscale\":[[0.0,\"#0d0887\"],[0.1111111111111111,\"#46039f\"],[0.2222222222222222,\"#7201a8\"],[0.3333333333333333,\"#9c179e\"],[0.4444444444444444,\"#bd3786\"],[0.5555555555555556,\"#d8576b\"],[0.6666666666666666,\"#ed7953\"],[0.7777777777777778,\"#fb9f3a\"],[0.8888888888888888,\"#fdca26\"],[1.0,\"#f0f921\"]]}],\"heatmapgl\":[{\"type\":\"heatmapgl\",\"colorbar\":{\"outlinewidth\":0,\"ticks\":\"\"},\"colorscale\":[[0.0,\"#0d0887\"],[0.1111111111111111,\"#46039f\"],[0.2222222222222222,\"#7201a8\"],[0.3333333333333333,\"#9c179e\"],[0.4444444444444444,\"#bd3786\"],[0.5555555555555556,\"#d8576b\"],[0.6666666666666666,\"#ed7953\"],[0.7777777777777778,\"#fb9f3a\"],[0.8888888888888888,\"#fdca26\"],[1.0,\"#f0f921\"]]}],\"contourcarpet\":[{\"type\":\"contourcarpet\",\"colorbar\":{\"outlinewidth\":0,\"ticks\":\"\"}}],\"contour\":[{\"type\":\"contour\",\"colorbar\":{\"outlinewidth\":0,\"ticks\":\"\"},\"colorscale\":[[0.0,\"#0d0887\"],[0.1111111111111111,\"#46039f\"],[0.2222222222222222,\"#7201a8\"],[0.3333333333333333,\"#9c179e\"],[0.4444444444444444,\"#bd3786\"],[0.5555555555555556,\"#d8576b\"],[0.6666666666666666,\"#ed7953\"],[0.7777777777777778,\"#fb9f3a\"],[0.8888888888888888,\"#fdca26\"],[1.0,\"#f0f921\"]]}],\"surface\":[{\"type\":\"surface\",\"colorbar\":{\"outlinewidth\":0,\"ticks\":\"\"},\"colorscale\":[[0.0,\"#0d0887\"],[0.1111111111111111,\"#46039f\"],[0.2222222222222222,\"#7201a8\"],[0.3333333333333333,\"#9c179e\"],[0.4444444444444444,\"#bd3786\"],[0.5555555555555556,\"#d8576b\"],[0.6666666666666666,\"#ed7953\"],[0.7777777777777778,\"#fb9f3a\"],[0.8888888888888888,\"#fdca26\"],[1.0,\"#f0f921\"]]}],\"mesh3d\":[{\"type\":\"mesh3d\",\"colorbar\":{\"outlinewidth\":0,\"ticks\":\"\"}}],\"scatter\":[{\"fillpattern\":{\"fillmode\":\"overlay\",\"size\":10,\"solidity\":0.2},\"type\":\"scatter\"}],\"parcoords\":[{\"type\":\"parcoords\",\"line\":{\"colorbar\":{\"outlinewidth\":0,\"ticks\":\"\"}}}],\"scatterpolargl\":[{\"type\":\"scatterpolargl\",\"marker\":{\"colorbar\":{\"outlinewidth\":0,\"ticks\":\"\"}}}],\"bar\":[{\"error_x\":{\"color\":\"#2a3f5f\"},\"error_y\":{\"color\":\"#2a3f5f\"},\"marker\":{\"line\":{\"color\":\"#E5ECF6\",\"width\":0.5},\"pattern\":{\"fillmode\":\"overlay\",\"size\":10,\"solidity\":0.2}},\"type\":\"bar\"}],\"scattergeo\":[{\"type\":\"scattergeo\",\"marker\":{\"colorbar\":{\"outlinewidth\":0,\"ticks\":\"\"}}}],\"scatterpolar\":[{\"type\":\"scatterpolar\",\"marker\":{\"colorbar\":{\"outlinewidth\":0,\"ticks\":\"\"}}}],\"histogram\":[{\"marker\":{\"pattern\":{\"fillmode\":\"overlay\",\"size\":10,\"solidity\":0.2}},\"type\":\"histogram\"}],\"scattergl\":[{\"type\":\"scattergl\",\"marker\":{\"colorbar\":{\"outlinewidth\":0,\"ticks\":\"\"}}}],\"scatter3d\":[{\"type\":\"scatter3d\",\"line\":{\"colorbar\":{\"outlinewidth\":0,\"ticks\":\"\"}},\"marker\":{\"colorbar\":{\"outlinewidth\":0,\"ticks\":\"\"}}}],\"scattermapbox\":[{\"type\":\"scattermapbox\",\"marker\":{\"colorbar\":{\"outlinewidth\":0,\"ticks\":\"\"}}}],\"scatterternary\":[{\"type\":\"scatterternary\",\"marker\":{\"colorbar\":{\"outlinewidth\":0,\"ticks\":\"\"}}}],\"scattercarpet\":[{\"type\":\"scattercarpet\",\"marker\":{\"colorbar\":{\"outlinewidth\":0,\"ticks\":\"\"}}}],\"carpet\":[{\"aaxis\":{\"endlinecolor\":\"#2a3f5f\",\"gridcolor\":\"white\",\"linecolor\":\"white\",\"minorgridcolor\":\"white\",\"startlinecolor\":\"#2a3f5f\"},\"baxis\":{\"endlinecolor\":\"#2a3f5f\",\"gridcolor\":\"white\",\"linecolor\":\"white\",\"minorgridcolor\":\"white\",\"startlinecolor\":\"#2a3f5f\"},\"type\":\"carpet\"}],\"table\":[{\"cells\":{\"fill\":{\"color\":\"#EBF0F8\"},\"line\":{\"color\":\"white\"}},\"header\":{\"fill\":{\"color\":\"#C8D4E3\"},\"line\":{\"color\":\"white\"}},\"type\":\"table\"}],\"barpolar\":[{\"marker\":{\"line\":{\"color\":\"#E5ECF6\",\"width\":0.5},\"pattern\":{\"fillmode\":\"overlay\",\"size\":10,\"solidity\":0.2}},\"type\":\"barpolar\"}],\"pie\":[{\"automargin\":true,\"type\":\"pie\"}]},\"layout\":{\"autotypenumbers\":\"strict\",\"colorway\":[\"#636efa\",\"#EF553B\",\"#00cc96\",\"#ab63fa\",\"#FFA15A\",\"#19d3f3\",\"#FF6692\",\"#B6E880\",\"#FF97FF\",\"#FECB52\"],\"font\":{\"color\":\"#2a3f5f\"},\"hovermode\":\"closest\",\"hoverlabel\":{\"align\":\"left\"},\"paper_bgcolor\":\"white\",\"plot_bgcolor\":\"#E5ECF6\",\"polar\":{\"bgcolor\":\"#E5ECF6\",\"angularaxis\":{\"gridcolor\":\"white\",\"linecolor\":\"white\",\"ticks\":\"\"},\"radialaxis\":{\"gridcolor\":\"white\",\"linecolor\":\"white\",\"ticks\":\"\"}},\"ternary\":{\"bgcolor\":\"#E5ECF6\",\"aaxis\":{\"gridcolor\":\"white\",\"linecolor\":\"white\",\"ticks\":\"\"},\"baxis\":{\"gridcolor\":\"white\",\"linecolor\":\"white\",\"ticks\":\"\"},\"caxis\":{\"gridcolor\":\"white\",\"linecolor\":\"white\",\"ticks\":\"\"}},\"coloraxis\":{\"colorbar\":{\"outlinewidth\":0,\"ticks\":\"\"}},\"colorscale\":{\"sequential\":[[0.0,\"#0d0887\"],[0.1111111111111111,\"#46039f\"],[0.2222222222222222,\"#7201a8\"],[0.3333333333333333,\"#9c179e\"],[0.4444444444444444,\"#bd3786\"],[0.5555555555555556,\"#d8576b\"],[0.6666666666666666,\"#ed7953\"],[0.7777777777777778,\"#fb9f3a\"],[0.8888888888888888,\"#fdca26\"],[1.0,\"#f0f921\"]],\"sequentialminus\":[[0.0,\"#0d0887\"],[0.1111111111111111,\"#46039f\"],[0.2222222222222222,\"#7201a8\"],[0.3333333333333333,\"#9c179e\"],[0.4444444444444444,\"#bd3786\"],[0.5555555555555556,\"#d8576b\"],[0.6666666666666666,\"#ed7953\"],[0.7777777777777778,\"#fb9f3a\"],[0.8888888888888888,\"#fdca26\"],[1.0,\"#f0f921\"]],\"diverging\":[[0,\"#8e0152\"],[0.1,\"#c51b7d\"],[0.2,\"#de77ae\"],[0.3,\"#f1b6da\"],[0.4,\"#fde0ef\"],[0.5,\"#f7f7f7\"],[0.6,\"#e6f5d0\"],[0.7,\"#b8e186\"],[0.8,\"#7fbc41\"],[0.9,\"#4d9221\"],[1,\"#276419\"]]},\"xaxis\":{\"gridcolor\":\"white\",\"linecolor\":\"white\",\"ticks\":\"\",\"title\":{\"standoff\":15},\"zerolinecolor\":\"white\",\"automargin\":true,\"zerolinewidth\":2},\"yaxis\":{\"gridcolor\":\"white\",\"linecolor\":\"white\",\"ticks\":\"\",\"title\":{\"standoff\":15},\"zerolinecolor\":\"white\",\"automargin\":true,\"zerolinewidth\":2},\"scene\":{\"xaxis\":{\"backgroundcolor\":\"#E5ECF6\",\"gridcolor\":\"white\",\"linecolor\":\"white\",\"showbackground\":true,\"ticks\":\"\",\"zerolinecolor\":\"white\",\"gridwidth\":2},\"yaxis\":{\"backgroundcolor\":\"#E5ECF6\",\"gridcolor\":\"white\",\"linecolor\":\"white\",\"showbackground\":true,\"ticks\":\"\",\"zerolinecolor\":\"white\",\"gridwidth\":2},\"zaxis\":{\"backgroundcolor\":\"#E5ECF6\",\"gridcolor\":\"white\",\"linecolor\":\"white\",\"showbackground\":true,\"ticks\":\"\",\"zerolinecolor\":\"white\",\"gridwidth\":2}},\"shapedefaults\":{\"line\":{\"color\":\"#2a3f5f\"}},\"annotationdefaults\":{\"arrowcolor\":\"#2a3f5f\",\"arrowhead\":0,\"arrowwidth\":1},\"geo\":{\"bgcolor\":\"white\",\"landcolor\":\"#E5ECF6\",\"subunitcolor\":\"white\",\"showland\":true,\"showlakes\":true,\"lakecolor\":\"white\"},\"title\":{\"x\":0.05},\"mapbox\":{\"style\":\"light\"}}}},                        {\"responsive\": true}                    ).then(function(){\n",
       "                            \n",
       "var gd = document.getElementById('9c456c66-6163-4486-9383-d000ab875add');\n",
       "var x = new MutationObserver(function (mutations, observer) {{\n",
       "        var display = window.getComputedStyle(gd).display;\n",
       "        if (!display || display === 'none') {{\n",
       "            console.log([gd, 'removed!']);\n",
       "            Plotly.purge(gd);\n",
       "            observer.disconnect();\n",
       "        }}\n",
       "}});\n",
       "\n",
       "// Listen for the removal of the full notebook cells\n",
       "var notebookContainer = gd.closest('#notebook-container');\n",
       "if (notebookContainer) {{\n",
       "    x.observe(notebookContainer, {childList: true});\n",
       "}}\n",
       "\n",
       "// Listen for the clearing of the current output cell\n",
       "var outputEl = gd.closest('.output');\n",
       "if (outputEl) {{\n",
       "    x.observe(outputEl, {childList: true});\n",
       "}}\n",
       "\n",
       "                        })                };                });            </script>        </div>"
      ]
     },
     "metadata": {},
     "output_type": "display_data"
    }
   ],
   "source": [
    "fig = go.Figure()\n",
    "fig.add_trace(go.Scatter(x=df['date'], y=df['External_Debts'],mode='lines+markers', name='External Debts'))\n",
    "fig.add_trace(go.Scatter(x=df['date'], y=df['IMF_Credit'], mode='lines+markers', name='IMF Credit'))\n",
    "fig.add_trace(go.Scatter(x=df['date'], y=df['Short_term_debt'], mode='lines+markers', name='Short Term Debt'))\n",
    "fig.add_trace(go.Scatter(x=df['date'], y=df['Gross_income'], mode='lines+markers', name='Income'))\n",
    "fig.add_trace(go.Scatter(x=df['date'], y=df['Exports'], mode='lines+markers', name='Exports'))\n",
    "fig.add_trace(go.Scatter(x=df['date'], y=df['Imports'], mode='lines+markers', name='Imports'))\n",
    "fig.add_trace(go.Scatter(x=df['date'], y=df['National_Expenditure'], mode='lines+markers', name='National_Expenditure'))\n",
    "\n",
    "fig.show()"
   ]
  },
  {
   "cell_type": "code",
   "execution_count": 61,
   "id": "0f5a4859",
   "metadata": {},
   "outputs": [
    {
     "data": {
      "application/vnd.plotly.v1+json": {
       "config": {
        "plotlyServerURL": "https://plot.ly"
       },
       "data": [
        {
         "mode": "lines+markers",
         "name": "Goods_imports",
         "type": "scatter",
         "x": [
          "2023-01-01T00:00:00",
          "2022-01-01T00:00:00",
          "2021-01-01T00:00:00",
          "2020-01-01T00:00:00",
          "2019-01-01T00:00:00",
          "2018-01-01T00:00:00",
          "2017-01-01T00:00:00",
          "2016-01-01T00:00:00",
          "2015-01-01T00:00:00",
          "2014-01-01T00:00:00",
          "2013-01-01T00:00:00",
          "2012-01-01T00:00:00",
          "2011-01-01T00:00:00",
          "2010-01-01T00:00:00",
          "2009-01-01T00:00:00",
          "2008-01-01T00:00:00",
          "2007-01-01T00:00:00",
          "2006-01-01T00:00:00",
          "2005-01-01T00:00:00",
          "2004-01-01T00:00:00",
          "2003-01-01T00:00:00",
          "2002-01-01T00:00:00",
          "2001-01-01T00:00:00",
          "2000-01-01T00:00:00",
          "1999-01-01T00:00:00",
          "1998-01-01T00:00:00",
          "1997-01-01T00:00:00",
          "1996-01-01T00:00:00",
          "1995-01-01T00:00:00",
          "1994-01-01T00:00:00",
          "1993-01-01T00:00:00",
          "1992-01-01T00:00:00",
          "1991-01-01T00:00:00",
          "1990-01-01T00:00:00",
          "1989-01-01T00:00:00",
          "1988-01-01T00:00:00",
          "1987-01-01T00:00:00",
          "1986-01-01T00:00:00",
          "1985-01-01T00:00:00",
          "1984-01-01T00:00:00",
          "1983-01-01T00:00:00",
          "1982-01-01T00:00:00",
          "1981-01-01T00:00:00",
          "1980-01-01T00:00:00",
          "1979-01-01T00:00:00",
          "1978-01-01T00:00:00",
          "1977-01-01T00:00:00",
          "1976-01-01T00:00:00",
          "1975-01-01T00:00:00",
          "1974-01-01T00:00:00",
          "1973-01-01T00:00:00",
          "1972-01-01T00:00:00",
          "1971-01-01T00:00:00",
          "1970-01-01T00:00:00",
          "1969-01-01T00:00:00",
          "1968-01-01T00:00:00",
          "1967-01-01T00:00:00",
          "1966-01-01T00:00:00",
          "1965-01-01T00:00:00",
          "1964-01-01T00:00:00",
          "1963-01-01T00:00:00",
          "1962-01-01T00:00:00",
          "1961-01-01T00:00:00",
          "1960-01-01T00:00:00"
         ],
         "y": [
          0,
          19317760020.6212,
          15618543788.9162,
          12438635427.5623,
          14699737598.4006,
          15556053698.7129,
          19679427963.2557,
          18463633401.0956,
          19177467660.7405,
          23525291943.3932,
          22981078072.8256,
          23101922348.4343,
          22623012537.4407,
          21005449210.5631,
          18117420525.4485,
          23193680380.3675,
          18023529717.8125,
          14202062320.3922,
          12594481412.0186,
          12280376833.3155,
          10296801733.3377,
          8980587076.80767,
          8996933021.71212,
          8093043615.71481,
          8014499778.70977,
          7875474763.44157,
          7514185172.06823,
          7279576060.06387,
          7458630716.36268,
          6210245785.15731,
          5810259944.04269,
          6078468322.46636,
          4894979473.568,
          5192789373.81404,
          4137694931.02525,
          3496135967.31966,
          2828654609.08392,
          2697633903.03673,
          2593182510.65695,
          2947865266.54573,
          2946520654.17813,
          3167495508.48375,
          3452785777.32965,
          3165790375.04028,
          2487314334.00945,
          1787727399.89642,
          1613241640.31529,
          1434318701.96331,
          0,
          0,
          0,
          0,
          0,
          0,
          0,
          0,
          0,
          0,
          0,
          0,
          0,
          0,
          0,
          0
         ]
        },
        {
         "mode": "lines+markers",
         "name": "Service_imports",
         "type": "scatter",
         "x": [
          "2023-01-01T00:00:00",
          "2022-01-01T00:00:00",
          "2021-01-01T00:00:00",
          "2020-01-01T00:00:00",
          "2019-01-01T00:00:00",
          "2018-01-01T00:00:00",
          "2017-01-01T00:00:00",
          "2016-01-01T00:00:00",
          "2015-01-01T00:00:00",
          "2014-01-01T00:00:00",
          "2013-01-01T00:00:00",
          "2012-01-01T00:00:00",
          "2011-01-01T00:00:00",
          "2010-01-01T00:00:00",
          "2009-01-01T00:00:00",
          "2008-01-01T00:00:00",
          "2007-01-01T00:00:00",
          "2006-01-01T00:00:00",
          "2005-01-01T00:00:00",
          "2004-01-01T00:00:00",
          "2003-01-01T00:00:00",
          "2002-01-01T00:00:00",
          "2001-01-01T00:00:00",
          "2000-01-01T00:00:00",
          "1999-01-01T00:00:00",
          "1998-01-01T00:00:00",
          "1997-01-01T00:00:00",
          "1996-01-01T00:00:00",
          "1995-01-01T00:00:00",
          "1994-01-01T00:00:00",
          "1993-01-01T00:00:00",
          "1992-01-01T00:00:00",
          "1991-01-01T00:00:00",
          "1990-01-01T00:00:00",
          "1989-01-01T00:00:00",
          "1988-01-01T00:00:00",
          "1987-01-01T00:00:00",
          "1986-01-01T00:00:00",
          "1985-01-01T00:00:00",
          "1984-01-01T00:00:00",
          "1983-01-01T00:00:00",
          "1982-01-01T00:00:00",
          "1981-01-01T00:00:00",
          "1980-01-01T00:00:00",
          "1979-01-01T00:00:00",
          "1978-01-01T00:00:00",
          "1977-01-01T00:00:00",
          "1976-01-01T00:00:00",
          "1975-01-01T00:00:00",
          "1974-01-01T00:00:00",
          "1973-01-01T00:00:00",
          "1972-01-01T00:00:00",
          "1971-01-01T00:00:00",
          "1970-01-01T00:00:00",
          "1969-01-01T00:00:00",
          "1968-01-01T00:00:00",
          "1967-01-01T00:00:00",
          "1966-01-01T00:00:00",
          "1965-01-01T00:00:00",
          "1964-01-01T00:00:00",
          "1963-01-01T00:00:00",
          "1962-01-01T00:00:00",
          "1961-01-01T00:00:00",
          "1960-01-01T00:00:00"
         ],
         "y": [
          0,
          3218101559.47931,
          2596380943.29269,
          2115413220.81409,
          2948337555.23497,
          3104689821.92781,
          3049732891.07949,
          3010567806.21034,
          3076276046.645,
          3400297465.65155,
          3304263973.45083,
          3195932282.96883,
          3177832763.09092,
          3234385915.88654,
          2872007554.01677,
          3252791548.59086,
          2709936720.7976,
          2361788846.94127,
          2106466613.57039,
          1899689540.73439,
          1539048604.59852,
          1378598893.3696,
          1349122913.71626,
          1170219233.71555,
          1176842504.58387,
          1198709082.52651,
          1181833937.41194,
          1244082219.69198,
          1352365847.21121,
          1361271640.58606,
          1355926574.73287,
          1157803489.99359,
          841425989.932811,
          845920303.605313,
          716301566.470767,
          749588338.44166,
          663720151.448871,
          670000577.224808,
          612345777.701341,
          611456769.261669,
          615822816.72323,
          611152260.054855,
          579176969.100457,
          600067910.40155,
          445305533.586261,
          365234630.086366,
          314721996.304283,
          296192642.519253,
          0,
          0,
          0,
          0,
          0,
          0,
          0,
          0,
          0,
          0,
          0,
          0,
          0,
          0,
          0,
          0
         ]
        },
        {
         "mode": "lines+markers",
         "name": "Goods_exports",
         "type": "scatter",
         "x": [
          "2023-01-01T00:00:00",
          "2022-01-01T00:00:00",
          "2021-01-01T00:00:00",
          "2020-01-01T00:00:00",
          "2019-01-01T00:00:00",
          "2018-01-01T00:00:00",
          "2017-01-01T00:00:00",
          "2016-01-01T00:00:00",
          "2015-01-01T00:00:00",
          "2014-01-01T00:00:00",
          "2013-01-01T00:00:00",
          "2012-01-01T00:00:00",
          "2011-01-01T00:00:00",
          "2010-01-01T00:00:00",
          "2009-01-01T00:00:00",
          "2008-01-01T00:00:00",
          "2007-01-01T00:00:00",
          "2006-01-01T00:00:00",
          "2005-01-01T00:00:00",
          "2004-01-01T00:00:00",
          "2003-01-01T00:00:00",
          "2002-01-01T00:00:00",
          "2001-01-01T00:00:00",
          "2000-01-01T00:00:00",
          "1999-01-01T00:00:00",
          "1998-01-01T00:00:00",
          "1997-01-01T00:00:00",
          "1996-01-01T00:00:00",
          "1995-01-01T00:00:00",
          "1994-01-01T00:00:00",
          "1993-01-01T00:00:00",
          "1992-01-01T00:00:00",
          "1991-01-01T00:00:00",
          "1990-01-01T00:00:00",
          "1989-01-01T00:00:00",
          "1988-01-01T00:00:00",
          "1987-01-01T00:00:00",
          "1986-01-01T00:00:00",
          "1985-01-01T00:00:00",
          "1984-01-01T00:00:00",
          "1983-01-01T00:00:00",
          "1982-01-01T00:00:00",
          "1981-01-01T00:00:00",
          "1980-01-01T00:00:00",
          "1979-01-01T00:00:00",
          "1978-01-01T00:00:00",
          "1977-01-01T00:00:00",
          "1976-01-01T00:00:00",
          "1975-01-01T00:00:00",
          "1974-01-01T00:00:00",
          "1973-01-01T00:00:00",
          "1972-01-01T00:00:00",
          "1971-01-01T00:00:00",
          "1970-01-01T00:00:00",
          "1969-01-01T00:00:00",
          "1968-01-01T00:00:00",
          "1967-01-01T00:00:00",
          "1966-01-01T00:00:00",
          "1965-01-01T00:00:00",
          "1964-01-01T00:00:00",
          "1963-01-01T00:00:00",
          "1962-01-01T00:00:00",
          "1961-01-01T00:00:00",
          "1960-01-01T00:00:00"
         ],
         "y": [
          0,
          8644445160.45882,
          7109335114.63129,
          5682632902.99068,
          5876705326.41169,
          6343273808.02457,
          14310507661.9445,
          13650114057.8204,
          14158771426.7508,
          16841268205.0451,
          17145574197.6518,
          17071350445.7735,
          17876330401.2218,
          16493433002.6547,
          14481420451.3895,
          19248517148.3257,
          15191925235.5899,
          11738021449.6347,
          10691262235.6961,
          10025157906.0058,
          8085632053.8111,
          6900731501.45364,
          6653865869.65777,
          5899976897.16809,
          5934793146.32553,
          5768732573.71183,
          5559231099.62401,
          5518752835.82601,
          5469733016.12477,
          4643349960.66283,
          3745983777.36634,
          4041005540.27061,
          3695568904.37071,
          3514611005.6926,
          2930516114.5907,
          2399148989.91125,
          2100975970.31361,
          1763159413.74949,
          1707617873.2376,
          1781591934.01716,
          1862201053.44058,
          2004443977.57603,
          2490865985.99147,
          2195310174.2674,
          1557339241.76853,
          941920888.117471,
          787970627.784055,
          788292229.696909,
          0,
          0,
          0,
          0,
          0,
          0,
          0,
          0,
          0,
          0,
          0,
          0,
          0,
          0,
          0,
          0
         ]
        },
        {
         "mode": "lines+markers",
         "name": "Service_exports",
         "type": "scatter",
         "x": [
          "2023-01-01T00:00:00",
          "2022-01-01T00:00:00",
          "2021-01-01T00:00:00",
          "2020-01-01T00:00:00",
          "2019-01-01T00:00:00",
          "2018-01-01T00:00:00",
          "2017-01-01T00:00:00",
          "2016-01-01T00:00:00",
          "2015-01-01T00:00:00",
          "2014-01-01T00:00:00",
          "2013-01-01T00:00:00",
          "2012-01-01T00:00:00",
          "2011-01-01T00:00:00",
          "2010-01-01T00:00:00",
          "2009-01-01T00:00:00",
          "2008-01-01T00:00:00",
          "2007-01-01T00:00:00",
          "2006-01-01T00:00:00",
          "2005-01-01T00:00:00",
          "2004-01-01T00:00:00",
          "2003-01-01T00:00:00",
          "2002-01-01T00:00:00",
          "2001-01-01T00:00:00",
          "2000-01-01T00:00:00",
          "1999-01-01T00:00:00",
          "1998-01-01T00:00:00",
          "1997-01-01T00:00:00",
          "1996-01-01T00:00:00",
          "1995-01-01T00:00:00",
          "1994-01-01T00:00:00",
          "1993-01-01T00:00:00",
          "1992-01-01T00:00:00",
          "1991-01-01T00:00:00",
          "1990-01-01T00:00:00",
          "1989-01-01T00:00:00",
          "1988-01-01T00:00:00",
          "1987-01-01T00:00:00",
          "1986-01-01T00:00:00",
          "1985-01-01T00:00:00",
          "1984-01-01T00:00:00",
          "1983-01-01T00:00:00",
          "1982-01-01T00:00:00",
          "1981-01-01T00:00:00",
          "1980-01-01T00:00:00",
          "1979-01-01T00:00:00",
          "1978-01-01T00:00:00",
          "1977-01-01T00:00:00",
          "1976-01-01T00:00:00",
          "1975-01-01T00:00:00",
          "1974-01-01T00:00:00",
          "1973-01-01T00:00:00",
          "1972-01-01T00:00:00",
          "1971-01-01T00:00:00",
          "1970-01-01T00:00:00",
          "1969-01-01T00:00:00",
          "1968-01-01T00:00:00",
          "1967-01-01T00:00:00",
          "1966-01-01T00:00:00",
          "1965-01-01T00:00:00",
          "1964-01-01T00:00:00",
          "1963-01-01T00:00:00",
          "1962-01-01T00:00:00",
          "1961-01-01T00:00:00",
          "1960-01-01T00:00:00"
         ],
         "y": [
          0,
          8643704085.57804,
          6958000333.99336,
          5530091886.10983,
          7847239103.51801,
          7339054983.25063,
          3273753061.16123,
          3249018482.02232,
          3294156630.34474,
          4733768241.86019,
          4830677219.31279,
          5076664514.71772,
          4618324316.00508,
          5631759116.94844,
          5333876432.57855,
          5831472300.93941,
          4772123332.66132,
          4153039950.41416,
          3876808056.93293,
          3477411412.05437,
          2805678621.0911,
          2565882021.94505,
          2810151437.48317,
          2658527984.82509,
          2801323526.31246,
          2654723484.599,
          2613236479.81675,
          2631988973.45239,
          2509119746.23315,
          2266808912.02892,
          2040365631.9272,
          1971884068.89534,
          1410307828.88481,
          1688425047.43833,
          1446297133.477,
          1853569919.31919,
          1240553301.25353,
          959662480.912225,
          964654307.337729,
          915254237.779046,
          1003290282.74765,
          997143161.142132,
          994321300.099036,
          1066787396.26942,
          998862136.110618,
          711246384.905029,
          538524304.787328,
          515421842.494133,
          0,
          0,
          0,
          0,
          0,
          0,
          0,
          0,
          0,
          0,
          0,
          0,
          0,
          0,
          0,
          0
         ]
        }
       ],
       "layout": {
        "template": {
         "data": {
          "bar": [
           {
            "error_x": {
             "color": "#2a3f5f"
            },
            "error_y": {
             "color": "#2a3f5f"
            },
            "marker": {
             "line": {
              "color": "#E5ECF6",
              "width": 0.5
             },
             "pattern": {
              "fillmode": "overlay",
              "size": 10,
              "solidity": 0.2
             }
            },
            "type": "bar"
           }
          ],
          "barpolar": [
           {
            "marker": {
             "line": {
              "color": "#E5ECF6",
              "width": 0.5
             },
             "pattern": {
              "fillmode": "overlay",
              "size": 10,
              "solidity": 0.2
             }
            },
            "type": "barpolar"
           }
          ],
          "carpet": [
           {
            "aaxis": {
             "endlinecolor": "#2a3f5f",
             "gridcolor": "white",
             "linecolor": "white",
             "minorgridcolor": "white",
             "startlinecolor": "#2a3f5f"
            },
            "baxis": {
             "endlinecolor": "#2a3f5f",
             "gridcolor": "white",
             "linecolor": "white",
             "minorgridcolor": "white",
             "startlinecolor": "#2a3f5f"
            },
            "type": "carpet"
           }
          ],
          "choropleth": [
           {
            "colorbar": {
             "outlinewidth": 0,
             "ticks": ""
            },
            "type": "choropleth"
           }
          ],
          "contour": [
           {
            "colorbar": {
             "outlinewidth": 0,
             "ticks": ""
            },
            "colorscale": [
             [
              0,
              "#0d0887"
             ],
             [
              0.1111111111111111,
              "#46039f"
             ],
             [
              0.2222222222222222,
              "#7201a8"
             ],
             [
              0.3333333333333333,
              "#9c179e"
             ],
             [
              0.4444444444444444,
              "#bd3786"
             ],
             [
              0.5555555555555556,
              "#d8576b"
             ],
             [
              0.6666666666666666,
              "#ed7953"
             ],
             [
              0.7777777777777778,
              "#fb9f3a"
             ],
             [
              0.8888888888888888,
              "#fdca26"
             ],
             [
              1,
              "#f0f921"
             ]
            ],
            "type": "contour"
           }
          ],
          "contourcarpet": [
           {
            "colorbar": {
             "outlinewidth": 0,
             "ticks": ""
            },
            "type": "contourcarpet"
           }
          ],
          "heatmap": [
           {
            "colorbar": {
             "outlinewidth": 0,
             "ticks": ""
            },
            "colorscale": [
             [
              0,
              "#0d0887"
             ],
             [
              0.1111111111111111,
              "#46039f"
             ],
             [
              0.2222222222222222,
              "#7201a8"
             ],
             [
              0.3333333333333333,
              "#9c179e"
             ],
             [
              0.4444444444444444,
              "#bd3786"
             ],
             [
              0.5555555555555556,
              "#d8576b"
             ],
             [
              0.6666666666666666,
              "#ed7953"
             ],
             [
              0.7777777777777778,
              "#fb9f3a"
             ],
             [
              0.8888888888888888,
              "#fdca26"
             ],
             [
              1,
              "#f0f921"
             ]
            ],
            "type": "heatmap"
           }
          ],
          "heatmapgl": [
           {
            "colorbar": {
             "outlinewidth": 0,
             "ticks": ""
            },
            "colorscale": [
             [
              0,
              "#0d0887"
             ],
             [
              0.1111111111111111,
              "#46039f"
             ],
             [
              0.2222222222222222,
              "#7201a8"
             ],
             [
              0.3333333333333333,
              "#9c179e"
             ],
             [
              0.4444444444444444,
              "#bd3786"
             ],
             [
              0.5555555555555556,
              "#d8576b"
             ],
             [
              0.6666666666666666,
              "#ed7953"
             ],
             [
              0.7777777777777778,
              "#fb9f3a"
             ],
             [
              0.8888888888888888,
              "#fdca26"
             ],
             [
              1,
              "#f0f921"
             ]
            ],
            "type": "heatmapgl"
           }
          ],
          "histogram": [
           {
            "marker": {
             "pattern": {
              "fillmode": "overlay",
              "size": 10,
              "solidity": 0.2
             }
            },
            "type": "histogram"
           }
          ],
          "histogram2d": [
           {
            "colorbar": {
             "outlinewidth": 0,
             "ticks": ""
            },
            "colorscale": [
             [
              0,
              "#0d0887"
             ],
             [
              0.1111111111111111,
              "#46039f"
             ],
             [
              0.2222222222222222,
              "#7201a8"
             ],
             [
              0.3333333333333333,
              "#9c179e"
             ],
             [
              0.4444444444444444,
              "#bd3786"
             ],
             [
              0.5555555555555556,
              "#d8576b"
             ],
             [
              0.6666666666666666,
              "#ed7953"
             ],
             [
              0.7777777777777778,
              "#fb9f3a"
             ],
             [
              0.8888888888888888,
              "#fdca26"
             ],
             [
              1,
              "#f0f921"
             ]
            ],
            "type": "histogram2d"
           }
          ],
          "histogram2dcontour": [
           {
            "colorbar": {
             "outlinewidth": 0,
             "ticks": ""
            },
            "colorscale": [
             [
              0,
              "#0d0887"
             ],
             [
              0.1111111111111111,
              "#46039f"
             ],
             [
              0.2222222222222222,
              "#7201a8"
             ],
             [
              0.3333333333333333,
              "#9c179e"
             ],
             [
              0.4444444444444444,
              "#bd3786"
             ],
             [
              0.5555555555555556,
              "#d8576b"
             ],
             [
              0.6666666666666666,
              "#ed7953"
             ],
             [
              0.7777777777777778,
              "#fb9f3a"
             ],
             [
              0.8888888888888888,
              "#fdca26"
             ],
             [
              1,
              "#f0f921"
             ]
            ],
            "type": "histogram2dcontour"
           }
          ],
          "mesh3d": [
           {
            "colorbar": {
             "outlinewidth": 0,
             "ticks": ""
            },
            "type": "mesh3d"
           }
          ],
          "parcoords": [
           {
            "line": {
             "colorbar": {
              "outlinewidth": 0,
              "ticks": ""
             }
            },
            "type": "parcoords"
           }
          ],
          "pie": [
           {
            "automargin": true,
            "type": "pie"
           }
          ],
          "scatter": [
           {
            "fillpattern": {
             "fillmode": "overlay",
             "size": 10,
             "solidity": 0.2
            },
            "type": "scatter"
           }
          ],
          "scatter3d": [
           {
            "line": {
             "colorbar": {
              "outlinewidth": 0,
              "ticks": ""
             }
            },
            "marker": {
             "colorbar": {
              "outlinewidth": 0,
              "ticks": ""
             }
            },
            "type": "scatter3d"
           }
          ],
          "scattercarpet": [
           {
            "marker": {
             "colorbar": {
              "outlinewidth": 0,
              "ticks": ""
             }
            },
            "type": "scattercarpet"
           }
          ],
          "scattergeo": [
           {
            "marker": {
             "colorbar": {
              "outlinewidth": 0,
              "ticks": ""
             }
            },
            "type": "scattergeo"
           }
          ],
          "scattergl": [
           {
            "marker": {
             "colorbar": {
              "outlinewidth": 0,
              "ticks": ""
             }
            },
            "type": "scattergl"
           }
          ],
          "scattermapbox": [
           {
            "marker": {
             "colorbar": {
              "outlinewidth": 0,
              "ticks": ""
             }
            },
            "type": "scattermapbox"
           }
          ],
          "scatterpolar": [
           {
            "marker": {
             "colorbar": {
              "outlinewidth": 0,
              "ticks": ""
             }
            },
            "type": "scatterpolar"
           }
          ],
          "scatterpolargl": [
           {
            "marker": {
             "colorbar": {
              "outlinewidth": 0,
              "ticks": ""
             }
            },
            "type": "scatterpolargl"
           }
          ],
          "scatterternary": [
           {
            "marker": {
             "colorbar": {
              "outlinewidth": 0,
              "ticks": ""
             }
            },
            "type": "scatterternary"
           }
          ],
          "surface": [
           {
            "colorbar": {
             "outlinewidth": 0,
             "ticks": ""
            },
            "colorscale": [
             [
              0,
              "#0d0887"
             ],
             [
              0.1111111111111111,
              "#46039f"
             ],
             [
              0.2222222222222222,
              "#7201a8"
             ],
             [
              0.3333333333333333,
              "#9c179e"
             ],
             [
              0.4444444444444444,
              "#bd3786"
             ],
             [
              0.5555555555555556,
              "#d8576b"
             ],
             [
              0.6666666666666666,
              "#ed7953"
             ],
             [
              0.7777777777777778,
              "#fb9f3a"
             ],
             [
              0.8888888888888888,
              "#fdca26"
             ],
             [
              1,
              "#f0f921"
             ]
            ],
            "type": "surface"
           }
          ],
          "table": [
           {
            "cells": {
             "fill": {
              "color": "#EBF0F8"
             },
             "line": {
              "color": "white"
             }
            },
            "header": {
             "fill": {
              "color": "#C8D4E3"
             },
             "line": {
              "color": "white"
             }
            },
            "type": "table"
           }
          ]
         },
         "layout": {
          "annotationdefaults": {
           "arrowcolor": "#2a3f5f",
           "arrowhead": 0,
           "arrowwidth": 1
          },
          "autotypenumbers": "strict",
          "coloraxis": {
           "colorbar": {
            "outlinewidth": 0,
            "ticks": ""
           }
          },
          "colorscale": {
           "diverging": [
            [
             0,
             "#8e0152"
            ],
            [
             0.1,
             "#c51b7d"
            ],
            [
             0.2,
             "#de77ae"
            ],
            [
             0.3,
             "#f1b6da"
            ],
            [
             0.4,
             "#fde0ef"
            ],
            [
             0.5,
             "#f7f7f7"
            ],
            [
             0.6,
             "#e6f5d0"
            ],
            [
             0.7,
             "#b8e186"
            ],
            [
             0.8,
             "#7fbc41"
            ],
            [
             0.9,
             "#4d9221"
            ],
            [
             1,
             "#276419"
            ]
           ],
           "sequential": [
            [
             0,
             "#0d0887"
            ],
            [
             0.1111111111111111,
             "#46039f"
            ],
            [
             0.2222222222222222,
             "#7201a8"
            ],
            [
             0.3333333333333333,
             "#9c179e"
            ],
            [
             0.4444444444444444,
             "#bd3786"
            ],
            [
             0.5555555555555556,
             "#d8576b"
            ],
            [
             0.6666666666666666,
             "#ed7953"
            ],
            [
             0.7777777777777778,
             "#fb9f3a"
            ],
            [
             0.8888888888888888,
             "#fdca26"
            ],
            [
             1,
             "#f0f921"
            ]
           ],
           "sequentialminus": [
            [
             0,
             "#0d0887"
            ],
            [
             0.1111111111111111,
             "#46039f"
            ],
            [
             0.2222222222222222,
             "#7201a8"
            ],
            [
             0.3333333333333333,
             "#9c179e"
            ],
            [
             0.4444444444444444,
             "#bd3786"
            ],
            [
             0.5555555555555556,
             "#d8576b"
            ],
            [
             0.6666666666666666,
             "#ed7953"
            ],
            [
             0.7777777777777778,
             "#fb9f3a"
            ],
            [
             0.8888888888888888,
             "#fdca26"
            ],
            [
             1,
             "#f0f921"
            ]
           ]
          },
          "colorway": [
           "#636efa",
           "#EF553B",
           "#00cc96",
           "#ab63fa",
           "#FFA15A",
           "#19d3f3",
           "#FF6692",
           "#B6E880",
           "#FF97FF",
           "#FECB52"
          ],
          "font": {
           "color": "#2a3f5f"
          },
          "geo": {
           "bgcolor": "white",
           "lakecolor": "white",
           "landcolor": "#E5ECF6",
           "showlakes": true,
           "showland": true,
           "subunitcolor": "white"
          },
          "hoverlabel": {
           "align": "left"
          },
          "hovermode": "closest",
          "mapbox": {
           "style": "light"
          },
          "paper_bgcolor": "white",
          "plot_bgcolor": "#E5ECF6",
          "polar": {
           "angularaxis": {
            "gridcolor": "white",
            "linecolor": "white",
            "ticks": ""
           },
           "bgcolor": "#E5ECF6",
           "radialaxis": {
            "gridcolor": "white",
            "linecolor": "white",
            "ticks": ""
           }
          },
          "scene": {
           "xaxis": {
            "backgroundcolor": "#E5ECF6",
            "gridcolor": "white",
            "gridwidth": 2,
            "linecolor": "white",
            "showbackground": true,
            "ticks": "",
            "zerolinecolor": "white"
           },
           "yaxis": {
            "backgroundcolor": "#E5ECF6",
            "gridcolor": "white",
            "gridwidth": 2,
            "linecolor": "white",
            "showbackground": true,
            "ticks": "",
            "zerolinecolor": "white"
           },
           "zaxis": {
            "backgroundcolor": "#E5ECF6",
            "gridcolor": "white",
            "gridwidth": 2,
            "linecolor": "white",
            "showbackground": true,
            "ticks": "",
            "zerolinecolor": "white"
           }
          },
          "shapedefaults": {
           "line": {
            "color": "#2a3f5f"
           }
          },
          "ternary": {
           "aaxis": {
            "gridcolor": "white",
            "linecolor": "white",
            "ticks": ""
           },
           "baxis": {
            "gridcolor": "white",
            "linecolor": "white",
            "ticks": ""
           },
           "bgcolor": "#E5ECF6",
           "caxis": {
            "gridcolor": "white",
            "linecolor": "white",
            "ticks": ""
           }
          },
          "title": {
           "x": 0.05
          },
          "xaxis": {
           "automargin": true,
           "gridcolor": "white",
           "linecolor": "white",
           "ticks": "",
           "title": {
            "standoff": 15
           },
           "zerolinecolor": "white",
           "zerolinewidth": 2
          },
          "yaxis": {
           "automargin": true,
           "gridcolor": "white",
           "linecolor": "white",
           "ticks": "",
           "title": {
            "standoff": 15
           },
           "zerolinecolor": "white",
           "zerolinewidth": 2
          }
         }
        }
       }
      },
      "text/html": [
       "<div>                            <div id=\"bcb68587-01ca-48c8-bbd5-5945c5a9f269\" class=\"plotly-graph-div\" style=\"height:525px; width:100%;\"></div>            <script type=\"text/javascript\">                require([\"plotly\"], function(Plotly) {                    window.PLOTLYENV=window.PLOTLYENV || {};                                    if (document.getElementById(\"bcb68587-01ca-48c8-bbd5-5945c5a9f269\")) {                    Plotly.newPlot(                        \"bcb68587-01ca-48c8-bbd5-5945c5a9f269\",                        [{\"mode\":\"lines+markers\",\"name\":\"Goods_imports\",\"x\":[\"2023-01-01T00:00:00\",\"2022-01-01T00:00:00\",\"2021-01-01T00:00:00\",\"2020-01-01T00:00:00\",\"2019-01-01T00:00:00\",\"2018-01-01T00:00:00\",\"2017-01-01T00:00:00\",\"2016-01-01T00:00:00\",\"2015-01-01T00:00:00\",\"2014-01-01T00:00:00\",\"2013-01-01T00:00:00\",\"2012-01-01T00:00:00\",\"2011-01-01T00:00:00\",\"2010-01-01T00:00:00\",\"2009-01-01T00:00:00\",\"2008-01-01T00:00:00\",\"2007-01-01T00:00:00\",\"2006-01-01T00:00:00\",\"2005-01-01T00:00:00\",\"2004-01-01T00:00:00\",\"2003-01-01T00:00:00\",\"2002-01-01T00:00:00\",\"2001-01-01T00:00:00\",\"2000-01-01T00:00:00\",\"1999-01-01T00:00:00\",\"1998-01-01T00:00:00\",\"1997-01-01T00:00:00\",\"1996-01-01T00:00:00\",\"1995-01-01T00:00:00\",\"1994-01-01T00:00:00\",\"1993-01-01T00:00:00\",\"1992-01-01T00:00:00\",\"1991-01-01T00:00:00\",\"1990-01-01T00:00:00\",\"1989-01-01T00:00:00\",\"1988-01-01T00:00:00\",\"1987-01-01T00:00:00\",\"1986-01-01T00:00:00\",\"1985-01-01T00:00:00\",\"1984-01-01T00:00:00\",\"1983-01-01T00:00:00\",\"1982-01-01T00:00:00\",\"1981-01-01T00:00:00\",\"1980-01-01T00:00:00\",\"1979-01-01T00:00:00\",\"1978-01-01T00:00:00\",\"1977-01-01T00:00:00\",\"1976-01-01T00:00:00\",\"1975-01-01T00:00:00\",\"1974-01-01T00:00:00\",\"1973-01-01T00:00:00\",\"1972-01-01T00:00:00\",\"1971-01-01T00:00:00\",\"1970-01-01T00:00:00\",\"1969-01-01T00:00:00\",\"1968-01-01T00:00:00\",\"1967-01-01T00:00:00\",\"1966-01-01T00:00:00\",\"1965-01-01T00:00:00\",\"1964-01-01T00:00:00\",\"1963-01-01T00:00:00\",\"1962-01-01T00:00:00\",\"1961-01-01T00:00:00\",\"1960-01-01T00:00:00\"],\"y\":[0.0,19317760020.6212,15618543788.9162,12438635427.5623,14699737598.4006,15556053698.7129,19679427963.2557,18463633401.0956,19177467660.7405,23525291943.3932,22981078072.8256,23101922348.4343,22623012537.4407,21005449210.5631,18117420525.4485,23193680380.3675,18023529717.8125,14202062320.3922,12594481412.0186,12280376833.3155,10296801733.3377,8980587076.80767,8996933021.71212,8093043615.71481,8014499778.70977,7875474763.44157,7514185172.06823,7279576060.06387,7458630716.36268,6210245785.15731,5810259944.04269,6078468322.46636,4894979473.568,5192789373.81404,4137694931.02525,3496135967.31966,2828654609.08392,2697633903.03673,2593182510.65695,2947865266.54573,2946520654.17813,3167495508.48375,3452785777.32965,3165790375.04028,2487314334.00945,1787727399.89642,1613241640.31529,1434318701.96331,0.0,0.0,0.0,0.0,0.0,0.0,0.0,0.0,0.0,0.0,0.0,0.0,0.0,0.0,0.0,0.0],\"type\":\"scatter\"},{\"mode\":\"lines+markers\",\"name\":\"Service_imports\",\"x\":[\"2023-01-01T00:00:00\",\"2022-01-01T00:00:00\",\"2021-01-01T00:00:00\",\"2020-01-01T00:00:00\",\"2019-01-01T00:00:00\",\"2018-01-01T00:00:00\",\"2017-01-01T00:00:00\",\"2016-01-01T00:00:00\",\"2015-01-01T00:00:00\",\"2014-01-01T00:00:00\",\"2013-01-01T00:00:00\",\"2012-01-01T00:00:00\",\"2011-01-01T00:00:00\",\"2010-01-01T00:00:00\",\"2009-01-01T00:00:00\",\"2008-01-01T00:00:00\",\"2007-01-01T00:00:00\",\"2006-01-01T00:00:00\",\"2005-01-01T00:00:00\",\"2004-01-01T00:00:00\",\"2003-01-01T00:00:00\",\"2002-01-01T00:00:00\",\"2001-01-01T00:00:00\",\"2000-01-01T00:00:00\",\"1999-01-01T00:00:00\",\"1998-01-01T00:00:00\",\"1997-01-01T00:00:00\",\"1996-01-01T00:00:00\",\"1995-01-01T00:00:00\",\"1994-01-01T00:00:00\",\"1993-01-01T00:00:00\",\"1992-01-01T00:00:00\",\"1991-01-01T00:00:00\",\"1990-01-01T00:00:00\",\"1989-01-01T00:00:00\",\"1988-01-01T00:00:00\",\"1987-01-01T00:00:00\",\"1986-01-01T00:00:00\",\"1985-01-01T00:00:00\",\"1984-01-01T00:00:00\",\"1983-01-01T00:00:00\",\"1982-01-01T00:00:00\",\"1981-01-01T00:00:00\",\"1980-01-01T00:00:00\",\"1979-01-01T00:00:00\",\"1978-01-01T00:00:00\",\"1977-01-01T00:00:00\",\"1976-01-01T00:00:00\",\"1975-01-01T00:00:00\",\"1974-01-01T00:00:00\",\"1973-01-01T00:00:00\",\"1972-01-01T00:00:00\",\"1971-01-01T00:00:00\",\"1970-01-01T00:00:00\",\"1969-01-01T00:00:00\",\"1968-01-01T00:00:00\",\"1967-01-01T00:00:00\",\"1966-01-01T00:00:00\",\"1965-01-01T00:00:00\",\"1964-01-01T00:00:00\",\"1963-01-01T00:00:00\",\"1962-01-01T00:00:00\",\"1961-01-01T00:00:00\",\"1960-01-01T00:00:00\"],\"y\":[0.0,3218101559.47931,2596380943.29269,2115413220.81409,2948337555.23497,3104689821.92781,3049732891.07949,3010567806.21034,3076276046.645,3400297465.65155,3304263973.45083,3195932282.96883,3177832763.09092,3234385915.88654,2872007554.01677,3252791548.59086,2709936720.7976,2361788846.94127,2106466613.57039,1899689540.73439,1539048604.59852,1378598893.3696,1349122913.71626,1170219233.71555,1176842504.58387,1198709082.52651,1181833937.41194,1244082219.69198,1352365847.21121,1361271640.58606,1355926574.73287,1157803489.99359,841425989.932811,845920303.605313,716301566.470767,749588338.44166,663720151.448871,670000577.224808,612345777.701341,611456769.261669,615822816.72323,611152260.054855,579176969.100457,600067910.40155,445305533.586261,365234630.086366,314721996.304283,296192642.519253,0.0,0.0,0.0,0.0,0.0,0.0,0.0,0.0,0.0,0.0,0.0,0.0,0.0,0.0,0.0,0.0],\"type\":\"scatter\"},{\"mode\":\"lines+markers\",\"name\":\"Goods_exports\",\"x\":[\"2023-01-01T00:00:00\",\"2022-01-01T00:00:00\",\"2021-01-01T00:00:00\",\"2020-01-01T00:00:00\",\"2019-01-01T00:00:00\",\"2018-01-01T00:00:00\",\"2017-01-01T00:00:00\",\"2016-01-01T00:00:00\",\"2015-01-01T00:00:00\",\"2014-01-01T00:00:00\",\"2013-01-01T00:00:00\",\"2012-01-01T00:00:00\",\"2011-01-01T00:00:00\",\"2010-01-01T00:00:00\",\"2009-01-01T00:00:00\",\"2008-01-01T00:00:00\",\"2007-01-01T00:00:00\",\"2006-01-01T00:00:00\",\"2005-01-01T00:00:00\",\"2004-01-01T00:00:00\",\"2003-01-01T00:00:00\",\"2002-01-01T00:00:00\",\"2001-01-01T00:00:00\",\"2000-01-01T00:00:00\",\"1999-01-01T00:00:00\",\"1998-01-01T00:00:00\",\"1997-01-01T00:00:00\",\"1996-01-01T00:00:00\",\"1995-01-01T00:00:00\",\"1994-01-01T00:00:00\",\"1993-01-01T00:00:00\",\"1992-01-01T00:00:00\",\"1991-01-01T00:00:00\",\"1990-01-01T00:00:00\",\"1989-01-01T00:00:00\",\"1988-01-01T00:00:00\",\"1987-01-01T00:00:00\",\"1986-01-01T00:00:00\",\"1985-01-01T00:00:00\",\"1984-01-01T00:00:00\",\"1983-01-01T00:00:00\",\"1982-01-01T00:00:00\",\"1981-01-01T00:00:00\",\"1980-01-01T00:00:00\",\"1979-01-01T00:00:00\",\"1978-01-01T00:00:00\",\"1977-01-01T00:00:00\",\"1976-01-01T00:00:00\",\"1975-01-01T00:00:00\",\"1974-01-01T00:00:00\",\"1973-01-01T00:00:00\",\"1972-01-01T00:00:00\",\"1971-01-01T00:00:00\",\"1970-01-01T00:00:00\",\"1969-01-01T00:00:00\",\"1968-01-01T00:00:00\",\"1967-01-01T00:00:00\",\"1966-01-01T00:00:00\",\"1965-01-01T00:00:00\",\"1964-01-01T00:00:00\",\"1963-01-01T00:00:00\",\"1962-01-01T00:00:00\",\"1961-01-01T00:00:00\",\"1960-01-01T00:00:00\"],\"y\":[0.0,8644445160.45882,7109335114.63129,5682632902.99068,5876705326.41169,6343273808.02457,14310507661.9445,13650114057.8204,14158771426.7508,16841268205.0451,17145574197.6518,17071350445.7735,17876330401.2218,16493433002.6547,14481420451.3895,19248517148.3257,15191925235.5899,11738021449.6347,10691262235.6961,10025157906.0058,8085632053.8111,6900731501.45364,6653865869.65777,5899976897.16809,5934793146.32553,5768732573.71183,5559231099.62401,5518752835.82601,5469733016.12477,4643349960.66283,3745983777.36634,4041005540.27061,3695568904.37071,3514611005.6926,2930516114.5907,2399148989.91125,2100975970.31361,1763159413.74949,1707617873.2376,1781591934.01716,1862201053.44058,2004443977.57603,2490865985.99147,2195310174.2674,1557339241.76853,941920888.117471,787970627.784055,788292229.696909,0.0,0.0,0.0,0.0,0.0,0.0,0.0,0.0,0.0,0.0,0.0,0.0,0.0,0.0,0.0,0.0],\"type\":\"scatter\"},{\"mode\":\"lines+markers\",\"name\":\"Service_exports\",\"x\":[\"2023-01-01T00:00:00\",\"2022-01-01T00:00:00\",\"2021-01-01T00:00:00\",\"2020-01-01T00:00:00\",\"2019-01-01T00:00:00\",\"2018-01-01T00:00:00\",\"2017-01-01T00:00:00\",\"2016-01-01T00:00:00\",\"2015-01-01T00:00:00\",\"2014-01-01T00:00:00\",\"2013-01-01T00:00:00\",\"2012-01-01T00:00:00\",\"2011-01-01T00:00:00\",\"2010-01-01T00:00:00\",\"2009-01-01T00:00:00\",\"2008-01-01T00:00:00\",\"2007-01-01T00:00:00\",\"2006-01-01T00:00:00\",\"2005-01-01T00:00:00\",\"2004-01-01T00:00:00\",\"2003-01-01T00:00:00\",\"2002-01-01T00:00:00\",\"2001-01-01T00:00:00\",\"2000-01-01T00:00:00\",\"1999-01-01T00:00:00\",\"1998-01-01T00:00:00\",\"1997-01-01T00:00:00\",\"1996-01-01T00:00:00\",\"1995-01-01T00:00:00\",\"1994-01-01T00:00:00\",\"1993-01-01T00:00:00\",\"1992-01-01T00:00:00\",\"1991-01-01T00:00:00\",\"1990-01-01T00:00:00\",\"1989-01-01T00:00:00\",\"1988-01-01T00:00:00\",\"1987-01-01T00:00:00\",\"1986-01-01T00:00:00\",\"1985-01-01T00:00:00\",\"1984-01-01T00:00:00\",\"1983-01-01T00:00:00\",\"1982-01-01T00:00:00\",\"1981-01-01T00:00:00\",\"1980-01-01T00:00:00\",\"1979-01-01T00:00:00\",\"1978-01-01T00:00:00\",\"1977-01-01T00:00:00\",\"1976-01-01T00:00:00\",\"1975-01-01T00:00:00\",\"1974-01-01T00:00:00\",\"1973-01-01T00:00:00\",\"1972-01-01T00:00:00\",\"1971-01-01T00:00:00\",\"1970-01-01T00:00:00\",\"1969-01-01T00:00:00\",\"1968-01-01T00:00:00\",\"1967-01-01T00:00:00\",\"1966-01-01T00:00:00\",\"1965-01-01T00:00:00\",\"1964-01-01T00:00:00\",\"1963-01-01T00:00:00\",\"1962-01-01T00:00:00\",\"1961-01-01T00:00:00\",\"1960-01-01T00:00:00\"],\"y\":[0.0,8643704085.57804,6958000333.99336,5530091886.10983,7847239103.51801,7339054983.25063,3273753061.16123,3249018482.02232,3294156630.34474,4733768241.86019,4830677219.31279,5076664514.71772,4618324316.00508,5631759116.94844,5333876432.57855,5831472300.93941,4772123332.66132,4153039950.41416,3876808056.93293,3477411412.05437,2805678621.0911,2565882021.94505,2810151437.48317,2658527984.82509,2801323526.31246,2654723484.599,2613236479.81675,2631988973.45239,2509119746.23315,2266808912.02892,2040365631.9272,1971884068.89534,1410307828.88481,1688425047.43833,1446297133.477,1853569919.31919,1240553301.25353,959662480.912225,964654307.337729,915254237.779046,1003290282.74765,997143161.142132,994321300.099036,1066787396.26942,998862136.110618,711246384.905029,538524304.787328,515421842.494133,0.0,0.0,0.0,0.0,0.0,0.0,0.0,0.0,0.0,0.0,0.0,0.0,0.0,0.0,0.0,0.0],\"type\":\"scatter\"}],                        {\"template\":{\"data\":{\"histogram2dcontour\":[{\"type\":\"histogram2dcontour\",\"colorbar\":{\"outlinewidth\":0,\"ticks\":\"\"},\"colorscale\":[[0.0,\"#0d0887\"],[0.1111111111111111,\"#46039f\"],[0.2222222222222222,\"#7201a8\"],[0.3333333333333333,\"#9c179e\"],[0.4444444444444444,\"#bd3786\"],[0.5555555555555556,\"#d8576b\"],[0.6666666666666666,\"#ed7953\"],[0.7777777777777778,\"#fb9f3a\"],[0.8888888888888888,\"#fdca26\"],[1.0,\"#f0f921\"]]}],\"choropleth\":[{\"type\":\"choropleth\",\"colorbar\":{\"outlinewidth\":0,\"ticks\":\"\"}}],\"histogram2d\":[{\"type\":\"histogram2d\",\"colorbar\":{\"outlinewidth\":0,\"ticks\":\"\"},\"colorscale\":[[0.0,\"#0d0887\"],[0.1111111111111111,\"#46039f\"],[0.2222222222222222,\"#7201a8\"],[0.3333333333333333,\"#9c179e\"],[0.4444444444444444,\"#bd3786\"],[0.5555555555555556,\"#d8576b\"],[0.6666666666666666,\"#ed7953\"],[0.7777777777777778,\"#fb9f3a\"],[0.8888888888888888,\"#fdca26\"],[1.0,\"#f0f921\"]]}],\"heatmap\":[{\"type\":\"heatmap\",\"colorbar\":{\"outlinewidth\":0,\"ticks\":\"\"},\"colorscale\":[[0.0,\"#0d0887\"],[0.1111111111111111,\"#46039f\"],[0.2222222222222222,\"#7201a8\"],[0.3333333333333333,\"#9c179e\"],[0.4444444444444444,\"#bd3786\"],[0.5555555555555556,\"#d8576b\"],[0.6666666666666666,\"#ed7953\"],[0.7777777777777778,\"#fb9f3a\"],[0.8888888888888888,\"#fdca26\"],[1.0,\"#f0f921\"]]}],\"heatmapgl\":[{\"type\":\"heatmapgl\",\"colorbar\":{\"outlinewidth\":0,\"ticks\":\"\"},\"colorscale\":[[0.0,\"#0d0887\"],[0.1111111111111111,\"#46039f\"],[0.2222222222222222,\"#7201a8\"],[0.3333333333333333,\"#9c179e\"],[0.4444444444444444,\"#bd3786\"],[0.5555555555555556,\"#d8576b\"],[0.6666666666666666,\"#ed7953\"],[0.7777777777777778,\"#fb9f3a\"],[0.8888888888888888,\"#fdca26\"],[1.0,\"#f0f921\"]]}],\"contourcarpet\":[{\"type\":\"contourcarpet\",\"colorbar\":{\"outlinewidth\":0,\"ticks\":\"\"}}],\"contour\":[{\"type\":\"contour\",\"colorbar\":{\"outlinewidth\":0,\"ticks\":\"\"},\"colorscale\":[[0.0,\"#0d0887\"],[0.1111111111111111,\"#46039f\"],[0.2222222222222222,\"#7201a8\"],[0.3333333333333333,\"#9c179e\"],[0.4444444444444444,\"#bd3786\"],[0.5555555555555556,\"#d8576b\"],[0.6666666666666666,\"#ed7953\"],[0.7777777777777778,\"#fb9f3a\"],[0.8888888888888888,\"#fdca26\"],[1.0,\"#f0f921\"]]}],\"surface\":[{\"type\":\"surface\",\"colorbar\":{\"outlinewidth\":0,\"ticks\":\"\"},\"colorscale\":[[0.0,\"#0d0887\"],[0.1111111111111111,\"#46039f\"],[0.2222222222222222,\"#7201a8\"],[0.3333333333333333,\"#9c179e\"],[0.4444444444444444,\"#bd3786\"],[0.5555555555555556,\"#d8576b\"],[0.6666666666666666,\"#ed7953\"],[0.7777777777777778,\"#fb9f3a\"],[0.8888888888888888,\"#fdca26\"],[1.0,\"#f0f921\"]]}],\"mesh3d\":[{\"type\":\"mesh3d\",\"colorbar\":{\"outlinewidth\":0,\"ticks\":\"\"}}],\"scatter\":[{\"fillpattern\":{\"fillmode\":\"overlay\",\"size\":10,\"solidity\":0.2},\"type\":\"scatter\"}],\"parcoords\":[{\"type\":\"parcoords\",\"line\":{\"colorbar\":{\"outlinewidth\":0,\"ticks\":\"\"}}}],\"scatterpolargl\":[{\"type\":\"scatterpolargl\",\"marker\":{\"colorbar\":{\"outlinewidth\":0,\"ticks\":\"\"}}}],\"bar\":[{\"error_x\":{\"color\":\"#2a3f5f\"},\"error_y\":{\"color\":\"#2a3f5f\"},\"marker\":{\"line\":{\"color\":\"#E5ECF6\",\"width\":0.5},\"pattern\":{\"fillmode\":\"overlay\",\"size\":10,\"solidity\":0.2}},\"type\":\"bar\"}],\"scattergeo\":[{\"type\":\"scattergeo\",\"marker\":{\"colorbar\":{\"outlinewidth\":0,\"ticks\":\"\"}}}],\"scatterpolar\":[{\"type\":\"scatterpolar\",\"marker\":{\"colorbar\":{\"outlinewidth\":0,\"ticks\":\"\"}}}],\"histogram\":[{\"marker\":{\"pattern\":{\"fillmode\":\"overlay\",\"size\":10,\"solidity\":0.2}},\"type\":\"histogram\"}],\"scattergl\":[{\"type\":\"scattergl\",\"marker\":{\"colorbar\":{\"outlinewidth\":0,\"ticks\":\"\"}}}],\"scatter3d\":[{\"type\":\"scatter3d\",\"line\":{\"colorbar\":{\"outlinewidth\":0,\"ticks\":\"\"}},\"marker\":{\"colorbar\":{\"outlinewidth\":0,\"ticks\":\"\"}}}],\"scattermapbox\":[{\"type\":\"scattermapbox\",\"marker\":{\"colorbar\":{\"outlinewidth\":0,\"ticks\":\"\"}}}],\"scatterternary\":[{\"type\":\"scatterternary\",\"marker\":{\"colorbar\":{\"outlinewidth\":0,\"ticks\":\"\"}}}],\"scattercarpet\":[{\"type\":\"scattercarpet\",\"marker\":{\"colorbar\":{\"outlinewidth\":0,\"ticks\":\"\"}}}],\"carpet\":[{\"aaxis\":{\"endlinecolor\":\"#2a3f5f\",\"gridcolor\":\"white\",\"linecolor\":\"white\",\"minorgridcolor\":\"white\",\"startlinecolor\":\"#2a3f5f\"},\"baxis\":{\"endlinecolor\":\"#2a3f5f\",\"gridcolor\":\"white\",\"linecolor\":\"white\",\"minorgridcolor\":\"white\",\"startlinecolor\":\"#2a3f5f\"},\"type\":\"carpet\"}],\"table\":[{\"cells\":{\"fill\":{\"color\":\"#EBF0F8\"},\"line\":{\"color\":\"white\"}},\"header\":{\"fill\":{\"color\":\"#C8D4E3\"},\"line\":{\"color\":\"white\"}},\"type\":\"table\"}],\"barpolar\":[{\"marker\":{\"line\":{\"color\":\"#E5ECF6\",\"width\":0.5},\"pattern\":{\"fillmode\":\"overlay\",\"size\":10,\"solidity\":0.2}},\"type\":\"barpolar\"}],\"pie\":[{\"automargin\":true,\"type\":\"pie\"}]},\"layout\":{\"autotypenumbers\":\"strict\",\"colorway\":[\"#636efa\",\"#EF553B\",\"#00cc96\",\"#ab63fa\",\"#FFA15A\",\"#19d3f3\",\"#FF6692\",\"#B6E880\",\"#FF97FF\",\"#FECB52\"],\"font\":{\"color\":\"#2a3f5f\"},\"hovermode\":\"closest\",\"hoverlabel\":{\"align\":\"left\"},\"paper_bgcolor\":\"white\",\"plot_bgcolor\":\"#E5ECF6\",\"polar\":{\"bgcolor\":\"#E5ECF6\",\"angularaxis\":{\"gridcolor\":\"white\",\"linecolor\":\"white\",\"ticks\":\"\"},\"radialaxis\":{\"gridcolor\":\"white\",\"linecolor\":\"white\",\"ticks\":\"\"}},\"ternary\":{\"bgcolor\":\"#E5ECF6\",\"aaxis\":{\"gridcolor\":\"white\",\"linecolor\":\"white\",\"ticks\":\"\"},\"baxis\":{\"gridcolor\":\"white\",\"linecolor\":\"white\",\"ticks\":\"\"},\"caxis\":{\"gridcolor\":\"white\",\"linecolor\":\"white\",\"ticks\":\"\"}},\"coloraxis\":{\"colorbar\":{\"outlinewidth\":0,\"ticks\":\"\"}},\"colorscale\":{\"sequential\":[[0.0,\"#0d0887\"],[0.1111111111111111,\"#46039f\"],[0.2222222222222222,\"#7201a8\"],[0.3333333333333333,\"#9c179e\"],[0.4444444444444444,\"#bd3786\"],[0.5555555555555556,\"#d8576b\"],[0.6666666666666666,\"#ed7953\"],[0.7777777777777778,\"#fb9f3a\"],[0.8888888888888888,\"#fdca26\"],[1.0,\"#f0f921\"]],\"sequentialminus\":[[0.0,\"#0d0887\"],[0.1111111111111111,\"#46039f\"],[0.2222222222222222,\"#7201a8\"],[0.3333333333333333,\"#9c179e\"],[0.4444444444444444,\"#bd3786\"],[0.5555555555555556,\"#d8576b\"],[0.6666666666666666,\"#ed7953\"],[0.7777777777777778,\"#fb9f3a\"],[0.8888888888888888,\"#fdca26\"],[1.0,\"#f0f921\"]],\"diverging\":[[0,\"#8e0152\"],[0.1,\"#c51b7d\"],[0.2,\"#de77ae\"],[0.3,\"#f1b6da\"],[0.4,\"#fde0ef\"],[0.5,\"#f7f7f7\"],[0.6,\"#e6f5d0\"],[0.7,\"#b8e186\"],[0.8,\"#7fbc41\"],[0.9,\"#4d9221\"],[1,\"#276419\"]]},\"xaxis\":{\"gridcolor\":\"white\",\"linecolor\":\"white\",\"ticks\":\"\",\"title\":{\"standoff\":15},\"zerolinecolor\":\"white\",\"automargin\":true,\"zerolinewidth\":2},\"yaxis\":{\"gridcolor\":\"white\",\"linecolor\":\"white\",\"ticks\":\"\",\"title\":{\"standoff\":15},\"zerolinecolor\":\"white\",\"automargin\":true,\"zerolinewidth\":2},\"scene\":{\"xaxis\":{\"backgroundcolor\":\"#E5ECF6\",\"gridcolor\":\"white\",\"linecolor\":\"white\",\"showbackground\":true,\"ticks\":\"\",\"zerolinecolor\":\"white\",\"gridwidth\":2},\"yaxis\":{\"backgroundcolor\":\"#E5ECF6\",\"gridcolor\":\"white\",\"linecolor\":\"white\",\"showbackground\":true,\"ticks\":\"\",\"zerolinecolor\":\"white\",\"gridwidth\":2},\"zaxis\":{\"backgroundcolor\":\"#E5ECF6\",\"gridcolor\":\"white\",\"linecolor\":\"white\",\"showbackground\":true,\"ticks\":\"\",\"zerolinecolor\":\"white\",\"gridwidth\":2}},\"shapedefaults\":{\"line\":{\"color\":\"#2a3f5f\"}},\"annotationdefaults\":{\"arrowcolor\":\"#2a3f5f\",\"arrowhead\":0,\"arrowwidth\":1},\"geo\":{\"bgcolor\":\"white\",\"landcolor\":\"#E5ECF6\",\"subunitcolor\":\"white\",\"showland\":true,\"showlakes\":true,\"lakecolor\":\"white\"},\"title\":{\"x\":0.05},\"mapbox\":{\"style\":\"light\"}}}},                        {\"responsive\": true}                    ).then(function(){\n",
       "                            \n",
       "var gd = document.getElementById('bcb68587-01ca-48c8-bbd5-5945c5a9f269');\n",
       "var x = new MutationObserver(function (mutations, observer) {{\n",
       "        var display = window.getComputedStyle(gd).display;\n",
       "        if (!display || display === 'none') {{\n",
       "            console.log([gd, 'removed!']);\n",
       "            Plotly.purge(gd);\n",
       "            observer.disconnect();\n",
       "        }}\n",
       "}});\n",
       "\n",
       "// Listen for the removal of the full notebook cells\n",
       "var notebookContainer = gd.closest('#notebook-container');\n",
       "if (notebookContainer) {{\n",
       "    x.observe(notebookContainer, {childList: true});\n",
       "}}\n",
       "\n",
       "// Listen for the clearing of the current output cell\n",
       "var outputEl = gd.closest('.output');\n",
       "if (outputEl) {{\n",
       "    x.observe(outputEl, {childList: true});\n",
       "}}\n",
       "\n",
       "                        })                };                });            </script>        </div>"
      ]
     },
     "metadata": {},
     "output_type": "display_data"
    }
   ],
   "source": [
    "fig = go.Figure()\n",
    "fig.add_trace(go.Scatter(x=df['date'], y=df['Goods_imports'],mode='lines+markers', name='Goods_imports'))\n",
    "fig.add_trace(go.Scatter(x=df['date'], y=df['Service_imports'], mode='lines+markers', name='Service_imports'))\n",
    "fig.add_trace(go.Scatter(x=df['date'], y=df['Goods_exports'], mode='lines+markers', name='Goods_exports'))\n",
    "fig.add_trace(go.Scatter(x=df['date'], y=df['Service_exports'], mode='lines+markers', name='Service_exports'))\n",
    "fig.show()"
   ]
  },
  {
   "cell_type": "code",
   "execution_count": 62,
   "id": "d37b0975",
   "metadata": {},
   "outputs": [
    {
     "data": {
      "application/vnd.plotly.v1+json": {
       "config": {
        "plotlyServerURL": "https://plot.ly"
       },
       "data": [
        {
         "labels": [
          "Agriculteral Raw Material Imports",
          "Food imports",
          "Fuel imports",
          "Manufacturing Imports",
          "Ores Metals Imports"
         ],
         "type": "pie",
         "values": [
          1.54362321193338,
          12.7608432391714,
          19.1173586577296,
          61.7616820997781,
          4.70967316769062
         ]
        }
       ],
       "layout": {
        "template": {
         "data": {
          "bar": [
           {
            "error_x": {
             "color": "#2a3f5f"
            },
            "error_y": {
             "color": "#2a3f5f"
            },
            "marker": {
             "line": {
              "color": "#E5ECF6",
              "width": 0.5
             },
             "pattern": {
              "fillmode": "overlay",
              "size": 10,
              "solidity": 0.2
             }
            },
            "type": "bar"
           }
          ],
          "barpolar": [
           {
            "marker": {
             "line": {
              "color": "#E5ECF6",
              "width": 0.5
             },
             "pattern": {
              "fillmode": "overlay",
              "size": 10,
              "solidity": 0.2
             }
            },
            "type": "barpolar"
           }
          ],
          "carpet": [
           {
            "aaxis": {
             "endlinecolor": "#2a3f5f",
             "gridcolor": "white",
             "linecolor": "white",
             "minorgridcolor": "white",
             "startlinecolor": "#2a3f5f"
            },
            "baxis": {
             "endlinecolor": "#2a3f5f",
             "gridcolor": "white",
             "linecolor": "white",
             "minorgridcolor": "white",
             "startlinecolor": "#2a3f5f"
            },
            "type": "carpet"
           }
          ],
          "choropleth": [
           {
            "colorbar": {
             "outlinewidth": 0,
             "ticks": ""
            },
            "type": "choropleth"
           }
          ],
          "contour": [
           {
            "colorbar": {
             "outlinewidth": 0,
             "ticks": ""
            },
            "colorscale": [
             [
              0,
              "#0d0887"
             ],
             [
              0.1111111111111111,
              "#46039f"
             ],
             [
              0.2222222222222222,
              "#7201a8"
             ],
             [
              0.3333333333333333,
              "#9c179e"
             ],
             [
              0.4444444444444444,
              "#bd3786"
             ],
             [
              0.5555555555555556,
              "#d8576b"
             ],
             [
              0.6666666666666666,
              "#ed7953"
             ],
             [
              0.7777777777777778,
              "#fb9f3a"
             ],
             [
              0.8888888888888888,
              "#fdca26"
             ],
             [
              1,
              "#f0f921"
             ]
            ],
            "type": "contour"
           }
          ],
          "contourcarpet": [
           {
            "colorbar": {
             "outlinewidth": 0,
             "ticks": ""
            },
            "type": "contourcarpet"
           }
          ],
          "heatmap": [
           {
            "colorbar": {
             "outlinewidth": 0,
             "ticks": ""
            },
            "colorscale": [
             [
              0,
              "#0d0887"
             ],
             [
              0.1111111111111111,
              "#46039f"
             ],
             [
              0.2222222222222222,
              "#7201a8"
             ],
             [
              0.3333333333333333,
              "#9c179e"
             ],
             [
              0.4444444444444444,
              "#bd3786"
             ],
             [
              0.5555555555555556,
              "#d8576b"
             ],
             [
              0.6666666666666666,
              "#ed7953"
             ],
             [
              0.7777777777777778,
              "#fb9f3a"
             ],
             [
              0.8888888888888888,
              "#fdca26"
             ],
             [
              1,
              "#f0f921"
             ]
            ],
            "type": "heatmap"
           }
          ],
          "heatmapgl": [
           {
            "colorbar": {
             "outlinewidth": 0,
             "ticks": ""
            },
            "colorscale": [
             [
              0,
              "#0d0887"
             ],
             [
              0.1111111111111111,
              "#46039f"
             ],
             [
              0.2222222222222222,
              "#7201a8"
             ],
             [
              0.3333333333333333,
              "#9c179e"
             ],
             [
              0.4444444444444444,
              "#bd3786"
             ],
             [
              0.5555555555555556,
              "#d8576b"
             ],
             [
              0.6666666666666666,
              "#ed7953"
             ],
             [
              0.7777777777777778,
              "#fb9f3a"
             ],
             [
              0.8888888888888888,
              "#fdca26"
             ],
             [
              1,
              "#f0f921"
             ]
            ],
            "type": "heatmapgl"
           }
          ],
          "histogram": [
           {
            "marker": {
             "pattern": {
              "fillmode": "overlay",
              "size": 10,
              "solidity": 0.2
             }
            },
            "type": "histogram"
           }
          ],
          "histogram2d": [
           {
            "colorbar": {
             "outlinewidth": 0,
             "ticks": ""
            },
            "colorscale": [
             [
              0,
              "#0d0887"
             ],
             [
              0.1111111111111111,
              "#46039f"
             ],
             [
              0.2222222222222222,
              "#7201a8"
             ],
             [
              0.3333333333333333,
              "#9c179e"
             ],
             [
              0.4444444444444444,
              "#bd3786"
             ],
             [
              0.5555555555555556,
              "#d8576b"
             ],
             [
              0.6666666666666666,
              "#ed7953"
             ],
             [
              0.7777777777777778,
              "#fb9f3a"
             ],
             [
              0.8888888888888888,
              "#fdca26"
             ],
             [
              1,
              "#f0f921"
             ]
            ],
            "type": "histogram2d"
           }
          ],
          "histogram2dcontour": [
           {
            "colorbar": {
             "outlinewidth": 0,
             "ticks": ""
            },
            "colorscale": [
             [
              0,
              "#0d0887"
             ],
             [
              0.1111111111111111,
              "#46039f"
             ],
             [
              0.2222222222222222,
              "#7201a8"
             ],
             [
              0.3333333333333333,
              "#9c179e"
             ],
             [
              0.4444444444444444,
              "#bd3786"
             ],
             [
              0.5555555555555556,
              "#d8576b"
             ],
             [
              0.6666666666666666,
              "#ed7953"
             ],
             [
              0.7777777777777778,
              "#fb9f3a"
             ],
             [
              0.8888888888888888,
              "#fdca26"
             ],
             [
              1,
              "#f0f921"
             ]
            ],
            "type": "histogram2dcontour"
           }
          ],
          "mesh3d": [
           {
            "colorbar": {
             "outlinewidth": 0,
             "ticks": ""
            },
            "type": "mesh3d"
           }
          ],
          "parcoords": [
           {
            "line": {
             "colorbar": {
              "outlinewidth": 0,
              "ticks": ""
             }
            },
            "type": "parcoords"
           }
          ],
          "pie": [
           {
            "automargin": true,
            "type": "pie"
           }
          ],
          "scatter": [
           {
            "fillpattern": {
             "fillmode": "overlay",
             "size": 10,
             "solidity": 0.2
            },
            "type": "scatter"
           }
          ],
          "scatter3d": [
           {
            "line": {
             "colorbar": {
              "outlinewidth": 0,
              "ticks": ""
             }
            },
            "marker": {
             "colorbar": {
              "outlinewidth": 0,
              "ticks": ""
             }
            },
            "type": "scatter3d"
           }
          ],
          "scattercarpet": [
           {
            "marker": {
             "colorbar": {
              "outlinewidth": 0,
              "ticks": ""
             }
            },
            "type": "scattercarpet"
           }
          ],
          "scattergeo": [
           {
            "marker": {
             "colorbar": {
              "outlinewidth": 0,
              "ticks": ""
             }
            },
            "type": "scattergeo"
           }
          ],
          "scattergl": [
           {
            "marker": {
             "colorbar": {
              "outlinewidth": 0,
              "ticks": ""
             }
            },
            "type": "scattergl"
           }
          ],
          "scattermapbox": [
           {
            "marker": {
             "colorbar": {
              "outlinewidth": 0,
              "ticks": ""
             }
            },
            "type": "scattermapbox"
           }
          ],
          "scatterpolar": [
           {
            "marker": {
             "colorbar": {
              "outlinewidth": 0,
              "ticks": ""
             }
            },
            "type": "scatterpolar"
           }
          ],
          "scatterpolargl": [
           {
            "marker": {
             "colorbar": {
              "outlinewidth": 0,
              "ticks": ""
             }
            },
            "type": "scatterpolargl"
           }
          ],
          "scatterternary": [
           {
            "marker": {
             "colorbar": {
              "outlinewidth": 0,
              "ticks": ""
             }
            },
            "type": "scatterternary"
           }
          ],
          "surface": [
           {
            "colorbar": {
             "outlinewidth": 0,
             "ticks": ""
            },
            "colorscale": [
             [
              0,
              "#0d0887"
             ],
             [
              0.1111111111111111,
              "#46039f"
             ],
             [
              0.2222222222222222,
              "#7201a8"
             ],
             [
              0.3333333333333333,
              "#9c179e"
             ],
             [
              0.4444444444444444,
              "#bd3786"
             ],
             [
              0.5555555555555556,
              "#d8576b"
             ],
             [
              0.6666666666666666,
              "#ed7953"
             ],
             [
              0.7777777777777778,
              "#fb9f3a"
             ],
             [
              0.8888888888888888,
              "#fdca26"
             ],
             [
              1,
              "#f0f921"
             ]
            ],
            "type": "surface"
           }
          ],
          "table": [
           {
            "cells": {
             "fill": {
              "color": "#EBF0F8"
             },
             "line": {
              "color": "white"
             }
            },
            "header": {
             "fill": {
              "color": "#C8D4E3"
             },
             "line": {
              "color": "white"
             }
            },
            "type": "table"
           }
          ]
         },
         "layout": {
          "annotationdefaults": {
           "arrowcolor": "#2a3f5f",
           "arrowhead": 0,
           "arrowwidth": 1
          },
          "autotypenumbers": "strict",
          "coloraxis": {
           "colorbar": {
            "outlinewidth": 0,
            "ticks": ""
           }
          },
          "colorscale": {
           "diverging": [
            [
             0,
             "#8e0152"
            ],
            [
             0.1,
             "#c51b7d"
            ],
            [
             0.2,
             "#de77ae"
            ],
            [
             0.3,
             "#f1b6da"
            ],
            [
             0.4,
             "#fde0ef"
            ],
            [
             0.5,
             "#f7f7f7"
            ],
            [
             0.6,
             "#e6f5d0"
            ],
            [
             0.7,
             "#b8e186"
            ],
            [
             0.8,
             "#7fbc41"
            ],
            [
             0.9,
             "#4d9221"
            ],
            [
             1,
             "#276419"
            ]
           ],
           "sequential": [
            [
             0,
             "#0d0887"
            ],
            [
             0.1111111111111111,
             "#46039f"
            ],
            [
             0.2222222222222222,
             "#7201a8"
            ],
            [
             0.3333333333333333,
             "#9c179e"
            ],
            [
             0.4444444444444444,
             "#bd3786"
            ],
            [
             0.5555555555555556,
             "#d8576b"
            ],
            [
             0.6666666666666666,
             "#ed7953"
            ],
            [
             0.7777777777777778,
             "#fb9f3a"
            ],
            [
             0.8888888888888888,
             "#fdca26"
            ],
            [
             1,
             "#f0f921"
            ]
           ],
           "sequentialminus": [
            [
             0,
             "#0d0887"
            ],
            [
             0.1111111111111111,
             "#46039f"
            ],
            [
             0.2222222222222222,
             "#7201a8"
            ],
            [
             0.3333333333333333,
             "#9c179e"
            ],
            [
             0.4444444444444444,
             "#bd3786"
            ],
            [
             0.5555555555555556,
             "#d8576b"
            ],
            [
             0.6666666666666666,
             "#ed7953"
            ],
            [
             0.7777777777777778,
             "#fb9f3a"
            ],
            [
             0.8888888888888888,
             "#fdca26"
            ],
            [
             1,
             "#f0f921"
            ]
           ]
          },
          "colorway": [
           "#636efa",
           "#EF553B",
           "#00cc96",
           "#ab63fa",
           "#FFA15A",
           "#19d3f3",
           "#FF6692",
           "#B6E880",
           "#FF97FF",
           "#FECB52"
          ],
          "font": {
           "color": "#2a3f5f"
          },
          "geo": {
           "bgcolor": "white",
           "lakecolor": "white",
           "landcolor": "#E5ECF6",
           "showlakes": true,
           "showland": true,
           "subunitcolor": "white"
          },
          "hoverlabel": {
           "align": "left"
          },
          "hovermode": "closest",
          "mapbox": {
           "style": "light"
          },
          "paper_bgcolor": "white",
          "plot_bgcolor": "#E5ECF6",
          "polar": {
           "angularaxis": {
            "gridcolor": "white",
            "linecolor": "white",
            "ticks": ""
           },
           "bgcolor": "#E5ECF6",
           "radialaxis": {
            "gridcolor": "white",
            "linecolor": "white",
            "ticks": ""
           }
          },
          "scene": {
           "xaxis": {
            "backgroundcolor": "#E5ECF6",
            "gridcolor": "white",
            "gridwidth": 2,
            "linecolor": "white",
            "showbackground": true,
            "ticks": "",
            "zerolinecolor": "white"
           },
           "yaxis": {
            "backgroundcolor": "#E5ECF6",
            "gridcolor": "white",
            "gridwidth": 2,
            "linecolor": "white",
            "showbackground": true,
            "ticks": "",
            "zerolinecolor": "white"
           },
           "zaxis": {
            "backgroundcolor": "#E5ECF6",
            "gridcolor": "white",
            "gridwidth": 2,
            "linecolor": "white",
            "showbackground": true,
            "ticks": "",
            "zerolinecolor": "white"
           }
          },
          "shapedefaults": {
           "line": {
            "color": "#2a3f5f"
           }
          },
          "ternary": {
           "aaxis": {
            "gridcolor": "white",
            "linecolor": "white",
            "ticks": ""
           },
           "baxis": {
            "gridcolor": "white",
            "linecolor": "white",
            "ticks": ""
           },
           "bgcolor": "#E5ECF6",
           "caxis": {
            "gridcolor": "white",
            "linecolor": "white",
            "ticks": ""
           }
          },
          "title": {
           "x": 0.05
          },
          "xaxis": {
           "automargin": true,
           "gridcolor": "white",
           "linecolor": "white",
           "ticks": "",
           "title": {
            "standoff": 15
           },
           "zerolinecolor": "white",
           "zerolinewidth": 2
          },
          "yaxis": {
           "automargin": true,
           "gridcolor": "white",
           "linecolor": "white",
           "ticks": "",
           "title": {
            "standoff": 15
           },
           "zerolinecolor": "white",
           "zerolinewidth": 2
          }
         }
        }
       }
      },
      "text/html": [
       "<div>                            <div id=\"63a5360e-481c-4615-90ef-ad536c472f00\" class=\"plotly-graph-div\" style=\"height:525px; width:100%;\"></div>            <script type=\"text/javascript\">                require([\"plotly\"], function(Plotly) {                    window.PLOTLYENV=window.PLOTLYENV || {};                                    if (document.getElementById(\"63a5360e-481c-4615-90ef-ad536c472f00\")) {                    Plotly.newPlot(                        \"63a5360e-481c-4615-90ef-ad536c472f00\",                        [{\"labels\":[\"Agriculteral Raw Material Imports\",\"Food imports\",\"Fuel imports\",\"Manufacturing Imports\",\"Ores Metals Imports\"],\"values\":[1.54362321193338,12.7608432391714,19.1173586577296,61.7616820997781,4.70967316769062],\"type\":\"pie\"}],                        {\"template\":{\"data\":{\"histogram2dcontour\":[{\"type\":\"histogram2dcontour\",\"colorbar\":{\"outlinewidth\":0,\"ticks\":\"\"},\"colorscale\":[[0.0,\"#0d0887\"],[0.1111111111111111,\"#46039f\"],[0.2222222222222222,\"#7201a8\"],[0.3333333333333333,\"#9c179e\"],[0.4444444444444444,\"#bd3786\"],[0.5555555555555556,\"#d8576b\"],[0.6666666666666666,\"#ed7953\"],[0.7777777777777778,\"#fb9f3a\"],[0.8888888888888888,\"#fdca26\"],[1.0,\"#f0f921\"]]}],\"choropleth\":[{\"type\":\"choropleth\",\"colorbar\":{\"outlinewidth\":0,\"ticks\":\"\"}}],\"histogram2d\":[{\"type\":\"histogram2d\",\"colorbar\":{\"outlinewidth\":0,\"ticks\":\"\"},\"colorscale\":[[0.0,\"#0d0887\"],[0.1111111111111111,\"#46039f\"],[0.2222222222222222,\"#7201a8\"],[0.3333333333333333,\"#9c179e\"],[0.4444444444444444,\"#bd3786\"],[0.5555555555555556,\"#d8576b\"],[0.6666666666666666,\"#ed7953\"],[0.7777777777777778,\"#fb9f3a\"],[0.8888888888888888,\"#fdca26\"],[1.0,\"#f0f921\"]]}],\"heatmap\":[{\"type\":\"heatmap\",\"colorbar\":{\"outlinewidth\":0,\"ticks\":\"\"},\"colorscale\":[[0.0,\"#0d0887\"],[0.1111111111111111,\"#46039f\"],[0.2222222222222222,\"#7201a8\"],[0.3333333333333333,\"#9c179e\"],[0.4444444444444444,\"#bd3786\"],[0.5555555555555556,\"#d8576b\"],[0.6666666666666666,\"#ed7953\"],[0.7777777777777778,\"#fb9f3a\"],[0.8888888888888888,\"#fdca26\"],[1.0,\"#f0f921\"]]}],\"heatmapgl\":[{\"type\":\"heatmapgl\",\"colorbar\":{\"outlinewidth\":0,\"ticks\":\"\"},\"colorscale\":[[0.0,\"#0d0887\"],[0.1111111111111111,\"#46039f\"],[0.2222222222222222,\"#7201a8\"],[0.3333333333333333,\"#9c179e\"],[0.4444444444444444,\"#bd3786\"],[0.5555555555555556,\"#d8576b\"],[0.6666666666666666,\"#ed7953\"],[0.7777777777777778,\"#fb9f3a\"],[0.8888888888888888,\"#fdca26\"],[1.0,\"#f0f921\"]]}],\"contourcarpet\":[{\"type\":\"contourcarpet\",\"colorbar\":{\"outlinewidth\":0,\"ticks\":\"\"}}],\"contour\":[{\"type\":\"contour\",\"colorbar\":{\"outlinewidth\":0,\"ticks\":\"\"},\"colorscale\":[[0.0,\"#0d0887\"],[0.1111111111111111,\"#46039f\"],[0.2222222222222222,\"#7201a8\"],[0.3333333333333333,\"#9c179e\"],[0.4444444444444444,\"#bd3786\"],[0.5555555555555556,\"#d8576b\"],[0.6666666666666666,\"#ed7953\"],[0.7777777777777778,\"#fb9f3a\"],[0.8888888888888888,\"#fdca26\"],[1.0,\"#f0f921\"]]}],\"surface\":[{\"type\":\"surface\",\"colorbar\":{\"outlinewidth\":0,\"ticks\":\"\"},\"colorscale\":[[0.0,\"#0d0887\"],[0.1111111111111111,\"#46039f\"],[0.2222222222222222,\"#7201a8\"],[0.3333333333333333,\"#9c179e\"],[0.4444444444444444,\"#bd3786\"],[0.5555555555555556,\"#d8576b\"],[0.6666666666666666,\"#ed7953\"],[0.7777777777777778,\"#fb9f3a\"],[0.8888888888888888,\"#fdca26\"],[1.0,\"#f0f921\"]]}],\"mesh3d\":[{\"type\":\"mesh3d\",\"colorbar\":{\"outlinewidth\":0,\"ticks\":\"\"}}],\"scatter\":[{\"fillpattern\":{\"fillmode\":\"overlay\",\"size\":10,\"solidity\":0.2},\"type\":\"scatter\"}],\"parcoords\":[{\"type\":\"parcoords\",\"line\":{\"colorbar\":{\"outlinewidth\":0,\"ticks\":\"\"}}}],\"scatterpolargl\":[{\"type\":\"scatterpolargl\",\"marker\":{\"colorbar\":{\"outlinewidth\":0,\"ticks\":\"\"}}}],\"bar\":[{\"error_x\":{\"color\":\"#2a3f5f\"},\"error_y\":{\"color\":\"#2a3f5f\"},\"marker\":{\"line\":{\"color\":\"#E5ECF6\",\"width\":0.5},\"pattern\":{\"fillmode\":\"overlay\",\"size\":10,\"solidity\":0.2}},\"type\":\"bar\"}],\"scattergeo\":[{\"type\":\"scattergeo\",\"marker\":{\"colorbar\":{\"outlinewidth\":0,\"ticks\":\"\"}}}],\"scatterpolar\":[{\"type\":\"scatterpolar\",\"marker\":{\"colorbar\":{\"outlinewidth\":0,\"ticks\":\"\"}}}],\"histogram\":[{\"marker\":{\"pattern\":{\"fillmode\":\"overlay\",\"size\":10,\"solidity\":0.2}},\"type\":\"histogram\"}],\"scattergl\":[{\"type\":\"scattergl\",\"marker\":{\"colorbar\":{\"outlinewidth\":0,\"ticks\":\"\"}}}],\"scatter3d\":[{\"type\":\"scatter3d\",\"line\":{\"colorbar\":{\"outlinewidth\":0,\"ticks\":\"\"}},\"marker\":{\"colorbar\":{\"outlinewidth\":0,\"ticks\":\"\"}}}],\"scattermapbox\":[{\"type\":\"scattermapbox\",\"marker\":{\"colorbar\":{\"outlinewidth\":0,\"ticks\":\"\"}}}],\"scatterternary\":[{\"type\":\"scatterternary\",\"marker\":{\"colorbar\":{\"outlinewidth\":0,\"ticks\":\"\"}}}],\"scattercarpet\":[{\"type\":\"scattercarpet\",\"marker\":{\"colorbar\":{\"outlinewidth\":0,\"ticks\":\"\"}}}],\"carpet\":[{\"aaxis\":{\"endlinecolor\":\"#2a3f5f\",\"gridcolor\":\"white\",\"linecolor\":\"white\",\"minorgridcolor\":\"white\",\"startlinecolor\":\"#2a3f5f\"},\"baxis\":{\"endlinecolor\":\"#2a3f5f\",\"gridcolor\":\"white\",\"linecolor\":\"white\",\"minorgridcolor\":\"white\",\"startlinecolor\":\"#2a3f5f\"},\"type\":\"carpet\"}],\"table\":[{\"cells\":{\"fill\":{\"color\":\"#EBF0F8\"},\"line\":{\"color\":\"white\"}},\"header\":{\"fill\":{\"color\":\"#C8D4E3\"},\"line\":{\"color\":\"white\"}},\"type\":\"table\"}],\"barpolar\":[{\"marker\":{\"line\":{\"color\":\"#E5ECF6\",\"width\":0.5},\"pattern\":{\"fillmode\":\"overlay\",\"size\":10,\"solidity\":0.2}},\"type\":\"barpolar\"}],\"pie\":[{\"automargin\":true,\"type\":\"pie\"}]},\"layout\":{\"autotypenumbers\":\"strict\",\"colorway\":[\"#636efa\",\"#EF553B\",\"#00cc96\",\"#ab63fa\",\"#FFA15A\",\"#19d3f3\",\"#FF6692\",\"#B6E880\",\"#FF97FF\",\"#FECB52\"],\"font\":{\"color\":\"#2a3f5f\"},\"hovermode\":\"closest\",\"hoverlabel\":{\"align\":\"left\"},\"paper_bgcolor\":\"white\",\"plot_bgcolor\":\"#E5ECF6\",\"polar\":{\"bgcolor\":\"#E5ECF6\",\"angularaxis\":{\"gridcolor\":\"white\",\"linecolor\":\"white\",\"ticks\":\"\"},\"radialaxis\":{\"gridcolor\":\"white\",\"linecolor\":\"white\",\"ticks\":\"\"}},\"ternary\":{\"bgcolor\":\"#E5ECF6\",\"aaxis\":{\"gridcolor\":\"white\",\"linecolor\":\"white\",\"ticks\":\"\"},\"baxis\":{\"gridcolor\":\"white\",\"linecolor\":\"white\",\"ticks\":\"\"},\"caxis\":{\"gridcolor\":\"white\",\"linecolor\":\"white\",\"ticks\":\"\"}},\"coloraxis\":{\"colorbar\":{\"outlinewidth\":0,\"ticks\":\"\"}},\"colorscale\":{\"sequential\":[[0.0,\"#0d0887\"],[0.1111111111111111,\"#46039f\"],[0.2222222222222222,\"#7201a8\"],[0.3333333333333333,\"#9c179e\"],[0.4444444444444444,\"#bd3786\"],[0.5555555555555556,\"#d8576b\"],[0.6666666666666666,\"#ed7953\"],[0.7777777777777778,\"#fb9f3a\"],[0.8888888888888888,\"#fdca26\"],[1.0,\"#f0f921\"]],\"sequentialminus\":[[0.0,\"#0d0887\"],[0.1111111111111111,\"#46039f\"],[0.2222222222222222,\"#7201a8\"],[0.3333333333333333,\"#9c179e\"],[0.4444444444444444,\"#bd3786\"],[0.5555555555555556,\"#d8576b\"],[0.6666666666666666,\"#ed7953\"],[0.7777777777777778,\"#fb9f3a\"],[0.8888888888888888,\"#fdca26\"],[1.0,\"#f0f921\"]],\"diverging\":[[0,\"#8e0152\"],[0.1,\"#c51b7d\"],[0.2,\"#de77ae\"],[0.3,\"#f1b6da\"],[0.4,\"#fde0ef\"],[0.5,\"#f7f7f7\"],[0.6,\"#e6f5d0\"],[0.7,\"#b8e186\"],[0.8,\"#7fbc41\"],[0.9,\"#4d9221\"],[1,\"#276419\"]]},\"xaxis\":{\"gridcolor\":\"white\",\"linecolor\":\"white\",\"ticks\":\"\",\"title\":{\"standoff\":15},\"zerolinecolor\":\"white\",\"automargin\":true,\"zerolinewidth\":2},\"yaxis\":{\"gridcolor\":\"white\",\"linecolor\":\"white\",\"ticks\":\"\",\"title\":{\"standoff\":15},\"zerolinecolor\":\"white\",\"automargin\":true,\"zerolinewidth\":2},\"scene\":{\"xaxis\":{\"backgroundcolor\":\"#E5ECF6\",\"gridcolor\":\"white\",\"linecolor\":\"white\",\"showbackground\":true,\"ticks\":\"\",\"zerolinecolor\":\"white\",\"gridwidth\":2},\"yaxis\":{\"backgroundcolor\":\"#E5ECF6\",\"gridcolor\":\"white\",\"linecolor\":\"white\",\"showbackground\":true,\"ticks\":\"\",\"zerolinecolor\":\"white\",\"gridwidth\":2},\"zaxis\":{\"backgroundcolor\":\"#E5ECF6\",\"gridcolor\":\"white\",\"linecolor\":\"white\",\"showbackground\":true,\"ticks\":\"\",\"zerolinecolor\":\"white\",\"gridwidth\":2}},\"shapedefaults\":{\"line\":{\"color\":\"#2a3f5f\"}},\"annotationdefaults\":{\"arrowcolor\":\"#2a3f5f\",\"arrowhead\":0,\"arrowwidth\":1},\"geo\":{\"bgcolor\":\"white\",\"landcolor\":\"#E5ECF6\",\"subunitcolor\":\"white\",\"showland\":true,\"showlakes\":true,\"lakecolor\":\"white\"},\"title\":{\"x\":0.05},\"mapbox\":{\"style\":\"light\"}}}},                        {\"responsive\": true}                    ).then(function(){\n",
       "                            \n",
       "var gd = document.getElementById('63a5360e-481c-4615-90ef-ad536c472f00');\n",
       "var x = new MutationObserver(function (mutations, observer) {{\n",
       "        var display = window.getComputedStyle(gd).display;\n",
       "        if (!display || display === 'none') {{\n",
       "            console.log([gd, 'removed!']);\n",
       "            Plotly.purge(gd);\n",
       "            observer.disconnect();\n",
       "        }}\n",
       "}});\n",
       "\n",
       "// Listen for the removal of the full notebook cells\n",
       "var notebookContainer = gd.closest('#notebook-container');\n",
       "if (notebookContainer) {{\n",
       "    x.observe(notebookContainer, {childList: true});\n",
       "}}\n",
       "\n",
       "// Listen for the clearing of the current output cell\n",
       "var outputEl = gd.closest('.output');\n",
       "if (outputEl) {{\n",
       "    x.observe(outputEl, {childList: true});\n",
       "}}\n",
       "\n",
       "                        })                };                });            </script>        </div>"
      ]
     },
     "metadata": {},
     "output_type": "display_data"
    }
   ],
   "source": [
    "df_2020_im = df[df['date'].dt.strftime('%Y') == '2022']\n",
    "labels_im = ['Agriculteral Raw Material Imports','Food imports','Fuel imports','Manufacturing Imports','Ores Metals Imports']\n",
    "values_im = [df_2020_im['Agri_raw_materials_imports'].iloc[0], df_2020_im['Food_imports'].iloc[0], df_2020_im['Fuel_imports'].iloc[0], df_2020_im['Manufacturing_imports'].iloc[0],df_2020_im['Ores_metal_imports'].iloc[0]]\n",
    "fig = go.Figure(data=[go.Pie(labels=labels_im, values=values_im)])\n",
    "fig.show()"
   ]
  },
  {
   "cell_type": "code",
   "execution_count": 63,
   "id": "f496147c",
   "metadata": {},
   "outputs": [
    {
     "data": {
      "application/vnd.plotly.v1+json": {
       "config": {
        "plotlyServerURL": "https://plot.ly"
       },
       "data": [
        {
         "labels": [
          "Agriculteral Raw Material Exports",
          "Food Exports",
          "Fuel Exports",
          "Manufacturing Exports",
          "Ores Metals Exports"
         ],
         "type": "pie",
         "values": [
          0.286805090131203,
          11.785142637091,
          8.02677004326783,
          78.1043386540836,
          1.77628583182134
         ]
        }
       ],
       "layout": {
        "template": {
         "data": {
          "bar": [
           {
            "error_x": {
             "color": "#2a3f5f"
            },
            "error_y": {
             "color": "#2a3f5f"
            },
            "marker": {
             "line": {
              "color": "#E5ECF6",
              "width": 0.5
             },
             "pattern": {
              "fillmode": "overlay",
              "size": 10,
              "solidity": 0.2
             }
            },
            "type": "bar"
           }
          ],
          "barpolar": [
           {
            "marker": {
             "line": {
              "color": "#E5ECF6",
              "width": 0.5
             },
             "pattern": {
              "fillmode": "overlay",
              "size": 10,
              "solidity": 0.2
             }
            },
            "type": "barpolar"
           }
          ],
          "carpet": [
           {
            "aaxis": {
             "endlinecolor": "#2a3f5f",
             "gridcolor": "white",
             "linecolor": "white",
             "minorgridcolor": "white",
             "startlinecolor": "#2a3f5f"
            },
            "baxis": {
             "endlinecolor": "#2a3f5f",
             "gridcolor": "white",
             "linecolor": "white",
             "minorgridcolor": "white",
             "startlinecolor": "#2a3f5f"
            },
            "type": "carpet"
           }
          ],
          "choropleth": [
           {
            "colorbar": {
             "outlinewidth": 0,
             "ticks": ""
            },
            "type": "choropleth"
           }
          ],
          "contour": [
           {
            "colorbar": {
             "outlinewidth": 0,
             "ticks": ""
            },
            "colorscale": [
             [
              0,
              "#0d0887"
             ],
             [
              0.1111111111111111,
              "#46039f"
             ],
             [
              0.2222222222222222,
              "#7201a8"
             ],
             [
              0.3333333333333333,
              "#9c179e"
             ],
             [
              0.4444444444444444,
              "#bd3786"
             ],
             [
              0.5555555555555556,
              "#d8576b"
             ],
             [
              0.6666666666666666,
              "#ed7953"
             ],
             [
              0.7777777777777778,
              "#fb9f3a"
             ],
             [
              0.8888888888888888,
              "#fdca26"
             ],
             [
              1,
              "#f0f921"
             ]
            ],
            "type": "contour"
           }
          ],
          "contourcarpet": [
           {
            "colorbar": {
             "outlinewidth": 0,
             "ticks": ""
            },
            "type": "contourcarpet"
           }
          ],
          "heatmap": [
           {
            "colorbar": {
             "outlinewidth": 0,
             "ticks": ""
            },
            "colorscale": [
             [
              0,
              "#0d0887"
             ],
             [
              0.1111111111111111,
              "#46039f"
             ],
             [
              0.2222222222222222,
              "#7201a8"
             ],
             [
              0.3333333333333333,
              "#9c179e"
             ],
             [
              0.4444444444444444,
              "#bd3786"
             ],
             [
              0.5555555555555556,
              "#d8576b"
             ],
             [
              0.6666666666666666,
              "#ed7953"
             ],
             [
              0.7777777777777778,
              "#fb9f3a"
             ],
             [
              0.8888888888888888,
              "#fdca26"
             ],
             [
              1,
              "#f0f921"
             ]
            ],
            "type": "heatmap"
           }
          ],
          "heatmapgl": [
           {
            "colorbar": {
             "outlinewidth": 0,
             "ticks": ""
            },
            "colorscale": [
             [
              0,
              "#0d0887"
             ],
             [
              0.1111111111111111,
              "#46039f"
             ],
             [
              0.2222222222222222,
              "#7201a8"
             ],
             [
              0.3333333333333333,
              "#9c179e"
             ],
             [
              0.4444444444444444,
              "#bd3786"
             ],
             [
              0.5555555555555556,
              "#d8576b"
             ],
             [
              0.6666666666666666,
              "#ed7953"
             ],
             [
              0.7777777777777778,
              "#fb9f3a"
             ],
             [
              0.8888888888888888,
              "#fdca26"
             ],
             [
              1,
              "#f0f921"
             ]
            ],
            "type": "heatmapgl"
           }
          ],
          "histogram": [
           {
            "marker": {
             "pattern": {
              "fillmode": "overlay",
              "size": 10,
              "solidity": 0.2
             }
            },
            "type": "histogram"
           }
          ],
          "histogram2d": [
           {
            "colorbar": {
             "outlinewidth": 0,
             "ticks": ""
            },
            "colorscale": [
             [
              0,
              "#0d0887"
             ],
             [
              0.1111111111111111,
              "#46039f"
             ],
             [
              0.2222222222222222,
              "#7201a8"
             ],
             [
              0.3333333333333333,
              "#9c179e"
             ],
             [
              0.4444444444444444,
              "#bd3786"
             ],
             [
              0.5555555555555556,
              "#d8576b"
             ],
             [
              0.6666666666666666,
              "#ed7953"
             ],
             [
              0.7777777777777778,
              "#fb9f3a"
             ],
             [
              0.8888888888888888,
              "#fdca26"
             ],
             [
              1,
              "#f0f921"
             ]
            ],
            "type": "histogram2d"
           }
          ],
          "histogram2dcontour": [
           {
            "colorbar": {
             "outlinewidth": 0,
             "ticks": ""
            },
            "colorscale": [
             [
              0,
              "#0d0887"
             ],
             [
              0.1111111111111111,
              "#46039f"
             ],
             [
              0.2222222222222222,
              "#7201a8"
             ],
             [
              0.3333333333333333,
              "#9c179e"
             ],
             [
              0.4444444444444444,
              "#bd3786"
             ],
             [
              0.5555555555555556,
              "#d8576b"
             ],
             [
              0.6666666666666666,
              "#ed7953"
             ],
             [
              0.7777777777777778,
              "#fb9f3a"
             ],
             [
              0.8888888888888888,
              "#fdca26"
             ],
             [
              1,
              "#f0f921"
             ]
            ],
            "type": "histogram2dcontour"
           }
          ],
          "mesh3d": [
           {
            "colorbar": {
             "outlinewidth": 0,
             "ticks": ""
            },
            "type": "mesh3d"
           }
          ],
          "parcoords": [
           {
            "line": {
             "colorbar": {
              "outlinewidth": 0,
              "ticks": ""
             }
            },
            "type": "parcoords"
           }
          ],
          "pie": [
           {
            "automargin": true,
            "type": "pie"
           }
          ],
          "scatter": [
           {
            "fillpattern": {
             "fillmode": "overlay",
             "size": 10,
             "solidity": 0.2
            },
            "type": "scatter"
           }
          ],
          "scatter3d": [
           {
            "line": {
             "colorbar": {
              "outlinewidth": 0,
              "ticks": ""
             }
            },
            "marker": {
             "colorbar": {
              "outlinewidth": 0,
              "ticks": ""
             }
            },
            "type": "scatter3d"
           }
          ],
          "scattercarpet": [
           {
            "marker": {
             "colorbar": {
              "outlinewidth": 0,
              "ticks": ""
             }
            },
            "type": "scattercarpet"
           }
          ],
          "scattergeo": [
           {
            "marker": {
             "colorbar": {
              "outlinewidth": 0,
              "ticks": ""
             }
            },
            "type": "scattergeo"
           }
          ],
          "scattergl": [
           {
            "marker": {
             "colorbar": {
              "outlinewidth": 0,
              "ticks": ""
             }
            },
            "type": "scattergl"
           }
          ],
          "scattermapbox": [
           {
            "marker": {
             "colorbar": {
              "outlinewidth": 0,
              "ticks": ""
             }
            },
            "type": "scattermapbox"
           }
          ],
          "scatterpolar": [
           {
            "marker": {
             "colorbar": {
              "outlinewidth": 0,
              "ticks": ""
             }
            },
            "type": "scatterpolar"
           }
          ],
          "scatterpolargl": [
           {
            "marker": {
             "colorbar": {
              "outlinewidth": 0,
              "ticks": ""
             }
            },
            "type": "scatterpolargl"
           }
          ],
          "scatterternary": [
           {
            "marker": {
             "colorbar": {
              "outlinewidth": 0,
              "ticks": ""
             }
            },
            "type": "scatterternary"
           }
          ],
          "surface": [
           {
            "colorbar": {
             "outlinewidth": 0,
             "ticks": ""
            },
            "colorscale": [
             [
              0,
              "#0d0887"
             ],
             [
              0.1111111111111111,
              "#46039f"
             ],
             [
              0.2222222222222222,
              "#7201a8"
             ],
             [
              0.3333333333333333,
              "#9c179e"
             ],
             [
              0.4444444444444444,
              "#bd3786"
             ],
             [
              0.5555555555555556,
              "#d8576b"
             ],
             [
              0.6666666666666666,
              "#ed7953"
             ],
             [
              0.7777777777777778,
              "#fb9f3a"
             ],
             [
              0.8888888888888888,
              "#fdca26"
             ],
             [
              1,
              "#f0f921"
             ]
            ],
            "type": "surface"
           }
          ],
          "table": [
           {
            "cells": {
             "fill": {
              "color": "#EBF0F8"
             },
             "line": {
              "color": "white"
             }
            },
            "header": {
             "fill": {
              "color": "#C8D4E3"
             },
             "line": {
              "color": "white"
             }
            },
            "type": "table"
           }
          ]
         },
         "layout": {
          "annotationdefaults": {
           "arrowcolor": "#2a3f5f",
           "arrowhead": 0,
           "arrowwidth": 1
          },
          "autotypenumbers": "strict",
          "coloraxis": {
           "colorbar": {
            "outlinewidth": 0,
            "ticks": ""
           }
          },
          "colorscale": {
           "diverging": [
            [
             0,
             "#8e0152"
            ],
            [
             0.1,
             "#c51b7d"
            ],
            [
             0.2,
             "#de77ae"
            ],
            [
             0.3,
             "#f1b6da"
            ],
            [
             0.4,
             "#fde0ef"
            ],
            [
             0.5,
             "#f7f7f7"
            ],
            [
             0.6,
             "#e6f5d0"
            ],
            [
             0.7,
             "#b8e186"
            ],
            [
             0.8,
             "#7fbc41"
            ],
            [
             0.9,
             "#4d9221"
            ],
            [
             1,
             "#276419"
            ]
           ],
           "sequential": [
            [
             0,
             "#0d0887"
            ],
            [
             0.1111111111111111,
             "#46039f"
            ],
            [
             0.2222222222222222,
             "#7201a8"
            ],
            [
             0.3333333333333333,
             "#9c179e"
            ],
            [
             0.4444444444444444,
             "#bd3786"
            ],
            [
             0.5555555555555556,
             "#d8576b"
            ],
            [
             0.6666666666666666,
             "#ed7953"
            ],
            [
             0.7777777777777778,
             "#fb9f3a"
            ],
            [
             0.8888888888888888,
             "#fdca26"
            ],
            [
             1,
             "#f0f921"
            ]
           ],
           "sequentialminus": [
            [
             0,
             "#0d0887"
            ],
            [
             0.1111111111111111,
             "#46039f"
            ],
            [
             0.2222222222222222,
             "#7201a8"
            ],
            [
             0.3333333333333333,
             "#9c179e"
            ],
            [
             0.4444444444444444,
             "#bd3786"
            ],
            [
             0.5555555555555556,
             "#d8576b"
            ],
            [
             0.6666666666666666,
             "#ed7953"
            ],
            [
             0.7777777777777778,
             "#fb9f3a"
            ],
            [
             0.8888888888888888,
             "#fdca26"
            ],
            [
             1,
             "#f0f921"
            ]
           ]
          },
          "colorway": [
           "#636efa",
           "#EF553B",
           "#00cc96",
           "#ab63fa",
           "#FFA15A",
           "#19d3f3",
           "#FF6692",
           "#B6E880",
           "#FF97FF",
           "#FECB52"
          ],
          "font": {
           "color": "#2a3f5f"
          },
          "geo": {
           "bgcolor": "white",
           "lakecolor": "white",
           "landcolor": "#E5ECF6",
           "showlakes": true,
           "showland": true,
           "subunitcolor": "white"
          },
          "hoverlabel": {
           "align": "left"
          },
          "hovermode": "closest",
          "mapbox": {
           "style": "light"
          },
          "paper_bgcolor": "white",
          "plot_bgcolor": "#E5ECF6",
          "polar": {
           "angularaxis": {
            "gridcolor": "white",
            "linecolor": "white",
            "ticks": ""
           },
           "bgcolor": "#E5ECF6",
           "radialaxis": {
            "gridcolor": "white",
            "linecolor": "white",
            "ticks": ""
           }
          },
          "scene": {
           "xaxis": {
            "backgroundcolor": "#E5ECF6",
            "gridcolor": "white",
            "gridwidth": 2,
            "linecolor": "white",
            "showbackground": true,
            "ticks": "",
            "zerolinecolor": "white"
           },
           "yaxis": {
            "backgroundcolor": "#E5ECF6",
            "gridcolor": "white",
            "gridwidth": 2,
            "linecolor": "white",
            "showbackground": true,
            "ticks": "",
            "zerolinecolor": "white"
           },
           "zaxis": {
            "backgroundcolor": "#E5ECF6",
            "gridcolor": "white",
            "gridwidth": 2,
            "linecolor": "white",
            "showbackground": true,
            "ticks": "",
            "zerolinecolor": "white"
           }
          },
          "shapedefaults": {
           "line": {
            "color": "#2a3f5f"
           }
          },
          "ternary": {
           "aaxis": {
            "gridcolor": "white",
            "linecolor": "white",
            "ticks": ""
           },
           "baxis": {
            "gridcolor": "white",
            "linecolor": "white",
            "ticks": ""
           },
           "bgcolor": "#E5ECF6",
           "caxis": {
            "gridcolor": "white",
            "linecolor": "white",
            "ticks": ""
           }
          },
          "title": {
           "x": 0.05
          },
          "xaxis": {
           "automargin": true,
           "gridcolor": "white",
           "linecolor": "white",
           "ticks": "",
           "title": {
            "standoff": 15
           },
           "zerolinecolor": "white",
           "zerolinewidth": 2
          },
          "yaxis": {
           "automargin": true,
           "gridcolor": "white",
           "linecolor": "white",
           "ticks": "",
           "title": {
            "standoff": 15
           },
           "zerolinecolor": "white",
           "zerolinewidth": 2
          }
         }
        }
       }
      },
      "text/html": [
       "<div>                            <div id=\"bcd4ccee-2dba-44d9-b6b4-dfbe5747b0fd\" class=\"plotly-graph-div\" style=\"height:525px; width:100%;\"></div>            <script type=\"text/javascript\">                require([\"plotly\"], function(Plotly) {                    window.PLOTLYENV=window.PLOTLYENV || {};                                    if (document.getElementById(\"bcd4ccee-2dba-44d9-b6b4-dfbe5747b0fd\")) {                    Plotly.newPlot(                        \"bcd4ccee-2dba-44d9-b6b4-dfbe5747b0fd\",                        [{\"labels\":[\"Agriculteral Raw Material Exports\",\"Food Exports\",\"Fuel Exports\",\"Manufacturing Exports\",\"Ores Metals Exports\"],\"values\":[0.286805090131203,11.785142637091,8.02677004326783,78.1043386540836,1.77628583182134],\"type\":\"pie\"}],                        {\"template\":{\"data\":{\"histogram2dcontour\":[{\"type\":\"histogram2dcontour\",\"colorbar\":{\"outlinewidth\":0,\"ticks\":\"\"},\"colorscale\":[[0.0,\"#0d0887\"],[0.1111111111111111,\"#46039f\"],[0.2222222222222222,\"#7201a8\"],[0.3333333333333333,\"#9c179e\"],[0.4444444444444444,\"#bd3786\"],[0.5555555555555556,\"#d8576b\"],[0.6666666666666666,\"#ed7953\"],[0.7777777777777778,\"#fb9f3a\"],[0.8888888888888888,\"#fdca26\"],[1.0,\"#f0f921\"]]}],\"choropleth\":[{\"type\":\"choropleth\",\"colorbar\":{\"outlinewidth\":0,\"ticks\":\"\"}}],\"histogram2d\":[{\"type\":\"histogram2d\",\"colorbar\":{\"outlinewidth\":0,\"ticks\":\"\"},\"colorscale\":[[0.0,\"#0d0887\"],[0.1111111111111111,\"#46039f\"],[0.2222222222222222,\"#7201a8\"],[0.3333333333333333,\"#9c179e\"],[0.4444444444444444,\"#bd3786\"],[0.5555555555555556,\"#d8576b\"],[0.6666666666666666,\"#ed7953\"],[0.7777777777777778,\"#fb9f3a\"],[0.8888888888888888,\"#fdca26\"],[1.0,\"#f0f921\"]]}],\"heatmap\":[{\"type\":\"heatmap\",\"colorbar\":{\"outlinewidth\":0,\"ticks\":\"\"},\"colorscale\":[[0.0,\"#0d0887\"],[0.1111111111111111,\"#46039f\"],[0.2222222222222222,\"#7201a8\"],[0.3333333333333333,\"#9c179e\"],[0.4444444444444444,\"#bd3786\"],[0.5555555555555556,\"#d8576b\"],[0.6666666666666666,\"#ed7953\"],[0.7777777777777778,\"#fb9f3a\"],[0.8888888888888888,\"#fdca26\"],[1.0,\"#f0f921\"]]}],\"heatmapgl\":[{\"type\":\"heatmapgl\",\"colorbar\":{\"outlinewidth\":0,\"ticks\":\"\"},\"colorscale\":[[0.0,\"#0d0887\"],[0.1111111111111111,\"#46039f\"],[0.2222222222222222,\"#7201a8\"],[0.3333333333333333,\"#9c179e\"],[0.4444444444444444,\"#bd3786\"],[0.5555555555555556,\"#d8576b\"],[0.6666666666666666,\"#ed7953\"],[0.7777777777777778,\"#fb9f3a\"],[0.8888888888888888,\"#fdca26\"],[1.0,\"#f0f921\"]]}],\"contourcarpet\":[{\"type\":\"contourcarpet\",\"colorbar\":{\"outlinewidth\":0,\"ticks\":\"\"}}],\"contour\":[{\"type\":\"contour\",\"colorbar\":{\"outlinewidth\":0,\"ticks\":\"\"},\"colorscale\":[[0.0,\"#0d0887\"],[0.1111111111111111,\"#46039f\"],[0.2222222222222222,\"#7201a8\"],[0.3333333333333333,\"#9c179e\"],[0.4444444444444444,\"#bd3786\"],[0.5555555555555556,\"#d8576b\"],[0.6666666666666666,\"#ed7953\"],[0.7777777777777778,\"#fb9f3a\"],[0.8888888888888888,\"#fdca26\"],[1.0,\"#f0f921\"]]}],\"surface\":[{\"type\":\"surface\",\"colorbar\":{\"outlinewidth\":0,\"ticks\":\"\"},\"colorscale\":[[0.0,\"#0d0887\"],[0.1111111111111111,\"#46039f\"],[0.2222222222222222,\"#7201a8\"],[0.3333333333333333,\"#9c179e\"],[0.4444444444444444,\"#bd3786\"],[0.5555555555555556,\"#d8576b\"],[0.6666666666666666,\"#ed7953\"],[0.7777777777777778,\"#fb9f3a\"],[0.8888888888888888,\"#fdca26\"],[1.0,\"#f0f921\"]]}],\"mesh3d\":[{\"type\":\"mesh3d\",\"colorbar\":{\"outlinewidth\":0,\"ticks\":\"\"}}],\"scatter\":[{\"fillpattern\":{\"fillmode\":\"overlay\",\"size\":10,\"solidity\":0.2},\"type\":\"scatter\"}],\"parcoords\":[{\"type\":\"parcoords\",\"line\":{\"colorbar\":{\"outlinewidth\":0,\"ticks\":\"\"}}}],\"scatterpolargl\":[{\"type\":\"scatterpolargl\",\"marker\":{\"colorbar\":{\"outlinewidth\":0,\"ticks\":\"\"}}}],\"bar\":[{\"error_x\":{\"color\":\"#2a3f5f\"},\"error_y\":{\"color\":\"#2a3f5f\"},\"marker\":{\"line\":{\"color\":\"#E5ECF6\",\"width\":0.5},\"pattern\":{\"fillmode\":\"overlay\",\"size\":10,\"solidity\":0.2}},\"type\":\"bar\"}],\"scattergeo\":[{\"type\":\"scattergeo\",\"marker\":{\"colorbar\":{\"outlinewidth\":0,\"ticks\":\"\"}}}],\"scatterpolar\":[{\"type\":\"scatterpolar\",\"marker\":{\"colorbar\":{\"outlinewidth\":0,\"ticks\":\"\"}}}],\"histogram\":[{\"marker\":{\"pattern\":{\"fillmode\":\"overlay\",\"size\":10,\"solidity\":0.2}},\"type\":\"histogram\"}],\"scattergl\":[{\"type\":\"scattergl\",\"marker\":{\"colorbar\":{\"outlinewidth\":0,\"ticks\":\"\"}}}],\"scatter3d\":[{\"type\":\"scatter3d\",\"line\":{\"colorbar\":{\"outlinewidth\":0,\"ticks\":\"\"}},\"marker\":{\"colorbar\":{\"outlinewidth\":0,\"ticks\":\"\"}}}],\"scattermapbox\":[{\"type\":\"scattermapbox\",\"marker\":{\"colorbar\":{\"outlinewidth\":0,\"ticks\":\"\"}}}],\"scatterternary\":[{\"type\":\"scatterternary\",\"marker\":{\"colorbar\":{\"outlinewidth\":0,\"ticks\":\"\"}}}],\"scattercarpet\":[{\"type\":\"scattercarpet\",\"marker\":{\"colorbar\":{\"outlinewidth\":0,\"ticks\":\"\"}}}],\"carpet\":[{\"aaxis\":{\"endlinecolor\":\"#2a3f5f\",\"gridcolor\":\"white\",\"linecolor\":\"white\",\"minorgridcolor\":\"white\",\"startlinecolor\":\"#2a3f5f\"},\"baxis\":{\"endlinecolor\":\"#2a3f5f\",\"gridcolor\":\"white\",\"linecolor\":\"white\",\"minorgridcolor\":\"white\",\"startlinecolor\":\"#2a3f5f\"},\"type\":\"carpet\"}],\"table\":[{\"cells\":{\"fill\":{\"color\":\"#EBF0F8\"},\"line\":{\"color\":\"white\"}},\"header\":{\"fill\":{\"color\":\"#C8D4E3\"},\"line\":{\"color\":\"white\"}},\"type\":\"table\"}],\"barpolar\":[{\"marker\":{\"line\":{\"color\":\"#E5ECF6\",\"width\":0.5},\"pattern\":{\"fillmode\":\"overlay\",\"size\":10,\"solidity\":0.2}},\"type\":\"barpolar\"}],\"pie\":[{\"automargin\":true,\"type\":\"pie\"}]},\"layout\":{\"autotypenumbers\":\"strict\",\"colorway\":[\"#636efa\",\"#EF553B\",\"#00cc96\",\"#ab63fa\",\"#FFA15A\",\"#19d3f3\",\"#FF6692\",\"#B6E880\",\"#FF97FF\",\"#FECB52\"],\"font\":{\"color\":\"#2a3f5f\"},\"hovermode\":\"closest\",\"hoverlabel\":{\"align\":\"left\"},\"paper_bgcolor\":\"white\",\"plot_bgcolor\":\"#E5ECF6\",\"polar\":{\"bgcolor\":\"#E5ECF6\",\"angularaxis\":{\"gridcolor\":\"white\",\"linecolor\":\"white\",\"ticks\":\"\"},\"radialaxis\":{\"gridcolor\":\"white\",\"linecolor\":\"white\",\"ticks\":\"\"}},\"ternary\":{\"bgcolor\":\"#E5ECF6\",\"aaxis\":{\"gridcolor\":\"white\",\"linecolor\":\"white\",\"ticks\":\"\"},\"baxis\":{\"gridcolor\":\"white\",\"linecolor\":\"white\",\"ticks\":\"\"},\"caxis\":{\"gridcolor\":\"white\",\"linecolor\":\"white\",\"ticks\":\"\"}},\"coloraxis\":{\"colorbar\":{\"outlinewidth\":0,\"ticks\":\"\"}},\"colorscale\":{\"sequential\":[[0.0,\"#0d0887\"],[0.1111111111111111,\"#46039f\"],[0.2222222222222222,\"#7201a8\"],[0.3333333333333333,\"#9c179e\"],[0.4444444444444444,\"#bd3786\"],[0.5555555555555556,\"#d8576b\"],[0.6666666666666666,\"#ed7953\"],[0.7777777777777778,\"#fb9f3a\"],[0.8888888888888888,\"#fdca26\"],[1.0,\"#f0f921\"]],\"sequentialminus\":[[0.0,\"#0d0887\"],[0.1111111111111111,\"#46039f\"],[0.2222222222222222,\"#7201a8\"],[0.3333333333333333,\"#9c179e\"],[0.4444444444444444,\"#bd3786\"],[0.5555555555555556,\"#d8576b\"],[0.6666666666666666,\"#ed7953\"],[0.7777777777777778,\"#fb9f3a\"],[0.8888888888888888,\"#fdca26\"],[1.0,\"#f0f921\"]],\"diverging\":[[0,\"#8e0152\"],[0.1,\"#c51b7d\"],[0.2,\"#de77ae\"],[0.3,\"#f1b6da\"],[0.4,\"#fde0ef\"],[0.5,\"#f7f7f7\"],[0.6,\"#e6f5d0\"],[0.7,\"#b8e186\"],[0.8,\"#7fbc41\"],[0.9,\"#4d9221\"],[1,\"#276419\"]]},\"xaxis\":{\"gridcolor\":\"white\",\"linecolor\":\"white\",\"ticks\":\"\",\"title\":{\"standoff\":15},\"zerolinecolor\":\"white\",\"automargin\":true,\"zerolinewidth\":2},\"yaxis\":{\"gridcolor\":\"white\",\"linecolor\":\"white\",\"ticks\":\"\",\"title\":{\"standoff\":15},\"zerolinecolor\":\"white\",\"automargin\":true,\"zerolinewidth\":2},\"scene\":{\"xaxis\":{\"backgroundcolor\":\"#E5ECF6\",\"gridcolor\":\"white\",\"linecolor\":\"white\",\"showbackground\":true,\"ticks\":\"\",\"zerolinecolor\":\"white\",\"gridwidth\":2},\"yaxis\":{\"backgroundcolor\":\"#E5ECF6\",\"gridcolor\":\"white\",\"linecolor\":\"white\",\"showbackground\":true,\"ticks\":\"\",\"zerolinecolor\":\"white\",\"gridwidth\":2},\"zaxis\":{\"backgroundcolor\":\"#E5ECF6\",\"gridcolor\":\"white\",\"linecolor\":\"white\",\"showbackground\":true,\"ticks\":\"\",\"zerolinecolor\":\"white\",\"gridwidth\":2}},\"shapedefaults\":{\"line\":{\"color\":\"#2a3f5f\"}},\"annotationdefaults\":{\"arrowcolor\":\"#2a3f5f\",\"arrowhead\":0,\"arrowwidth\":1},\"geo\":{\"bgcolor\":\"white\",\"landcolor\":\"#E5ECF6\",\"subunitcolor\":\"white\",\"showland\":true,\"showlakes\":true,\"lakecolor\":\"white\"},\"title\":{\"x\":0.05},\"mapbox\":{\"style\":\"light\"}}}},                        {\"responsive\": true}                    ).then(function(){\n",
       "                            \n",
       "var gd = document.getElementById('bcd4ccee-2dba-44d9-b6b4-dfbe5747b0fd');\n",
       "var x = new MutationObserver(function (mutations, observer) {{\n",
       "        var display = window.getComputedStyle(gd).display;\n",
       "        if (!display || display === 'none') {{\n",
       "            console.log([gd, 'removed!']);\n",
       "            Plotly.purge(gd);\n",
       "            observer.disconnect();\n",
       "        }}\n",
       "}});\n",
       "\n",
       "// Listen for the removal of the full notebook cells\n",
       "var notebookContainer = gd.closest('#notebook-container');\n",
       "if (notebookContainer) {{\n",
       "    x.observe(notebookContainer, {childList: true});\n",
       "}}\n",
       "\n",
       "// Listen for the clearing of the current output cell\n",
       "var outputEl = gd.closest('.output');\n",
       "if (outputEl) {{\n",
       "    x.observe(outputEl, {childList: true});\n",
       "}}\n",
       "\n",
       "                        })                };                });            </script>        </div>"
      ]
     },
     "metadata": {},
     "output_type": "display_data"
    }
   ],
   "source": [
    "df_2020_ex = df[df['date'].dt.strftime('%Y') == '2022']\n",
    "labels_ex = ['Agriculteral Raw Material Exports','Food Exports','Fuel Exports','Manufacturing Exports','Ores Metals Exports']\n",
    "values_ex = [df_2020_ex['Agri_raw_materials_exports'].iloc[0], df_2020_ex['Food_exports'].iloc[0], df_2020_ex['Fuel_exports'].iloc[0], df_2020_ex['Manufacturing_exports'].iloc[0],df_2020_ex['Ores_metal_exports'].iloc[0]]\n",
    "fig = go.Figure(data=[go.Pie(labels=labels_ex, values=values_ex)])\n",
    "fig.show()"
   ]
  },
  {
   "cell_type": "code",
   "execution_count": 64,
   "id": "30eccb1a",
   "metadata": {},
   "outputs": [
    {
     "data": {
      "application/vnd.plotly.v1+json": {
       "config": {
        "plotlyServerURL": "https://plot.ly"
       },
       "data": [
        {
         "domain": {
          "x": [
           0,
           0.45
          ],
          "y": [
           0,
           1
          ]
         },
         "hole": 0.4,
         "hoverinfo": "label+percent+name",
         "labels": [
          "Agriculteral Raw Material Imports",
          "Food imports",
          "Fuel imports",
          "Manufacturing Imports",
          "Ores Metals Imports"
         ],
         "name": "Imports",
         "type": "pie",
         "values": [
          1.54362321193338,
          12.7608432391714,
          19.1173586577296,
          61.7616820997781,
          4.70967316769062
         ]
        },
        {
         "domain": {
          "x": [
           0.55,
           1
          ],
          "y": [
           0,
           1
          ]
         },
         "hole": 0.4,
         "hoverinfo": "label+percent+name",
         "labels": [
          "Agriculteral Raw Material Imports",
          "Food imports",
          "Fuel imports",
          "Manufacturing Imports",
          "Ores Metals Imports"
         ],
         "name": "Exports",
         "type": "pie",
         "values": [
          0.286805090131203,
          11.785142637091,
          8.02677004326783,
          78.1043386540836,
          1.77628583182134
         ]
        }
       ],
       "layout": {
        "annotations": [
         {
          "font": {
           "size": 20
          },
          "showarrow": false,
          "text": "Imports",
          "x": 0.16,
          "y": 0.5
         },
         {
          "font": {
           "size": 20
          },
          "showarrow": false,
          "text": "Exports",
          "x": 0.84,
          "y": 0.5
         }
        ],
        "template": {
         "data": {
          "bar": [
           {
            "error_x": {
             "color": "#2a3f5f"
            },
            "error_y": {
             "color": "#2a3f5f"
            },
            "marker": {
             "line": {
              "color": "#E5ECF6",
              "width": 0.5
             },
             "pattern": {
              "fillmode": "overlay",
              "size": 10,
              "solidity": 0.2
             }
            },
            "type": "bar"
           }
          ],
          "barpolar": [
           {
            "marker": {
             "line": {
              "color": "#E5ECF6",
              "width": 0.5
             },
             "pattern": {
              "fillmode": "overlay",
              "size": 10,
              "solidity": 0.2
             }
            },
            "type": "barpolar"
           }
          ],
          "carpet": [
           {
            "aaxis": {
             "endlinecolor": "#2a3f5f",
             "gridcolor": "white",
             "linecolor": "white",
             "minorgridcolor": "white",
             "startlinecolor": "#2a3f5f"
            },
            "baxis": {
             "endlinecolor": "#2a3f5f",
             "gridcolor": "white",
             "linecolor": "white",
             "minorgridcolor": "white",
             "startlinecolor": "#2a3f5f"
            },
            "type": "carpet"
           }
          ],
          "choropleth": [
           {
            "colorbar": {
             "outlinewidth": 0,
             "ticks": ""
            },
            "type": "choropleth"
           }
          ],
          "contour": [
           {
            "colorbar": {
             "outlinewidth": 0,
             "ticks": ""
            },
            "colorscale": [
             [
              0,
              "#0d0887"
             ],
             [
              0.1111111111111111,
              "#46039f"
             ],
             [
              0.2222222222222222,
              "#7201a8"
             ],
             [
              0.3333333333333333,
              "#9c179e"
             ],
             [
              0.4444444444444444,
              "#bd3786"
             ],
             [
              0.5555555555555556,
              "#d8576b"
             ],
             [
              0.6666666666666666,
              "#ed7953"
             ],
             [
              0.7777777777777778,
              "#fb9f3a"
             ],
             [
              0.8888888888888888,
              "#fdca26"
             ],
             [
              1,
              "#f0f921"
             ]
            ],
            "type": "contour"
           }
          ],
          "contourcarpet": [
           {
            "colorbar": {
             "outlinewidth": 0,
             "ticks": ""
            },
            "type": "contourcarpet"
           }
          ],
          "heatmap": [
           {
            "colorbar": {
             "outlinewidth": 0,
             "ticks": ""
            },
            "colorscale": [
             [
              0,
              "#0d0887"
             ],
             [
              0.1111111111111111,
              "#46039f"
             ],
             [
              0.2222222222222222,
              "#7201a8"
             ],
             [
              0.3333333333333333,
              "#9c179e"
             ],
             [
              0.4444444444444444,
              "#bd3786"
             ],
             [
              0.5555555555555556,
              "#d8576b"
             ],
             [
              0.6666666666666666,
              "#ed7953"
             ],
             [
              0.7777777777777778,
              "#fb9f3a"
             ],
             [
              0.8888888888888888,
              "#fdca26"
             ],
             [
              1,
              "#f0f921"
             ]
            ],
            "type": "heatmap"
           }
          ],
          "heatmapgl": [
           {
            "colorbar": {
             "outlinewidth": 0,
             "ticks": ""
            },
            "colorscale": [
             [
              0,
              "#0d0887"
             ],
             [
              0.1111111111111111,
              "#46039f"
             ],
             [
              0.2222222222222222,
              "#7201a8"
             ],
             [
              0.3333333333333333,
              "#9c179e"
             ],
             [
              0.4444444444444444,
              "#bd3786"
             ],
             [
              0.5555555555555556,
              "#d8576b"
             ],
             [
              0.6666666666666666,
              "#ed7953"
             ],
             [
              0.7777777777777778,
              "#fb9f3a"
             ],
             [
              0.8888888888888888,
              "#fdca26"
             ],
             [
              1,
              "#f0f921"
             ]
            ],
            "type": "heatmapgl"
           }
          ],
          "histogram": [
           {
            "marker": {
             "pattern": {
              "fillmode": "overlay",
              "size": 10,
              "solidity": 0.2
             }
            },
            "type": "histogram"
           }
          ],
          "histogram2d": [
           {
            "colorbar": {
             "outlinewidth": 0,
             "ticks": ""
            },
            "colorscale": [
             [
              0,
              "#0d0887"
             ],
             [
              0.1111111111111111,
              "#46039f"
             ],
             [
              0.2222222222222222,
              "#7201a8"
             ],
             [
              0.3333333333333333,
              "#9c179e"
             ],
             [
              0.4444444444444444,
              "#bd3786"
             ],
             [
              0.5555555555555556,
              "#d8576b"
             ],
             [
              0.6666666666666666,
              "#ed7953"
             ],
             [
              0.7777777777777778,
              "#fb9f3a"
             ],
             [
              0.8888888888888888,
              "#fdca26"
             ],
             [
              1,
              "#f0f921"
             ]
            ],
            "type": "histogram2d"
           }
          ],
          "histogram2dcontour": [
           {
            "colorbar": {
             "outlinewidth": 0,
             "ticks": ""
            },
            "colorscale": [
             [
              0,
              "#0d0887"
             ],
             [
              0.1111111111111111,
              "#46039f"
             ],
             [
              0.2222222222222222,
              "#7201a8"
             ],
             [
              0.3333333333333333,
              "#9c179e"
             ],
             [
              0.4444444444444444,
              "#bd3786"
             ],
             [
              0.5555555555555556,
              "#d8576b"
             ],
             [
              0.6666666666666666,
              "#ed7953"
             ],
             [
              0.7777777777777778,
              "#fb9f3a"
             ],
             [
              0.8888888888888888,
              "#fdca26"
             ],
             [
              1,
              "#f0f921"
             ]
            ],
            "type": "histogram2dcontour"
           }
          ],
          "mesh3d": [
           {
            "colorbar": {
             "outlinewidth": 0,
             "ticks": ""
            },
            "type": "mesh3d"
           }
          ],
          "parcoords": [
           {
            "line": {
             "colorbar": {
              "outlinewidth": 0,
              "ticks": ""
             }
            },
            "type": "parcoords"
           }
          ],
          "pie": [
           {
            "automargin": true,
            "type": "pie"
           }
          ],
          "scatter": [
           {
            "fillpattern": {
             "fillmode": "overlay",
             "size": 10,
             "solidity": 0.2
            },
            "type": "scatter"
           }
          ],
          "scatter3d": [
           {
            "line": {
             "colorbar": {
              "outlinewidth": 0,
              "ticks": ""
             }
            },
            "marker": {
             "colorbar": {
              "outlinewidth": 0,
              "ticks": ""
             }
            },
            "type": "scatter3d"
           }
          ],
          "scattercarpet": [
           {
            "marker": {
             "colorbar": {
              "outlinewidth": 0,
              "ticks": ""
             }
            },
            "type": "scattercarpet"
           }
          ],
          "scattergeo": [
           {
            "marker": {
             "colorbar": {
              "outlinewidth": 0,
              "ticks": ""
             }
            },
            "type": "scattergeo"
           }
          ],
          "scattergl": [
           {
            "marker": {
             "colorbar": {
              "outlinewidth": 0,
              "ticks": ""
             }
            },
            "type": "scattergl"
           }
          ],
          "scattermapbox": [
           {
            "marker": {
             "colorbar": {
              "outlinewidth": 0,
              "ticks": ""
             }
            },
            "type": "scattermapbox"
           }
          ],
          "scatterpolar": [
           {
            "marker": {
             "colorbar": {
              "outlinewidth": 0,
              "ticks": ""
             }
            },
            "type": "scatterpolar"
           }
          ],
          "scatterpolargl": [
           {
            "marker": {
             "colorbar": {
              "outlinewidth": 0,
              "ticks": ""
             }
            },
            "type": "scatterpolargl"
           }
          ],
          "scatterternary": [
           {
            "marker": {
             "colorbar": {
              "outlinewidth": 0,
              "ticks": ""
             }
            },
            "type": "scatterternary"
           }
          ],
          "surface": [
           {
            "colorbar": {
             "outlinewidth": 0,
             "ticks": ""
            },
            "colorscale": [
             [
              0,
              "#0d0887"
             ],
             [
              0.1111111111111111,
              "#46039f"
             ],
             [
              0.2222222222222222,
              "#7201a8"
             ],
             [
              0.3333333333333333,
              "#9c179e"
             ],
             [
              0.4444444444444444,
              "#bd3786"
             ],
             [
              0.5555555555555556,
              "#d8576b"
             ],
             [
              0.6666666666666666,
              "#ed7953"
             ],
             [
              0.7777777777777778,
              "#fb9f3a"
             ],
             [
              0.8888888888888888,
              "#fdca26"
             ],
             [
              1,
              "#f0f921"
             ]
            ],
            "type": "surface"
           }
          ],
          "table": [
           {
            "cells": {
             "fill": {
              "color": "#EBF0F8"
             },
             "line": {
              "color": "white"
             }
            },
            "header": {
             "fill": {
              "color": "#C8D4E3"
             },
             "line": {
              "color": "white"
             }
            },
            "type": "table"
           }
          ]
         },
         "layout": {
          "annotationdefaults": {
           "arrowcolor": "#2a3f5f",
           "arrowhead": 0,
           "arrowwidth": 1
          },
          "autotypenumbers": "strict",
          "coloraxis": {
           "colorbar": {
            "outlinewidth": 0,
            "ticks": ""
           }
          },
          "colorscale": {
           "diverging": [
            [
             0,
             "#8e0152"
            ],
            [
             0.1,
             "#c51b7d"
            ],
            [
             0.2,
             "#de77ae"
            ],
            [
             0.3,
             "#f1b6da"
            ],
            [
             0.4,
             "#fde0ef"
            ],
            [
             0.5,
             "#f7f7f7"
            ],
            [
             0.6,
             "#e6f5d0"
            ],
            [
             0.7,
             "#b8e186"
            ],
            [
             0.8,
             "#7fbc41"
            ],
            [
             0.9,
             "#4d9221"
            ],
            [
             1,
             "#276419"
            ]
           ],
           "sequential": [
            [
             0,
             "#0d0887"
            ],
            [
             0.1111111111111111,
             "#46039f"
            ],
            [
             0.2222222222222222,
             "#7201a8"
            ],
            [
             0.3333333333333333,
             "#9c179e"
            ],
            [
             0.4444444444444444,
             "#bd3786"
            ],
            [
             0.5555555555555556,
             "#d8576b"
            ],
            [
             0.6666666666666666,
             "#ed7953"
            ],
            [
             0.7777777777777778,
             "#fb9f3a"
            ],
            [
             0.8888888888888888,
             "#fdca26"
            ],
            [
             1,
             "#f0f921"
            ]
           ],
           "sequentialminus": [
            [
             0,
             "#0d0887"
            ],
            [
             0.1111111111111111,
             "#46039f"
            ],
            [
             0.2222222222222222,
             "#7201a8"
            ],
            [
             0.3333333333333333,
             "#9c179e"
            ],
            [
             0.4444444444444444,
             "#bd3786"
            ],
            [
             0.5555555555555556,
             "#d8576b"
            ],
            [
             0.6666666666666666,
             "#ed7953"
            ],
            [
             0.7777777777777778,
             "#fb9f3a"
            ],
            [
             0.8888888888888888,
             "#fdca26"
            ],
            [
             1,
             "#f0f921"
            ]
           ]
          },
          "colorway": [
           "#636efa",
           "#EF553B",
           "#00cc96",
           "#ab63fa",
           "#FFA15A",
           "#19d3f3",
           "#FF6692",
           "#B6E880",
           "#FF97FF",
           "#FECB52"
          ],
          "font": {
           "color": "#2a3f5f"
          },
          "geo": {
           "bgcolor": "white",
           "lakecolor": "white",
           "landcolor": "#E5ECF6",
           "showlakes": true,
           "showland": true,
           "subunitcolor": "white"
          },
          "hoverlabel": {
           "align": "left"
          },
          "hovermode": "closest",
          "mapbox": {
           "style": "light"
          },
          "paper_bgcolor": "white",
          "plot_bgcolor": "#E5ECF6",
          "polar": {
           "angularaxis": {
            "gridcolor": "white",
            "linecolor": "white",
            "ticks": ""
           },
           "bgcolor": "#E5ECF6",
           "radialaxis": {
            "gridcolor": "white",
            "linecolor": "white",
            "ticks": ""
           }
          },
          "scene": {
           "xaxis": {
            "backgroundcolor": "#E5ECF6",
            "gridcolor": "white",
            "gridwidth": 2,
            "linecolor": "white",
            "showbackground": true,
            "ticks": "",
            "zerolinecolor": "white"
           },
           "yaxis": {
            "backgroundcolor": "#E5ECF6",
            "gridcolor": "white",
            "gridwidth": 2,
            "linecolor": "white",
            "showbackground": true,
            "ticks": "",
            "zerolinecolor": "white"
           },
           "zaxis": {
            "backgroundcolor": "#E5ECF6",
            "gridcolor": "white",
            "gridwidth": 2,
            "linecolor": "white",
            "showbackground": true,
            "ticks": "",
            "zerolinecolor": "white"
           }
          },
          "shapedefaults": {
           "line": {
            "color": "#2a3f5f"
           }
          },
          "ternary": {
           "aaxis": {
            "gridcolor": "white",
            "linecolor": "white",
            "ticks": ""
           },
           "baxis": {
            "gridcolor": "white",
            "linecolor": "white",
            "ticks": ""
           },
           "bgcolor": "#E5ECF6",
           "caxis": {
            "gridcolor": "white",
            "linecolor": "white",
            "ticks": ""
           }
          },
          "title": {
           "x": 0.05
          },
          "xaxis": {
           "automargin": true,
           "gridcolor": "white",
           "linecolor": "white",
           "ticks": "",
           "title": {
            "standoff": 15
           },
           "zerolinecolor": "white",
           "zerolinewidth": 2
          },
          "yaxis": {
           "automargin": true,
           "gridcolor": "white",
           "linecolor": "white",
           "ticks": "",
           "title": {
            "standoff": 15
           },
           "zerolinecolor": "white",
           "zerolinewidth": 2
          }
         }
        },
        "title": {
         "text": "Imports vs Exports"
        }
       }
      },
      "text/html": [
       "<div>                            <div id=\"9ad27680-5102-4c1f-a804-a867401a59ef\" class=\"plotly-graph-div\" style=\"height:525px; width:100%;\"></div>            <script type=\"text/javascript\">                require([\"plotly\"], function(Plotly) {                    window.PLOTLYENV=window.PLOTLYENV || {};                                    if (document.getElementById(\"9ad27680-5102-4c1f-a804-a867401a59ef\")) {                    Plotly.newPlot(                        \"9ad27680-5102-4c1f-a804-a867401a59ef\",                        [{\"labels\":[\"Agriculteral Raw Material Imports\",\"Food imports\",\"Fuel imports\",\"Manufacturing Imports\",\"Ores Metals Imports\"],\"name\":\"Imports\",\"values\":[1.54362321193338,12.7608432391714,19.1173586577296,61.7616820997781,4.70967316769062],\"type\":\"pie\",\"domain\":{\"x\":[0.0,0.45],\"y\":[0.0,1.0]},\"hole\":0.4,\"hoverinfo\":\"label+percent+name\"},{\"labels\":[\"Agriculteral Raw Material Imports\",\"Food imports\",\"Fuel imports\",\"Manufacturing Imports\",\"Ores Metals Imports\"],\"name\":\"Exports\",\"values\":[0.286805090131203,11.785142637091,8.02677004326783,78.1043386540836,1.77628583182134],\"type\":\"pie\",\"domain\":{\"x\":[0.55,1.0],\"y\":[0.0,1.0]},\"hole\":0.4,\"hoverinfo\":\"label+percent+name\"}],                        {\"template\":{\"data\":{\"histogram2dcontour\":[{\"type\":\"histogram2dcontour\",\"colorbar\":{\"outlinewidth\":0,\"ticks\":\"\"},\"colorscale\":[[0.0,\"#0d0887\"],[0.1111111111111111,\"#46039f\"],[0.2222222222222222,\"#7201a8\"],[0.3333333333333333,\"#9c179e\"],[0.4444444444444444,\"#bd3786\"],[0.5555555555555556,\"#d8576b\"],[0.6666666666666666,\"#ed7953\"],[0.7777777777777778,\"#fb9f3a\"],[0.8888888888888888,\"#fdca26\"],[1.0,\"#f0f921\"]]}],\"choropleth\":[{\"type\":\"choropleth\",\"colorbar\":{\"outlinewidth\":0,\"ticks\":\"\"}}],\"histogram2d\":[{\"type\":\"histogram2d\",\"colorbar\":{\"outlinewidth\":0,\"ticks\":\"\"},\"colorscale\":[[0.0,\"#0d0887\"],[0.1111111111111111,\"#46039f\"],[0.2222222222222222,\"#7201a8\"],[0.3333333333333333,\"#9c179e\"],[0.4444444444444444,\"#bd3786\"],[0.5555555555555556,\"#d8576b\"],[0.6666666666666666,\"#ed7953\"],[0.7777777777777778,\"#fb9f3a\"],[0.8888888888888888,\"#fdca26\"],[1.0,\"#f0f921\"]]}],\"heatmap\":[{\"type\":\"heatmap\",\"colorbar\":{\"outlinewidth\":0,\"ticks\":\"\"},\"colorscale\":[[0.0,\"#0d0887\"],[0.1111111111111111,\"#46039f\"],[0.2222222222222222,\"#7201a8\"],[0.3333333333333333,\"#9c179e\"],[0.4444444444444444,\"#bd3786\"],[0.5555555555555556,\"#d8576b\"],[0.6666666666666666,\"#ed7953\"],[0.7777777777777778,\"#fb9f3a\"],[0.8888888888888888,\"#fdca26\"],[1.0,\"#f0f921\"]]}],\"heatmapgl\":[{\"type\":\"heatmapgl\",\"colorbar\":{\"outlinewidth\":0,\"ticks\":\"\"},\"colorscale\":[[0.0,\"#0d0887\"],[0.1111111111111111,\"#46039f\"],[0.2222222222222222,\"#7201a8\"],[0.3333333333333333,\"#9c179e\"],[0.4444444444444444,\"#bd3786\"],[0.5555555555555556,\"#d8576b\"],[0.6666666666666666,\"#ed7953\"],[0.7777777777777778,\"#fb9f3a\"],[0.8888888888888888,\"#fdca26\"],[1.0,\"#f0f921\"]]}],\"contourcarpet\":[{\"type\":\"contourcarpet\",\"colorbar\":{\"outlinewidth\":0,\"ticks\":\"\"}}],\"contour\":[{\"type\":\"contour\",\"colorbar\":{\"outlinewidth\":0,\"ticks\":\"\"},\"colorscale\":[[0.0,\"#0d0887\"],[0.1111111111111111,\"#46039f\"],[0.2222222222222222,\"#7201a8\"],[0.3333333333333333,\"#9c179e\"],[0.4444444444444444,\"#bd3786\"],[0.5555555555555556,\"#d8576b\"],[0.6666666666666666,\"#ed7953\"],[0.7777777777777778,\"#fb9f3a\"],[0.8888888888888888,\"#fdca26\"],[1.0,\"#f0f921\"]]}],\"surface\":[{\"type\":\"surface\",\"colorbar\":{\"outlinewidth\":0,\"ticks\":\"\"},\"colorscale\":[[0.0,\"#0d0887\"],[0.1111111111111111,\"#46039f\"],[0.2222222222222222,\"#7201a8\"],[0.3333333333333333,\"#9c179e\"],[0.4444444444444444,\"#bd3786\"],[0.5555555555555556,\"#d8576b\"],[0.6666666666666666,\"#ed7953\"],[0.7777777777777778,\"#fb9f3a\"],[0.8888888888888888,\"#fdca26\"],[1.0,\"#f0f921\"]]}],\"mesh3d\":[{\"type\":\"mesh3d\",\"colorbar\":{\"outlinewidth\":0,\"ticks\":\"\"}}],\"scatter\":[{\"fillpattern\":{\"fillmode\":\"overlay\",\"size\":10,\"solidity\":0.2},\"type\":\"scatter\"}],\"parcoords\":[{\"type\":\"parcoords\",\"line\":{\"colorbar\":{\"outlinewidth\":0,\"ticks\":\"\"}}}],\"scatterpolargl\":[{\"type\":\"scatterpolargl\",\"marker\":{\"colorbar\":{\"outlinewidth\":0,\"ticks\":\"\"}}}],\"bar\":[{\"error_x\":{\"color\":\"#2a3f5f\"},\"error_y\":{\"color\":\"#2a3f5f\"},\"marker\":{\"line\":{\"color\":\"#E5ECF6\",\"width\":0.5},\"pattern\":{\"fillmode\":\"overlay\",\"size\":10,\"solidity\":0.2}},\"type\":\"bar\"}],\"scattergeo\":[{\"type\":\"scattergeo\",\"marker\":{\"colorbar\":{\"outlinewidth\":0,\"ticks\":\"\"}}}],\"scatterpolar\":[{\"type\":\"scatterpolar\",\"marker\":{\"colorbar\":{\"outlinewidth\":0,\"ticks\":\"\"}}}],\"histogram\":[{\"marker\":{\"pattern\":{\"fillmode\":\"overlay\",\"size\":10,\"solidity\":0.2}},\"type\":\"histogram\"}],\"scattergl\":[{\"type\":\"scattergl\",\"marker\":{\"colorbar\":{\"outlinewidth\":0,\"ticks\":\"\"}}}],\"scatter3d\":[{\"type\":\"scatter3d\",\"line\":{\"colorbar\":{\"outlinewidth\":0,\"ticks\":\"\"}},\"marker\":{\"colorbar\":{\"outlinewidth\":0,\"ticks\":\"\"}}}],\"scattermapbox\":[{\"type\":\"scattermapbox\",\"marker\":{\"colorbar\":{\"outlinewidth\":0,\"ticks\":\"\"}}}],\"scatterternary\":[{\"type\":\"scatterternary\",\"marker\":{\"colorbar\":{\"outlinewidth\":0,\"ticks\":\"\"}}}],\"scattercarpet\":[{\"type\":\"scattercarpet\",\"marker\":{\"colorbar\":{\"outlinewidth\":0,\"ticks\":\"\"}}}],\"carpet\":[{\"aaxis\":{\"endlinecolor\":\"#2a3f5f\",\"gridcolor\":\"white\",\"linecolor\":\"white\",\"minorgridcolor\":\"white\",\"startlinecolor\":\"#2a3f5f\"},\"baxis\":{\"endlinecolor\":\"#2a3f5f\",\"gridcolor\":\"white\",\"linecolor\":\"white\",\"minorgridcolor\":\"white\",\"startlinecolor\":\"#2a3f5f\"},\"type\":\"carpet\"}],\"table\":[{\"cells\":{\"fill\":{\"color\":\"#EBF0F8\"},\"line\":{\"color\":\"white\"}},\"header\":{\"fill\":{\"color\":\"#C8D4E3\"},\"line\":{\"color\":\"white\"}},\"type\":\"table\"}],\"barpolar\":[{\"marker\":{\"line\":{\"color\":\"#E5ECF6\",\"width\":0.5},\"pattern\":{\"fillmode\":\"overlay\",\"size\":10,\"solidity\":0.2}},\"type\":\"barpolar\"}],\"pie\":[{\"automargin\":true,\"type\":\"pie\"}]},\"layout\":{\"autotypenumbers\":\"strict\",\"colorway\":[\"#636efa\",\"#EF553B\",\"#00cc96\",\"#ab63fa\",\"#FFA15A\",\"#19d3f3\",\"#FF6692\",\"#B6E880\",\"#FF97FF\",\"#FECB52\"],\"font\":{\"color\":\"#2a3f5f\"},\"hovermode\":\"closest\",\"hoverlabel\":{\"align\":\"left\"},\"paper_bgcolor\":\"white\",\"plot_bgcolor\":\"#E5ECF6\",\"polar\":{\"bgcolor\":\"#E5ECF6\",\"angularaxis\":{\"gridcolor\":\"white\",\"linecolor\":\"white\",\"ticks\":\"\"},\"radialaxis\":{\"gridcolor\":\"white\",\"linecolor\":\"white\",\"ticks\":\"\"}},\"ternary\":{\"bgcolor\":\"#E5ECF6\",\"aaxis\":{\"gridcolor\":\"white\",\"linecolor\":\"white\",\"ticks\":\"\"},\"baxis\":{\"gridcolor\":\"white\",\"linecolor\":\"white\",\"ticks\":\"\"},\"caxis\":{\"gridcolor\":\"white\",\"linecolor\":\"white\",\"ticks\":\"\"}},\"coloraxis\":{\"colorbar\":{\"outlinewidth\":0,\"ticks\":\"\"}},\"colorscale\":{\"sequential\":[[0.0,\"#0d0887\"],[0.1111111111111111,\"#46039f\"],[0.2222222222222222,\"#7201a8\"],[0.3333333333333333,\"#9c179e\"],[0.4444444444444444,\"#bd3786\"],[0.5555555555555556,\"#d8576b\"],[0.6666666666666666,\"#ed7953\"],[0.7777777777777778,\"#fb9f3a\"],[0.8888888888888888,\"#fdca26\"],[1.0,\"#f0f921\"]],\"sequentialminus\":[[0.0,\"#0d0887\"],[0.1111111111111111,\"#46039f\"],[0.2222222222222222,\"#7201a8\"],[0.3333333333333333,\"#9c179e\"],[0.4444444444444444,\"#bd3786\"],[0.5555555555555556,\"#d8576b\"],[0.6666666666666666,\"#ed7953\"],[0.7777777777777778,\"#fb9f3a\"],[0.8888888888888888,\"#fdca26\"],[1.0,\"#f0f921\"]],\"diverging\":[[0,\"#8e0152\"],[0.1,\"#c51b7d\"],[0.2,\"#de77ae\"],[0.3,\"#f1b6da\"],[0.4,\"#fde0ef\"],[0.5,\"#f7f7f7\"],[0.6,\"#e6f5d0\"],[0.7,\"#b8e186\"],[0.8,\"#7fbc41\"],[0.9,\"#4d9221\"],[1,\"#276419\"]]},\"xaxis\":{\"gridcolor\":\"white\",\"linecolor\":\"white\",\"ticks\":\"\",\"title\":{\"standoff\":15},\"zerolinecolor\":\"white\",\"automargin\":true,\"zerolinewidth\":2},\"yaxis\":{\"gridcolor\":\"white\",\"linecolor\":\"white\",\"ticks\":\"\",\"title\":{\"standoff\":15},\"zerolinecolor\":\"white\",\"automargin\":true,\"zerolinewidth\":2},\"scene\":{\"xaxis\":{\"backgroundcolor\":\"#E5ECF6\",\"gridcolor\":\"white\",\"linecolor\":\"white\",\"showbackground\":true,\"ticks\":\"\",\"zerolinecolor\":\"white\",\"gridwidth\":2},\"yaxis\":{\"backgroundcolor\":\"#E5ECF6\",\"gridcolor\":\"white\",\"linecolor\":\"white\",\"showbackground\":true,\"ticks\":\"\",\"zerolinecolor\":\"white\",\"gridwidth\":2},\"zaxis\":{\"backgroundcolor\":\"#E5ECF6\",\"gridcolor\":\"white\",\"linecolor\":\"white\",\"showbackground\":true,\"ticks\":\"\",\"zerolinecolor\":\"white\",\"gridwidth\":2}},\"shapedefaults\":{\"line\":{\"color\":\"#2a3f5f\"}},\"annotationdefaults\":{\"arrowcolor\":\"#2a3f5f\",\"arrowhead\":0,\"arrowwidth\":1},\"geo\":{\"bgcolor\":\"white\",\"landcolor\":\"#E5ECF6\",\"subunitcolor\":\"white\",\"showland\":true,\"showlakes\":true,\"lakecolor\":\"white\"},\"title\":{\"x\":0.05},\"mapbox\":{\"style\":\"light\"}}},\"title\":{\"text\":\"Imports vs Exports\"},\"annotations\":[{\"showarrow\":false,\"text\":\"Imports\",\"x\":0.16,\"y\":0.5,\"font\":{\"size\":20}},{\"showarrow\":false,\"text\":\"Exports\",\"x\":0.84,\"y\":0.5,\"font\":{\"size\":20}}]},                        {\"responsive\": true}                    ).then(function(){\n",
       "                            \n",
       "var gd = document.getElementById('9ad27680-5102-4c1f-a804-a867401a59ef');\n",
       "var x = new MutationObserver(function (mutations, observer) {{\n",
       "        var display = window.getComputedStyle(gd).display;\n",
       "        if (!display || display === 'none') {{\n",
       "            console.log([gd, 'removed!']);\n",
       "            Plotly.purge(gd);\n",
       "            observer.disconnect();\n",
       "        }}\n",
       "}});\n",
       "\n",
       "// Listen for the removal of the full notebook cells\n",
       "var notebookContainer = gd.closest('#notebook-container');\n",
       "if (notebookContainer) {{\n",
       "    x.observe(notebookContainer, {childList: true});\n",
       "}}\n",
       "\n",
       "// Listen for the clearing of the current output cell\n",
       "var outputEl = gd.closest('.output');\n",
       "if (outputEl) {{\n",
       "    x.observe(outputEl, {childList: true});\n",
       "}}\n",
       "\n",
       "                        })                };                });            </script>        </div>"
      ]
     },
     "metadata": {},
     "output_type": "display_data"
    }
   ],
   "source": [
    "from plotly.subplots import make_subplots\n",
    "\n",
    "fig = make_subplots(rows=1, cols=2, specs=[[{'type':'domain'}, {'type':'domain'}]])\n",
    "fig.add_trace(go.Pie(labels=labels_im, values=values_im, name=\"Imports\"),1, 1)\n",
    "fig.add_trace(go.Pie(labels=labels_im, values=values_ex, name=\"Exports\"), 1, 2)\n",
    "\n",
    "# Use `hole` to create a donut-like pie chart\n",
    "fig.update_traces(hole=.4, hoverinfo=\"label+percent+name\")\n",
    "\n",
    "fig.update_layout(\n",
    "    title_text=\"Imports vs Exports\",\n",
    "    # Add annotations in the center of the donut pies.\n",
    "    annotations=[dict(text='Imports', x=0.16, y=0.5, font_size=20, showarrow=False),\n",
    "                 dict(text='Exports', x=0.84, y=0.5, font_size=20, showarrow=False)])\n",
    "fig.show()"
   ]
  },
  {
   "cell_type": "code",
   "execution_count": 75,
   "id": "498c44b3",
   "metadata": {},
   "outputs": [
    {
     "data": {
      "text/html": [
       "<div>\n",
       "<style scoped>\n",
       "    .dataframe tbody tr th:only-of-type {\n",
       "        vertical-align: middle;\n",
       "    }\n",
       "\n",
       "    .dataframe tbody tr th {\n",
       "        vertical-align: top;\n",
       "    }\n",
       "\n",
       "    .dataframe thead th {\n",
       "        text-align: right;\n",
       "    }\n",
       "</style>\n",
       "<table border=\"1\" class=\"dataframe\">\n",
       "  <thead>\n",
       "    <tr style=\"text-align: right;\">\n",
       "      <th></th>\n",
       "      <th>country</th>\n",
       "      <th>date</th>\n",
       "      <th>External_Debts</th>\n",
       "      <th>IMF_Credit</th>\n",
       "      <th>Short_term_debt</th>\n",
       "      <th>Income</th>\n",
       "      <th>Total_Reserves</th>\n",
       "      <th>Gross_income</th>\n",
       "      <th>Exports</th>\n",
       "      <th>Imports</th>\n",
       "      <th>...</th>\n",
       "      <th>Manufacturing_exports</th>\n",
       "      <th>Ores_metal_exports</th>\n",
       "      <th>Military_expenditure</th>\n",
       "      <th>Education_expenditure</th>\n",
       "      <th>Tourism_expenditure</th>\n",
       "      <th>Health_expenditure</th>\n",
       "      <th>Out_of_pocket_expenditure</th>\n",
       "      <th>Private_expenditure_health</th>\n",
       "      <th>Household_expenditure</th>\n",
       "      <th>UN_FUNDS</th>\n",
       "    </tr>\n",
       "  </thead>\n",
       "  <tbody>\n",
       "    <tr>\n",
       "      <th>0</th>\n",
       "      <td>Tunisia</td>\n",
       "      <td>2023-01-01</td>\n",
       "      <td>0</td>\n",
       "      <td>0</td>\n",
       "      <td>0</td>\n",
       "      <td>0</td>\n",
       "      <td>0</td>\n",
       "      <td>0</td>\n",
       "      <td>0</td>\n",
       "      <td>0</td>\n",
       "      <td>...</td>\n",
       "      <td>0.000000</td>\n",
       "      <td>0.000000</td>\n",
       "      <td>0</td>\n",
       "      <td>0</td>\n",
       "      <td>0</td>\n",
       "      <td>0</td>\n",
       "      <td>0</td>\n",
       "      <td>0</td>\n",
       "      <td>0</td>\n",
       "      <td>0</td>\n",
       "    </tr>\n",
       "    <tr>\n",
       "      <th>1</th>\n",
       "      <td>Tunisia</td>\n",
       "      <td>2022-01-01</td>\n",
       "      <td>23</td>\n",
       "      <td>3</td>\n",
       "      <td>14</td>\n",
       "      <td>24</td>\n",
       "      <td>8</td>\n",
       "      <td>45</td>\n",
       "      <td>17</td>\n",
       "      <td>28</td>\n",
       "      <td>...</td>\n",
       "      <td>78.104339</td>\n",
       "      <td>1.776286</td>\n",
       "      <td>1</td>\n",
       "      <td>0</td>\n",
       "      <td>0</td>\n",
       "      <td>0</td>\n",
       "      <td>0</td>\n",
       "      <td>0</td>\n",
       "      <td>34</td>\n",
       "      <td>0</td>\n",
       "    </tr>\n",
       "    <tr>\n",
       "      <th>2</th>\n",
       "      <td>Tunisia</td>\n",
       "      <td>2021-01-01</td>\n",
       "      <td>25</td>\n",
       "      <td>3</td>\n",
       "      <td>13</td>\n",
       "      <td>20</td>\n",
       "      <td>9</td>\n",
       "      <td>45</td>\n",
       "      <td>14</td>\n",
       "      <td>24</td>\n",
       "      <td>...</td>\n",
       "      <td>80.189507</td>\n",
       "      <td>2.027201</td>\n",
       "      <td>1</td>\n",
       "      <td>3</td>\n",
       "      <td>0</td>\n",
       "      <td>0</td>\n",
       "      <td>0</td>\n",
       "      <td>0</td>\n",
       "      <td>34</td>\n",
       "      <td>0</td>\n",
       "    </tr>\n",
       "    <tr>\n",
       "      <th>3</th>\n",
       "      <td>Tunisia</td>\n",
       "      <td>2020-01-01</td>\n",
       "      <td>28</td>\n",
       "      <td>3</td>\n",
       "      <td>11</td>\n",
       "      <td>16</td>\n",
       "      <td>10</td>\n",
       "      <td>41</td>\n",
       "      <td>11</td>\n",
       "      <td>19</td>\n",
       "      <td>...</td>\n",
       "      <td>78.538862</td>\n",
       "      <td>1.831670</td>\n",
       "      <td>1</td>\n",
       "      <td>2</td>\n",
       "      <td>0</td>\n",
       "      <td>0</td>\n",
       "      <td>0</td>\n",
       "      <td>0</td>\n",
       "      <td>31</td>\n",
       "      <td>0</td>\n",
       "    </tr>\n",
       "    <tr>\n",
       "      <th>4</th>\n",
       "      <td>Tunisia</td>\n",
       "      <td>2019-01-01</td>\n",
       "      <td>26</td>\n",
       "      <td>2</td>\n",
       "      <td>11</td>\n",
       "      <td>19</td>\n",
       "      <td>8</td>\n",
       "      <td>41</td>\n",
       "      <td>14</td>\n",
       "      <td>23</td>\n",
       "      <td>...</td>\n",
       "      <td>81.679572</td>\n",
       "      <td>1.750456</td>\n",
       "      <td>1</td>\n",
       "      <td>2</td>\n",
       "      <td>1</td>\n",
       "      <td>0</td>\n",
       "      <td>0</td>\n",
       "      <td>0</td>\n",
       "      <td>30</td>\n",
       "      <td>0</td>\n",
       "    </tr>\n",
       "    <tr>\n",
       "      <th>...</th>\n",
       "      <td>...</td>\n",
       "      <td>...</td>\n",
       "      <td>...</td>\n",
       "      <td>...</td>\n",
       "      <td>...</td>\n",
       "      <td>...</td>\n",
       "      <td>...</td>\n",
       "      <td>...</td>\n",
       "      <td>...</td>\n",
       "      <td>...</td>\n",
       "      <td>...</td>\n",
       "      <td>...</td>\n",
       "      <td>...</td>\n",
       "      <td>...</td>\n",
       "      <td>...</td>\n",
       "      <td>...</td>\n",
       "      <td>...</td>\n",
       "      <td>...</td>\n",
       "      <td>...</td>\n",
       "      <td>...</td>\n",
       "      <td>...</td>\n",
       "    </tr>\n",
       "    <tr>\n",
       "      <th>59</th>\n",
       "      <td>Tunisia</td>\n",
       "      <td>1964-01-01</td>\n",
       "      <td>0</td>\n",
       "      <td>0</td>\n",
       "      <td>0</td>\n",
       "      <td>0</td>\n",
       "      <td>0</td>\n",
       "      <td>0</td>\n",
       "      <td>0</td>\n",
       "      <td>0</td>\n",
       "      <td>...</td>\n",
       "      <td>9.329002</td>\n",
       "      <td>24.037114</td>\n",
       "      <td>0</td>\n",
       "      <td>0</td>\n",
       "      <td>0</td>\n",
       "      <td>0</td>\n",
       "      <td>0</td>\n",
       "      <td>0</td>\n",
       "      <td>0</td>\n",
       "      <td>0</td>\n",
       "    </tr>\n",
       "    <tr>\n",
       "      <th>60</th>\n",
       "      <td>Tunisia</td>\n",
       "      <td>1963-01-01</td>\n",
       "      <td>0</td>\n",
       "      <td>0</td>\n",
       "      <td>0</td>\n",
       "      <td>0</td>\n",
       "      <td>0</td>\n",
       "      <td>0</td>\n",
       "      <td>0</td>\n",
       "      <td>0</td>\n",
       "      <td>...</td>\n",
       "      <td>9.216913</td>\n",
       "      <td>22.075731</td>\n",
       "      <td>0</td>\n",
       "      <td>0</td>\n",
       "      <td>0</td>\n",
       "      <td>0</td>\n",
       "      <td>0</td>\n",
       "      <td>0</td>\n",
       "      <td>0</td>\n",
       "      <td>0</td>\n",
       "    </tr>\n",
       "    <tr>\n",
       "      <th>61</th>\n",
       "      <td>Tunisia</td>\n",
       "      <td>1962-01-01</td>\n",
       "      <td>0</td>\n",
       "      <td>0</td>\n",
       "      <td>0</td>\n",
       "      <td>0</td>\n",
       "      <td>0</td>\n",
       "      <td>0</td>\n",
       "      <td>0</td>\n",
       "      <td>0</td>\n",
       "      <td>...</td>\n",
       "      <td>8.549708</td>\n",
       "      <td>22.831813</td>\n",
       "      <td>0</td>\n",
       "      <td>0</td>\n",
       "      <td>0</td>\n",
       "      <td>0</td>\n",
       "      <td>0</td>\n",
       "      <td>0</td>\n",
       "      <td>0</td>\n",
       "      <td>0</td>\n",
       "    </tr>\n",
       "    <tr>\n",
       "      <th>62</th>\n",
       "      <td>Tunisia</td>\n",
       "      <td>1961-01-01</td>\n",
       "      <td>0</td>\n",
       "      <td>0</td>\n",
       "      <td>0</td>\n",
       "      <td>0</td>\n",
       "      <td>0</td>\n",
       "      <td>0</td>\n",
       "      <td>0</td>\n",
       "      <td>0</td>\n",
       "      <td>...</td>\n",
       "      <td>0.000000</td>\n",
       "      <td>0.000000</td>\n",
       "      <td>0</td>\n",
       "      <td>0</td>\n",
       "      <td>0</td>\n",
       "      <td>0</td>\n",
       "      <td>0</td>\n",
       "      <td>0</td>\n",
       "      <td>0</td>\n",
       "      <td>0</td>\n",
       "    </tr>\n",
       "    <tr>\n",
       "      <th>63</th>\n",
       "      <td>Tunisia</td>\n",
       "      <td>1960-01-01</td>\n",
       "      <td>0</td>\n",
       "      <td>0</td>\n",
       "      <td>0</td>\n",
       "      <td>0</td>\n",
       "      <td>0</td>\n",
       "      <td>0</td>\n",
       "      <td>0</td>\n",
       "      <td>0</td>\n",
       "      <td>...</td>\n",
       "      <td>0.000000</td>\n",
       "      <td>0.000000</td>\n",
       "      <td>0</td>\n",
       "      <td>0</td>\n",
       "      <td>0</td>\n",
       "      <td>0</td>\n",
       "      <td>0</td>\n",
       "      <td>0</td>\n",
       "      <td>0</td>\n",
       "      <td>0</td>\n",
       "    </tr>\n",
       "  </tbody>\n",
       "</table>\n",
       "<p>64 rows × 58 columns</p>\n",
       "</div>"
      ],
      "text/plain": [
       "    country       date  External_Debts  IMF_Credit  Short_term_debt  Income  \\\n",
       "0   Tunisia 2023-01-01               0           0                0       0   \n",
       "1   Tunisia 2022-01-01              23           3               14      24   \n",
       "2   Tunisia 2021-01-01              25           3               13      20   \n",
       "3   Tunisia 2020-01-01              28           3               11      16   \n",
       "4   Tunisia 2019-01-01              26           2               11      19   \n",
       "..      ...        ...             ...         ...              ...     ...   \n",
       "59  Tunisia 1964-01-01               0           0                0       0   \n",
       "60  Tunisia 1963-01-01               0           0                0       0   \n",
       "61  Tunisia 1962-01-01               0           0                0       0   \n",
       "62  Tunisia 1961-01-01               0           0                0       0   \n",
       "63  Tunisia 1960-01-01               0           0                0       0   \n",
       "\n",
       "    Total_Reserves  Gross_income  Exports  Imports  ...  \\\n",
       "0                0             0        0        0  ...   \n",
       "1                8            45       17       28  ...   \n",
       "2                9            45       14       24  ...   \n",
       "3               10            41       11       19  ...   \n",
       "4                8            41       14       23  ...   \n",
       "..             ...           ...      ...      ...  ...   \n",
       "59               0             0        0        0  ...   \n",
       "60               0             0        0        0  ...   \n",
       "61               0             0        0        0  ...   \n",
       "62               0             0        0        0  ...   \n",
       "63               0             0        0        0  ...   \n",
       "\n",
       "    Manufacturing_exports  Ores_metal_exports  Military_expenditure  \\\n",
       "0                0.000000            0.000000                     0   \n",
       "1               78.104339            1.776286                     1   \n",
       "2               80.189507            2.027201                     1   \n",
       "3               78.538862            1.831670                     1   \n",
       "4               81.679572            1.750456                     1   \n",
       "..                    ...                 ...                   ...   \n",
       "59               9.329002           24.037114                     0   \n",
       "60               9.216913           22.075731                     0   \n",
       "61               8.549708           22.831813                     0   \n",
       "62               0.000000            0.000000                     0   \n",
       "63               0.000000            0.000000                     0   \n",
       "\n",
       "    Education_expenditure  Tourism_expenditure  Health_expenditure  \\\n",
       "0                       0                    0                   0   \n",
       "1                       0                    0                   0   \n",
       "2                       3                    0                   0   \n",
       "3                       2                    0                   0   \n",
       "4                       2                    1                   0   \n",
       "..                    ...                  ...                 ...   \n",
       "59                      0                    0                   0   \n",
       "60                      0                    0                   0   \n",
       "61                      0                    0                   0   \n",
       "62                      0                    0                   0   \n",
       "63                      0                    0                   0   \n",
       "\n",
       "    Out_of_pocket_expenditure  Private_expenditure_health  \\\n",
       "0                           0                           0   \n",
       "1                           0                           0   \n",
       "2                           0                           0   \n",
       "3                           0                           0   \n",
       "4                           0                           0   \n",
       "..                        ...                         ...   \n",
       "59                          0                           0   \n",
       "60                          0                           0   \n",
       "61                          0                           0   \n",
       "62                          0                           0   \n",
       "63                          0                           0   \n",
       "\n",
       "    Household_expenditure  UN_FUNDS  \n",
       "0                       0         0  \n",
       "1                      34         0  \n",
       "2                      34         0  \n",
       "3                      31         0  \n",
       "4                      30         0  \n",
       "..                    ...       ...  \n",
       "59                      0         0  \n",
       "60                      0         0  \n",
       "61                      0         0  \n",
       "62                      0         0  \n",
       "63                      0         0  \n",
       "\n",
       "[64 rows x 58 columns]"
      ]
     },
     "execution_count": 75,
     "metadata": {},
     "output_type": "execute_result"
    }
   ],
   "source": [
    "df"
   ]
  },
  {
   "cell_type": "code",
   "execution_count": 96,
   "id": "11019dfe",
   "metadata": {},
   "outputs": [
    {
     "data": {
      "application/vnd.plotly.v1+json": {
       "config": {
        "plotlyServerURL": "https://plot.ly"
       },
       "data": [
        {
         "fill": "tozeroy",
         "mode": "none",
         "type": "scatter",
         "x": [
          "2023-01-01T00:00:00",
          "2022-01-01T00:00:00",
          "2021-01-01T00:00:00",
          "2020-01-01T00:00:00",
          "2019-01-01T00:00:00",
          "2018-01-01T00:00:00",
          "2017-01-01T00:00:00",
          "2016-01-01T00:00:00",
          "2015-01-01T00:00:00",
          "2014-01-01T00:00:00",
          "2013-01-01T00:00:00",
          "2012-01-01T00:00:00",
          "2011-01-01T00:00:00",
          "2010-01-01T00:00:00",
          "2009-01-01T00:00:00",
          "2008-01-01T00:00:00",
          "2007-01-01T00:00:00",
          "2006-01-01T00:00:00",
          "2005-01-01T00:00:00",
          "2004-01-01T00:00:00",
          "2003-01-01T00:00:00",
          "2002-01-01T00:00:00",
          "2001-01-01T00:00:00",
          "2000-01-01T00:00:00",
          "1999-01-01T00:00:00",
          "1998-01-01T00:00:00",
          "1997-01-01T00:00:00",
          "1996-01-01T00:00:00",
          "1995-01-01T00:00:00",
          "1994-01-01T00:00:00",
          "1993-01-01T00:00:00",
          "1992-01-01T00:00:00",
          "1991-01-01T00:00:00",
          "1990-01-01T00:00:00",
          "1989-01-01T00:00:00",
          "1988-01-01T00:00:00",
          "1987-01-01T00:00:00",
          "1986-01-01T00:00:00",
          "1985-01-01T00:00:00",
          "1984-01-01T00:00:00",
          "1983-01-01T00:00:00",
          "1982-01-01T00:00:00",
          "1981-01-01T00:00:00",
          "1980-01-01T00:00:00",
          "1979-01-01T00:00:00",
          "1978-01-01T00:00:00",
          "1977-01-01T00:00:00",
          "1976-01-01T00:00:00",
          "1975-01-01T00:00:00",
          "1974-01-01T00:00:00",
          "1973-01-01T00:00:00",
          "1972-01-01T00:00:00",
          "1971-01-01T00:00:00",
          "1970-01-01T00:00:00",
          "1969-01-01T00:00:00",
          "1968-01-01T00:00:00",
          "1967-01-01T00:00:00",
          "1966-01-01T00:00:00",
          "1965-01-01T00:00:00",
          "1964-01-01T00:00:00",
          "1963-01-01T00:00:00",
          "1962-01-01T00:00:00",
          "1961-01-01T00:00:00",
          "1960-01-01T00:00:00"
         ],
         "y": [
          0,
          1,
          1,
          1,
          1,
          1,
          1,
          1,
          1,
          1,
          1,
          1,
          1,
          1,
          1,
          1,
          0,
          0,
          0,
          0,
          0,
          0,
          0,
          0,
          0,
          0,
          0,
          0,
          0,
          0,
          0,
          0,
          0,
          0,
          0,
          0,
          0,
          0,
          0,
          0,
          0,
          0,
          0,
          0,
          0,
          0,
          0,
          0,
          0,
          0,
          0,
          0,
          0,
          0,
          0,
          0,
          0,
          0,
          0,
          0,
          0,
          0,
          0,
          0
         ]
        },
        {
         "fill": "tonexty",
         "mode": "none",
         "type": "scatter",
         "x": [
          "2023-01-01T00:00:00",
          "2022-01-01T00:00:00",
          "2021-01-01T00:00:00",
          "2020-01-01T00:00:00",
          "2019-01-01T00:00:00",
          "2018-01-01T00:00:00",
          "2017-01-01T00:00:00",
          "2016-01-01T00:00:00",
          "2015-01-01T00:00:00",
          "2014-01-01T00:00:00",
          "2013-01-01T00:00:00",
          "2012-01-01T00:00:00",
          "2011-01-01T00:00:00",
          "2010-01-01T00:00:00",
          "2009-01-01T00:00:00",
          "2008-01-01T00:00:00",
          "2007-01-01T00:00:00",
          "2006-01-01T00:00:00",
          "2005-01-01T00:00:00",
          "2004-01-01T00:00:00",
          "2003-01-01T00:00:00",
          "2002-01-01T00:00:00",
          "2001-01-01T00:00:00",
          "2000-01-01T00:00:00",
          "1999-01-01T00:00:00",
          "1998-01-01T00:00:00",
          "1997-01-01T00:00:00",
          "1996-01-01T00:00:00",
          "1995-01-01T00:00:00",
          "1994-01-01T00:00:00",
          "1993-01-01T00:00:00",
          "1992-01-01T00:00:00",
          "1991-01-01T00:00:00",
          "1990-01-01T00:00:00",
          "1989-01-01T00:00:00",
          "1988-01-01T00:00:00",
          "1987-01-01T00:00:00",
          "1986-01-01T00:00:00",
          "1985-01-01T00:00:00",
          "1984-01-01T00:00:00",
          "1983-01-01T00:00:00",
          "1982-01-01T00:00:00",
          "1981-01-01T00:00:00",
          "1980-01-01T00:00:00",
          "1979-01-01T00:00:00",
          "1978-01-01T00:00:00",
          "1977-01-01T00:00:00",
          "1976-01-01T00:00:00",
          "1975-01-01T00:00:00",
          "1974-01-01T00:00:00",
          "1973-01-01T00:00:00",
          "1972-01-01T00:00:00",
          "1971-01-01T00:00:00",
          "1970-01-01T00:00:00",
          "1969-01-01T00:00:00",
          "1968-01-01T00:00:00",
          "1967-01-01T00:00:00",
          "1966-01-01T00:00:00",
          "1965-01-01T00:00:00",
          "1964-01-01T00:00:00",
          "1963-01-01T00:00:00",
          "1962-01-01T00:00:00",
          "1961-01-01T00:00:00",
          "1960-01-01T00:00:00"
         ],
         "y": [
          0,
          0,
          3,
          2,
          2,
          2,
          2,
          3,
          3,
          3,
          3,
          3,
          3,
          3,
          2,
          3,
          2,
          2,
          2,
          2,
          2,
          1,
          1,
          1,
          1,
          1,
          1,
          1,
          1,
          1,
          1,
          1,
          1,
          1,
          1,
          1,
          1,
          0,
          0,
          0,
          0,
          0,
          0,
          0,
          0,
          0,
          0,
          0,
          0,
          0,
          0,
          0,
          0,
          0,
          0,
          0,
          0,
          0,
          0,
          0,
          0,
          0,
          0,
          0
         ]
        },
        {
         "fill": "tonexty",
         "mode": "none",
         "type": "scatter",
         "x": [
          "2023-01-01T00:00:00",
          "2022-01-01T00:00:00",
          "2021-01-01T00:00:00",
          "2020-01-01T00:00:00",
          "2019-01-01T00:00:00",
          "2018-01-01T00:00:00",
          "2017-01-01T00:00:00",
          "2016-01-01T00:00:00",
          "2015-01-01T00:00:00",
          "2014-01-01T00:00:00",
          "2013-01-01T00:00:00",
          "2012-01-01T00:00:00",
          "2011-01-01T00:00:00",
          "2010-01-01T00:00:00",
          "2009-01-01T00:00:00",
          "2008-01-01T00:00:00",
          "2007-01-01T00:00:00",
          "2006-01-01T00:00:00",
          "2005-01-01T00:00:00",
          "2004-01-01T00:00:00",
          "2003-01-01T00:00:00",
          "2002-01-01T00:00:00",
          "2001-01-01T00:00:00",
          "2000-01-01T00:00:00",
          "1999-01-01T00:00:00",
          "1998-01-01T00:00:00",
          "1997-01-01T00:00:00",
          "1996-01-01T00:00:00",
          "1995-01-01T00:00:00",
          "1994-01-01T00:00:00",
          "1993-01-01T00:00:00",
          "1992-01-01T00:00:00",
          "1991-01-01T00:00:00",
          "1990-01-01T00:00:00",
          "1989-01-01T00:00:00",
          "1988-01-01T00:00:00",
          "1987-01-01T00:00:00",
          "1986-01-01T00:00:00",
          "1985-01-01T00:00:00",
          "1984-01-01T00:00:00",
          "1983-01-01T00:00:00",
          "1982-01-01T00:00:00",
          "1981-01-01T00:00:00",
          "1980-01-01T00:00:00",
          "1979-01-01T00:00:00",
          "1978-01-01T00:00:00",
          "1977-01-01T00:00:00",
          "1976-01-01T00:00:00",
          "1975-01-01T00:00:00",
          "1974-01-01T00:00:00",
          "1973-01-01T00:00:00",
          "1972-01-01T00:00:00",
          "1971-01-01T00:00:00",
          "1970-01-01T00:00:00",
          "1969-01-01T00:00:00",
          "1968-01-01T00:00:00",
          "1967-01-01T00:00:00",
          "1966-01-01T00:00:00",
          "1965-01-01T00:00:00",
          "1964-01-01T00:00:00",
          "1963-01-01T00:00:00",
          "1962-01-01T00:00:00",
          "1961-01-01T00:00:00",
          "1960-01-01T00:00:00"
         ],
         "y": [
          0,
          0,
          0,
          0,
          1,
          1,
          1,
          1,
          1,
          1,
          1,
          1,
          1,
          1,
          0,
          1,
          1,
          0,
          0,
          0,
          0,
          0,
          0,
          0,
          0,
          0,
          0,
          0,
          0,
          0,
          0,
          0,
          0,
          0,
          0,
          0,
          0,
          0,
          0,
          0,
          0,
          0,
          0,
          0,
          0,
          0,
          0,
          0,
          0,
          0,
          0,
          0,
          0,
          0,
          0,
          0,
          0,
          0,
          0,
          0,
          0,
          0,
          0,
          0
         ]
        },
        {
         "fill": "tonexty",
         "mode": "none",
         "type": "scatter",
         "x": [
          "2023-01-01T00:00:00",
          "2022-01-01T00:00:00",
          "2021-01-01T00:00:00",
          "2020-01-01T00:00:00",
          "2019-01-01T00:00:00",
          "2018-01-01T00:00:00",
          "2017-01-01T00:00:00",
          "2016-01-01T00:00:00",
          "2015-01-01T00:00:00",
          "2014-01-01T00:00:00",
          "2013-01-01T00:00:00",
          "2012-01-01T00:00:00",
          "2011-01-01T00:00:00",
          "2010-01-01T00:00:00",
          "2009-01-01T00:00:00",
          "2008-01-01T00:00:00",
          "2007-01-01T00:00:00",
          "2006-01-01T00:00:00",
          "2005-01-01T00:00:00",
          "2004-01-01T00:00:00",
          "2003-01-01T00:00:00",
          "2002-01-01T00:00:00",
          "2001-01-01T00:00:00",
          "2000-01-01T00:00:00",
          "1999-01-01T00:00:00",
          "1998-01-01T00:00:00",
          "1997-01-01T00:00:00",
          "1996-01-01T00:00:00",
          "1995-01-01T00:00:00",
          "1994-01-01T00:00:00",
          "1993-01-01T00:00:00",
          "1992-01-01T00:00:00",
          "1991-01-01T00:00:00",
          "1990-01-01T00:00:00",
          "1989-01-01T00:00:00",
          "1988-01-01T00:00:00",
          "1987-01-01T00:00:00",
          "1986-01-01T00:00:00",
          "1985-01-01T00:00:00",
          "1984-01-01T00:00:00",
          "1983-01-01T00:00:00",
          "1982-01-01T00:00:00",
          "1981-01-01T00:00:00",
          "1980-01-01T00:00:00",
          "1979-01-01T00:00:00",
          "1978-01-01T00:00:00",
          "1977-01-01T00:00:00",
          "1976-01-01T00:00:00",
          "1975-01-01T00:00:00",
          "1974-01-01T00:00:00",
          "1973-01-01T00:00:00",
          "1972-01-01T00:00:00",
          "1971-01-01T00:00:00",
          "1970-01-01T00:00:00",
          "1969-01-01T00:00:00",
          "1968-01-01T00:00:00",
          "1967-01-01T00:00:00",
          "1966-01-01T00:00:00",
          "1965-01-01T00:00:00",
          "1964-01-01T00:00:00",
          "1963-01-01T00:00:00",
          "1962-01-01T00:00:00",
          "1961-01-01T00:00:00",
          "1960-01-01T00:00:00"
         ],
         "y": [
          0,
          0,
          0,
          0,
          0,
          0,
          0,
          0,
          0,
          0,
          0,
          0,
          0,
          0,
          0,
          0,
          0,
          0,
          0,
          0,
          0,
          0,
          0,
          0,
          0,
          0,
          0,
          0,
          0,
          0,
          0,
          0,
          0,
          0,
          0,
          0,
          0,
          0,
          0,
          0,
          0,
          0,
          0,
          0,
          0,
          0,
          0,
          0,
          0,
          0,
          0,
          0,
          0,
          0,
          0,
          0,
          0,
          0,
          0,
          0,
          0,
          0,
          0,
          0
         ]
        }
       ],
       "layout": {
        "template": {
         "data": {
          "bar": [
           {
            "error_x": {
             "color": "#2a3f5f"
            },
            "error_y": {
             "color": "#2a3f5f"
            },
            "marker": {
             "line": {
              "color": "#E5ECF6",
              "width": 0.5
             },
             "pattern": {
              "fillmode": "overlay",
              "size": 10,
              "solidity": 0.2
             }
            },
            "type": "bar"
           }
          ],
          "barpolar": [
           {
            "marker": {
             "line": {
              "color": "#E5ECF6",
              "width": 0.5
             },
             "pattern": {
              "fillmode": "overlay",
              "size": 10,
              "solidity": 0.2
             }
            },
            "type": "barpolar"
           }
          ],
          "carpet": [
           {
            "aaxis": {
             "endlinecolor": "#2a3f5f",
             "gridcolor": "white",
             "linecolor": "white",
             "minorgridcolor": "white",
             "startlinecolor": "#2a3f5f"
            },
            "baxis": {
             "endlinecolor": "#2a3f5f",
             "gridcolor": "white",
             "linecolor": "white",
             "minorgridcolor": "white",
             "startlinecolor": "#2a3f5f"
            },
            "type": "carpet"
           }
          ],
          "choropleth": [
           {
            "colorbar": {
             "outlinewidth": 0,
             "ticks": ""
            },
            "type": "choropleth"
           }
          ],
          "contour": [
           {
            "colorbar": {
             "outlinewidth": 0,
             "ticks": ""
            },
            "colorscale": [
             [
              0,
              "#0d0887"
             ],
             [
              0.1111111111111111,
              "#46039f"
             ],
             [
              0.2222222222222222,
              "#7201a8"
             ],
             [
              0.3333333333333333,
              "#9c179e"
             ],
             [
              0.4444444444444444,
              "#bd3786"
             ],
             [
              0.5555555555555556,
              "#d8576b"
             ],
             [
              0.6666666666666666,
              "#ed7953"
             ],
             [
              0.7777777777777778,
              "#fb9f3a"
             ],
             [
              0.8888888888888888,
              "#fdca26"
             ],
             [
              1,
              "#f0f921"
             ]
            ],
            "type": "contour"
           }
          ],
          "contourcarpet": [
           {
            "colorbar": {
             "outlinewidth": 0,
             "ticks": ""
            },
            "type": "contourcarpet"
           }
          ],
          "heatmap": [
           {
            "colorbar": {
             "outlinewidth": 0,
             "ticks": ""
            },
            "colorscale": [
             [
              0,
              "#0d0887"
             ],
             [
              0.1111111111111111,
              "#46039f"
             ],
             [
              0.2222222222222222,
              "#7201a8"
             ],
             [
              0.3333333333333333,
              "#9c179e"
             ],
             [
              0.4444444444444444,
              "#bd3786"
             ],
             [
              0.5555555555555556,
              "#d8576b"
             ],
             [
              0.6666666666666666,
              "#ed7953"
             ],
             [
              0.7777777777777778,
              "#fb9f3a"
             ],
             [
              0.8888888888888888,
              "#fdca26"
             ],
             [
              1,
              "#f0f921"
             ]
            ],
            "type": "heatmap"
           }
          ],
          "heatmapgl": [
           {
            "colorbar": {
             "outlinewidth": 0,
             "ticks": ""
            },
            "colorscale": [
             [
              0,
              "#0d0887"
             ],
             [
              0.1111111111111111,
              "#46039f"
             ],
             [
              0.2222222222222222,
              "#7201a8"
             ],
             [
              0.3333333333333333,
              "#9c179e"
             ],
             [
              0.4444444444444444,
              "#bd3786"
             ],
             [
              0.5555555555555556,
              "#d8576b"
             ],
             [
              0.6666666666666666,
              "#ed7953"
             ],
             [
              0.7777777777777778,
              "#fb9f3a"
             ],
             [
              0.8888888888888888,
              "#fdca26"
             ],
             [
              1,
              "#f0f921"
             ]
            ],
            "type": "heatmapgl"
           }
          ],
          "histogram": [
           {
            "marker": {
             "pattern": {
              "fillmode": "overlay",
              "size": 10,
              "solidity": 0.2
             }
            },
            "type": "histogram"
           }
          ],
          "histogram2d": [
           {
            "colorbar": {
             "outlinewidth": 0,
             "ticks": ""
            },
            "colorscale": [
             [
              0,
              "#0d0887"
             ],
             [
              0.1111111111111111,
              "#46039f"
             ],
             [
              0.2222222222222222,
              "#7201a8"
             ],
             [
              0.3333333333333333,
              "#9c179e"
             ],
             [
              0.4444444444444444,
              "#bd3786"
             ],
             [
              0.5555555555555556,
              "#d8576b"
             ],
             [
              0.6666666666666666,
              "#ed7953"
             ],
             [
              0.7777777777777778,
              "#fb9f3a"
             ],
             [
              0.8888888888888888,
              "#fdca26"
             ],
             [
              1,
              "#f0f921"
             ]
            ],
            "type": "histogram2d"
           }
          ],
          "histogram2dcontour": [
           {
            "colorbar": {
             "outlinewidth": 0,
             "ticks": ""
            },
            "colorscale": [
             [
              0,
              "#0d0887"
             ],
             [
              0.1111111111111111,
              "#46039f"
             ],
             [
              0.2222222222222222,
              "#7201a8"
             ],
             [
              0.3333333333333333,
              "#9c179e"
             ],
             [
              0.4444444444444444,
              "#bd3786"
             ],
             [
              0.5555555555555556,
              "#d8576b"
             ],
             [
              0.6666666666666666,
              "#ed7953"
             ],
             [
              0.7777777777777778,
              "#fb9f3a"
             ],
             [
              0.8888888888888888,
              "#fdca26"
             ],
             [
              1,
              "#f0f921"
             ]
            ],
            "type": "histogram2dcontour"
           }
          ],
          "mesh3d": [
           {
            "colorbar": {
             "outlinewidth": 0,
             "ticks": ""
            },
            "type": "mesh3d"
           }
          ],
          "parcoords": [
           {
            "line": {
             "colorbar": {
              "outlinewidth": 0,
              "ticks": ""
             }
            },
            "type": "parcoords"
           }
          ],
          "pie": [
           {
            "automargin": true,
            "type": "pie"
           }
          ],
          "scatter": [
           {
            "fillpattern": {
             "fillmode": "overlay",
             "size": 10,
             "solidity": 0.2
            },
            "type": "scatter"
           }
          ],
          "scatter3d": [
           {
            "line": {
             "colorbar": {
              "outlinewidth": 0,
              "ticks": ""
             }
            },
            "marker": {
             "colorbar": {
              "outlinewidth": 0,
              "ticks": ""
             }
            },
            "type": "scatter3d"
           }
          ],
          "scattercarpet": [
           {
            "marker": {
             "colorbar": {
              "outlinewidth": 0,
              "ticks": ""
             }
            },
            "type": "scattercarpet"
           }
          ],
          "scattergeo": [
           {
            "marker": {
             "colorbar": {
              "outlinewidth": 0,
              "ticks": ""
             }
            },
            "type": "scattergeo"
           }
          ],
          "scattergl": [
           {
            "marker": {
             "colorbar": {
              "outlinewidth": 0,
              "ticks": ""
             }
            },
            "type": "scattergl"
           }
          ],
          "scattermapbox": [
           {
            "marker": {
             "colorbar": {
              "outlinewidth": 0,
              "ticks": ""
             }
            },
            "type": "scattermapbox"
           }
          ],
          "scatterpolar": [
           {
            "marker": {
             "colorbar": {
              "outlinewidth": 0,
              "ticks": ""
             }
            },
            "type": "scatterpolar"
           }
          ],
          "scatterpolargl": [
           {
            "marker": {
             "colorbar": {
              "outlinewidth": 0,
              "ticks": ""
             }
            },
            "type": "scatterpolargl"
           }
          ],
          "scatterternary": [
           {
            "marker": {
             "colorbar": {
              "outlinewidth": 0,
              "ticks": ""
             }
            },
            "type": "scatterternary"
           }
          ],
          "surface": [
           {
            "colorbar": {
             "outlinewidth": 0,
             "ticks": ""
            },
            "colorscale": [
             [
              0,
              "#0d0887"
             ],
             [
              0.1111111111111111,
              "#46039f"
             ],
             [
              0.2222222222222222,
              "#7201a8"
             ],
             [
              0.3333333333333333,
              "#9c179e"
             ],
             [
              0.4444444444444444,
              "#bd3786"
             ],
             [
              0.5555555555555556,
              "#d8576b"
             ],
             [
              0.6666666666666666,
              "#ed7953"
             ],
             [
              0.7777777777777778,
              "#fb9f3a"
             ],
             [
              0.8888888888888888,
              "#fdca26"
             ],
             [
              1,
              "#f0f921"
             ]
            ],
            "type": "surface"
           }
          ],
          "table": [
           {
            "cells": {
             "fill": {
              "color": "#EBF0F8"
             },
             "line": {
              "color": "white"
             }
            },
            "header": {
             "fill": {
              "color": "#C8D4E3"
             },
             "line": {
              "color": "white"
             }
            },
            "type": "table"
           }
          ]
         },
         "layout": {
          "annotationdefaults": {
           "arrowcolor": "#2a3f5f",
           "arrowhead": 0,
           "arrowwidth": 1
          },
          "autotypenumbers": "strict",
          "coloraxis": {
           "colorbar": {
            "outlinewidth": 0,
            "ticks": ""
           }
          },
          "colorscale": {
           "diverging": [
            [
             0,
             "#8e0152"
            ],
            [
             0.1,
             "#c51b7d"
            ],
            [
             0.2,
             "#de77ae"
            ],
            [
             0.3,
             "#f1b6da"
            ],
            [
             0.4,
             "#fde0ef"
            ],
            [
             0.5,
             "#f7f7f7"
            ],
            [
             0.6,
             "#e6f5d0"
            ],
            [
             0.7,
             "#b8e186"
            ],
            [
             0.8,
             "#7fbc41"
            ],
            [
             0.9,
             "#4d9221"
            ],
            [
             1,
             "#276419"
            ]
           ],
           "sequential": [
            [
             0,
             "#0d0887"
            ],
            [
             0.1111111111111111,
             "#46039f"
            ],
            [
             0.2222222222222222,
             "#7201a8"
            ],
            [
             0.3333333333333333,
             "#9c179e"
            ],
            [
             0.4444444444444444,
             "#bd3786"
            ],
            [
             0.5555555555555556,
             "#d8576b"
            ],
            [
             0.6666666666666666,
             "#ed7953"
            ],
            [
             0.7777777777777778,
             "#fb9f3a"
            ],
            [
             0.8888888888888888,
             "#fdca26"
            ],
            [
             1,
             "#f0f921"
            ]
           ],
           "sequentialminus": [
            [
             0,
             "#0d0887"
            ],
            [
             0.1111111111111111,
             "#46039f"
            ],
            [
             0.2222222222222222,
             "#7201a8"
            ],
            [
             0.3333333333333333,
             "#9c179e"
            ],
            [
             0.4444444444444444,
             "#bd3786"
            ],
            [
             0.5555555555555556,
             "#d8576b"
            ],
            [
             0.6666666666666666,
             "#ed7953"
            ],
            [
             0.7777777777777778,
             "#fb9f3a"
            ],
            [
             0.8888888888888888,
             "#fdca26"
            ],
            [
             1,
             "#f0f921"
            ]
           ]
          },
          "colorway": [
           "#636efa",
           "#EF553B",
           "#00cc96",
           "#ab63fa",
           "#FFA15A",
           "#19d3f3",
           "#FF6692",
           "#B6E880",
           "#FF97FF",
           "#FECB52"
          ],
          "font": {
           "color": "#2a3f5f"
          },
          "geo": {
           "bgcolor": "white",
           "lakecolor": "white",
           "landcolor": "#E5ECF6",
           "showlakes": true,
           "showland": true,
           "subunitcolor": "white"
          },
          "hoverlabel": {
           "align": "left"
          },
          "hovermode": "closest",
          "mapbox": {
           "style": "light"
          },
          "paper_bgcolor": "white",
          "plot_bgcolor": "#E5ECF6",
          "polar": {
           "angularaxis": {
            "gridcolor": "white",
            "linecolor": "white",
            "ticks": ""
           },
           "bgcolor": "#E5ECF6",
           "radialaxis": {
            "gridcolor": "white",
            "linecolor": "white",
            "ticks": ""
           }
          },
          "scene": {
           "xaxis": {
            "backgroundcolor": "#E5ECF6",
            "gridcolor": "white",
            "gridwidth": 2,
            "linecolor": "white",
            "showbackground": true,
            "ticks": "",
            "zerolinecolor": "white"
           },
           "yaxis": {
            "backgroundcolor": "#E5ECF6",
            "gridcolor": "white",
            "gridwidth": 2,
            "linecolor": "white",
            "showbackground": true,
            "ticks": "",
            "zerolinecolor": "white"
           },
           "zaxis": {
            "backgroundcolor": "#E5ECF6",
            "gridcolor": "white",
            "gridwidth": 2,
            "linecolor": "white",
            "showbackground": true,
            "ticks": "",
            "zerolinecolor": "white"
           }
          },
          "shapedefaults": {
           "line": {
            "color": "#2a3f5f"
           }
          },
          "ternary": {
           "aaxis": {
            "gridcolor": "white",
            "linecolor": "white",
            "ticks": ""
           },
           "baxis": {
            "gridcolor": "white",
            "linecolor": "white",
            "ticks": ""
           },
           "bgcolor": "#E5ECF6",
           "caxis": {
            "gridcolor": "white",
            "linecolor": "white",
            "ticks": ""
           }
          },
          "title": {
           "x": 0.05
          },
          "xaxis": {
           "automargin": true,
           "gridcolor": "white",
           "linecolor": "white",
           "ticks": "",
           "title": {
            "standoff": 15
           },
           "zerolinecolor": "white",
           "zerolinewidth": 2
          },
          "yaxis": {
           "automargin": true,
           "gridcolor": "white",
           "linecolor": "white",
           "ticks": "",
           "title": {
            "standoff": 15
           },
           "zerolinecolor": "white",
           "zerolinewidth": 2
          }
         }
        }
       }
      },
      "text/html": [
       "<div>                            <div id=\"3b5b0bfc-17f5-4cea-bc04-cbf578e5d751\" class=\"plotly-graph-div\" style=\"height:525px; width:100%;\"></div>            <script type=\"text/javascript\">                require([\"plotly\"], function(Plotly) {                    window.PLOTLYENV=window.PLOTLYENV || {};                                    if (document.getElementById(\"3b5b0bfc-17f5-4cea-bc04-cbf578e5d751\")) {                    Plotly.newPlot(                        \"3b5b0bfc-17f5-4cea-bc04-cbf578e5d751\",                        [{\"fill\":\"tozeroy\",\"mode\":\"none\",\"x\":[\"2023-01-01T00:00:00\",\"2022-01-01T00:00:00\",\"2021-01-01T00:00:00\",\"2020-01-01T00:00:00\",\"2019-01-01T00:00:00\",\"2018-01-01T00:00:00\",\"2017-01-01T00:00:00\",\"2016-01-01T00:00:00\",\"2015-01-01T00:00:00\",\"2014-01-01T00:00:00\",\"2013-01-01T00:00:00\",\"2012-01-01T00:00:00\",\"2011-01-01T00:00:00\",\"2010-01-01T00:00:00\",\"2009-01-01T00:00:00\",\"2008-01-01T00:00:00\",\"2007-01-01T00:00:00\",\"2006-01-01T00:00:00\",\"2005-01-01T00:00:00\",\"2004-01-01T00:00:00\",\"2003-01-01T00:00:00\",\"2002-01-01T00:00:00\",\"2001-01-01T00:00:00\",\"2000-01-01T00:00:00\",\"1999-01-01T00:00:00\",\"1998-01-01T00:00:00\",\"1997-01-01T00:00:00\",\"1996-01-01T00:00:00\",\"1995-01-01T00:00:00\",\"1994-01-01T00:00:00\",\"1993-01-01T00:00:00\",\"1992-01-01T00:00:00\",\"1991-01-01T00:00:00\",\"1990-01-01T00:00:00\",\"1989-01-01T00:00:00\",\"1988-01-01T00:00:00\",\"1987-01-01T00:00:00\",\"1986-01-01T00:00:00\",\"1985-01-01T00:00:00\",\"1984-01-01T00:00:00\",\"1983-01-01T00:00:00\",\"1982-01-01T00:00:00\",\"1981-01-01T00:00:00\",\"1980-01-01T00:00:00\",\"1979-01-01T00:00:00\",\"1978-01-01T00:00:00\",\"1977-01-01T00:00:00\",\"1976-01-01T00:00:00\",\"1975-01-01T00:00:00\",\"1974-01-01T00:00:00\",\"1973-01-01T00:00:00\",\"1972-01-01T00:00:00\",\"1971-01-01T00:00:00\",\"1970-01-01T00:00:00\",\"1969-01-01T00:00:00\",\"1968-01-01T00:00:00\",\"1967-01-01T00:00:00\",\"1966-01-01T00:00:00\",\"1965-01-01T00:00:00\",\"1964-01-01T00:00:00\",\"1963-01-01T00:00:00\",\"1962-01-01T00:00:00\",\"1961-01-01T00:00:00\",\"1960-01-01T00:00:00\"],\"y\":[0,1,1,1,1,1,1,1,1,1,1,1,1,1,1,1,0,0,0,0,0,0,0,0,0,0,0,0,0,0,0,0,0,0,0,0,0,0,0,0,0,0,0,0,0,0,0,0,0,0,0,0,0,0,0,0,0,0,0,0,0,0,0,0],\"type\":\"scatter\"},{\"fill\":\"tonexty\",\"mode\":\"none\",\"x\":[\"2023-01-01T00:00:00\",\"2022-01-01T00:00:00\",\"2021-01-01T00:00:00\",\"2020-01-01T00:00:00\",\"2019-01-01T00:00:00\",\"2018-01-01T00:00:00\",\"2017-01-01T00:00:00\",\"2016-01-01T00:00:00\",\"2015-01-01T00:00:00\",\"2014-01-01T00:00:00\",\"2013-01-01T00:00:00\",\"2012-01-01T00:00:00\",\"2011-01-01T00:00:00\",\"2010-01-01T00:00:00\",\"2009-01-01T00:00:00\",\"2008-01-01T00:00:00\",\"2007-01-01T00:00:00\",\"2006-01-01T00:00:00\",\"2005-01-01T00:00:00\",\"2004-01-01T00:00:00\",\"2003-01-01T00:00:00\",\"2002-01-01T00:00:00\",\"2001-01-01T00:00:00\",\"2000-01-01T00:00:00\",\"1999-01-01T00:00:00\",\"1998-01-01T00:00:00\",\"1997-01-01T00:00:00\",\"1996-01-01T00:00:00\",\"1995-01-01T00:00:00\",\"1994-01-01T00:00:00\",\"1993-01-01T00:00:00\",\"1992-01-01T00:00:00\",\"1991-01-01T00:00:00\",\"1990-01-01T00:00:00\",\"1989-01-01T00:00:00\",\"1988-01-01T00:00:00\",\"1987-01-01T00:00:00\",\"1986-01-01T00:00:00\",\"1985-01-01T00:00:00\",\"1984-01-01T00:00:00\",\"1983-01-01T00:00:00\",\"1982-01-01T00:00:00\",\"1981-01-01T00:00:00\",\"1980-01-01T00:00:00\",\"1979-01-01T00:00:00\",\"1978-01-01T00:00:00\",\"1977-01-01T00:00:00\",\"1976-01-01T00:00:00\",\"1975-01-01T00:00:00\",\"1974-01-01T00:00:00\",\"1973-01-01T00:00:00\",\"1972-01-01T00:00:00\",\"1971-01-01T00:00:00\",\"1970-01-01T00:00:00\",\"1969-01-01T00:00:00\",\"1968-01-01T00:00:00\",\"1967-01-01T00:00:00\",\"1966-01-01T00:00:00\",\"1965-01-01T00:00:00\",\"1964-01-01T00:00:00\",\"1963-01-01T00:00:00\",\"1962-01-01T00:00:00\",\"1961-01-01T00:00:00\",\"1960-01-01T00:00:00\"],\"y\":[0,0,3,2,2,2,2,3,3,3,3,3,3,3,2,3,2,2,2,2,2,1,1,1,1,1,1,1,1,1,1,1,1,1,1,1,1,0,0,0,0,0,0,0,0,0,0,0,0,0,0,0,0,0,0,0,0,0,0,0,0,0,0,0],\"type\":\"scatter\"},{\"fill\":\"tonexty\",\"mode\":\"none\",\"x\":[\"2023-01-01T00:00:00\",\"2022-01-01T00:00:00\",\"2021-01-01T00:00:00\",\"2020-01-01T00:00:00\",\"2019-01-01T00:00:00\",\"2018-01-01T00:00:00\",\"2017-01-01T00:00:00\",\"2016-01-01T00:00:00\",\"2015-01-01T00:00:00\",\"2014-01-01T00:00:00\",\"2013-01-01T00:00:00\",\"2012-01-01T00:00:00\",\"2011-01-01T00:00:00\",\"2010-01-01T00:00:00\",\"2009-01-01T00:00:00\",\"2008-01-01T00:00:00\",\"2007-01-01T00:00:00\",\"2006-01-01T00:00:00\",\"2005-01-01T00:00:00\",\"2004-01-01T00:00:00\",\"2003-01-01T00:00:00\",\"2002-01-01T00:00:00\",\"2001-01-01T00:00:00\",\"2000-01-01T00:00:00\",\"1999-01-01T00:00:00\",\"1998-01-01T00:00:00\",\"1997-01-01T00:00:00\",\"1996-01-01T00:00:00\",\"1995-01-01T00:00:00\",\"1994-01-01T00:00:00\",\"1993-01-01T00:00:00\",\"1992-01-01T00:00:00\",\"1991-01-01T00:00:00\",\"1990-01-01T00:00:00\",\"1989-01-01T00:00:00\",\"1988-01-01T00:00:00\",\"1987-01-01T00:00:00\",\"1986-01-01T00:00:00\",\"1985-01-01T00:00:00\",\"1984-01-01T00:00:00\",\"1983-01-01T00:00:00\",\"1982-01-01T00:00:00\",\"1981-01-01T00:00:00\",\"1980-01-01T00:00:00\",\"1979-01-01T00:00:00\",\"1978-01-01T00:00:00\",\"1977-01-01T00:00:00\",\"1976-01-01T00:00:00\",\"1975-01-01T00:00:00\",\"1974-01-01T00:00:00\",\"1973-01-01T00:00:00\",\"1972-01-01T00:00:00\",\"1971-01-01T00:00:00\",\"1970-01-01T00:00:00\",\"1969-01-01T00:00:00\",\"1968-01-01T00:00:00\",\"1967-01-01T00:00:00\",\"1966-01-01T00:00:00\",\"1965-01-01T00:00:00\",\"1964-01-01T00:00:00\",\"1963-01-01T00:00:00\",\"1962-01-01T00:00:00\",\"1961-01-01T00:00:00\",\"1960-01-01T00:00:00\"],\"y\":[0,0,0,0,1,1,1,1,1,1,1,1,1,1,0,1,1,0,0,0,0,0,0,0,0,0,0,0,0,0,0,0,0,0,0,0,0,0,0,0,0,0,0,0,0,0,0,0,0,0,0,0,0,0,0,0,0,0,0,0,0,0,0,0],\"type\":\"scatter\"},{\"fill\":\"tonexty\",\"mode\":\"none\",\"x\":[\"2023-01-01T00:00:00\",\"2022-01-01T00:00:00\",\"2021-01-01T00:00:00\",\"2020-01-01T00:00:00\",\"2019-01-01T00:00:00\",\"2018-01-01T00:00:00\",\"2017-01-01T00:00:00\",\"2016-01-01T00:00:00\",\"2015-01-01T00:00:00\",\"2014-01-01T00:00:00\",\"2013-01-01T00:00:00\",\"2012-01-01T00:00:00\",\"2011-01-01T00:00:00\",\"2010-01-01T00:00:00\",\"2009-01-01T00:00:00\",\"2008-01-01T00:00:00\",\"2007-01-01T00:00:00\",\"2006-01-01T00:00:00\",\"2005-01-01T00:00:00\",\"2004-01-01T00:00:00\",\"2003-01-01T00:00:00\",\"2002-01-01T00:00:00\",\"2001-01-01T00:00:00\",\"2000-01-01T00:00:00\",\"1999-01-01T00:00:00\",\"1998-01-01T00:00:00\",\"1997-01-01T00:00:00\",\"1996-01-01T00:00:00\",\"1995-01-01T00:00:00\",\"1994-01-01T00:00:00\",\"1993-01-01T00:00:00\",\"1992-01-01T00:00:00\",\"1991-01-01T00:00:00\",\"1990-01-01T00:00:00\",\"1989-01-01T00:00:00\",\"1988-01-01T00:00:00\",\"1987-01-01T00:00:00\",\"1986-01-01T00:00:00\",\"1985-01-01T00:00:00\",\"1984-01-01T00:00:00\",\"1983-01-01T00:00:00\",\"1982-01-01T00:00:00\",\"1981-01-01T00:00:00\",\"1980-01-01T00:00:00\",\"1979-01-01T00:00:00\",\"1978-01-01T00:00:00\",\"1977-01-01T00:00:00\",\"1976-01-01T00:00:00\",\"1975-01-01T00:00:00\",\"1974-01-01T00:00:00\",\"1973-01-01T00:00:00\",\"1972-01-01T00:00:00\",\"1971-01-01T00:00:00\",\"1970-01-01T00:00:00\",\"1969-01-01T00:00:00\",\"1968-01-01T00:00:00\",\"1967-01-01T00:00:00\",\"1966-01-01T00:00:00\",\"1965-01-01T00:00:00\",\"1964-01-01T00:00:00\",\"1963-01-01T00:00:00\",\"1962-01-01T00:00:00\",\"1961-01-01T00:00:00\",\"1960-01-01T00:00:00\"],\"y\":[0,0,0,0,0,0,0,0,0,0,0,0,0,0,0,0,0,0,0,0,0,0,0,0,0,0,0,0,0,0,0,0,0,0,0,0,0,0,0,0,0,0,0,0,0,0,0,0,0,0,0,0,0,0,0,0,0,0,0,0,0,0,0,0],\"type\":\"scatter\"}],                        {\"template\":{\"data\":{\"histogram2dcontour\":[{\"type\":\"histogram2dcontour\",\"colorbar\":{\"outlinewidth\":0,\"ticks\":\"\"},\"colorscale\":[[0.0,\"#0d0887\"],[0.1111111111111111,\"#46039f\"],[0.2222222222222222,\"#7201a8\"],[0.3333333333333333,\"#9c179e\"],[0.4444444444444444,\"#bd3786\"],[0.5555555555555556,\"#d8576b\"],[0.6666666666666666,\"#ed7953\"],[0.7777777777777778,\"#fb9f3a\"],[0.8888888888888888,\"#fdca26\"],[1.0,\"#f0f921\"]]}],\"choropleth\":[{\"type\":\"choropleth\",\"colorbar\":{\"outlinewidth\":0,\"ticks\":\"\"}}],\"histogram2d\":[{\"type\":\"histogram2d\",\"colorbar\":{\"outlinewidth\":0,\"ticks\":\"\"},\"colorscale\":[[0.0,\"#0d0887\"],[0.1111111111111111,\"#46039f\"],[0.2222222222222222,\"#7201a8\"],[0.3333333333333333,\"#9c179e\"],[0.4444444444444444,\"#bd3786\"],[0.5555555555555556,\"#d8576b\"],[0.6666666666666666,\"#ed7953\"],[0.7777777777777778,\"#fb9f3a\"],[0.8888888888888888,\"#fdca26\"],[1.0,\"#f0f921\"]]}],\"heatmap\":[{\"type\":\"heatmap\",\"colorbar\":{\"outlinewidth\":0,\"ticks\":\"\"},\"colorscale\":[[0.0,\"#0d0887\"],[0.1111111111111111,\"#46039f\"],[0.2222222222222222,\"#7201a8\"],[0.3333333333333333,\"#9c179e\"],[0.4444444444444444,\"#bd3786\"],[0.5555555555555556,\"#d8576b\"],[0.6666666666666666,\"#ed7953\"],[0.7777777777777778,\"#fb9f3a\"],[0.8888888888888888,\"#fdca26\"],[1.0,\"#f0f921\"]]}],\"heatmapgl\":[{\"type\":\"heatmapgl\",\"colorbar\":{\"outlinewidth\":0,\"ticks\":\"\"},\"colorscale\":[[0.0,\"#0d0887\"],[0.1111111111111111,\"#46039f\"],[0.2222222222222222,\"#7201a8\"],[0.3333333333333333,\"#9c179e\"],[0.4444444444444444,\"#bd3786\"],[0.5555555555555556,\"#d8576b\"],[0.6666666666666666,\"#ed7953\"],[0.7777777777777778,\"#fb9f3a\"],[0.8888888888888888,\"#fdca26\"],[1.0,\"#f0f921\"]]}],\"contourcarpet\":[{\"type\":\"contourcarpet\",\"colorbar\":{\"outlinewidth\":0,\"ticks\":\"\"}}],\"contour\":[{\"type\":\"contour\",\"colorbar\":{\"outlinewidth\":0,\"ticks\":\"\"},\"colorscale\":[[0.0,\"#0d0887\"],[0.1111111111111111,\"#46039f\"],[0.2222222222222222,\"#7201a8\"],[0.3333333333333333,\"#9c179e\"],[0.4444444444444444,\"#bd3786\"],[0.5555555555555556,\"#d8576b\"],[0.6666666666666666,\"#ed7953\"],[0.7777777777777778,\"#fb9f3a\"],[0.8888888888888888,\"#fdca26\"],[1.0,\"#f0f921\"]]}],\"surface\":[{\"type\":\"surface\",\"colorbar\":{\"outlinewidth\":0,\"ticks\":\"\"},\"colorscale\":[[0.0,\"#0d0887\"],[0.1111111111111111,\"#46039f\"],[0.2222222222222222,\"#7201a8\"],[0.3333333333333333,\"#9c179e\"],[0.4444444444444444,\"#bd3786\"],[0.5555555555555556,\"#d8576b\"],[0.6666666666666666,\"#ed7953\"],[0.7777777777777778,\"#fb9f3a\"],[0.8888888888888888,\"#fdca26\"],[1.0,\"#f0f921\"]]}],\"mesh3d\":[{\"type\":\"mesh3d\",\"colorbar\":{\"outlinewidth\":0,\"ticks\":\"\"}}],\"scatter\":[{\"fillpattern\":{\"fillmode\":\"overlay\",\"size\":10,\"solidity\":0.2},\"type\":\"scatter\"}],\"parcoords\":[{\"type\":\"parcoords\",\"line\":{\"colorbar\":{\"outlinewidth\":0,\"ticks\":\"\"}}}],\"scatterpolargl\":[{\"type\":\"scatterpolargl\",\"marker\":{\"colorbar\":{\"outlinewidth\":0,\"ticks\":\"\"}}}],\"bar\":[{\"error_x\":{\"color\":\"#2a3f5f\"},\"error_y\":{\"color\":\"#2a3f5f\"},\"marker\":{\"line\":{\"color\":\"#E5ECF6\",\"width\":0.5},\"pattern\":{\"fillmode\":\"overlay\",\"size\":10,\"solidity\":0.2}},\"type\":\"bar\"}],\"scattergeo\":[{\"type\":\"scattergeo\",\"marker\":{\"colorbar\":{\"outlinewidth\":0,\"ticks\":\"\"}}}],\"scatterpolar\":[{\"type\":\"scatterpolar\",\"marker\":{\"colorbar\":{\"outlinewidth\":0,\"ticks\":\"\"}}}],\"histogram\":[{\"marker\":{\"pattern\":{\"fillmode\":\"overlay\",\"size\":10,\"solidity\":0.2}},\"type\":\"histogram\"}],\"scattergl\":[{\"type\":\"scattergl\",\"marker\":{\"colorbar\":{\"outlinewidth\":0,\"ticks\":\"\"}}}],\"scatter3d\":[{\"type\":\"scatter3d\",\"line\":{\"colorbar\":{\"outlinewidth\":0,\"ticks\":\"\"}},\"marker\":{\"colorbar\":{\"outlinewidth\":0,\"ticks\":\"\"}}}],\"scattermapbox\":[{\"type\":\"scattermapbox\",\"marker\":{\"colorbar\":{\"outlinewidth\":0,\"ticks\":\"\"}}}],\"scatterternary\":[{\"type\":\"scatterternary\",\"marker\":{\"colorbar\":{\"outlinewidth\":0,\"ticks\":\"\"}}}],\"scattercarpet\":[{\"type\":\"scattercarpet\",\"marker\":{\"colorbar\":{\"outlinewidth\":0,\"ticks\":\"\"}}}],\"carpet\":[{\"aaxis\":{\"endlinecolor\":\"#2a3f5f\",\"gridcolor\":\"white\",\"linecolor\":\"white\",\"minorgridcolor\":\"white\",\"startlinecolor\":\"#2a3f5f\"},\"baxis\":{\"endlinecolor\":\"#2a3f5f\",\"gridcolor\":\"white\",\"linecolor\":\"white\",\"minorgridcolor\":\"white\",\"startlinecolor\":\"#2a3f5f\"},\"type\":\"carpet\"}],\"table\":[{\"cells\":{\"fill\":{\"color\":\"#EBF0F8\"},\"line\":{\"color\":\"white\"}},\"header\":{\"fill\":{\"color\":\"#C8D4E3\"},\"line\":{\"color\":\"white\"}},\"type\":\"table\"}],\"barpolar\":[{\"marker\":{\"line\":{\"color\":\"#E5ECF6\",\"width\":0.5},\"pattern\":{\"fillmode\":\"overlay\",\"size\":10,\"solidity\":0.2}},\"type\":\"barpolar\"}],\"pie\":[{\"automargin\":true,\"type\":\"pie\"}]},\"layout\":{\"autotypenumbers\":\"strict\",\"colorway\":[\"#636efa\",\"#EF553B\",\"#00cc96\",\"#ab63fa\",\"#FFA15A\",\"#19d3f3\",\"#FF6692\",\"#B6E880\",\"#FF97FF\",\"#FECB52\"],\"font\":{\"color\":\"#2a3f5f\"},\"hovermode\":\"closest\",\"hoverlabel\":{\"align\":\"left\"},\"paper_bgcolor\":\"white\",\"plot_bgcolor\":\"#E5ECF6\",\"polar\":{\"bgcolor\":\"#E5ECF6\",\"angularaxis\":{\"gridcolor\":\"white\",\"linecolor\":\"white\",\"ticks\":\"\"},\"radialaxis\":{\"gridcolor\":\"white\",\"linecolor\":\"white\",\"ticks\":\"\"}},\"ternary\":{\"bgcolor\":\"#E5ECF6\",\"aaxis\":{\"gridcolor\":\"white\",\"linecolor\":\"white\",\"ticks\":\"\"},\"baxis\":{\"gridcolor\":\"white\",\"linecolor\":\"white\",\"ticks\":\"\"},\"caxis\":{\"gridcolor\":\"white\",\"linecolor\":\"white\",\"ticks\":\"\"}},\"coloraxis\":{\"colorbar\":{\"outlinewidth\":0,\"ticks\":\"\"}},\"colorscale\":{\"sequential\":[[0.0,\"#0d0887\"],[0.1111111111111111,\"#46039f\"],[0.2222222222222222,\"#7201a8\"],[0.3333333333333333,\"#9c179e\"],[0.4444444444444444,\"#bd3786\"],[0.5555555555555556,\"#d8576b\"],[0.6666666666666666,\"#ed7953\"],[0.7777777777777778,\"#fb9f3a\"],[0.8888888888888888,\"#fdca26\"],[1.0,\"#f0f921\"]],\"sequentialminus\":[[0.0,\"#0d0887\"],[0.1111111111111111,\"#46039f\"],[0.2222222222222222,\"#7201a8\"],[0.3333333333333333,\"#9c179e\"],[0.4444444444444444,\"#bd3786\"],[0.5555555555555556,\"#d8576b\"],[0.6666666666666666,\"#ed7953\"],[0.7777777777777778,\"#fb9f3a\"],[0.8888888888888888,\"#fdca26\"],[1.0,\"#f0f921\"]],\"diverging\":[[0,\"#8e0152\"],[0.1,\"#c51b7d\"],[0.2,\"#de77ae\"],[0.3,\"#f1b6da\"],[0.4,\"#fde0ef\"],[0.5,\"#f7f7f7\"],[0.6,\"#e6f5d0\"],[0.7,\"#b8e186\"],[0.8,\"#7fbc41\"],[0.9,\"#4d9221\"],[1,\"#276419\"]]},\"xaxis\":{\"gridcolor\":\"white\",\"linecolor\":\"white\",\"ticks\":\"\",\"title\":{\"standoff\":15},\"zerolinecolor\":\"white\",\"automargin\":true,\"zerolinewidth\":2},\"yaxis\":{\"gridcolor\":\"white\",\"linecolor\":\"white\",\"ticks\":\"\",\"title\":{\"standoff\":15},\"zerolinecolor\":\"white\",\"automargin\":true,\"zerolinewidth\":2},\"scene\":{\"xaxis\":{\"backgroundcolor\":\"#E5ECF6\",\"gridcolor\":\"white\",\"linecolor\":\"white\",\"showbackground\":true,\"ticks\":\"\",\"zerolinecolor\":\"white\",\"gridwidth\":2},\"yaxis\":{\"backgroundcolor\":\"#E5ECF6\",\"gridcolor\":\"white\",\"linecolor\":\"white\",\"showbackground\":true,\"ticks\":\"\",\"zerolinecolor\":\"white\",\"gridwidth\":2},\"zaxis\":{\"backgroundcolor\":\"#E5ECF6\",\"gridcolor\":\"white\",\"linecolor\":\"white\",\"showbackground\":true,\"ticks\":\"\",\"zerolinecolor\":\"white\",\"gridwidth\":2}},\"shapedefaults\":{\"line\":{\"color\":\"#2a3f5f\"}},\"annotationdefaults\":{\"arrowcolor\":\"#2a3f5f\",\"arrowhead\":0,\"arrowwidth\":1},\"geo\":{\"bgcolor\":\"white\",\"landcolor\":\"#E5ECF6\",\"subunitcolor\":\"white\",\"showland\":true,\"showlakes\":true,\"lakecolor\":\"white\"},\"title\":{\"x\":0.05},\"mapbox\":{\"style\":\"light\"}}}},                        {\"responsive\": true}                    ).then(function(){\n",
       "                            \n",
       "var gd = document.getElementById('3b5b0bfc-17f5-4cea-bc04-cbf578e5d751');\n",
       "var x = new MutationObserver(function (mutations, observer) {{\n",
       "        var display = window.getComputedStyle(gd).display;\n",
       "        if (!display || display === 'none') {{\n",
       "            console.log([gd, 'removed!']);\n",
       "            Plotly.purge(gd);\n",
       "            observer.disconnect();\n",
       "        }}\n",
       "}});\n",
       "\n",
       "// Listen for the removal of the full notebook cells\n",
       "var notebookContainer = gd.closest('#notebook-container');\n",
       "if (notebookContainer) {{\n",
       "    x.observe(notebookContainer, {childList: true});\n",
       "}}\n",
       "\n",
       "// Listen for the clearing of the current output cell\n",
       "var outputEl = gd.closest('.output');\n",
       "if (outputEl) {{\n",
       "    x.observe(outputEl, {childList: true});\n",
       "}}\n",
       "\n",
       "                        })                };                });            </script>        </div>"
      ]
     },
     "metadata": {},
     "output_type": "display_data"
    }
   ],
   "source": [
    "fig = go.Figure()\n",
    "\n",
    "\n",
    "\n",
    "fig.add_trace(go.Scatter(x=df['date'], y=df['Military_expenditure'], fill='tozeroy',\n",
    "                    mode='none',name='Military Expendiure' # override default markers+lines\n",
    "                    ))\n",
    "fig.add_trace(go.Scatter(x=df['date'], y=df['Education_expenditure'], fill='tonexty',\n",
    "                    mode= 'none'))\n",
    "\n",
    "fig.add_trace(go.Scatter(x=df['date'], y=df['Tourism_expenditure'], fill='tonexty',\n",
    "                    mode= 'none'))\n",
    "\n",
    "fig.add_trace(go.Scatter(x=df['date'], y=df['Household_expenditure'], fill='tonexty',\n",
    "                    mode= 'none'))\n",
    "\n",
    "\n",
    "fig.show()"
   ]
  },
  {
   "cell_type": "code",
   "execution_count": null,
   "id": "583179a3",
   "metadata": {},
   "outputs": [],
   "source": []
  }
 ],
 "metadata": {
  "kernelspec": {
   "display_name": "Python 3 (ipykernel)",
   "language": "python",
   "name": "python3"
  },
  "language_info": {
   "codemirror_mode": {
    "name": "ipython",
    "version": 3
   },
   "file_extension": ".py",
   "mimetype": "text/x-python",
   "name": "python",
   "nbconvert_exporter": "python",
   "pygments_lexer": "ipython3",
   "version": "3.11.5"
  }
 },
 "nbformat": 4,
 "nbformat_minor": 5
}
